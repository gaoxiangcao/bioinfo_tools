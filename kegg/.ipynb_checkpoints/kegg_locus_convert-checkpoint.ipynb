{
 "cells": [
  {
   "cell_type": "code",
   "execution_count": 1,
   "id": "93eed2d3-bc5d-4864-8765-87f34ca5e141",
   "metadata": {
    "execution": {
     "iopub.execute_input": "2023-09-19T11:34:55.888866Z",
     "iopub.status.busy": "2023-09-19T11:34:55.888400Z",
     "iopub.status.idle": "2023-09-19T11:34:56.028580Z",
     "shell.execute_reply": "2023-09-19T11:34:56.028139Z",
     "shell.execute_reply.started": "2023-09-19T11:34:55.888834Z"
    },
    "tags": []
   },
   "outputs": [],
   "source": [
    "import pandas as pd\n",
    "import re"
   ]
  },
  {
   "cell_type": "code",
   "execution_count": 2,
   "id": "f0def634-692a-4a8c-8855-79779e9c2491",
   "metadata": {
    "execution": {
     "iopub.execute_input": "2023-09-19T11:34:56.029325Z",
     "iopub.status.busy": "2023-09-19T11:34:56.029084Z",
     "iopub.status.idle": "2023-09-19T11:34:56.038549Z",
     "shell.execute_reply": "2023-09-19T11:34:56.038152Z",
     "shell.execute_reply.started": "2023-09-19T11:34:56.029312Z"
    },
    "tags": []
   },
   "outputs": [],
   "source": [
    "kegg_df = pd.read_excel(\"./syn_pathwayResult.xls\")\n",
    "id2locaus = pd.read_csv(\"./syn_id2locus.csv\")"
   ]
  },
  {
   "cell_type": "code",
   "execution_count": 3,
   "id": "e08d9a69-8c41-420b-87e3-3ec68091fbc9",
   "metadata": {
    "execution": {
     "iopub.execute_input": "2023-09-19T11:34:56.039490Z",
     "iopub.status.busy": "2023-09-19T11:34:56.039390Z",
     "iopub.status.idle": "2023-09-19T11:34:56.050180Z",
     "shell.execute_reply": "2023-09-19T11:34:56.049548Z",
     "shell.execute_reply.started": "2023-09-19T11:34:56.039482Z"
    },
    "tags": []
   },
   "outputs": [
    {
     "data": {
      "text/html": [
       "<div>\n",
       "<style scoped>\n",
       "    .dataframe tbody tr th:only-of-type {\n",
       "        vertical-align: middle;\n",
       "    }\n",
       "\n",
       "    .dataframe tbody tr th {\n",
       "        vertical-align: top;\n",
       "    }\n",
       "\n",
       "    .dataframe thead th {\n",
       "        text-align: right;\n",
       "    }\n",
       "</style>\n",
       "<table border=\"1\" class=\"dataframe\">\n",
       "  <thead>\n",
       "    <tr style=\"text-align: right;\">\n",
       "      <th></th>\n",
       "      <th>PathwayID</th>\n",
       "      <th>Definition</th>\n",
       "      <th>OriginalWebSite</th>\n",
       "      <th>Fisher-Pvalue</th>\n",
       "      <th>SelectionCounts</th>\n",
       "      <th>SelectionSize</th>\n",
       "      <th>Count</th>\n",
       "      <th>Size</th>\n",
       "      <th>FDR</th>\n",
       "      <th>Enrichment_Score</th>\n",
       "      <th>GeneRatio</th>\n",
       "      <th>Genes</th>\n",
       "    </tr>\n",
       "  </thead>\n",
       "  <tbody>\n",
       "    <tr>\n",
       "      <th>0</th>\n",
       "      <td>syn03010</td>\n",
       "      <td>Ribosome</td>\n",
       "      <td>http://www.genome.jp/kegg-bin/show_pathway?syn...</td>\n",
       "      <td>5.602343e-11</td>\n",
       "      <td>28</td>\n",
       "      <td>160</td>\n",
       "      <td>49</td>\n",
       "      <td>941</td>\n",
       "      <td>6.442695e-09</td>\n",
       "      <td>10.251630</td>\n",
       "      <td>0.17500</td>\n",
       "      <td>SGL_RS05710//SGL_RS05715//SGL_RS05720//SGL_RS0...</td>\n",
       "    </tr>\n",
       "    <tr>\n",
       "      <th>1</th>\n",
       "      <td>syn00195</td>\n",
       "      <td>Photosynthesis</td>\n",
       "      <td>http://www.genome.jp/kegg-bin/show_pathway?syn...</td>\n",
       "      <td>9.875810e-06</td>\n",
       "      <td>24</td>\n",
       "      <td>160</td>\n",
       "      <td>60</td>\n",
       "      <td>941</td>\n",
       "      <td>5.678591e-04</td>\n",
       "      <td>5.005427</td>\n",
       "      <td>0.15000</td>\n",
       "      <td>SGL_RS02435//SGL_RS02670//SGL_RS02675//SGL_RS0...</td>\n",
       "    </tr>\n",
       "    <tr>\n",
       "      <th>2</th>\n",
       "      <td>syn01210</td>\n",
       "      <td>2-Oxocarboxylic acid metabolism</td>\n",
       "      <td>http://www.genome.jp/kegg-bin/show_pathway?syn...</td>\n",
       "      <td>2.885059e-05</td>\n",
       "      <td>12</td>\n",
       "      <td>160</td>\n",
       "      <td>21</td>\n",
       "      <td>941</td>\n",
       "      <td>1.105939e-03</td>\n",
       "      <td>4.539845</td>\n",
       "      <td>0.07500</td>\n",
       "      <td>SGL_RS09105//SGL_RS09150//SGL_RS12850//SGL_RS1...</td>\n",
       "    </tr>\n",
       "    <tr>\n",
       "      <th>3</th>\n",
       "      <td>syn03018</td>\n",
       "      <td>RNA degradation</td>\n",
       "      <td>http://www.genome.jp/kegg-bin/show_pathway?syn...</td>\n",
       "      <td>7.100578e-04</td>\n",
       "      <td>8</td>\n",
       "      <td>160</td>\n",
       "      <td>14</td>\n",
       "      <td>941</td>\n",
       "      <td>2.041416e-02</td>\n",
       "      <td>3.148706</td>\n",
       "      <td>0.05000</td>\n",
       "      <td>SGL_RS02280//SGL_RS02295//SGL_RS06170//SGL_RS1...</td>\n",
       "    </tr>\n",
       "    <tr>\n",
       "      <th>4</th>\n",
       "      <td>syn00710</td>\n",
       "      <td>Carbon fixation in photosynthetic organisms</td>\n",
       "      <td>http://www.genome.jp/kegg-bin/show_pathway?syn...</td>\n",
       "      <td>1.161724e-03</td>\n",
       "      <td>9</td>\n",
       "      <td>160</td>\n",
       "      <td>18</td>\n",
       "      <td>941</td>\n",
       "      <td>2.583939e-02</td>\n",
       "      <td>2.934897</td>\n",
       "      <td>0.05625</td>\n",
       "      <td>SGL_RS05660//SGL_RS09170//SGL_RS09950//SGL_RS1...</td>\n",
       "    </tr>\n",
       "  </tbody>\n",
       "</table>\n",
       "</div>"
      ],
      "text/plain": [
       "  PathwayID                                   Definition  \\\n",
       "0  syn03010                                     Ribosome   \n",
       "1  syn00195                               Photosynthesis   \n",
       "2  syn01210              2-Oxocarboxylic acid metabolism   \n",
       "3  syn03018                              RNA degradation   \n",
       "4  syn00710  Carbon fixation in photosynthetic organisms   \n",
       "\n",
       "                                     OriginalWebSite  Fisher-Pvalue  \\\n",
       "0  http://www.genome.jp/kegg-bin/show_pathway?syn...   5.602343e-11   \n",
       "1  http://www.genome.jp/kegg-bin/show_pathway?syn...   9.875810e-06   \n",
       "2  http://www.genome.jp/kegg-bin/show_pathway?syn...   2.885059e-05   \n",
       "3  http://www.genome.jp/kegg-bin/show_pathway?syn...   7.100578e-04   \n",
       "4  http://www.genome.jp/kegg-bin/show_pathway?syn...   1.161724e-03   \n",
       "\n",
       "   SelectionCounts  SelectionSize  Count  Size           FDR  \\\n",
       "0               28            160     49   941  6.442695e-09   \n",
       "1               24            160     60   941  5.678591e-04   \n",
       "2               12            160     21   941  1.105939e-03   \n",
       "3                8            160     14   941  2.041416e-02   \n",
       "4                9            160     18   941  2.583939e-02   \n",
       "\n",
       "   Enrichment_Score  GeneRatio  \\\n",
       "0         10.251630    0.17500   \n",
       "1          5.005427    0.15000   \n",
       "2          4.539845    0.07500   \n",
       "3          3.148706    0.05000   \n",
       "4          2.934897    0.05625   \n",
       "\n",
       "                                               Genes  \n",
       "0  SGL_RS05710//SGL_RS05715//SGL_RS05720//SGL_RS0...  \n",
       "1  SGL_RS02435//SGL_RS02670//SGL_RS02675//SGL_RS0...  \n",
       "2  SGL_RS09105//SGL_RS09150//SGL_RS12850//SGL_RS1...  \n",
       "3  SGL_RS02280//SGL_RS02295//SGL_RS06170//SGL_RS1...  \n",
       "4  SGL_RS05660//SGL_RS09170//SGL_RS09950//SGL_RS1...  "
      ]
     },
     "execution_count": 3,
     "metadata": {},
     "output_type": "execute_result"
    }
   ],
   "source": [
    "id2locaus.head()\n",
    "kegg_df.head()"
   ]
  },
  {
   "cell_type": "code",
   "execution_count": 4,
   "id": "56fa3d09-2ac4-47e8-ac36-773f6d3ac9ad",
   "metadata": {
    "execution": {
     "iopub.execute_input": "2023-09-19T11:34:56.050898Z",
     "iopub.status.busy": "2023-09-19T11:34:56.050756Z",
     "iopub.status.idle": "2023-09-19T11:34:56.059085Z",
     "shell.execute_reply": "2023-09-19T11:34:56.058567Z",
     "shell.execute_reply.started": "2023-09-19T11:34:56.050885Z"
    },
    "tags": []
   },
   "outputs": [],
   "source": [
    "id_dict = {k:v for k, v in zip(id2locaus.gene_id, id2locaus.locus_tag)}\n",
    "gene_df = kegg_df.loc[:, \"Genes\"]\n",
    "\n",
    "ids_list = []\n",
    "\n",
    "for ids in gene_df:\n",
    "    id_list = ids.strip().split(\"//\")\n",
    "    # print(ids_list)\n",
    "    new_id_list = []\n",
    "    for key in id_list:\n",
    "        new_id = id_dict[key]\n",
    "        new_id_list.append(new_id)\n",
    "    # new_id_list = \",\".join(map(str, new_id_list))       \n",
    "    ids_list.append(new_id_list)\n",
    "\n",
    "tmp_ls = []\n",
    "for names in ids_list:\n",
    "    names = \",\".join(map(str, names))\n",
    "    tmp_ls.append(names)\n",
    "\n",
    "kegg_df[\"old_locus\"] = tmp_ls\n",
    "kegg_df.to_csv(\"locus_convert.csv\")"
   ]
  },
  {
   "cell_type": "code",
   "execution_count": 8,
   "id": "46d73e53-d791-49d8-9a0c-42ada10e844f",
   "metadata": {
    "execution": {
     "iopub.execute_input": "2023-09-19T11:43:36.858599Z",
     "iopub.status.busy": "2023-09-19T11:43:36.858211Z",
     "iopub.status.idle": "2023-09-19T11:43:36.862286Z",
     "shell.execute_reply": "2023-09-19T11:43:36.861834Z",
     "shell.execute_reply.started": "2023-09-19T11:43:36.858584Z"
    },
    "tags": []
   },
   "outputs": [
    {
     "data": {
      "text/plain": [
       "['1', '2,3', '4,5']"
      ]
     },
     "execution_count": 8,
     "metadata": {},
     "output_type": "execute_result"
    }
   ],
   "source": [
    "list1 = [[1], [2, 3], [4, 5]]\n",
    "list2 = [\",\".join(map(str, i)) for i in list1]\n",
    "list2"
   ]
  },
  {
   "cell_type": "code",
   "execution_count": null,
   "id": "3d78bd84-6090-4daf-8575-15817cdb2c26",
   "metadata": {},
   "outputs": [],
   "source": []
  }
 ],
 "metadata": {
  "kernelspec": {
   "display_name": "Python 3 (ipykernel)",
   "language": "python",
   "name": "python3"
  },
  "language_info": {
   "codemirror_mode": {
    "name": "ipython",
    "version": 3
   },
   "file_extension": ".py",
   "mimetype": "text/x-python",
   "name": "python",
   "nbconvert_exporter": "python",
   "pygments_lexer": "ipython3",
   "version": "3.10.8"
  }
 },
 "nbformat": 4,
 "nbformat_minor": 5
}
