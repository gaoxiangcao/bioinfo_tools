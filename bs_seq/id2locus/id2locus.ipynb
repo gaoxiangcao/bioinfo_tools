{
 "cells": [
  {
   "cell_type": "code",
   "execution_count": 12,
   "id": "16e4168a-ca10-4b53-bf4b-63e95ecdbfef",
   "metadata": {
    "execution": {
     "iopub.execute_input": "2023-09-12T12:30:07.075415Z",
     "iopub.status.busy": "2023-09-12T12:30:07.075044Z",
     "iopub.status.idle": "2023-09-12T12:30:07.096699Z",
     "shell.execute_reply": "2023-09-12T12:30:07.096198Z",
     "shell.execute_reply.started": "2023-09-12T12:30:07.075400Z"
    },
    "tags": []
   },
   "outputs": [],
   "source": [
    "import re\n",
    "\n",
    "syn_gtf = open(\"./syn6803.gtf\", \"rt\")\n",
    "id2locus = open(\"./syn_id2locus.csv\", \"wt\")\n",
    "\n",
    "header = id2locus.write(\"gene_id\" + \",\" + \"locus_tag\" + \"\\n\")\n",
    "\n",
    "\n",
    "for line in syn_gtf:\n",
    "    if line.startswith(\"#\"):\n",
    "        continue\n",
    "    else:\n",
    "        line_ls = line.strip().split(\"\\t\")\n",
    "        annotated_type = line_ls[2]\n",
    "\n",
    "        if annotated_type == \"gene\":\n",
    "            attribute = line_ls[-1]\n",
    "            attribute_ls = attribute.strip().split(\";\")\n",
    "                        \n",
    "            gene_id_ls = attribute_ls[0]\n",
    "            old_locus_tag_ls = attribute_ls[-2]\n",
    "                 \n",
    "            pattern = r'\"(.*?)\"'\n",
    "            locus_tag = re.findall(pattern, old_locus_tag_ls)[0]\n",
    "            gene_id = re.findall(pattern, gene_id_ls)[0]\n",
    "            \n",
    "            result = gene_id + \",\" + locus_tag\n",
    "            id2locus.write(result + \"\\n\")\n",
    "\n",
    "syn_gtf.close()\n",
    "id2locus.close()"
   ]
  },
  {
   "cell_type": "code",
   "execution_count": null,
   "id": "df191ac1-1a51-4b66-8596-d46b01482cb3",
   "metadata": {},
   "outputs": [],
   "source": []
  }
 ],
 "metadata": {
  "kernelspec": {
   "display_name": "Python 3 (ipykernel)",
   "language": "python",
   "name": "python3"
  },
  "language_info": {
   "codemirror_mode": {
    "name": "ipython",
    "version": 3
   },
   "file_extension": ".py",
   "mimetype": "text/x-python",
   "name": "python",
   "nbconvert_exporter": "python",
   "pygments_lexer": "ipython3",
   "version": "3.10.8"
  }
 },
 "nbformat": 4,
 "nbformat_minor": 5
}
