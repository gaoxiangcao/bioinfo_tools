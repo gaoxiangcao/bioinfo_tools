{
 "cells": [
  {
   "cell_type": "code",
   "execution_count": 1,
   "id": "e6a23f6a-b2bd-424f-a2b7-7643844f00d1",
   "metadata": {
    "execution": {
     "iopub.execute_input": "2023-09-20T11:16:54.607919Z",
     "iopub.status.busy": "2023-09-20T11:16:54.607555Z",
     "iopub.status.idle": "2023-09-20T11:16:54.757812Z",
     "shell.execute_reply": "2023-09-20T11:16:54.756263Z",
     "shell.execute_reply.started": "2023-09-20T11:16:54.607899Z"
    },
    "tags": []
   },
   "outputs": [],
   "source": [
    "import pandas as pd "
   ]
  },
  {
   "cell_type": "code",
   "execution_count": 2,
   "id": "b5f69447-4653-43d9-9923-58d656b983a4",
   "metadata": {
    "execution": {
     "iopub.execute_input": "2023-09-20T11:16:54.759127Z",
     "iopub.status.busy": "2023-09-20T11:16:54.758778Z",
     "iopub.status.idle": "2023-09-20T11:16:54.766500Z",
     "shell.execute_reply": "2023-09-20T11:16:54.766001Z",
     "shell.execute_reply.started": "2023-09-20T11:16:54.759116Z"
    },
    "tags": []
   },
   "outputs": [],
   "source": [
    "anno_df = pd.read_csv(\"./anno_list.csv\")\n",
    "anno_df.columns = anno_df.columns.str.strip()  # clear space\n",
    "anno_df = anno_df.sort_values([\"Code\"]).reset_index(drop=True)\n",
    "anno_df[\"Code\"] = anno_df[\"Code\"].str.strip()\n",
    "anno_df[\"Name\"] = anno_df[\"Name\"].str.strip()\n",
    "anno_df\n",
    "anno_df.to_csv(\"./annotation26.csv\", index=False)"
   ]
  },
  {
   "cell_type": "code",
   "execution_count": 3,
   "id": "33678638-c124-4403-ba2d-1cc336d3d347",
   "metadata": {
    "execution": {
     "iopub.execute_input": "2023-09-20T11:16:54.767423Z",
     "iopub.status.busy": "2023-09-20T11:16:54.767066Z",
     "iopub.status.idle": "2023-09-20T11:16:54.893759Z",
     "shell.execute_reply": "2023-09-20T11:16:54.893315Z",
     "shell.execute_reply.started": "2023-09-20T11:16:54.767410Z"
    },
    "tags": []
   },
   "outputs": [
    {
     "data": {
      "text/html": [
       "<div>\n",
       "<style scoped>\n",
       "    .dataframe tbody tr th:only-of-type {\n",
       "        vertical-align: middle;\n",
       "    }\n",
       "\n",
       "    .dataframe tbody tr th {\n",
       "        vertical-align: top;\n",
       "    }\n",
       "\n",
       "    .dataframe thead th {\n",
       "        text-align: right;\n",
       "    }\n",
       "</style>\n",
       "<table border=\"1\" class=\"dataframe\">\n",
       "  <thead>\n",
       "    <tr style=\"text-align: right;\">\n",
       "      <th></th>\n",
       "      <th>query</th>\n",
       "      <th>COG_category</th>\n",
       "    </tr>\n",
       "  </thead>\n",
       "  <tbody>\n",
       "    <tr>\n",
       "      <th>0</th>\n",
       "      <td>sll1214</td>\n",
       "      <td>F</td>\n",
       "    </tr>\n",
       "    <tr>\n",
       "      <th>1</th>\n",
       "      <td>slr1501</td>\n",
       "      <td>K</td>\n",
       "    </tr>\n",
       "    <tr>\n",
       "      <th>2</th>\n",
       "      <td>slr1119</td>\n",
       "      <td>E</td>\n",
       "    </tr>\n",
       "    <tr>\n",
       "      <th>3</th>\n",
       "      <td>slr1127</td>\n",
       "      <td>O</td>\n",
       "    </tr>\n",
       "    <tr>\n",
       "      <th>4</th>\n",
       "      <td>slr1128</td>\n",
       "      <td>O</td>\n",
       "    </tr>\n",
       "    <tr>\n",
       "      <th>...</th>\n",
       "      <td>...</td>\n",
       "      <td>...</td>\n",
       "    </tr>\n",
       "    <tr>\n",
       "      <th>373</th>\n",
       "      <td>WP_010872233.1</td>\n",
       "      <td>H</td>\n",
       "    </tr>\n",
       "    <tr>\n",
       "      <th>374</th>\n",
       "      <td>WP_020862346.1</td>\n",
       "      <td>-</td>\n",
       "    </tr>\n",
       "    <tr>\n",
       "      <th>375</th>\n",
       "      <td>WP_010872895.1</td>\n",
       "      <td>M</td>\n",
       "    </tr>\n",
       "    <tr>\n",
       "      <th>376</th>\n",
       "      <td>WP_010873195.1</td>\n",
       "      <td>-</td>\n",
       "    </tr>\n",
       "    <tr>\n",
       "      <th>377</th>\n",
       "      <td>WP_010871562.1</td>\n",
       "      <td>-</td>\n",
       "    </tr>\n",
       "  </tbody>\n",
       "</table>\n",
       "<p>378 rows × 2 columns</p>\n",
       "</div>"
      ],
      "text/plain": [
       "              query COG_category\n",
       "0           sll1214            F\n",
       "1           slr1501            K\n",
       "2           slr1119            E\n",
       "3           slr1127            O\n",
       "4           slr1128            O\n",
       "..              ...          ...\n",
       "373  WP_010872233.1            H\n",
       "374  WP_020862346.1            -\n",
       "375  WP_010872895.1            M\n",
       "376  WP_010873195.1            -\n",
       "377  WP_010871562.1            -\n",
       "\n",
       "[378 rows x 2 columns]"
      ]
     },
     "execution_count": 3,
     "metadata": {},
     "output_type": "execute_result"
    }
   ],
   "source": [
    "cog_df = pd.read_excel(\"./MM_0cxd43ne.emapper.annotations.xlsx\", skiprows=2)\n",
    "cog_df = cog_df.loc[:, [\"query\", \"COG_category\"]]\n",
    "cog_df = cog_df.iloc[:-3]\n",
    "cog_df"
   ]
  },
  {
   "cell_type": "code",
   "execution_count": 14,
   "id": "7e8f941a-2dbf-471c-8794-d1e4bfe34a94",
   "metadata": {
    "execution": {
     "iopub.execute_input": "2023-09-20T11:26:45.948879Z",
     "iopub.status.busy": "2023-09-20T11:26:45.948577Z",
     "iopub.status.idle": "2023-09-20T11:26:45.953125Z",
     "shell.execute_reply": "2023-09-20T11:26:45.952647Z",
     "shell.execute_reply.started": "2023-09-20T11:26:45.948868Z"
    },
    "tags": []
   },
   "outputs": [],
   "source": [
    "f = open(\"./cog_count.txt\", \"wt\") \n",
    "\n",
    "anno_dict = dict(zip(anno_df[\"Code\"], anno_df[\"Name\"]))\n",
    "category_name = cog_df.loc[:, \"COG_category\"]\n",
    "cog_keys = anno_dict.keys()\n",
    "# print(category_name)\n",
    "\n",
    "def get_name_ls():\n",
    "    c_ls = []\n",
    "    for category in category_name:\n",
    "        category = list(category)\n",
    "        c_ls.append(category)\n",
    "    return c_ls\n",
    "\n",
    "\n",
    "name_ls = get_name_ls()\n",
    "count = 0\n",
    "\n",
    "for key in cog_keys:\n",
    "    count = 0\n",
    "    for name in name_ls:\n",
    "        if key in name:\n",
    "            count += 1 \n",
    "        else:\n",
    "            continue\n",
    "    description = anno_dict[key]\n",
    "    # print(key, count, description)\n",
    "\n",
    "    out = str(key) + \"\\t\" + str(count) + \"\\t\" + str(description)\n",
    "    result = out + \"\\n\"\n",
    "    f.write(result)\n",
    "\n",
    "f.close()    "
   ]
  },
  {
   "cell_type": "code",
   "execution_count": null,
   "id": "f1562bc2-75bb-416b-b423-ba767a325a02",
   "metadata": {},
   "outputs": [],
   "source": []
  }
 ],
 "metadata": {
  "kernelspec": {
   "display_name": "Python 3 (ipykernel)",
   "language": "python",
   "name": "python3"
  },
  "language_info": {
   "codemirror_mode": {
    "name": "ipython",
    "version": 3
   },
   "file_extension": ".py",
   "mimetype": "text/x-python",
   "name": "python",
   "nbconvert_exporter": "python",
   "pygments_lexer": "ipython3",
   "version": "3.10.8"
  }
 },
 "nbformat": 4,
 "nbformat_minor": 5
}
