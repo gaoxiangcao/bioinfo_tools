{
 "cells": [
  {
   "cell_type": "code",
   "execution_count": null,
   "id": "beb2b4c9-2d0e-4635-94bc-a5dfb8e9440f",
   "metadata": {},
   "outputs": [],
   "source": [
    "# project 4 pysam and BAM file \n",
    "\n",
    "  By CAO gaoxiang\n",
    "  \n",
    "  2023-05-04"
   ]
  },
  {
   "cell_type": "code",
   "execution_count": 1,
   "id": "e69e1718-cec4-4bd1-8f68-a9bc6fb806da",
   "metadata": {
    "execution": {
     "iopub.execute_input": "2023-05-27T12:49:45.555519Z",
     "iopub.status.busy": "2023-05-27T12:49:45.554711Z",
     "iopub.status.idle": "2023-05-27T12:49:45.583905Z",
     "shell.execute_reply": "2023-05-27T12:49:45.583400Z",
     "shell.execute_reply.started": "2023-05-27T12:49:45.555494Z"
    },
    "tags": []
   },
   "outputs": [],
   "source": [
    "import pysam"
   ]
  },
  {
   "cell_type": "code",
   "execution_count": 2,
   "id": "dcb866e4-4de8-4c67-b2ce-3b17935571a8",
   "metadata": {
    "execution": {
     "iopub.execute_input": "2023-05-27T12:49:46.525661Z",
     "iopub.status.busy": "2023-05-27T12:49:46.525424Z",
     "iopub.status.idle": "2023-05-27T12:49:46.532311Z",
     "shell.execute_reply": "2023-05-27T12:49:46.531130Z",
     "shell.execute_reply.started": "2023-05-27T12:49:46.525647Z"
    },
    "tags": []
   },
   "outputs": [
    {
     "data": {
      "text/plain": [
       "'0.21.0'"
      ]
     },
     "execution_count": 2,
     "metadata": {},
     "output_type": "execute_result"
    }
   ],
   "source": [
    "pysam.__version__"
   ]
  },
  {
   "cell_type": "code",
   "execution_count": 20,
   "id": "4840d5b6-8fc7-4cd2-b5ff-74862930aa85",
   "metadata": {
    "execution": {
     "iopub.execute_input": "2023-05-27T13:26:36.526828Z",
     "iopub.status.busy": "2023-05-27T13:26:36.526445Z",
     "iopub.status.idle": "2023-05-27T13:26:36.530221Z",
     "shell.execute_reply": "2023-05-27T13:26:36.529481Z",
     "shell.execute_reply.started": "2023-05-27T13:26:36.526806Z"
    },
    "tags": []
   },
   "outputs": [
    {
     "name": "stdout",
     "output_type": "stream",
     "text": [
      "1\n",
      "1\n"
     ]
    }
   ],
   "source": [
    "input_filename = \"./K562-ATACSeq-rep1.ENCFF534DCE_chr21.bam\"\n",
    "\n",
    "bam_file = pysam.AlignmentFile(input_filename, \"rb\")\n",
    "\n",
    "for align in bam_file:\n",
    "    # print(align)\n",
    "    print(align.mapping_quality)\n",
    "    print(align.mapq)\n",
    "    break"
   ]
  },
  {
   "cell_type": "code",
   "execution_count": 13,
   "id": "7dc426ec-6e45-402a-9464-1f00d13bf515",
   "metadata": {
    "execution": {
     "iopub.execute_input": "2023-05-27T13:02:36.388336Z",
     "iopub.status.busy": "2023-05-27T13:02:36.388016Z",
     "iopub.status.idle": "2023-05-27T13:02:36.391803Z",
     "shell.execute_reply": "2023-05-27T13:02:36.391331Z",
     "shell.execute_reply.started": "2023-05-27T13:02:36.388319Z"
    },
    "tags": []
   },
   "outputs": [
    {
     "name": "stdout",
     "output_type": "stream",
     "text": [
      "<class 'importlib._bootstrap.IndexStats'>\n",
      "IndexStats(contig='chr1', mapped=0, unmapped=0, total=0)\n",
      "chr1\n",
      "0\n"
     ]
    }
   ],
   "source": [
    "for bam_index_info in bam_file.get_index_statistics():\n",
    "    print(type(bam_index_info))\n",
    "    print(bam_index_info)\n",
    "    ref_name = bam_index_info[0]\n",
    "    map_count = bam_index_info[1]\n",
    "    print(ref_name)\n",
    "    print(map_count)\n",
    "    break"
   ]
  },
  {
   "cell_type": "code",
   "execution_count": 4,
   "id": "0c33d7b1-07f1-4874-9f59-0deb519e7ae4",
   "metadata": {
    "execution": {
     "iopub.execute_input": "2023-05-27T12:49:49.934797Z",
     "iopub.status.busy": "2023-05-27T12:49:49.934494Z",
     "iopub.status.idle": "2023-05-27T12:49:49.937732Z",
     "shell.execute_reply": "2023-05-27T12:49:49.937327Z",
     "shell.execute_reply.started": "2023-05-27T12:49:49.934786Z"
    },
    "tags": []
   },
   "outputs": [
    {
     "data": {
      "text/plain": [
       "163"
      ]
     },
     "execution_count": 4,
     "metadata": {},
     "output_type": "execute_result"
    }
   ],
   "source": [
    "# flag\n",
    "align.flag"
   ]
  },
  {
   "cell_type": "code",
   "execution_count": 5,
   "id": "7537a130-2bd0-40da-80e7-c9ad25799294",
   "metadata": {
    "execution": {
     "iopub.execute_input": "2023-05-27T12:49:53.719842Z",
     "iopub.status.busy": "2023-05-27T12:49:53.719542Z",
     "iopub.status.idle": "2023-05-27T12:49:53.722916Z",
     "shell.execute_reply": "2023-05-27T12:49:53.722452Z",
     "shell.execute_reply.started": "2023-05-27T12:49:53.719831Z"
    },
    "tags": []
   },
   "outputs": [
    {
     "data": {
      "text/plain": [
       "False"
      ]
     },
     "execution_count": 5,
     "metadata": {},
     "output_type": "execute_result"
    }
   ],
   "source": [
    "align.is_duplicate"
   ]
  },
  {
   "cell_type": "code",
   "execution_count": 6,
   "id": "88a67d85-ca76-446e-9f2e-e5ad8286c2b2",
   "metadata": {
    "execution": {
     "iopub.execute_input": "2023-05-27T12:50:17.040749Z",
     "iopub.status.busy": "2023-05-27T12:50:17.040466Z",
     "iopub.status.idle": "2023-05-27T12:50:17.044194Z",
     "shell.execute_reply": "2023-05-27T12:50:17.043598Z",
     "shell.execute_reply.started": "2023-05-27T12:50:17.040734Z"
    },
    "tags": []
   },
   "outputs": [
    {
     "data": {
      "text/plain": [
       "False"
      ]
     },
     "execution_count": 6,
     "metadata": {},
     "output_type": "execute_result"
    }
   ],
   "source": [
    "align.is_reverse"
   ]
  },
  {
   "cell_type": "code",
   "execution_count": 49,
   "id": "f916638d-3036-4e26-8b84-ecc98e5779a9",
   "metadata": {
    "execution": {
     "iopub.execute_input": "2023-05-11T01:44:52.730038Z",
     "iopub.status.busy": "2023-05-11T01:44:52.729747Z",
     "iopub.status.idle": "2023-05-11T01:44:52.733515Z",
     "shell.execute_reply": "2023-05-11T01:44:52.732777Z",
     "shell.execute_reply.started": "2023-05-11T01:44:52.730024Z"
    },
    "tags": []
   },
   "outputs": [
    {
     "data": {
      "text/plain": [
       "True"
      ]
     },
     "execution_count": 49,
     "metadata": {},
     "output_type": "execute_result"
    }
   ],
   "source": [
    "align.is_proper_pair"
   ]
  },
  {
   "cell_type": "code",
   "execution_count": 50,
   "id": "4af6510c-0dc2-41ac-a68e-7e15efae49fa",
   "metadata": {
    "execution": {
     "iopub.execute_input": "2023-05-11T01:44:52.734283Z",
     "iopub.status.busy": "2023-05-11T01:44:52.734173Z",
     "iopub.status.idle": "2023-05-11T01:44:52.737306Z",
     "shell.execute_reply": "2023-05-11T01:44:52.736877Z",
     "shell.execute_reply.started": "2023-05-11T01:44:52.734274Z"
    },
    "tags": []
   },
   "outputs": [
    {
     "data": {
      "text/plain": [
       "False"
      ]
     },
     "execution_count": 50,
     "metadata": {},
     "output_type": "execute_result"
    }
   ],
   "source": [
    "align.is_read1"
   ]
  },
  {
   "cell_type": "code",
   "execution_count": 51,
   "id": "d1240b14-3117-41eb-b714-f278a8de1bac",
   "metadata": {
    "execution": {
     "iopub.execute_input": "2023-05-11T01:44:52.737933Z",
     "iopub.status.busy": "2023-05-11T01:44:52.737744Z",
     "iopub.status.idle": "2023-05-11T01:44:52.740746Z",
     "shell.execute_reply": "2023-05-11T01:44:52.740322Z",
     "shell.execute_reply.started": "2023-05-11T01:44:52.737924Z"
    },
    "tags": []
   },
   "outputs": [
    {
     "data": {
      "text/plain": [
       "'99M'"
      ]
     },
     "execution_count": 51,
     "metadata": {},
     "output_type": "execute_result"
    }
   ],
   "source": [
    "# CIGAR\n",
    "align.cigarstring"
   ]
  },
  {
   "cell_type": "code",
   "execution_count": 52,
   "id": "6342473e-6cc8-43ef-afca-437585b0922d",
   "metadata": {
    "execution": {
     "iopub.execute_input": "2023-05-11T01:44:52.741367Z",
     "iopub.status.busy": "2023-05-11T01:44:52.741187Z",
     "iopub.status.idle": "2023-05-11T01:44:52.744524Z",
     "shell.execute_reply": "2023-05-11T01:44:52.743942Z",
     "shell.execute_reply.started": "2023-05-11T01:44:52.741358Z"
    },
    "tags": []
   },
   "outputs": [
    {
     "data": {
      "text/plain": [
       "[('MC', '99M'),\n",
       " ('MD', '99'),\n",
       " ('PG', 'MarkDuplicates'),\n",
       " ('XG', 0),\n",
       " ('NM', 0),\n",
       " ('XM', 0),\n",
       " ('XN', 0),\n",
       " ('XO', 0),\n",
       " ('MQ', 1),\n",
       " ('AS', 0),\n",
       " ('XS', 0),\n",
       " ('YS', 0),\n",
       " ('YT', 'CP')]"
      ]
     },
     "execution_count": 52,
     "metadata": {},
     "output_type": "execute_result"
    }
   ],
   "source": [
    "# align tags\n",
    "align.tags"
   ]
  },
  {
   "cell_type": "code",
   "execution_count": 53,
   "id": "97951627-012f-4183-8123-5f15112599c3",
   "metadata": {
    "execution": {
     "iopub.execute_input": "2023-05-11T01:44:52.745859Z",
     "iopub.status.busy": "2023-05-11T01:44:52.745663Z",
     "iopub.status.idle": "2023-05-11T01:44:52.750005Z",
     "shell.execute_reply": "2023-05-11T01:44:52.749562Z",
     "shell.execute_reply.started": "2023-05-11T01:44:52.745847Z"
    },
    "tags": []
   },
   "outputs": [
    {
     "data": {
      "text/plain": [
       "[(0, 5010083),\n",
       " (1, 5010084),\n",
       " (2, 5010085),\n",
       " (3, 5010086),\n",
       " (4, 5010087),\n",
       " (5, 5010088),\n",
       " (6, 5010089),\n",
       " (7, 5010090),\n",
       " (8, 5010091),\n",
       " (9, 5010092),\n",
       " (10, 5010093),\n",
       " (11, 5010094),\n",
       " (12, 5010095),\n",
       " (13, 5010096),\n",
       " (14, 5010097),\n",
       " (15, 5010098),\n",
       " (16, 5010099),\n",
       " (17, 5010100),\n",
       " (18, 5010101),\n",
       " (19, 5010102),\n",
       " (20, 5010103),\n",
       " (21, 5010104),\n",
       " (22, 5010105),\n",
       " (23, 5010106),\n",
       " (24, 5010107),\n",
       " (25, 5010108),\n",
       " (26, 5010109),\n",
       " (27, 5010110),\n",
       " (28, 5010111),\n",
       " (29, 5010112),\n",
       " (30, 5010113),\n",
       " (31, 5010114),\n",
       " (32, 5010115),\n",
       " (33, 5010116),\n",
       " (34, 5010117),\n",
       " (35, 5010118),\n",
       " (36, 5010119),\n",
       " (37, 5010120),\n",
       " (38, 5010121),\n",
       " (39, 5010122),\n",
       " (40, 5010123),\n",
       " (41, 5010124),\n",
       " (42, 5010125),\n",
       " (43, 5010126),\n",
       " (44, 5010127),\n",
       " (45, 5010128),\n",
       " (46, 5010129),\n",
       " (47, 5010130),\n",
       " (48, 5010131),\n",
       " (49, 5010132),\n",
       " (50, 5010133),\n",
       " (51, 5010134),\n",
       " (52, 5010135),\n",
       " (53, 5010136),\n",
       " (54, 5010137),\n",
       " (55, 5010138),\n",
       " (56, 5010139),\n",
       " (57, 5010140),\n",
       " (58, 5010141),\n",
       " (59, 5010142),\n",
       " (60, 5010143),\n",
       " (61, 5010144),\n",
       " (62, 5010145),\n",
       " (63, 5010146),\n",
       " (64, 5010147),\n",
       " (65, 5010148),\n",
       " (66, 5010149),\n",
       " (67, 5010150),\n",
       " (68, 5010151),\n",
       " (69, 5010152),\n",
       " (70, 5010153),\n",
       " (71, 5010154),\n",
       " (72, 5010155),\n",
       " (73, 5010156),\n",
       " (74, 5010157),\n",
       " (75, 5010158),\n",
       " (76, 5010159),\n",
       " (77, 5010160),\n",
       " (78, 5010161),\n",
       " (79, 5010162),\n",
       " (80, 5010163),\n",
       " (81, 5010164),\n",
       " (82, 5010165),\n",
       " (83, 5010166),\n",
       " (84, 5010167),\n",
       " (85, 5010168),\n",
       " (86, 5010169),\n",
       " (87, 5010170),\n",
       " (88, 5010171),\n",
       " (89, 5010172),\n",
       " (90, 5010173),\n",
       " (91, 5010174),\n",
       " (92, 5010175),\n",
       " (93, 5010176),\n",
       " (94, 5010177),\n",
       " (95, 5010178),\n",
       " (96, 5010179),\n",
       " (97, 5010180),\n",
       " (98, 5010181)]"
      ]
     },
     "execution_count": 53,
     "metadata": {},
     "output_type": "execute_result"
    }
   ],
   "source": [
    "# mutation align infor\n",
    "align.get_aligned_pairs()"
   ]
  },
  {
   "cell_type": "code",
   "execution_count": 54,
   "id": "3515814d-c41f-46ff-aa7b-f48ccd349e8c",
   "metadata": {
    "execution": {
     "iopub.execute_input": "2023-05-11T01:44:52.750689Z",
     "iopub.status.busy": "2023-05-11T01:44:52.750488Z",
     "iopub.status.idle": "2023-05-11T01:44:52.753464Z",
     "shell.execute_reply": "2023-05-11T01:44:52.753051Z",
     "shell.execute_reply.started": "2023-05-11T01:44:52.750679Z"
    },
    "tags": []
   },
   "outputs": [
    {
     "data": {
      "text/plain": [
       "'ATGACAGAGTGAGGGCCATCACTGTTAATGAAGCCAGTGTTGCTCACAGCCTCCCCTTGGTCACTTTTTGTGACTGAAGGGCATGTGTTCAGGCAAGAT'"
      ]
     },
     "execution_count": 54,
     "metadata": {},
     "output_type": "execute_result"
    }
   ],
   "source": [
    "align.seq"
   ]
  },
  {
   "cell_type": "code",
   "execution_count": 55,
   "id": "cf242c51-f16c-4a62-a88d-90ada88082c6",
   "metadata": {
    "execution": {
     "iopub.execute_input": "2023-05-11T01:44:52.754183Z",
     "iopub.status.busy": "2023-05-11T01:44:52.753990Z",
     "iopub.status.idle": "2023-05-11T01:44:52.757011Z",
     "shell.execute_reply": "2023-05-11T01:44:52.756590Z",
     "shell.execute_reply.started": "2023-05-11T01:44:52.754172Z"
    },
    "tags": []
   },
   "outputs": [
    {
     "data": {
      "text/plain": [
       "'A00509:35:HKYCWDSXX:1:1235:32506:9314'"
      ]
     },
     "execution_count": 55,
     "metadata": {},
     "output_type": "execute_result"
    }
   ],
   "source": [
    "align.qname"
   ]
  },
  {
   "cell_type": "code",
   "execution_count": 56,
   "id": "217d8108-0f22-47ba-8cbf-61cbb1a3243b",
   "metadata": {
    "execution": {
     "iopub.execute_input": "2023-05-11T01:44:52.757729Z",
     "iopub.status.busy": "2023-05-11T01:44:52.757518Z",
     "iopub.status.idle": "2023-05-11T01:44:52.759623Z",
     "shell.execute_reply": "2023-05-11T01:44:52.759236Z",
     "shell.execute_reply.started": "2023-05-11T01:44:52.757716Z"
    },
    "tags": []
   },
   "outputs": [],
   "source": [
    "# test region chr21:20,998,316-20,998,422\n",
    "# test region chr21:20,998,800-20,998,805"
   ]
  },
  {
   "cell_type": "code",
   "execution_count": 8,
   "id": "76cc8c6e-f35d-4ec3-84b5-19cf124092cc",
   "metadata": {
    "execution": {
     "iopub.execute_input": "2023-05-27T12:59:23.433067Z",
     "iopub.status.busy": "2023-05-27T12:59:23.432740Z",
     "iopub.status.idle": "2023-05-27T12:59:23.436932Z",
     "shell.execute_reply": "2023-05-27T12:59:23.436472Z",
     "shell.execute_reply.started": "2023-05-27T12:59:23.433053Z"
    },
    "tags": []
   },
   "outputs": [
    {
     "name": "stdout",
     "output_type": "stream",
     "text": [
      "A00509:35:HKYCWDSXX:1:2214:32090:4679\t147\t#20\t20998220\t255\t99M\t#20\t20997662\t-657\tCGGAAGAGCGGCCGCCGTGCAGCGCGGAGGGATACGCCTCGGCCGCACCTCCCCTCGCCGCGCCCCCGCCCCCGCCGCCCTCCCCGCCCGGCTCTGCTG\tarray('B', [11, 37, 37, 37, 37, 37, 37, 37, 37, 37, 37, 37, 37, 37, 37, 25, 37, 25, 37, 37, 37, 37, 37, 37, 37, 37, 37, 25, 37, 37, 37, 37, 37, 11, 37, 25, 37, 37, 37, 37, 37, 37, 25, 37, 37, 11, 37, 37, 37, 25, 37, 37, 37, 37, 37, 37, 37, 37, 37, 37, 37, 37, 37, 37, 37, 37, 37, 37, 37, 37, 37, 37, 37, 37, 37, 37, 37, 37, 37, 25, 11, 37, 37, 37, 37, 37, 37, 25, 37, 37, 37, 37, 37, 37, 25, 37, 37, 37, 37])\t[('MC', '99M'), ('MD', '99'), ('PG', 'MarkDuplicates'), ('XG', 0), ('NM', 0), ('XM', 0), ('XN', 0), ('XO', 0), ('MQ', 255), ('AS', 0), ('YS', 0), ('YT', 'CP')]\n"
     ]
    }
   ],
   "source": [
    "input_filename = \"./K562-ATACSeq-rep1.ENCFF534DCE_chr21.bam\"\n",
    "\n",
    "bam_file = pysam.AlignmentFile(input_filename, \"rb\")\n",
    "\n",
    "for align in bam_file.fetch(contig=\"chr21\", start=20998316, end=20998422):\n",
    "    print(align)\n",
    "    break"
   ]
  },
  {
   "cell_type": "code",
   "execution_count": null,
   "id": "8960a52a-867f-45a8-b127-7b883c384f6a",
   "metadata": {},
   "outputs": [],
   "source": []
  },
  {
   "cell_type": "code",
   "execution_count": 58,
   "id": "b4a49763-d575-497b-a612-76fb54db3800",
   "metadata": {
    "execution": {
     "iopub.execute_input": "2023-05-11T01:44:52.764275Z",
     "iopub.status.busy": "2023-05-11T01:44:52.764028Z",
     "iopub.status.idle": "2023-05-11T01:44:52.766672Z",
     "shell.execute_reply": "2023-05-11T01:44:52.766115Z",
     "shell.execute_reply.started": "2023-05-11T01:44:52.764266Z"
    },
    "tags": []
   },
   "outputs": [
    {
     "data": {
      "text/plain": [
       "\u001b[0;31mDocstring:\u001b[0m\n",
       "AlignmentFile.fetch(self, contig=None, start=None, stop=None, region=None, tid=None, until_eof=False, multiple_iterators=False, reference=None, end=None)\n",
       "fetch reads aligned in a :term:`region`.\n",
       "\n",
       "        See :meth:`~pysam.HTSFile.parse_region` for more information\n",
       "        on how genomic regions can be specified. :term:`reference` and\n",
       "        `end` are also accepted for backward compatibility as synonyms\n",
       "        for :term:`contig` and `stop`, respectively.\n",
       "\n",
       "        Without a `contig` or `region` all mapped reads in the file\n",
       "        will be fetched. The reads will be returned ordered by reference\n",
       "        sequence, which will not necessarily be the order within the\n",
       "        file. This mode of iteration still requires an index. If there is\n",
       "        no index, use `until_eof=True`.\n",
       "\n",
       "        If only `contig` is set, all reads aligned to `contig`\n",
       "        will be fetched.\n",
       "\n",
       "        A :term:`SAM` file does not allow random access. If `region`\n",
       "        or `contig` are given, an exception is raised.\n",
       "\n",
       "        Parameters\n",
       "        ----------\n",
       "\n",
       "        until_eof : bool\n",
       "\n",
       "           If `until_eof` is True, all reads from the current file\n",
       "           position will be returned in order as they are within the\n",
       "           file. Using this option will also fetch unmapped reads.\n",
       "\n",
       "        multiple_iterators : bool\n",
       "\n",
       "           If `multiple_iterators` is True, multiple\n",
       "           iterators on the same file can be used at the same time. The\n",
       "           iterator returned will receive its own copy of a filehandle to\n",
       "           the file effectively re-opening the file. Re-opening a file\n",
       "           creates some overhead, so beware.\n",
       "\n",
       "        Returns\n",
       "        -------\n",
       "\n",
       "                An iterator over a collection of reads. : IteratorRow\n",
       "\n",
       "        Raises\n",
       "        ------\n",
       "\n",
       "        ValueError\n",
       "            if the genomic coordinates are out of range or invalid or the\n",
       "            file does not permit random access to genomic coordinates.\n",
       "\n",
       "        \n",
       "\u001b[0;31mType:\u001b[0m      builtin_function_or_method"
      ]
     },
     "metadata": {},
     "output_type": "display_data"
    }
   ],
   "source": [
    "?bam_file.fetch"
   ]
  },
  {
   "cell_type": "code",
   "execution_count": 59,
   "id": "409ebaa2-cb16-4551-b335-d3136205fd17",
   "metadata": {
    "execution": {
     "iopub.execute_input": "2023-05-11T01:44:52.767601Z",
     "iopub.status.busy": "2023-05-11T01:44:52.767210Z",
     "iopub.status.idle": "2023-05-11T01:45:04.446887Z",
     "shell.execute_reply": "2023-05-11T01:45:04.446458Z",
     "shell.execute_reply.started": "2023-05-11T01:44:52.767589Z"
    },
    "tags": []
   },
   "outputs": [],
   "source": [
    "# filter out any read in a pair MAPQ >= 30\n",
    "input_filename = \"./K562-ATACSeq-rep1.ENCFF534DCE_chr21.bam\"\n",
    "bam_file = pysam.AlignmentFile(input_filename, \"rb\")\n",
    "\n",
    "out_filename = \"./K562-ATACSeq-rep1_MAPQ30.bam\"\n",
    "out_bam_file = pysam.AlignmentFile(out_filename, \"wb\", template=bam_file)\n",
    "\n",
    "temp_dict = {}\n",
    "total_count = 0\n",
    "out_pair_count = 0\n",
    "\n",
    "for align in bam_file:\n",
    "    # print(align.qname)\n",
    "    # print(align.mapq)\n",
    "    total_count += 1\n",
    "\n",
    "    if temp_dict.get(align.qname) is None:\n",
    "        temp_dict[align.qname] = align\n",
    "\n",
    "    else:\n",
    "        if align.mapq >= 30 and temp_dict[align.qname].mapq >= 30:\n",
    "            out_pair_count += 1\n",
    "            # print(align)\n",
    "            # print(temp_dict[align.qname])\n",
    "            out_bam_file.write(align)\n",
    "            out_bam_file.write(temp_dict[align.qname])\n",
    "# close file\n",
    "bam_file.close()\n",
    "out_bam_file.close()"
   ]
  },
  {
   "cell_type": "code",
   "execution_count": 60,
   "id": "3c883d57-db08-4fd5-a8ed-bba7afd7cdbe",
   "metadata": {
    "execution": {
     "iopub.execute_input": "2023-05-11T01:45:04.447601Z",
     "iopub.status.busy": "2023-05-11T01:45:04.447369Z",
     "iopub.status.idle": "2023-05-11T01:45:14.131139Z",
     "shell.execute_reply": "2023-05-11T01:45:14.130567Z",
     "shell.execute_reply.started": "2023-05-11T01:45:04.447588Z"
    },
    "tags": []
   },
   "outputs": [
    {
     "data": {
      "text/plain": [
       "<function AlignmentFile.close>"
      ]
     },
     "execution_count": 60,
     "metadata": {},
     "output_type": "execute_result"
    }
   ],
   "source": [
    "# filter out any read in a pair MAPQ >= 30\n",
    "input_filename = \"./K562-ATACSeq-rep1.ENCFF534DCE_chr21.bam\"\n",
    "bam_file = pysam.AlignmentFile(input_filename, \"rb\")\n",
    "\n",
    "out_longer120_filename = \"./K562-ATACSeq-rep1_longer120.bam\"\n",
    "out_shorter120_filename = \"./K562-ATACSeq-rep1_shorter120.bam\"\n",
    "\n",
    "out_longer120_file = pysam.AlignmentFile(out_longer120_filename, \"wb\", template=bam_file)\n",
    "out_shorter120_file = pysam.AlignmentFile(out_shorter120_filename, \"wb\", template=bam_file)\n",
    "\n",
    "for align in bam_file:\n",
    "    if align.template_length > 120:\n",
    "        out_longer120_file.write(align)\n",
    "    else:\n",
    "        out_shorter120_file.write(align)\n",
    "# close file\n",
    "bam_file.close()\n",
    "out_longer120_file.close()\n",
    "out_shorter120_file.close"
   ]
  },
  {
   "cell_type": "code",
   "execution_count": 14,
   "id": "4529517a-fcc2-4467-9cb2-c3fbcbf19a57",
   "metadata": {
    "execution": {
     "iopub.execute_input": "2023-05-27T13:07:37.388392Z",
     "iopub.status.busy": "2023-05-27T13:07:37.387911Z",
     "iopub.status.idle": "2023-05-27T13:07:37.429400Z",
     "shell.execute_reply": "2023-05-27T13:07:37.428574Z",
     "shell.execute_reply.started": "2023-05-27T13:07:37.388376Z"
    },
    "tags": []
   },
   "outputs": [],
   "source": [
    "input_bed_filename = \"./CTCF_rep1.sort.chr21.bed\"\n",
    "input_bam_filename = \"./K562-ATACSeq-rep1.ENCFF534DCE_chr21.bam\"\n",
    "\n",
    "norm_method = \"CPM\"\n",
    "\n",
    "# open file\n",
    "input_bed = open(input_bed_filename, \"r\")\n",
    "bam_file = pysam.AlignmentFile(input_bam_filename, \"rb\")\n",
    "out_file = open(\"./query_region_count.tsv\", \"w\")\n",
    "\n",
    "# count total\n",
    "total_count = 0\n",
    "\n",
    "for info in bam_file.get_index_statistics():\n",
    "    total_count += info.mapped\n",
    "# print(\"total_count:\", total_count)\n",
    "\n",
    "temp_dict = {}\n",
    "\n",
    "for line in input_bed:\n",
    "    line_list = line.rstrip().split(\"\\t\")\n",
    "\n",
    "    region_chr_name = line_list[0]\n",
    "    region_start = int(line_list[1])\n",
    "    region_end = int(line_list[2])\n",
    "\n",
    "    region_count = 0\n",
    "    region_frg_count = 0\n",
    "\n",
    "    for align in bam_file.fetch(contig=region_chr_name, start=region_start, end=region_end):\n",
    "        region_count += 1\n",
    "\n",
    "        if temp_dict.get(align.qname) is None:\n",
    "            region_frg_count += 1\n",
    "            temp_dict[align.qname] = 0\n",
    "        else:\n",
    "            pass\n",
    "\n",
    "    region_length = region_end - region_start\n",
    "\n",
    "    cpm = region_count / 1.0 / (total_count / 1e6)\n",
    "    rpkm = region_count / 1.0 / (total_count / 1e6) / (region_length / 1e3)\n",
    "    fpkm = region_frg_count / 1.0 / (total_count / 2 / 1e6) / (region_length / 1e3)\n",
    "\n",
    "    # print(line.strip(), region_count, round(cpm, 5), round(rpkm, 5), round(fpkm, 5))\n",
    "\n",
    "    out_list = line_list[:3] + [round(cpm, 5), round(rpkm, 5), round(fpkm, 5)]\n",
    "    out_str = \"\\t\".join(map(str, out_list))\n",
    "    out_file.write(out_str + \"\\n\")\n",
    "\n",
    "input_bed.close()\n",
    "bam_file.close()\n",
    "out_file.close()"
   ]
  },
  {
   "cell_type": "code",
   "execution_count": 18,
   "id": "b77ded82-0402-4b54-ace3-a8ca414d5d50",
   "metadata": {
    "execution": {
     "iopub.execute_input": "2023-05-27T13:11:54.085121Z",
     "iopub.status.busy": "2023-05-27T13:11:54.084819Z",
     "iopub.status.idle": "2023-05-27T13:11:54.088983Z",
     "shell.execute_reply": "2023-05-27T13:11:54.088493Z",
     "shell.execute_reply.started": "2023-05-27T13:11:54.085106Z"
    },
    "tags": []
   },
   "outputs": [
    {
     "name": "stdout",
     "output_type": "stream",
     "text": [
      "chr1 0\n",
      "chr2 0\n",
      "chr3 0\n",
      "chr4 0\n",
      "chr5 0\n",
      "chr6 0\n",
      "chr7 0\n",
      "chr8 0\n",
      "chr9 0\n",
      "chr10 0\n",
      "chr11 0\n",
      "chr12 0\n",
      "chr13 0\n",
      "chr14 0\n",
      "chr15 0\n",
      "chr16 0\n",
      "chr17 0\n",
      "chr18 0\n",
      "chr19 0\n",
      "chr20 0\n",
      "chr21 3317158\n",
      "chr22 0\n",
      "chrX 0\n",
      "chrY 0\n",
      "chrM 0\n",
      "chr1_KI270706v1_random 0\n",
      "chr1_KI270707v1_random 0\n",
      "chr1_KI270708v1_random 0\n",
      "chr1_KI270709v1_random 0\n",
      "chr1_KI270710v1_random 0\n",
      "chr1_KI270711v1_random 0\n",
      "chr1_KI270712v1_random 0\n",
      "chr1_KI270713v1_random 0\n",
      "chr1_KI270714v1_random 0\n",
      "chr2_KI270715v1_random 0\n",
      "chr2_KI270716v1_random 0\n",
      "chr3_GL000221v1_random 0\n",
      "chr4_GL000008v2_random 0\n",
      "chr5_GL000208v1_random 0\n",
      "chr9_KI270717v1_random 0\n",
      "chr9_KI270718v1_random 0\n",
      "chr9_KI270719v1_random 0\n",
      "chr9_KI270720v1_random 0\n",
      "chr11_KI270721v1_random 0\n",
      "chr14_GL000009v2_random 0\n",
      "chr14_GL000225v1_random 0\n",
      "chr14_KI270722v1_random 0\n",
      "chr14_GL000194v1_random 0\n",
      "chr14_KI270723v1_random 0\n",
      "chr14_KI270724v1_random 0\n",
      "chr14_KI270725v1_random 0\n",
      "chr14_KI270726v1_random 0\n",
      "chr15_KI270727v1_random 0\n",
      "chr16_KI270728v1_random 0\n",
      "chr17_GL000205v2_random 0\n",
      "chr17_KI270729v1_random 0\n",
      "chr17_KI270730v1_random 0\n",
      "chr22_KI270731v1_random 0\n",
      "chr22_KI270732v1_random 0\n",
      "chr22_KI270733v1_random 0\n",
      "chr22_KI270734v1_random 0\n",
      "chr22_KI270735v1_random 0\n",
      "chr22_KI270736v1_random 0\n",
      "chr22_KI270737v1_random 0\n",
      "chr22_KI270738v1_random 0\n",
      "chr22_KI270739v1_random 0\n",
      "chrY_KI270740v1_random 0\n",
      "chrUn_KI270302v1 0\n",
      "chrUn_KI270304v1 0\n",
      "chrUn_KI270303v1 0\n",
      "chrUn_KI270305v1 0\n",
      "chrUn_KI270322v1 0\n",
      "chrUn_KI270320v1 0\n",
      "chrUn_KI270310v1 0\n",
      "chrUn_KI270316v1 0\n",
      "chrUn_KI270315v1 0\n",
      "chrUn_KI270312v1 0\n",
      "chrUn_KI270311v1 0\n",
      "chrUn_KI270317v1 0\n",
      "chrUn_KI270412v1 0\n",
      "chrUn_KI270411v1 0\n",
      "chrUn_KI270414v1 0\n",
      "chrUn_KI270419v1 0\n",
      "chrUn_KI270418v1 0\n",
      "chrUn_KI270420v1 0\n",
      "chrUn_KI270424v1 0\n",
      "chrUn_KI270417v1 0\n",
      "chrUn_KI270422v1 0\n",
      "chrUn_KI270423v1 0\n",
      "chrUn_KI270425v1 0\n",
      "chrUn_KI270429v1 0\n",
      "chrUn_KI270442v1 0\n",
      "chrUn_KI270466v1 0\n",
      "chrUn_KI270465v1 0\n",
      "chrUn_KI270467v1 0\n",
      "chrUn_KI270435v1 0\n",
      "chrUn_KI270438v1 0\n",
      "chrUn_KI270468v1 0\n",
      "chrUn_KI270510v1 0\n",
      "chrUn_KI270509v1 0\n",
      "chrUn_KI270518v1 0\n",
      "chrUn_KI270508v1 0\n",
      "chrUn_KI270516v1 0\n",
      "chrUn_KI270512v1 0\n",
      "chrUn_KI270519v1 0\n",
      "chrUn_KI270522v1 0\n",
      "chrUn_KI270511v1 0\n",
      "chrUn_KI270515v1 0\n",
      "chrUn_KI270507v1 0\n",
      "chrUn_KI270517v1 0\n",
      "chrUn_KI270529v1 0\n",
      "chrUn_KI270528v1 0\n",
      "chrUn_KI270530v1 0\n",
      "chrUn_KI270539v1 0\n",
      "chrUn_KI270538v1 0\n",
      "chrUn_KI270544v1 0\n",
      "chrUn_KI270548v1 0\n",
      "chrUn_KI270583v1 0\n",
      "chrUn_KI270587v1 0\n",
      "chrUn_KI270580v1 0\n",
      "chrUn_KI270581v1 0\n",
      "chrUn_KI270579v1 0\n",
      "chrUn_KI270589v1 0\n",
      "chrUn_KI270590v1 0\n",
      "chrUn_KI270584v1 0\n",
      "chrUn_KI270582v1 0\n",
      "chrUn_KI270588v1 0\n",
      "chrUn_KI270593v1 0\n",
      "chrUn_KI270591v1 0\n",
      "chrUn_KI270330v1 0\n",
      "chrUn_KI270329v1 0\n",
      "chrUn_KI270334v1 0\n",
      "chrUn_KI270333v1 0\n",
      "chrUn_KI270335v1 0\n",
      "chrUn_KI270338v1 0\n",
      "chrUn_KI270340v1 0\n",
      "chrUn_KI270336v1 0\n",
      "chrUn_KI270337v1 0\n",
      "chrUn_KI270363v1 0\n",
      "chrUn_KI270364v1 0\n",
      "chrUn_KI270362v1 0\n",
      "chrUn_KI270366v1 0\n",
      "chrUn_KI270378v1 0\n",
      "chrUn_KI270379v1 0\n",
      "chrUn_KI270389v1 0\n",
      "chrUn_KI270390v1 0\n",
      "chrUn_KI270387v1 0\n",
      "chrUn_KI270395v1 0\n",
      "chrUn_KI270396v1 0\n",
      "chrUn_KI270388v1 0\n",
      "chrUn_KI270394v1 0\n",
      "chrUn_KI270386v1 0\n",
      "chrUn_KI270391v1 0\n",
      "chrUn_KI270383v1 0\n",
      "chrUn_KI270393v1 0\n",
      "chrUn_KI270384v1 0\n",
      "chrUn_KI270392v1 0\n",
      "chrUn_KI270381v1 0\n",
      "chrUn_KI270385v1 0\n",
      "chrUn_KI270382v1 0\n",
      "chrUn_KI270376v1 0\n",
      "chrUn_KI270374v1 0\n",
      "chrUn_KI270372v1 0\n",
      "chrUn_KI270373v1 0\n",
      "chrUn_KI270375v1 0\n",
      "chrUn_KI270371v1 0\n",
      "chrUn_KI270448v1 0\n",
      "chrUn_KI270521v1 0\n",
      "chrUn_GL000195v1 0\n",
      "chrUn_GL000219v1 0\n",
      "chrUn_GL000220v1 0\n",
      "chrUn_GL000224v1 0\n",
      "chrUn_KI270741v1 0\n",
      "chrUn_GL000226v1 0\n",
      "chrUn_GL000213v1 0\n",
      "chrUn_KI270743v1 0\n",
      "chrUn_KI270744v1 0\n",
      "chrUn_KI270745v1 0\n",
      "chrUn_KI270746v1 0\n",
      "chrUn_KI270747v1 0\n",
      "chrUn_KI270748v1 0\n",
      "chrUn_KI270749v1 0\n",
      "chrUn_KI270750v1 0\n",
      "chrUn_KI270751v1 0\n",
      "chrUn_KI270752v1 0\n",
      "chrUn_KI270753v1 0\n",
      "chrUn_KI270754v1 0\n",
      "chrUn_KI270755v1 0\n",
      "chrUn_KI270756v1 0\n",
      "chrUn_KI270757v1 0\n",
      "chrUn_GL000214v1 0\n",
      "chrUn_KI270742v1 0\n",
      "chrUn_GL000216v2 0\n",
      "chrUn_GL000218v1 0\n",
      "chrEBV 0\n",
      "total_count: 3317158\n"
     ]
    }
   ],
   "source": [
    "input_bed_filename = \"./CTCF_rep1.sort.chr21.bed\"\n",
    "input_bam_filename = \"./K562-ATACSeq-rep1.ENCFF534DCE_chr21.bam\"\n",
    "\n",
    "norm_method = \"CPM\"\n",
    "\n",
    "# open file\n",
    "input_bed = open(input_bed_filename, \"r\")\n",
    "bam_file = pysam.AlignmentFile(input_bam_filename, \"rb\")\n",
    "out_file = open(\"./query_region_count.tsv\", \"w\")\n",
    "\n",
    "# count total\n",
    "total_count = 0\n",
    "\n",
    "for info in bam_file.get_index_statistics():\n",
    "    # print(info.contig)\n",
    "    print(info.contig, info.mapped)\n",
    "    total_count += info.mapped\n",
    "print(\"total_count:\", total_count)"
   ]
  },
  {
   "cell_type": "code",
   "execution_count": 62,
   "id": "437dcaeb-59a4-434e-a945-7dfc517f5fb8",
   "metadata": {
    "execution": {
     "iopub.execute_input": "2023-05-11T01:45:14.344650Z",
     "iopub.status.busy": "2023-05-11T01:45:14.344449Z",
     "iopub.status.idle": "2023-05-11T01:45:14.346822Z",
     "shell.execute_reply": "2023-05-11T01:45:14.346387Z",
     "shell.execute_reply.started": "2023-05-11T01:45:14.344637Z"
    },
    "tags": []
   },
   "outputs": [],
   "source": [
    "from Bio import SeqIO\n",
    "from scipy import stats\n",
    "\n",
    "# FDR\n",
    "import statsmodels.stats.multitest as multi\n",
    "import numpy as np"
   ]
  },
  {
   "cell_type": "code",
   "execution_count": 63,
   "id": "1cc41275-102f-4177-8472-80641cb14949",
   "metadata": {
    "execution": {
     "iopub.execute_input": "2023-05-11T01:45:14.347411Z",
     "iopub.status.busy": "2023-05-11T01:45:14.347297Z",
     "iopub.status.idle": "2023-05-11T01:45:14.490136Z",
     "shell.execute_reply": "2023-05-11T01:45:14.489694Z",
     "shell.execute_reply.started": "2023-05-11T01:45:14.347401Z"
    },
    "tags": []
   },
   "outputs": [
    {
     "name": "stdout",
     "output_type": "stream",
     "text": [
      "ID: chr21\n",
      "Name: chr21\n",
      "Description: chr21\n",
      "Number of features: 0\n",
      "Seq('NNNNNNNNNNNNNNNNNNNNNNNNNNNNNNNNNNNNNNNNNNNNNNNNNNNNNN...NNN')\n"
     ]
    }
   ],
   "source": [
    "ref_fa_dict = {}\n",
    "\n",
    "for record in SeqIO.parse(\"./chr21.fa\", format=\"fasta\"):\n",
    "    print(record)\n",
    "    ref_fa_dict[record.id] = record.seq.upper()"
   ]
  },
  {
   "cell_type": "code",
   "execution_count": 72,
   "id": "2241044d-0ba1-4a38-9e1d-38dfd531508d",
   "metadata": {
    "execution": {
     "iopub.execute_input": "2023-05-11T09:13:53.650807Z",
     "iopub.status.busy": "2023-05-11T09:13:53.649883Z",
     "iopub.status.idle": "2023-05-11T09:13:53.654655Z",
     "shell.execute_reply": "2023-05-11T09:13:53.654185Z",
     "shell.execute_reply.started": "2023-05-11T09:13:53.650781Z"
    },
    "tags": []
   },
   "outputs": [
    {
     "data": {
      "text/plain": [
       "'G'"
      ]
     },
     "execution_count": 72,
     "metadata": {},
     "output_type": "execute_result"
    }
   ],
   "source": [
    "ref_fa_dict[\"chr21\"][32940538]"
   ]
  },
  {
   "cell_type": "code",
   "execution_count": 73,
   "id": "516eee00-a6fb-4455-9af9-2566e8c614c9",
   "metadata": {
    "execution": {
     "iopub.execute_input": "2023-05-11T09:13:59.331506Z",
     "iopub.status.busy": "2023-05-11T09:13:59.331127Z",
     "iopub.status.idle": "2023-05-11T09:13:59.335029Z",
     "shell.execute_reply": "2023-05-11T09:13:59.334543Z",
     "shell.execute_reply.started": "2023-05-11T09:13:59.331490Z"
    },
    "tags": []
   },
   "outputs": [],
   "source": [
    "# FDR\n",
    "def make_qvalue_with_BH_method(pval_list):\n",
    "    \"\"\"\n",
    "    INPUT:\n",
    "        <pval_list>\n",
    "            list, may contain 'NA' value\n",
    "\n",
    "    RETURN\n",
    "        <fdr_list>\n",
    "            list, return FDR list with BH method.\n",
    "\n",
    "    \"\"\"\n",
    "\n",
    "    # init vars\n",
    "    raw_pval_index_dict = {}\n",
    "    rm_NA_pval_list = []\n",
    "    run_index = 0\n",
    "\n",
    "    for index, pval in enumerate(pval_list):\n",
    "        if pval != \"NA\":\n",
    "            rm_NA_pval_list.append(pval)\n",
    "            raw_pval_index_dict[run_index] = index\n",
    "            run_index += 1\n",
    "\n",
    "    FDR_qvalue = multi.multipletests(np.array(rm_NA_pval_list), alpha=0.05, method=\"fdr_bh\", is_sorted=False)\n",
    "    FDR_qvalue_vec = FDR_qvalue[1]\n",
    "\n",
    "    return_fdr_list = [\"NA\"] * len(pval_list)\n",
    "\n",
    "    for index, fdr in enumerate(FDR_qvalue_vec):\n",
    "        raw_index = raw_pval_index_dict[index]\n",
    "        return_fdr_list[raw_index] = fdr\n",
    "\n",
    "    return return_fdr_list"
   ]
  },
  {
   "cell_type": "code",
   "execution_count": 71,
   "id": "b53fc843-e6ce-4d76-9989-bf1a9f7769c0",
   "metadata": {
    "execution": {
     "iopub.execute_input": "2023-05-11T08:53:36.497687Z",
     "iopub.status.busy": "2023-05-11T08:53:36.497245Z",
     "iopub.status.idle": "2023-05-11T08:53:36.702068Z",
     "shell.execute_reply": "2023-05-11T08:53:36.701614Z",
     "shell.execute_reply.started": "2023-05-11T08:53:36.497671Z"
    },
    "tags": []
   },
   "outputs": [
    {
     "name": "stderr",
     "output_type": "stream",
     "text": [
      "/tmp/ipykernel_2190/2171133058.py:47: DeprecationWarning: 'binom_test' is deprecated in favour of 'binomtest' from version 1.7.0 and will be removed in Scipy 1.12.0.\n",
      "  pval = stats.binom_test(x=count_mut,\n"
     ]
    }
   ],
   "source": [
    "# Detect-seq test region chr21:32,940,538-32,940,741\n",
    "input_bam_fileaname = \"./DdCBE_DetectSeq_rep2_chr21.bam\"\n",
    "\n",
    "region_chr_name = \"chr21\"\n",
    "region_start = 32940538\n",
    "region_end = 32940741\n",
    "\n",
    "bam_file = pysam.AlignmentFile(input_bam_fileaname, \"rb\")\n",
    "ref_fa = pysam.FastaFile(\"./hg38_only_chromsome.fa\")\n",
    "out_file = open(\"./region_mut_site_test.tsv\", \"w\")\n",
    "\n",
    "# reference load\n",
    "\n",
    "mpileup_res = bam_file.pileup(contig=\"chr21\",\n",
    "                              start=region_start,\n",
    "                              end=region_end,\n",
    "                              truncate=True,\n",
    "                              max_depth=2000,\n",
    "                              fastafile=ref_fa,\n",
    "                              ignore_overlaps=True,\n",
    "                              min_base_quality=0,\n",
    "                              min_mapping_quality=0\n",
    "                              )\n",
    "# C-to-T, G-to-A\n",
    "pval_res_list = []\n",
    "\n",
    "for info in mpileup_res:\n",
    "    ref_base = ref_fa_dict[\"chr21\"][info.pos]\n",
    "    ref_pos = info.pos + 1\n",
    "\n",
    "    if ref_base ==\"C\":\n",
    "        count_list = list(map(str.upper, info.get_query_sequences()))\n",
    "        count_mut = count_list.count(\"T\")\n",
    "        count_total = len(count_list)\n",
    "    elif ref_base ==\"G\":\n",
    "        count_list = list(map(str.upper, info.get_query_sequences()))\n",
    "        count_mut = count_list.count(\"A\")\n",
    "        count_total = len(count_list)\n",
    "    else:\n",
    "        continue\n",
    " \n",
    "    # print(info.reference_id)\n",
    "    # print(ref_pose, ref_base)\n",
    "    # print(info.get_query_sequences())\n",
    "    \n",
    "    #count pvalue\n",
    "    pval = stats.binom_test(x=count_mut,\n",
    "                            n=count_total,\n",
    "                            p=0.03,\n",
    "                            alternative=\"greater\"\n",
    "                            )\n",
    "    \n",
    "    pval_res_list.append(pval)\n",
    "    \n",
    "    # output info\n",
    "    out_list = [\n",
    "        region_chr_name,\n",
    "        ref_pos,\n",
    "        ref_base,\n",
    "        count_mut,\n",
    "        count_total,\n",
    "        pval        \n",
    "    ]\n",
    "    \n",
    "    out_str = \"\\t\".join(map(str, out_list))\n",
    "    out_file.write(out_str + \"\\n\")\n",
    "\n",
    "# close file    \n",
    "bam_file.close()\n",
    "ref_fa.close()\n",
    "out_file.close()\n",
    "    "
   ]
  },
  {
   "cell_type": "code",
   "execution_count": 76,
   "id": "ef197107-7463-408c-b076-c9cb3ff8062a",
   "metadata": {
    "execution": {
     "iopub.execute_input": "2023-05-14T12:32:53.959046Z",
     "iopub.status.busy": "2023-05-14T12:32:53.958731Z",
     "iopub.status.idle": "2023-05-14T12:32:53.963023Z",
     "shell.execute_reply": "2023-05-14T12:32:53.962507Z",
     "shell.execute_reply.started": "2023-05-14T12:32:53.959033Z"
    },
    "tags": []
   },
   "outputs": [],
   "source": [
    "FDR_res = make_qvalue_with_BH_method(pval_res_list)\n",
    "FDR_res[:10]\n",
    "\n",
    "final_out = open(\"./region_mut_site_test.ADDFDR.tsv\", \"w\")\n",
    "\n",
    "with open(\"./region_mut_site_test.tsv\", \"r\") as input_file:\n",
    "    for idx, line in enumerate(input_file):\n",
    "        line_list = line.strip().split(\"\\t\")\n",
    "        line_list.append(FDR_res[idx])\n",
    "        \n",
    "        out_str = \"\\t\".join(map(str, line_list))\n",
    "        final_out.write(out_str + \"\\n\")\n",
    "\n",
    "final_out.close()"
   ]
  }
 ],
 "metadata": {
  "kernelspec": {
   "display_name": "Python 3 (ipykernel)",
   "language": "python",
   "name": "python3"
  },
  "language_info": {
   "codemirror_mode": {
    "name": "ipython",
    "version": 3
   },
   "file_extension": ".py",
   "mimetype": "text/x-python",
   "name": "python",
   "nbconvert_exporter": "python",
   "pygments_lexer": "ipython3",
   "version": "3.10.8"
  }
 },
 "nbformat": 4,
 "nbformat_minor": 5
}
