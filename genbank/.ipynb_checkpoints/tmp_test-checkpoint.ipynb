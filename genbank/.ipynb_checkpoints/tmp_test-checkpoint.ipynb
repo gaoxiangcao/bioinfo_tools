{
 "cells": [
  {
   "cell_type": "code",
   "execution_count": 4,
   "id": "565f46c7-c118-49c1-9c7b-77497c1b29b1",
   "metadata": {
    "execution": {
     "iopub.execute_input": "2023-04-06T08:45:33.028525Z",
     "iopub.status.busy": "2023-04-06T08:45:33.028110Z",
     "iopub.status.idle": "2023-04-06T08:45:33.033781Z",
     "shell.execute_reply": "2023-04-06T08:45:33.033168Z",
     "shell.execute_reply.started": "2023-04-06T08:45:33.028493Z"
    },
    "tags": []
   },
   "outputs": [
    {
     "name": "stdout",
     "output_type": "stream",
     "text": [
      "test done\n"
     ]
    }
   ],
   "source": [
    "dt ={\"1\":[], \"2\":[]}\n",
    "_str = \"1\"\n",
    "if _str in dt:\n",
    "    print(\"test done\")"
   ]
  },
  {
   "cell_type": "code",
   "execution_count": 9,
   "id": "1862823b-ed36-45ee-a43a-eec95430fd61",
   "metadata": {
    "execution": {
     "iopub.execute_input": "2023-04-06T08:47:07.787056Z",
     "iopub.status.busy": "2023-04-06T08:47:07.786688Z",
     "iopub.status.idle": "2023-04-06T08:47:07.790101Z",
     "shell.execute_reply": "2023-04-06T08:47:07.789641Z",
     "shell.execute_reply.started": "2023-04-06T08:47:07.787035Z"
    },
    "tags": []
   },
   "outputs": [
    {
     "data": {
      "text/plain": [
       "range(0, 10)"
      ]
     },
     "execution_count": 9,
     "metadata": {},
     "output_type": "execute_result"
    }
   ],
   "source": [
    "a = range(0, 10, 1)\n",
    "a"
   ]
  },
  {
   "cell_type": "code",
   "execution_count": 2,
   "id": "99f1da15-f5b9-402f-88ef-a2bfb7c85823",
   "metadata": {
    "execution": {
     "iopub.execute_input": "2023-04-13T09:14:25.737408Z",
     "iopub.status.busy": "2023-04-13T09:14:25.736875Z",
     "iopub.status.idle": "2023-04-13T09:14:25.826299Z",
     "shell.execute_reply": "2023-04-13T09:14:25.825701Z",
     "shell.execute_reply.started": "2023-04-13T09:14:25.737355Z"
    },
    "tags": []
   },
   "outputs": [
    {
     "name": "stdout",
     "output_type": "stream",
     "text": [
      "测试成功\n"
     ]
    },
    {
     "ename": "NameError",
     "evalue": "name 'a' is not defined",
     "output_type": "error",
     "traceback": [
      "\u001b[0;31m---------------------------------------------------------------------------\u001b[0m",
      "\u001b[0;31mNameError\u001b[0m                                 Traceback (most recent call last)",
      "Cell \u001b[0;32mIn[2], line 9\u001b[0m\n\u001b[1;32m      7\u001b[0m     test(a\u001b[38;5;241m=\u001b[39m\u001b[38;5;241m2\u001b[39m)\n\u001b[1;32m      8\u001b[0m     \u001b[38;5;28mprint\u001b[39m(a)\n\u001b[0;32m----> 9\u001b[0m \u001b[43mmain\u001b[49m\u001b[43m(\u001b[49m\u001b[43m)\u001b[49m\n",
      "Cell \u001b[0;32mIn[2], line 8\u001b[0m, in \u001b[0;36mmain\u001b[0;34m()\u001b[0m\n\u001b[1;32m      6\u001b[0m \u001b[38;5;28;01mdef\u001b[39;00m \u001b[38;5;21mmain\u001b[39m():\n\u001b[1;32m      7\u001b[0m     test(a\u001b[38;5;241m=\u001b[39m\u001b[38;5;241m2\u001b[39m)\n\u001b[0;32m----> 8\u001b[0m     \u001b[38;5;28mprint\u001b[39m(\u001b[43ma\u001b[49m)\n",
      "\u001b[0;31mNameError\u001b[0m: name 'a' is not defined"
     ]
    }
   ],
   "source": [
    "def test(a):\n",
    "    if a:\n",
    "        print(\"测试成功\")\n",
    "\n",
    "\n",
    "def main():\n",
    "    test(a=2)\n",
    "    print(a)\n",
    "main()"
   ]
  },
  {
   "cell_type": "code",
   "execution_count": 5,
   "id": "0417d6cd-b6d5-4840-9bcc-f8c612a9bbaf",
   "metadata": {
    "execution": {
     "iopub.execute_input": "2023-04-13T09:20:24.928107Z",
     "iopub.status.busy": "2023-04-13T09:20:24.927835Z",
     "iopub.status.idle": "2023-04-13T09:20:24.940779Z",
     "shell.execute_reply": "2023-04-13T09:20:24.939859Z",
     "shell.execute_reply.started": "2023-04-13T09:20:24.928095Z"
    },
    "tags": []
   },
   "outputs": [
    {
     "name": "stdout",
     "output_type": "stream",
     "text": [
      "测试成功\n"
     ]
    },
    {
     "ename": "NameError",
     "evalue": "name 'a' is not defined",
     "output_type": "error",
     "traceback": [
      "\u001b[0;31m---------------------------------------------------------------------------\u001b[0m",
      "\u001b[0;31mNameError\u001b[0m                                 Traceback (most recent call last)",
      "Cell \u001b[0;32mIn[5], line 10\u001b[0m\n\u001b[1;32m      8\u001b[0m     test(a\u001b[38;5;241m=\u001b[39m\u001b[38;5;241m2\u001b[39m)\n\u001b[1;32m      9\u001b[0m     \u001b[38;5;28mprint\u001b[39m(a)\n\u001b[0;32m---> 10\u001b[0m \u001b[43mmain\u001b[49m\u001b[43m(\u001b[49m\u001b[43m)\u001b[49m\n",
      "Cell \u001b[0;32mIn[5], line 9\u001b[0m, in \u001b[0;36mmain\u001b[0;34m()\u001b[0m\n\u001b[1;32m      7\u001b[0m \u001b[38;5;28;01mdef\u001b[39;00m \u001b[38;5;21mmain\u001b[39m():\n\u001b[1;32m      8\u001b[0m     test(a\u001b[38;5;241m=\u001b[39m\u001b[38;5;241m2\u001b[39m)\n\u001b[0;32m----> 9\u001b[0m     \u001b[38;5;28mprint\u001b[39m(\u001b[43ma\u001b[49m)\n",
      "\u001b[0;31mNameError\u001b[0m: name 'a' is not defined"
     ]
    }
   ],
   "source": [
    "def test(a):\n",
    "    if a:\n",
    "        print(\"测试成功\")\n",
    "\n",
    "\n",
    "def main():\n",
    "    test(a=2)\n",
    "    print(a)\n",
    "    \n",
    "main()"
   ]
  },
  {
   "cell_type": "code",
   "execution_count": 12,
   "id": "a7f73187-1e57-4d89-aeeb-caaa3785caf8",
   "metadata": {
    "execution": {
     "iopub.execute_input": "2023-04-13T11:25:57.721697Z",
     "iopub.status.busy": "2023-04-13T11:25:57.721252Z",
     "iopub.status.idle": "2023-04-13T11:25:57.724757Z",
     "shell.execute_reply": "2023-04-13T11:25:57.724344Z",
     "shell.execute_reply.started": "2023-04-13T11:25:57.721681Z"
    },
    "tags": []
   },
   "outputs": [
    {
     "name": "stdout",
     "output_type": "stream",
     "text": [
      "i1 i2 o1 o2 enclose global builtins\n"
     ]
    }
   ],
   "source": [
    "import builtins\n",
    "\n",
    "builtins.b = 'builtins'\n",
    "g = 'global'\n",
    "\n",
    "def outer(o1,o2='o2'):\n",
    "    e = 'enclose'\n",
    "    def inner(i1,i2='i2'):\n",
    "        print(i1,i2,o1,o2,e,g,b)\n",
    "    return inner \n",
    "\n",
    "fun = outer('o1') \n",
    "fun(\"i1\")\n",
    "# i1,i2 local\n",
    "# o1, o2 local\n",
    "# e enclose\n",
    "# g global\n",
    "# b builtin\n",
    "# 遵顼LEGB原则"
   ]
  },
  {
   "cell_type": "code",
   "execution_count": 13,
   "id": "3783d344-67c0-43d7-92d5-fd4ac17df9bb",
   "metadata": {
    "execution": {
     "iopub.execute_input": "2023-04-13T11:27:49.545583Z",
     "iopub.status.busy": "2023-04-13T11:27:49.545289Z",
     "iopub.status.idle": "2023-04-13T11:27:49.548603Z",
     "shell.execute_reply": "2023-04-13T11:27:49.548127Z",
     "shell.execute_reply.started": "2023-04-13T11:27:49.545570Z"
    },
    "tags": []
   },
   "outputs": [
    {
     "name": "stdout",
     "output_type": "stream",
     "text": [
      "i1 i2 o1 o2 enclose inner global builtins\n",
      "global\n"
     ]
    }
   ],
   "source": [
    "import builtins\n",
    "\n",
    "builtins.b = 'builtins'\n",
    "g = 'global'\n",
    "\n",
    "def outer(o1,o2='o2'):\n",
    "    e = 'enclose'\n",
    "    g = 'inner global'\n",
    "    def inner(i1,i2='i2'):\n",
    "        print(i1,i2,o1,o2,e,g,b)\n",
    "    return inner \n",
    "\n",
    "fun = outer('o1') \n",
    "fun('i1')\n",
    "# 全局变量被赋值视为局部变量\n",
    "# 自由变量被赋值被视为局部变量"
   ]
  },
  {
   "cell_type": "code",
   "execution_count": 15,
   "id": "eb197cbb-359e-4355-b05f-f8f4a40c6a4f",
   "metadata": {
    "execution": {
     "iopub.execute_input": "2023-04-13T11:32:38.035514Z",
     "iopub.status.busy": "2023-04-13T11:32:38.035223Z",
     "iopub.status.idle": "2023-04-13T11:32:38.038584Z",
     "shell.execute_reply": "2023-04-13T11:32:38.038136Z",
     "shell.execute_reply.started": "2023-04-13T11:32:38.035498Z"
    },
    "tags": []
   },
   "outputs": [
    {
     "name": "stdout",
     "output_type": "stream",
     "text": [
      "i1 i2 o1 o2 inner enclose inner global builtins\n"
     ]
    }
   ],
   "source": [
    "import builtins\n",
    "\n",
    "builtins.b = 'builtins'\n",
    "g = 'global'\n",
    "\n",
    "def outer(o1,o2='o2'):\n",
    "    e = 'enclose'\n",
    "    def inner(i1,i2='i2'):\n",
    "        global g\n",
    "        nonlocal e\n",
    "        g = 'inner global'\n",
    "        e = 'inner enclose'\n",
    "        print(i1,i2,o1,o2,e,g,b)\n",
    "    return inner \n",
    "\n",
    "fun = outer('o1') \n",
    "fun('i1')\n",
    "# 使用global参数可以直接修改全局变量\n",
    "# 使用nonlocal参数可以修改自由变量"
   ]
  },
  {
   "cell_type": "code",
   "execution_count": null,
   "id": "064b66d0-7ddb-4135-949e-ebbf15757649",
   "metadata": {},
   "outputs": [],
   "source": []
  }
 ],
 "metadata": {
  "kernelspec": {
   "display_name": "Python 3 (ipykernel)",
   "language": "python",
   "name": "python3"
  },
  "language_info": {
   "codemirror_mode": {
    "name": "ipython",
    "version": 3
   },
   "file_extension": ".py",
   "mimetype": "text/x-python",
   "name": "python",
   "nbconvert_exporter": "python",
   "pygments_lexer": "ipython3",
   "version": "3.9.9"
  }
 },
 "nbformat": 4,
 "nbformat_minor": 5
}
