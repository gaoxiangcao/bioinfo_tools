{
 "cells": [
  {
   "cell_type": "markdown",
   "id": "039b82ba-c3fb-436e-a7ea-91ff79371ba5",
   "metadata": {},
   "source": [
    "# Dependencies"
   ]
  },
  {
   "cell_type": "code",
   "execution_count": 1,
   "id": "11f37c20-dcd9-4b4d-a392-86da155c2577",
   "metadata": {
    "execution": {
     "iopub.execute_input": "2023-04-27T12:37:21.778267Z",
     "iopub.status.busy": "2023-04-27T12:37:21.778018Z",
     "iopub.status.idle": "2023-04-27T12:37:22.369708Z",
     "shell.execute_reply": "2023-04-27T12:37:22.369245Z",
     "shell.execute_reply.started": "2023-04-27T12:37:21.778245Z"
    },
    "tags": []
   },
   "outputs": [],
   "source": [
    "import gzip\n",
    "import os \n",
    "import sys\n",
    "import math\n",
    "\n",
    "import matplotlib.pyplot as plt\n",
    "import pandas as pd\n",
    "import seaborn as sns"
   ]
  },
  {
   "cell_type": "code",
   "execution_count": 2,
   "id": "6565d7d9-94af-4c09-b449-77d55ac68f87",
   "metadata": {
    "execution": {
     "iopub.execute_input": "2023-04-27T12:37:22.371078Z",
     "iopub.status.busy": "2023-04-27T12:37:22.370792Z",
     "iopub.status.idle": "2023-04-27T12:37:22.373579Z",
     "shell.execute_reply": "2023-04-27T12:37:22.373092Z",
     "shell.execute_reply.started": "2023-04-27T12:37:22.371066Z"
    },
    "tags": []
   },
   "outputs": [],
   "source": [
    "sns.set_style(\"darkgrid\")"
   ]
  },
  {
   "cell_type": "code",
   "execution_count": 3,
   "id": "ad8ccc48-abfe-459b-9c0f-23dfaa2172a0",
   "metadata": {
    "execution": {
     "iopub.execute_input": "2023-04-27T12:37:22.374381Z",
     "iopub.status.busy": "2023-04-27T12:37:22.374156Z",
     "iopub.status.idle": "2023-04-27T12:37:22.377981Z",
     "shell.execute_reply": "2023-04-27T12:37:22.377505Z",
     "shell.execute_reply.started": "2023-04-27T12:37:22.374371Z"
    },
    "tags": []
   },
   "outputs": [],
   "source": [
    "from statistics import mean, median"
   ]
  },
  {
   "cell_type": "markdown",
   "id": "fea1418a-f012-4dd3-895e-e544085611b3",
   "metadata": {},
   "source": [
    "# defined functions"
   ]
  },
  {
   "cell_type": "code",
   "execution_count": 4,
   "id": "e5381ab8-1c6c-4090-b9ac-cd6c149427eb",
   "metadata": {
    "execution": {
     "iopub.execute_input": "2023-04-27T12:37:22.379732Z",
     "iopub.status.busy": "2023-04-27T12:37:22.379488Z",
     "iopub.status.idle": "2023-04-27T12:37:22.383010Z",
     "shell.execute_reply": "2023-04-27T12:37:22.382550Z",
     "shell.execute_reply.started": "2023-04-27T12:37:22.379720Z"
    },
    "tags": []
   },
   "outputs": [],
   "source": [
    "def mymean(x: list) -> float:\n",
    "    return float(sum(x) / len(x))  \n",
    "\n",
    "\n",
    "def mymedian(x: list) -> float:\n",
    "    length = len(x)\n",
    "    x.sort()\n",
    "    if length % 2 == 1:\n",
    "        idx = length // 2\n",
    "        return float(x[idx])\n",
    "    elif length % 2 ==0:\n",
    "        idx = length // 2\n",
    "        return float((x[idx] + x[idx-1]) / 2)\n",
    "    else:\n",
    "        return None\n",
    "    "
   ]
  },
  {
   "cell_type": "code",
   "execution_count": 5,
   "id": "47efe3e3-a01c-4641-9122-c4dc0b624ea4",
   "metadata": {
    "execution": {
     "iopub.execute_input": "2023-04-27T12:37:22.384011Z",
     "iopub.status.busy": "2023-04-27T12:37:22.383581Z",
     "iopub.status.idle": "2023-04-27T12:37:22.387291Z",
     "shell.execute_reply": "2023-04-27T12:37:22.386803Z",
     "shell.execute_reply.started": "2023-04-27T12:37:22.383997Z"
    },
    "tags": []
   },
   "outputs": [
    {
     "name": "stdout",
     "output_type": "stream",
     "text": [
      "3.5\n",
      "3.0\n",
      "3.5\n",
      "3.4285714285714284\n",
      "3.5\n",
      "3.4285714285714284\n",
      "3.5\n",
      "3\n"
     ]
    }
   ],
   "source": [
    "ls1 = [1, 2, 4, 3, 5, 6]\n",
    "ls2 = [1, 2, 4, 3, 3, 5, 6]\n",
    "print(mymedian(ls1))\n",
    "print(mymedian(ls2))\n",
    "print(mymean(ls1))\n",
    "print(mymean(ls2))\n",
    "\n",
    "print(mean(ls1))\n",
    "print(mean(ls2))\n",
    "print(median(ls1))\n",
    "print(median(ls2))"
   ]
  },
  {
   "cell_type": "markdown",
   "id": "5574db51-30f9-4c93-925b-be92f607248e",
   "metadata": {},
   "source": [
    "# tasks\n",
    "## 统计智人染色体的基因密度\n",
    "- UCSC table (GTF, GFF3)\n",
    "- python-base style statistics\n",
    "- pandas statistics\n",
    "- Fig1, plot count per chromsome\n",
    "- Fig2, plot gene distribution per chromsome\n",
    "- Fig3, plot gene density per chromsome"
   ]
  },
  {
   "cell_type": "markdown",
   "id": "6b379e8e-9b4a-46bb-914d-61e5663955ba",
   "metadata": {},
   "source": [
    "### python base"
   ]
  },
  {
   "cell_type": "code",
   "execution_count": 6,
   "id": "69ea3366-e28f-4bce-afcb-e1ec2e1f9899",
   "metadata": {
    "execution": {
     "iopub.execute_input": "2023-04-27T12:37:22.388148Z",
     "iopub.status.busy": "2023-04-27T12:37:22.387852Z",
     "iopub.status.idle": "2023-04-27T12:37:22.392751Z",
     "shell.execute_reply": "2023-04-27T12:37:22.392222Z",
     "shell.execute_reply.started": "2023-04-27T12:37:22.388134Z"
    },
    "tags": []
   },
   "outputs": [
    {
     "data": {
      "text/plain": [
       "['1',\n",
       " '2',\n",
       " '3',\n",
       " '4',\n",
       " '5',\n",
       " '6',\n",
       " '7',\n",
       " '8',\n",
       " '9',\n",
       " '10',\n",
       " '11',\n",
       " '12',\n",
       " '13',\n",
       " '14',\n",
       " '15',\n",
       " '16',\n",
       " '17',\n",
       " '18',\n",
       " '19',\n",
       " '20',\n",
       " '21',\n",
       " '22',\n",
       " 'X',\n",
       " 'Y']"
      ]
     },
     "execution_count": 6,
     "metadata": {},
     "output_type": "execute_result"
    }
   ],
   "source": [
    "# 1~22 XY | Mt\n",
    "aim_chroms = list(map(str, range(1, 23, 1))) + [\"X\", \"Y\"]\n",
    "aim_chroms"
   ]
  },
  {
   "cell_type": "code",
   "execution_count": 7,
   "id": "ab571d05-7976-4fdb-9fcb-8e603777bb9a",
   "metadata": {
    "execution": {
     "iopub.execute_input": "2023-04-27T12:37:22.393581Z",
     "iopub.status.busy": "2023-04-27T12:37:22.393301Z",
     "iopub.status.idle": "2023-04-27T12:37:22.397900Z",
     "shell.execute_reply": "2023-04-27T12:37:22.396975Z",
     "shell.execute_reply.started": "2023-04-27T12:37:22.393569Z"
    },
    "tags": []
   },
   "outputs": [
    {
     "data": {
      "text/plain": [
       "{'1': [],\n",
       " '2': [],\n",
       " '3': [],\n",
       " '4': [],\n",
       " '5': [],\n",
       " '6': [],\n",
       " '7': [],\n",
       " '8': [],\n",
       " '9': [],\n",
       " '10': [],\n",
       " '11': [],\n",
       " '12': [],\n",
       " '13': [],\n",
       " '14': [],\n",
       " '15': [],\n",
       " '16': [],\n",
       " '17': [],\n",
       " '18': [],\n",
       " '19': [],\n",
       " '20': [],\n",
       " '21': [],\n",
       " '22': [],\n",
       " 'X': [],\n",
       " 'Y': []}"
      ]
     },
     "execution_count": 7,
     "metadata": {},
     "output_type": "execute_result"
    }
   ],
   "source": [
    "dt_genes = {k: [] for k in aim_chroms}\n",
    "dt_genes"
   ]
  },
  {
   "cell_type": "code",
   "execution_count": 8,
   "id": "fc0ac634-8581-4feb-b8d0-21d8d18752c4",
   "metadata": {
    "execution": {
     "iopub.execute_input": "2023-04-27T12:37:22.399272Z",
     "iopub.status.busy": "2023-04-27T12:37:22.398852Z",
     "iopub.status.idle": "2023-04-27T12:37:22.401394Z",
     "shell.execute_reply": "2023-04-27T12:37:22.400910Z",
     "shell.execute_reply.started": "2023-04-27T12:37:22.399260Z"
    },
    "tags": []
   },
   "outputs": [],
   "source": [
    "# 准备 gene list / annotation info\n",
    "# ucsc genome browser"
   ]
  },
  {
   "cell_type": "code",
   "execution_count": 9,
   "id": "c1eaf523-ba6c-454f-b48e-046bc52383a7",
   "metadata": {
    "execution": {
     "iopub.execute_input": "2023-04-27T12:37:22.402172Z",
     "iopub.status.busy": "2023-04-27T12:37:22.402027Z",
     "iopub.status.idle": "2023-04-27T12:37:22.405248Z",
     "shell.execute_reply": "2023-04-27T12:37:22.404727Z",
     "shell.execute_reply.started": "2023-04-27T12:37:22.402161Z"
    },
    "tags": []
   },
   "outputs": [],
   "source": [
    "ucsc_gene_table = \"ucsc/ucsc_hg38_genes-and-gene-predictions_NCBI-refseq_refGene_knownGene.tsv.gz\""
   ]
  },
  {
   "cell_type": "code",
   "execution_count": 10,
   "id": "8f33a3a7-ded3-4254-9277-b063f62faece",
   "metadata": {
    "execution": {
     "iopub.execute_input": "2023-04-27T12:37:22.407860Z",
     "iopub.status.busy": "2023-04-27T12:37:22.407707Z",
     "iopub.status.idle": "2023-04-27T12:37:22.573214Z",
     "shell.execute_reply": "2023-04-27T12:37:22.572749Z",
     "shell.execute_reply.started": "2023-04-27T12:37:22.407849Z"
    },
    "tags": []
   },
   "outputs": [],
   "source": [
    "f = gzip.open(ucsc_gene_table, \"rt\")\n",
    "\n",
    "header = f.readline()[1:].rstrip().split(\"\\t\")\n",
    "\n",
    "# print(header)\n",
    "\n",
    "for line in f:\n",
    "    _ls = line.strip().split(\"\\t\")\n",
    "    # print(_ls)\n",
    "    chrom = _ls[2][3:]\n",
    "    name = _ls[12]\n",
    "    # print(chrom, name)  # str\n",
    "    # break\n",
    "    # scaffold  chrUn_dxxxxxxxxx chr1_altxxxxxxxxx\n",
    "    \n",
    "    if \"_\" in chrom:\n",
    "        continue\n",
    "    if chrom in dt_genes:\n",
    "        dt_genes[chrom].append(name)\n",
    "        \n",
    "f.close()"
   ]
  },
  {
   "cell_type": "code",
   "execution_count": 11,
   "id": "1c67c33a-0323-4403-b682-72d188f9a54e",
   "metadata": {
    "execution": {
     "iopub.execute_input": "2023-04-27T12:37:22.573847Z",
     "iopub.status.busy": "2023-04-27T12:37:22.573721Z",
     "iopub.status.idle": "2023-04-27T12:37:22.577281Z",
     "shell.execute_reply": "2023-04-27T12:37:22.576717Z",
     "shell.execute_reply.started": "2023-04-27T12:37:22.573836Z"
    },
    "tags": []
   },
   "outputs": [
    {
     "data": {
      "text/plain": [
       "['CCNB3',\n",
       " 'CCNB3',\n",
       " 'PCDH11X',\n",
       " 'PCDH11X',\n",
       " 'ZDHHC15',\n",
       " 'SRPX2',\n",
       " 'CYLC1',\n",
       " 'PCDH11X',\n",
       " 'CYLC1',\n",
       " 'PCDH11X']"
      ]
     },
     "execution_count": 11,
     "metadata": {},
     "output_type": "execute_result"
    }
   ],
   "source": [
    "dt_genes[\"X\"][:10]"
   ]
  },
  {
   "cell_type": "code",
   "execution_count": 12,
   "id": "78abdfd1-03c7-4530-92f2-1e99b3f83fce",
   "metadata": {
    "execution": {
     "iopub.execute_input": "2023-04-27T12:37:22.578243Z",
     "iopub.status.busy": "2023-04-27T12:37:22.578091Z",
     "iopub.status.idle": "2023-04-27T12:37:22.586120Z",
     "shell.execute_reply": "2023-04-27T12:37:22.585448Z",
     "shell.execute_reply.started": "2023-04-27T12:37:22.578231Z"
    },
    "tags": []
   },
   "outputs": [
    {
     "data": {
      "text/plain": [
       "{'1': 2842,\n",
       " '2': 1821,\n",
       " '3': 1563,\n",
       " '4': 1089,\n",
       " '5': 1314,\n",
       " '6': 1454,\n",
       " '7': 1349,\n",
       " '8': 1033,\n",
       " '9': 1112,\n",
       " '10': 1116,\n",
       " '11': 1675,\n",
       " '12': 1391,\n",
       " '13': 632,\n",
       " '14': 949,\n",
       " '15': 1012,\n",
       " '16': 1144,\n",
       " '17': 1574,\n",
       " '18': 430,\n",
       " '19': 1792,\n",
       " '20': 781,\n",
       " '21': 413,\n",
       " '22': 643,\n",
       " 'X': 1158,\n",
       " 'Y': 143}"
      ]
     },
     "execution_count": 12,
     "metadata": {},
     "output_type": "execute_result"
    }
   ],
   "source": [
    "dt_lens = {\n",
    "    k: len(list(set(v)))\n",
    "    for k, v in dt_genes.items()    \n",
    "}\n",
    "dt_lens"
   ]
  },
  {
   "cell_type": "code",
   "execution_count": 13,
   "id": "3f394bf0-e320-41f4-b8bc-4470ea1e7129",
   "metadata": {
    "execution": {
     "iopub.execute_input": "2023-04-27T12:37:22.587180Z",
     "iopub.status.busy": "2023-04-27T12:37:22.586786Z",
     "iopub.status.idle": "2023-04-27T12:37:22.590667Z",
     "shell.execute_reply": "2023-04-27T12:37:22.590130Z",
     "shell.execute_reply.started": "2023-04-27T12:37:22.587165Z"
    },
    "tags": []
   },
   "outputs": [
    {
     "data": {
      "text/plain": [
       "28430"
      ]
     },
     "execution_count": 13,
     "metadata": {},
     "output_type": "execute_result"
    }
   ],
   "source": [
    "s = 0 \n",
    "\n",
    "for k, v in dt_lens.items():\n",
    "    s += v\n",
    "    \n",
    "s"
   ]
  },
  {
   "cell_type": "code",
   "execution_count": 14,
   "id": "bf70d8e4-f190-41e2-8aeb-ae5386cdb485",
   "metadata": {
    "execution": {
     "iopub.execute_input": "2023-04-27T12:37:22.591625Z",
     "iopub.status.busy": "2023-04-27T12:37:22.591478Z",
     "iopub.status.idle": "2023-04-27T12:37:22.597183Z",
     "shell.execute_reply": "2023-04-27T12:37:22.596363Z",
     "shell.execute_reply.started": "2023-04-27T12:37:22.591615Z"
    },
    "tags": []
   },
   "outputs": [
    {
     "data": {
      "text/plain": [
       "28430"
      ]
     },
     "execution_count": 14,
     "metadata": {},
     "output_type": "execute_result"
    }
   ],
   "source": [
    "df = pd.DataFrame.from_dict(dt_lens.items())\n",
    "df.columns= [\"chrom\", \"count\"]\n",
    "df[\"count\"].sum()"
   ]
  },
  {
   "cell_type": "markdown",
   "id": "1d7c8820-a5e9-4a99-b8c3-05da94df784c",
   "metadata": {},
   "source": [
    "### pandas"
   ]
  },
  {
   "cell_type": "code",
   "execution_count": 15,
   "id": "7d9c7faa-2687-422f-90d2-8fb8b1c1e071",
   "metadata": {
    "execution": {
     "iopub.execute_input": "2023-04-27T12:37:22.598175Z",
     "iopub.status.busy": "2023-04-27T12:37:22.597747Z",
     "iopub.status.idle": "2023-04-27T12:37:22.883705Z",
     "shell.execute_reply": "2023-04-27T12:37:22.883283Z",
     "shell.execute_reply.started": "2023-04-27T12:37:22.598159Z"
    },
    "tags": []
   },
   "outputs": [
    {
     "data": {
      "text/html": [
       "<div>\n",
       "<style scoped>\n",
       "    .dataframe tbody tr th:only-of-type {\n",
       "        vertical-align: middle;\n",
       "    }\n",
       "\n",
       "    .dataframe tbody tr th {\n",
       "        vertical-align: top;\n",
       "    }\n",
       "\n",
       "    .dataframe thead th {\n",
       "        text-align: right;\n",
       "    }\n",
       "</style>\n",
       "<table border=\"1\" class=\"dataframe\">\n",
       "  <thead>\n",
       "    <tr style=\"text-align: right;\">\n",
       "      <th></th>\n",
       "      <th>#bin</th>\n",
       "      <th>name</th>\n",
       "      <th>chrom</th>\n",
       "      <th>strand</th>\n",
       "      <th>txStart</th>\n",
       "      <th>txEnd</th>\n",
       "      <th>cdsStart</th>\n",
       "      <th>cdsEnd</th>\n",
       "      <th>exonCount</th>\n",
       "      <th>exonStarts</th>\n",
       "      <th>exonEnds</th>\n",
       "      <th>score</th>\n",
       "      <th>name2</th>\n",
       "      <th>cdsStartStat</th>\n",
       "      <th>cdsEndStat</th>\n",
       "      <th>exonFrames</th>\n",
       "    </tr>\n",
       "  </thead>\n",
       "  <tbody>\n",
       "    <tr>\n",
       "      <th>0</th>\n",
       "      <td>0</td>\n",
       "      <td>NM_000299</td>\n",
       "      <td>chr1</td>\n",
       "      <td>+</td>\n",
       "      <td>201283451</td>\n",
       "      <td>201332993</td>\n",
       "      <td>201283702</td>\n",
       "      <td>201328836</td>\n",
       "      <td>15</td>\n",
       "      <td>201283451,201293941,201313165,201316552,201317...</td>\n",
       "      <td>201283904,201294045,201313560,201316697,201317...</td>\n",
       "      <td>0</td>\n",
       "      <td>PKP1</td>\n",
       "      <td>cmpl</td>\n",
       "      <td>cmpl</td>\n",
       "      <td>0,1,0,2,0,1,2,2,0,0,0,1,2,0,-1,</td>\n",
       "    </tr>\n",
       "    <tr>\n",
       "      <th>1</th>\n",
       "      <td>0</td>\n",
       "      <td>NM_001276351</td>\n",
       "      <td>chr1</td>\n",
       "      <td>-</td>\n",
       "      <td>67092165</td>\n",
       "      <td>67134970</td>\n",
       "      <td>67093004</td>\n",
       "      <td>67127240</td>\n",
       "      <td>8</td>\n",
       "      <td>67092165,67095234,67096251,67115351,67125751,6...</td>\n",
       "      <td>67093604,67095421,67096321,67115464,67125909,6...</td>\n",
       "      <td>0</td>\n",
       "      <td>C1orf141</td>\n",
       "      <td>cmpl</td>\n",
       "      <td>cmpl</td>\n",
       "      <td>0,2,1,2,0,0,-1,-1,</td>\n",
       "    </tr>\n",
       "    <tr>\n",
       "      <th>2</th>\n",
       "      <td>0</td>\n",
       "      <td>NM_001005337</td>\n",
       "      <td>chr1</td>\n",
       "      <td>+</td>\n",
       "      <td>201283505</td>\n",
       "      <td>201332989</td>\n",
       "      <td>201283702</td>\n",
       "      <td>201328836</td>\n",
       "      <td>14</td>\n",
       "      <td>201283505,201293941,201313165,201316552,201317...</td>\n",
       "      <td>201283904,201294045,201313560,201316697,201317...</td>\n",
       "      <td>0</td>\n",
       "      <td>PKP1</td>\n",
       "      <td>cmpl</td>\n",
       "      <td>cmpl</td>\n",
       "      <td>0,1,0,2,0,1,2,0,0,0,1,2,0,-1,</td>\n",
       "    </tr>\n",
       "    <tr>\n",
       "      <th>3</th>\n",
       "      <td>0</td>\n",
       "      <td>NM_001276352</td>\n",
       "      <td>chr1</td>\n",
       "      <td>-</td>\n",
       "      <td>67092165</td>\n",
       "      <td>67134970</td>\n",
       "      <td>67093579</td>\n",
       "      <td>67127240</td>\n",
       "      <td>9</td>\n",
       "      <td>67092165,67096251,67103237,67111576,67115351,6...</td>\n",
       "      <td>67093604,67096321,67103382,67111644,67115464,6...</td>\n",
       "      <td>0</td>\n",
       "      <td>C1orf141</td>\n",
       "      <td>cmpl</td>\n",
       "      <td>cmpl</td>\n",
       "      <td>2,1,0,1,2,0,0,-1,-1,</td>\n",
       "    </tr>\n",
       "    <tr>\n",
       "      <th>4</th>\n",
       "      <td>0</td>\n",
       "      <td>NR_075077</td>\n",
       "      <td>chr1</td>\n",
       "      <td>-</td>\n",
       "      <td>67092165</td>\n",
       "      <td>67134970</td>\n",
       "      <td>67134970</td>\n",
       "      <td>67134970</td>\n",
       "      <td>10</td>\n",
       "      <td>67092165,67096251,67103237,67111576,67113613,6...</td>\n",
       "      <td>67093604,67096321,67103382,67111644,67113756,6...</td>\n",
       "      <td>0</td>\n",
       "      <td>C1orf141</td>\n",
       "      <td>unk</td>\n",
       "      <td>unk</td>\n",
       "      <td>-1,-1,-1,-1,-1,-1,-1,-1,-1,-1,</td>\n",
       "    </tr>\n",
       "    <tr>\n",
       "      <th>...</th>\n",
       "      <td>...</td>\n",
       "      <td>...</td>\n",
       "      <td>...</td>\n",
       "      <td>...</td>\n",
       "      <td>...</td>\n",
       "      <td>...</td>\n",
       "      <td>...</td>\n",
       "      <td>...</td>\n",
       "      <td>...</td>\n",
       "      <td>...</td>\n",
       "      <td>...</td>\n",
       "      <td>...</td>\n",
       "      <td>...</td>\n",
       "      <td>...</td>\n",
       "      <td>...</td>\n",
       "      <td>...</td>\n",
       "    </tr>\n",
       "    <tr>\n",
       "      <th>88814</th>\n",
       "      <td>586</td>\n",
       "      <td>NM_001368250</td>\n",
       "      <td>chr22_KI270734v1_random</td>\n",
       "      <td>-</td>\n",
       "      <td>137997</td>\n",
       "      <td>161592</td>\n",
       "      <td>138479</td>\n",
       "      <td>156446</td>\n",
       "      <td>14</td>\n",
       "      <td>137997,138742,142193,143613,144748,145003,1466...</td>\n",
       "      <td>138667,138831,142292,143789,144895,145096,1467...</td>\n",
       "      <td>0</td>\n",
       "      <td>LOC102724788</td>\n",
       "      <td>cmpl</td>\n",
       "      <td>cmpl</td>\n",
       "      <td>1,2,2,0,0,0,2,0,0,1,1,2,0,-1,</td>\n",
       "    </tr>\n",
       "    <tr>\n",
       "      <th>88815</th>\n",
       "      <td>586</td>\n",
       "      <td>NM_001368249</td>\n",
       "      <td>chr22_KI270734v1_random</td>\n",
       "      <td>-</td>\n",
       "      <td>138085</td>\n",
       "      <td>161592</td>\n",
       "      <td>138479</td>\n",
       "      <td>161586</td>\n",
       "      <td>14</td>\n",
       "      <td>138085,138742,142193,143613,144748,145003,1466...</td>\n",
       "      <td>138667,138831,142292,143789,144895,145096,1467...</td>\n",
       "      <td>0</td>\n",
       "      <td>LOC102724788</td>\n",
       "      <td>cmpl</td>\n",
       "      <td>cmpl</td>\n",
       "      <td>1,2,2,0,0,0,2,0,0,1,1,2,0,0,</td>\n",
       "    </tr>\n",
       "    <tr>\n",
       "      <th>88816</th>\n",
       "      <td>586</td>\n",
       "      <td>NM_001368242</td>\n",
       "      <td>chr22_KI270734v1_random</td>\n",
       "      <td>+</td>\n",
       "      <td>131590</td>\n",
       "      <td>137393</td>\n",
       "      <td>131645</td>\n",
       "      <td>136994</td>\n",
       "      <td>5</td>\n",
       "      <td>131590,131835,135442,136158,136844,</td>\n",
       "      <td>131755,131996,135543,136299,137393,</td>\n",
       "      <td>0</td>\n",
       "      <td>LOC102724770</td>\n",
       "      <td>cmpl</td>\n",
       "      <td>cmpl</td>\n",
       "      <td>0,2,1,0,0,</td>\n",
       "    </tr>\n",
       "    <tr>\n",
       "      <th>88817</th>\n",
       "      <td>586</td>\n",
       "      <td>NM_005675</td>\n",
       "      <td>chr22_KI270734v1_random</td>\n",
       "      <td>+</td>\n",
       "      <td>131590</td>\n",
       "      <td>137393</td>\n",
       "      <td>131645</td>\n",
       "      <td>136994</td>\n",
       "      <td>5</td>\n",
       "      <td>131590,131835,135442,136158,136844,</td>\n",
       "      <td>131755,131996,135543,136299,137393,</td>\n",
       "      <td>0</td>\n",
       "      <td>DGCR6</td>\n",
       "      <td>cmpl</td>\n",
       "      <td>cmpl</td>\n",
       "      <td>0,2,1,0,0,</td>\n",
       "    </tr>\n",
       "    <tr>\n",
       "      <th>88818</th>\n",
       "      <td>586</td>\n",
       "      <td>NM_016335</td>\n",
       "      <td>chr22_KI270734v1_random</td>\n",
       "      <td>-</td>\n",
       "      <td>138085</td>\n",
       "      <td>161592</td>\n",
       "      <td>138479</td>\n",
       "      <td>161586</td>\n",
       "      <td>14</td>\n",
       "      <td>138085,138742,142193,143613,144748,145003,1466...</td>\n",
       "      <td>138667,138831,142292,143789,144895,145096,1467...</td>\n",
       "      <td>0</td>\n",
       "      <td>PRODH</td>\n",
       "      <td>cmpl</td>\n",
       "      <td>cmpl</td>\n",
       "      <td>1,2,2,0,0,0,2,0,0,1,1,2,0,0,</td>\n",
       "    </tr>\n",
       "  </tbody>\n",
       "</table>\n",
       "<p>88819 rows × 16 columns</p>\n",
       "</div>"
      ],
      "text/plain": [
       "       #bin          name                    chrom strand    txStart   \n",
       "0         0     NM_000299                     chr1      +  201283451  \\\n",
       "1         0  NM_001276351                     chr1      -   67092165   \n",
       "2         0  NM_001005337                     chr1      +  201283505   \n",
       "3         0  NM_001276352                     chr1      -   67092165   \n",
       "4         0     NR_075077                     chr1      -   67092165   \n",
       "...     ...           ...                      ...    ...        ...   \n",
       "88814   586  NM_001368250  chr22_KI270734v1_random      -     137997   \n",
       "88815   586  NM_001368249  chr22_KI270734v1_random      -     138085   \n",
       "88816   586  NM_001368242  chr22_KI270734v1_random      +     131590   \n",
       "88817   586     NM_005675  chr22_KI270734v1_random      +     131590   \n",
       "88818   586     NM_016335  chr22_KI270734v1_random      -     138085   \n",
       "\n",
       "           txEnd   cdsStart     cdsEnd  exonCount   \n",
       "0      201332993  201283702  201328836         15  \\\n",
       "1       67134970   67093004   67127240          8   \n",
       "2      201332989  201283702  201328836         14   \n",
       "3       67134970   67093579   67127240          9   \n",
       "4       67134970   67134970   67134970         10   \n",
       "...          ...        ...        ...        ...   \n",
       "88814     161592     138479     156446         14   \n",
       "88815     161592     138479     161586         14   \n",
       "88816     137393     131645     136994          5   \n",
       "88817     137393     131645     136994          5   \n",
       "88818     161592     138479     161586         14   \n",
       "\n",
       "                                              exonStarts   \n",
       "0      201283451,201293941,201313165,201316552,201317...  \\\n",
       "1      67092165,67095234,67096251,67115351,67125751,6...   \n",
       "2      201283505,201293941,201313165,201316552,201317...   \n",
       "3      67092165,67096251,67103237,67111576,67115351,6...   \n",
       "4      67092165,67096251,67103237,67111576,67113613,6...   \n",
       "...                                                  ...   \n",
       "88814  137997,138742,142193,143613,144748,145003,1466...   \n",
       "88815  138085,138742,142193,143613,144748,145003,1466...   \n",
       "88816                131590,131835,135442,136158,136844,   \n",
       "88817                131590,131835,135442,136158,136844,   \n",
       "88818  138085,138742,142193,143613,144748,145003,1466...   \n",
       "\n",
       "                                                exonEnds  score         name2   \n",
       "0      201283904,201294045,201313560,201316697,201317...      0          PKP1  \\\n",
       "1      67093604,67095421,67096321,67115464,67125909,6...      0      C1orf141   \n",
       "2      201283904,201294045,201313560,201316697,201317...      0          PKP1   \n",
       "3      67093604,67096321,67103382,67111644,67115464,6...      0      C1orf141   \n",
       "4      67093604,67096321,67103382,67111644,67113756,6...      0      C1orf141   \n",
       "...                                                  ...    ...           ...   \n",
       "88814  138667,138831,142292,143789,144895,145096,1467...      0  LOC102724788   \n",
       "88815  138667,138831,142292,143789,144895,145096,1467...      0  LOC102724788   \n",
       "88816                131755,131996,135543,136299,137393,      0  LOC102724770   \n",
       "88817                131755,131996,135543,136299,137393,      0         DGCR6   \n",
       "88818  138667,138831,142292,143789,144895,145096,1467...      0         PRODH   \n",
       "\n",
       "      cdsStartStat cdsEndStat                       exonFrames  \n",
       "0             cmpl       cmpl  0,1,0,2,0,1,2,2,0,0,0,1,2,0,-1,  \n",
       "1             cmpl       cmpl               0,2,1,2,0,0,-1,-1,  \n",
       "2             cmpl       cmpl    0,1,0,2,0,1,2,0,0,0,1,2,0,-1,  \n",
       "3             cmpl       cmpl             2,1,0,1,2,0,0,-1,-1,  \n",
       "4              unk        unk   -1,-1,-1,-1,-1,-1,-1,-1,-1,-1,  \n",
       "...            ...        ...                              ...  \n",
       "88814         cmpl       cmpl    1,2,2,0,0,0,2,0,0,1,1,2,0,-1,  \n",
       "88815         cmpl       cmpl     1,2,2,0,0,0,2,0,0,1,1,2,0,0,  \n",
       "88816         cmpl       cmpl                       0,2,1,0,0,  \n",
       "88817         cmpl       cmpl                       0,2,1,0,0,  \n",
       "88818         cmpl       cmpl     1,2,2,0,0,0,2,0,0,1,1,2,0,0,  \n",
       "\n",
       "[88819 rows x 16 columns]"
      ]
     },
     "execution_count": 15,
     "metadata": {},
     "output_type": "execute_result"
    }
   ],
   "source": [
    "df = pd.read_csv(ucsc_gene_table, header=0, index_col=None, sep=\"\\t\")\n",
    "df"
   ]
  },
  {
   "cell_type": "code",
   "execution_count": 16,
   "id": "18cb919c-7f33-4281-bf41-a06f665cd1d6",
   "metadata": {
    "execution": {
     "iopub.execute_input": "2023-04-27T12:37:22.884577Z",
     "iopub.status.busy": "2023-04-27T12:37:22.884438Z",
     "iopub.status.idle": "2023-04-27T12:37:22.922529Z",
     "shell.execute_reply": "2023-04-27T12:37:22.921918Z",
     "shell.execute_reply.started": "2023-04-27T12:37:22.884567Z"
    },
    "tags": []
   },
   "outputs": [
    {
     "data": {
      "text/html": [
       "<div>\n",
       "<style scoped>\n",
       "    .dataframe tbody tr th:only-of-type {\n",
       "        vertical-align: middle;\n",
       "    }\n",
       "\n",
       "    .dataframe tbody tr th {\n",
       "        vertical-align: top;\n",
       "    }\n",
       "\n",
       "    .dataframe thead th {\n",
       "        text-align: right;\n",
       "    }\n",
       "</style>\n",
       "<table border=\"1\" class=\"dataframe\">\n",
       "  <thead>\n",
       "    <tr style=\"text-align: right;\">\n",
       "      <th></th>\n",
       "      <th>#bin</th>\n",
       "      <th>name</th>\n",
       "      <th>chrom</th>\n",
       "      <th>strand</th>\n",
       "      <th>txStart</th>\n",
       "      <th>txEnd</th>\n",
       "      <th>cdsStart</th>\n",
       "      <th>cdsEnd</th>\n",
       "      <th>exonCount</th>\n",
       "      <th>exonStarts</th>\n",
       "      <th>exonEnds</th>\n",
       "      <th>score</th>\n",
       "      <th>name2</th>\n",
       "      <th>cdsStartStat</th>\n",
       "      <th>cdsEndStat</th>\n",
       "      <th>exonFrames</th>\n",
       "    </tr>\n",
       "  </thead>\n",
       "  <tbody>\n",
       "    <tr>\n",
       "      <th>0</th>\n",
       "      <td>0</td>\n",
       "      <td>NM_000299</td>\n",
       "      <td>chr1</td>\n",
       "      <td>+</td>\n",
       "      <td>201283451</td>\n",
       "      <td>201332993</td>\n",
       "      <td>201283702</td>\n",
       "      <td>201328836</td>\n",
       "      <td>15</td>\n",
       "      <td>201283451,201293941,201313165,201316552,201317...</td>\n",
       "      <td>201283904,201294045,201313560,201316697,201317...</td>\n",
       "      <td>0</td>\n",
       "      <td>PKP1</td>\n",
       "      <td>cmpl</td>\n",
       "      <td>cmpl</td>\n",
       "      <td>0,1,0,2,0,1,2,2,0,0,0,1,2,0,-1,</td>\n",
       "    </tr>\n",
       "    <tr>\n",
       "      <th>1</th>\n",
       "      <td>0</td>\n",
       "      <td>NM_001276351</td>\n",
       "      <td>chr1</td>\n",
       "      <td>-</td>\n",
       "      <td>67092165</td>\n",
       "      <td>67134970</td>\n",
       "      <td>67093004</td>\n",
       "      <td>67127240</td>\n",
       "      <td>8</td>\n",
       "      <td>67092165,67095234,67096251,67115351,67125751,6...</td>\n",
       "      <td>67093604,67095421,67096321,67115464,67125909,6...</td>\n",
       "      <td>0</td>\n",
       "      <td>C1orf141</td>\n",
       "      <td>cmpl</td>\n",
       "      <td>cmpl</td>\n",
       "      <td>0,2,1,2,0,0,-1,-1,</td>\n",
       "    </tr>\n",
       "    <tr>\n",
       "      <th>2</th>\n",
       "      <td>0</td>\n",
       "      <td>NM_001005337</td>\n",
       "      <td>chr1</td>\n",
       "      <td>+</td>\n",
       "      <td>201283505</td>\n",
       "      <td>201332989</td>\n",
       "      <td>201283702</td>\n",
       "      <td>201328836</td>\n",
       "      <td>14</td>\n",
       "      <td>201283505,201293941,201313165,201316552,201317...</td>\n",
       "      <td>201283904,201294045,201313560,201316697,201317...</td>\n",
       "      <td>0</td>\n",
       "      <td>PKP1</td>\n",
       "      <td>cmpl</td>\n",
       "      <td>cmpl</td>\n",
       "      <td>0,1,0,2,0,1,2,0,0,0,1,2,0,-1,</td>\n",
       "    </tr>\n",
       "    <tr>\n",
       "      <th>3</th>\n",
       "      <td>0</td>\n",
       "      <td>NM_001276352</td>\n",
       "      <td>chr1</td>\n",
       "      <td>-</td>\n",
       "      <td>67092165</td>\n",
       "      <td>67134970</td>\n",
       "      <td>67093579</td>\n",
       "      <td>67127240</td>\n",
       "      <td>9</td>\n",
       "      <td>67092165,67096251,67103237,67111576,67115351,6...</td>\n",
       "      <td>67093604,67096321,67103382,67111644,67115464,6...</td>\n",
       "      <td>0</td>\n",
       "      <td>C1orf141</td>\n",
       "      <td>cmpl</td>\n",
       "      <td>cmpl</td>\n",
       "      <td>2,1,0,1,2,0,0,-1,-1,</td>\n",
       "    </tr>\n",
       "    <tr>\n",
       "      <th>4</th>\n",
       "      <td>0</td>\n",
       "      <td>NR_075077</td>\n",
       "      <td>chr1</td>\n",
       "      <td>-</td>\n",
       "      <td>67092165</td>\n",
       "      <td>67134970</td>\n",
       "      <td>67134970</td>\n",
       "      <td>67134970</td>\n",
       "      <td>10</td>\n",
       "      <td>67092165,67096251,67103237,67111576,67113613,6...</td>\n",
       "      <td>67093604,67096321,67103382,67111644,67113756,6...</td>\n",
       "      <td>0</td>\n",
       "      <td>C1orf141</td>\n",
       "      <td>unk</td>\n",
       "      <td>unk</td>\n",
       "      <td>-1,-1,-1,-1,-1,-1,-1,-1,-1,-1,</td>\n",
       "    </tr>\n",
       "    <tr>\n",
       "      <th>...</th>\n",
       "      <td>...</td>\n",
       "      <td>...</td>\n",
       "      <td>...</td>\n",
       "      <td>...</td>\n",
       "      <td>...</td>\n",
       "      <td>...</td>\n",
       "      <td>...</td>\n",
       "      <td>...</td>\n",
       "      <td>...</td>\n",
       "      <td>...</td>\n",
       "      <td>...</td>\n",
       "      <td>...</td>\n",
       "      <td>...</td>\n",
       "      <td>...</td>\n",
       "      <td>...</td>\n",
       "      <td>...</td>\n",
       "    </tr>\n",
       "    <tr>\n",
       "      <th>78358</th>\n",
       "      <td>972</td>\n",
       "      <td>NM_007081</td>\n",
       "      <td>chr22</td>\n",
       "      <td>-</td>\n",
       "      <td>50767505</td>\n",
       "      <td>50783636</td>\n",
       "      <td>50768775</td>\n",
       "      <td>50782294</td>\n",
       "      <td>9</td>\n",
       "      <td>50767505,50769040,50769454,50769904,50775771,5...</td>\n",
       "      <td>50768874,50769124,50769549,50770016,50775851,5...</td>\n",
       "      <td>0</td>\n",
       "      <td>RABL2B</td>\n",
       "      <td>cmpl</td>\n",
       "      <td>cmpl</td>\n",
       "      <td>0,0,1,0,1,2,2,0,-1,</td>\n",
       "    </tr>\n",
       "    <tr>\n",
       "      <th>78359</th>\n",
       "      <td>972</td>\n",
       "      <td>NM_001350014</td>\n",
       "      <td>chr22</td>\n",
       "      <td>-</td>\n",
       "      <td>50767505</td>\n",
       "      <td>50783636</td>\n",
       "      <td>50768775</td>\n",
       "      <td>50782294</td>\n",
       "      <td>10</td>\n",
       "      <td>50767505,50769040,50769424,50769904,50775771,5...</td>\n",
       "      <td>50768874,50769124,50769549,50770016,50775851,5...</td>\n",
       "      <td>0</td>\n",
       "      <td>RABL2B</td>\n",
       "      <td>cmpl</td>\n",
       "      <td>cmpl</td>\n",
       "      <td>0,0,1,0,1,2,2,0,-1,-1,</td>\n",
       "    </tr>\n",
       "    <tr>\n",
       "      <th>78360</th>\n",
       "      <td>972</td>\n",
       "      <td>NM_001130923</td>\n",
       "      <td>chr22</td>\n",
       "      <td>-</td>\n",
       "      <td>50767505</td>\n",
       "      <td>50783636</td>\n",
       "      <td>50768775</td>\n",
       "      <td>50782294</td>\n",
       "      <td>10</td>\n",
       "      <td>50767505,50769040,50769424,50769904,50775771,5...</td>\n",
       "      <td>50768874,50769124,50769549,50770016,50775851,5...</td>\n",
       "      <td>0</td>\n",
       "      <td>RABL2B</td>\n",
       "      <td>cmpl</td>\n",
       "      <td>cmpl</td>\n",
       "      <td>0,0,1,0,1,2,2,0,-1,-1,</td>\n",
       "    </tr>\n",
       "    <tr>\n",
       "      <th>78361</th>\n",
       "      <td>972</td>\n",
       "      <td>NM_001097</td>\n",
       "      <td>chr22</td>\n",
       "      <td>+</td>\n",
       "      <td>50738203</td>\n",
       "      <td>50745339</td>\n",
       "      <td>50738235</td>\n",
       "      <td>50745207</td>\n",
       "      <td>5</td>\n",
       "      <td>50738203,50739270,50739693,50744060,50744652,</td>\n",
       "      <td>50738312,50739474,50739977,50744206,50745339,</td>\n",
       "      <td>0</td>\n",
       "      <td>ACR</td>\n",
       "      <td>cmpl</td>\n",
       "      <td>cmpl</td>\n",
       "      <td>0,2,2,1,0,</td>\n",
       "    </tr>\n",
       "    <tr>\n",
       "      <th>78362</th>\n",
       "      <td>972</td>\n",
       "      <td>NM_001003789</td>\n",
       "      <td>chr22</td>\n",
       "      <td>-</td>\n",
       "      <td>50767505</td>\n",
       "      <td>50783636</td>\n",
       "      <td>50768775</td>\n",
       "      <td>50782294</td>\n",
       "      <td>9</td>\n",
       "      <td>50767505,50769040,50769454,50769904,50775771,5...</td>\n",
       "      <td>50768874,50769124,50769552,50770016,50775851,5...</td>\n",
       "      <td>0</td>\n",
       "      <td>RABL2B</td>\n",
       "      <td>cmpl</td>\n",
       "      <td>cmpl</td>\n",
       "      <td>0,0,1,0,1,2,2,0,-1,</td>\n",
       "    </tr>\n",
       "  </tbody>\n",
       "</table>\n",
       "<p>78363 rows × 16 columns</p>\n",
       "</div>"
      ],
      "text/plain": [
       "       #bin          name  chrom strand    txStart      txEnd   cdsStart   \n",
       "0         0     NM_000299   chr1      +  201283451  201332993  201283702  \\\n",
       "1         0  NM_001276351   chr1      -   67092165   67134970   67093004   \n",
       "2         0  NM_001005337   chr1      +  201283505  201332989  201283702   \n",
       "3         0  NM_001276352   chr1      -   67092165   67134970   67093579   \n",
       "4         0     NR_075077   chr1      -   67092165   67134970   67134970   \n",
       "...     ...           ...    ...    ...        ...        ...        ...   \n",
       "78358   972     NM_007081  chr22      -   50767505   50783636   50768775   \n",
       "78359   972  NM_001350014  chr22      -   50767505   50783636   50768775   \n",
       "78360   972  NM_001130923  chr22      -   50767505   50783636   50768775   \n",
       "78361   972     NM_001097  chr22      +   50738203   50745339   50738235   \n",
       "78362   972  NM_001003789  chr22      -   50767505   50783636   50768775   \n",
       "\n",
       "          cdsEnd  exonCount   \n",
       "0      201328836         15  \\\n",
       "1       67127240          8   \n",
       "2      201328836         14   \n",
       "3       67127240          9   \n",
       "4       67134970         10   \n",
       "...          ...        ...   \n",
       "78358   50782294          9   \n",
       "78359   50782294         10   \n",
       "78360   50782294         10   \n",
       "78361   50745207          5   \n",
       "78362   50782294          9   \n",
       "\n",
       "                                              exonStarts   \n",
       "0      201283451,201293941,201313165,201316552,201317...  \\\n",
       "1      67092165,67095234,67096251,67115351,67125751,6...   \n",
       "2      201283505,201293941,201313165,201316552,201317...   \n",
       "3      67092165,67096251,67103237,67111576,67115351,6...   \n",
       "4      67092165,67096251,67103237,67111576,67113613,6...   \n",
       "...                                                  ...   \n",
       "78358  50767505,50769040,50769454,50769904,50775771,5...   \n",
       "78359  50767505,50769040,50769424,50769904,50775771,5...   \n",
       "78360  50767505,50769040,50769424,50769904,50775771,5...   \n",
       "78361      50738203,50739270,50739693,50744060,50744652,   \n",
       "78362  50767505,50769040,50769454,50769904,50775771,5...   \n",
       "\n",
       "                                                exonEnds  score     name2   \n",
       "0      201283904,201294045,201313560,201316697,201317...      0      PKP1  \\\n",
       "1      67093604,67095421,67096321,67115464,67125909,6...      0  C1orf141   \n",
       "2      201283904,201294045,201313560,201316697,201317...      0      PKP1   \n",
       "3      67093604,67096321,67103382,67111644,67115464,6...      0  C1orf141   \n",
       "4      67093604,67096321,67103382,67111644,67113756,6...      0  C1orf141   \n",
       "...                                                  ...    ...       ...   \n",
       "78358  50768874,50769124,50769549,50770016,50775851,5...      0    RABL2B   \n",
       "78359  50768874,50769124,50769549,50770016,50775851,5...      0    RABL2B   \n",
       "78360  50768874,50769124,50769549,50770016,50775851,5...      0    RABL2B   \n",
       "78361      50738312,50739474,50739977,50744206,50745339,      0       ACR   \n",
       "78362  50768874,50769124,50769552,50770016,50775851,5...      0    RABL2B   \n",
       "\n",
       "      cdsStartStat cdsEndStat                       exonFrames  \n",
       "0             cmpl       cmpl  0,1,0,2,0,1,2,2,0,0,0,1,2,0,-1,  \n",
       "1             cmpl       cmpl               0,2,1,2,0,0,-1,-1,  \n",
       "2             cmpl       cmpl    0,1,0,2,0,1,2,0,0,0,1,2,0,-1,  \n",
       "3             cmpl       cmpl             2,1,0,1,2,0,0,-1,-1,  \n",
       "4              unk        unk   -1,-1,-1,-1,-1,-1,-1,-1,-1,-1,  \n",
       "...            ...        ...                              ...  \n",
       "78358         cmpl       cmpl              0,0,1,0,1,2,2,0,-1,  \n",
       "78359         cmpl       cmpl           0,0,1,0,1,2,2,0,-1,-1,  \n",
       "78360         cmpl       cmpl           0,0,1,0,1,2,2,0,-1,-1,  \n",
       "78361         cmpl       cmpl                       0,2,2,1,0,  \n",
       "78362         cmpl       cmpl              0,0,1,0,1,2,2,0,-1,  \n",
       "\n",
       "[78363 rows x 16 columns]"
      ]
     },
     "execution_count": 16,
     "metadata": {},
     "output_type": "execute_result"
    }
   ],
   "source": [
    "df = df[~df[\"chrom\"].str.contains(\"_\")].copy()\n",
    "df"
   ]
  },
  {
   "cell_type": "code",
   "execution_count": 17,
   "id": "05b25825-206e-42da-9737-2587f45c582f",
   "metadata": {
    "execution": {
     "iopub.execute_input": "2023-04-27T12:37:22.923264Z",
     "iopub.status.busy": "2023-04-27T12:37:22.923130Z",
     "iopub.status.idle": "2023-04-27T12:37:22.944112Z",
     "shell.execute_reply": "2023-04-27T12:37:22.943617Z",
     "shell.execute_reply.started": "2023-04-27T12:37:22.923253Z"
    },
    "tags": []
   },
   "outputs": [
    {
     "data": {
      "text/html": [
       "<div>\n",
       "<style scoped>\n",
       "    .dataframe tbody tr th:only-of-type {\n",
       "        vertical-align: middle;\n",
       "    }\n",
       "\n",
       "    .dataframe tbody tr th {\n",
       "        vertical-align: top;\n",
       "    }\n",
       "\n",
       "    .dataframe thead th {\n",
       "        text-align: right;\n",
       "    }\n",
       "</style>\n",
       "<table border=\"1\" class=\"dataframe\">\n",
       "  <thead>\n",
       "    <tr style=\"text-align: right;\">\n",
       "      <th></th>\n",
       "      <th>#bin</th>\n",
       "      <th>name</th>\n",
       "      <th>chrom</th>\n",
       "      <th>strand</th>\n",
       "      <th>txStart</th>\n",
       "      <th>txEnd</th>\n",
       "      <th>cdsStart</th>\n",
       "      <th>cdsEnd</th>\n",
       "      <th>exonCount</th>\n",
       "      <th>exonStarts</th>\n",
       "      <th>exonEnds</th>\n",
       "      <th>score</th>\n",
       "      <th>name2</th>\n",
       "      <th>cdsStartStat</th>\n",
       "      <th>cdsEndStat</th>\n",
       "      <th>exonFrames</th>\n",
       "    </tr>\n",
       "  </thead>\n",
       "  <tbody>\n",
       "    <tr>\n",
       "      <th>0</th>\n",
       "      <td>0</td>\n",
       "      <td>NM_000299</td>\n",
       "      <td>1</td>\n",
       "      <td>+</td>\n",
       "      <td>201283451</td>\n",
       "      <td>201332993</td>\n",
       "      <td>201283702</td>\n",
       "      <td>201328836</td>\n",
       "      <td>15</td>\n",
       "      <td>201283451,201293941,201313165,201316552,201317...</td>\n",
       "      <td>201283904,201294045,201313560,201316697,201317...</td>\n",
       "      <td>0</td>\n",
       "      <td>PKP1</td>\n",
       "      <td>cmpl</td>\n",
       "      <td>cmpl</td>\n",
       "      <td>0,1,0,2,0,1,2,2,0,0,0,1,2,0,-1,</td>\n",
       "    </tr>\n",
       "    <tr>\n",
       "      <th>1</th>\n",
       "      <td>0</td>\n",
       "      <td>NM_001276351</td>\n",
       "      <td>1</td>\n",
       "      <td>-</td>\n",
       "      <td>67092165</td>\n",
       "      <td>67134970</td>\n",
       "      <td>67093004</td>\n",
       "      <td>67127240</td>\n",
       "      <td>8</td>\n",
       "      <td>67092165,67095234,67096251,67115351,67125751,6...</td>\n",
       "      <td>67093604,67095421,67096321,67115464,67125909,6...</td>\n",
       "      <td>0</td>\n",
       "      <td>C1orf141</td>\n",
       "      <td>cmpl</td>\n",
       "      <td>cmpl</td>\n",
       "      <td>0,2,1,2,0,0,-1,-1,</td>\n",
       "    </tr>\n",
       "    <tr>\n",
       "      <th>2</th>\n",
       "      <td>0</td>\n",
       "      <td>NM_001005337</td>\n",
       "      <td>1</td>\n",
       "      <td>+</td>\n",
       "      <td>201283505</td>\n",
       "      <td>201332989</td>\n",
       "      <td>201283702</td>\n",
       "      <td>201328836</td>\n",
       "      <td>14</td>\n",
       "      <td>201283505,201293941,201313165,201316552,201317...</td>\n",
       "      <td>201283904,201294045,201313560,201316697,201317...</td>\n",
       "      <td>0</td>\n",
       "      <td>PKP1</td>\n",
       "      <td>cmpl</td>\n",
       "      <td>cmpl</td>\n",
       "      <td>0,1,0,2,0,1,2,0,0,0,1,2,0,-1,</td>\n",
       "    </tr>\n",
       "    <tr>\n",
       "      <th>3</th>\n",
       "      <td>0</td>\n",
       "      <td>NM_001276352</td>\n",
       "      <td>1</td>\n",
       "      <td>-</td>\n",
       "      <td>67092165</td>\n",
       "      <td>67134970</td>\n",
       "      <td>67093579</td>\n",
       "      <td>67127240</td>\n",
       "      <td>9</td>\n",
       "      <td>67092165,67096251,67103237,67111576,67115351,6...</td>\n",
       "      <td>67093604,67096321,67103382,67111644,67115464,6...</td>\n",
       "      <td>0</td>\n",
       "      <td>C1orf141</td>\n",
       "      <td>cmpl</td>\n",
       "      <td>cmpl</td>\n",
       "      <td>2,1,0,1,2,0,0,-1,-1,</td>\n",
       "    </tr>\n",
       "    <tr>\n",
       "      <th>4</th>\n",
       "      <td>0</td>\n",
       "      <td>NR_075077</td>\n",
       "      <td>1</td>\n",
       "      <td>-</td>\n",
       "      <td>67092165</td>\n",
       "      <td>67134970</td>\n",
       "      <td>67134970</td>\n",
       "      <td>67134970</td>\n",
       "      <td>10</td>\n",
       "      <td>67092165,67096251,67103237,67111576,67113613,6...</td>\n",
       "      <td>67093604,67096321,67103382,67111644,67113756,6...</td>\n",
       "      <td>0</td>\n",
       "      <td>C1orf141</td>\n",
       "      <td>unk</td>\n",
       "      <td>unk</td>\n",
       "      <td>-1,-1,-1,-1,-1,-1,-1,-1,-1,-1,</td>\n",
       "    </tr>\n",
       "    <tr>\n",
       "      <th>...</th>\n",
       "      <td>...</td>\n",
       "      <td>...</td>\n",
       "      <td>...</td>\n",
       "      <td>...</td>\n",
       "      <td>...</td>\n",
       "      <td>...</td>\n",
       "      <td>...</td>\n",
       "      <td>...</td>\n",
       "      <td>...</td>\n",
       "      <td>...</td>\n",
       "      <td>...</td>\n",
       "      <td>...</td>\n",
       "      <td>...</td>\n",
       "      <td>...</td>\n",
       "      <td>...</td>\n",
       "      <td>...</td>\n",
       "    </tr>\n",
       "    <tr>\n",
       "      <th>78358</th>\n",
       "      <td>972</td>\n",
       "      <td>NM_007081</td>\n",
       "      <td>22</td>\n",
       "      <td>-</td>\n",
       "      <td>50767505</td>\n",
       "      <td>50783636</td>\n",
       "      <td>50768775</td>\n",
       "      <td>50782294</td>\n",
       "      <td>9</td>\n",
       "      <td>50767505,50769040,50769454,50769904,50775771,5...</td>\n",
       "      <td>50768874,50769124,50769549,50770016,50775851,5...</td>\n",
       "      <td>0</td>\n",
       "      <td>RABL2B</td>\n",
       "      <td>cmpl</td>\n",
       "      <td>cmpl</td>\n",
       "      <td>0,0,1,0,1,2,2,0,-1,</td>\n",
       "    </tr>\n",
       "    <tr>\n",
       "      <th>78359</th>\n",
       "      <td>972</td>\n",
       "      <td>NM_001350014</td>\n",
       "      <td>22</td>\n",
       "      <td>-</td>\n",
       "      <td>50767505</td>\n",
       "      <td>50783636</td>\n",
       "      <td>50768775</td>\n",
       "      <td>50782294</td>\n",
       "      <td>10</td>\n",
       "      <td>50767505,50769040,50769424,50769904,50775771,5...</td>\n",
       "      <td>50768874,50769124,50769549,50770016,50775851,5...</td>\n",
       "      <td>0</td>\n",
       "      <td>RABL2B</td>\n",
       "      <td>cmpl</td>\n",
       "      <td>cmpl</td>\n",
       "      <td>0,0,1,0,1,2,2,0,-1,-1,</td>\n",
       "    </tr>\n",
       "    <tr>\n",
       "      <th>78360</th>\n",
       "      <td>972</td>\n",
       "      <td>NM_001130923</td>\n",
       "      <td>22</td>\n",
       "      <td>-</td>\n",
       "      <td>50767505</td>\n",
       "      <td>50783636</td>\n",
       "      <td>50768775</td>\n",
       "      <td>50782294</td>\n",
       "      <td>10</td>\n",
       "      <td>50767505,50769040,50769424,50769904,50775771,5...</td>\n",
       "      <td>50768874,50769124,50769549,50770016,50775851,5...</td>\n",
       "      <td>0</td>\n",
       "      <td>RABL2B</td>\n",
       "      <td>cmpl</td>\n",
       "      <td>cmpl</td>\n",
       "      <td>0,0,1,0,1,2,2,0,-1,-1,</td>\n",
       "    </tr>\n",
       "    <tr>\n",
       "      <th>78361</th>\n",
       "      <td>972</td>\n",
       "      <td>NM_001097</td>\n",
       "      <td>22</td>\n",
       "      <td>+</td>\n",
       "      <td>50738203</td>\n",
       "      <td>50745339</td>\n",
       "      <td>50738235</td>\n",
       "      <td>50745207</td>\n",
       "      <td>5</td>\n",
       "      <td>50738203,50739270,50739693,50744060,50744652,</td>\n",
       "      <td>50738312,50739474,50739977,50744206,50745339,</td>\n",
       "      <td>0</td>\n",
       "      <td>ACR</td>\n",
       "      <td>cmpl</td>\n",
       "      <td>cmpl</td>\n",
       "      <td>0,2,2,1,0,</td>\n",
       "    </tr>\n",
       "    <tr>\n",
       "      <th>78362</th>\n",
       "      <td>972</td>\n",
       "      <td>NM_001003789</td>\n",
       "      <td>22</td>\n",
       "      <td>-</td>\n",
       "      <td>50767505</td>\n",
       "      <td>50783636</td>\n",
       "      <td>50768775</td>\n",
       "      <td>50782294</td>\n",
       "      <td>9</td>\n",
       "      <td>50767505,50769040,50769454,50769904,50775771,5...</td>\n",
       "      <td>50768874,50769124,50769552,50770016,50775851,5...</td>\n",
       "      <td>0</td>\n",
       "      <td>RABL2B</td>\n",
       "      <td>cmpl</td>\n",
       "      <td>cmpl</td>\n",
       "      <td>0,0,1,0,1,2,2,0,-1,</td>\n",
       "    </tr>\n",
       "  </tbody>\n",
       "</table>\n",
       "<p>78363 rows × 16 columns</p>\n",
       "</div>"
      ],
      "text/plain": [
       "       #bin          name chrom strand    txStart      txEnd   cdsStart   \n",
       "0         0     NM_000299     1      +  201283451  201332993  201283702  \\\n",
       "1         0  NM_001276351     1      -   67092165   67134970   67093004   \n",
       "2         0  NM_001005337     1      +  201283505  201332989  201283702   \n",
       "3         0  NM_001276352     1      -   67092165   67134970   67093579   \n",
       "4         0     NR_075077     1      -   67092165   67134970   67134970   \n",
       "...     ...           ...   ...    ...        ...        ...        ...   \n",
       "78358   972     NM_007081    22      -   50767505   50783636   50768775   \n",
       "78359   972  NM_001350014    22      -   50767505   50783636   50768775   \n",
       "78360   972  NM_001130923    22      -   50767505   50783636   50768775   \n",
       "78361   972     NM_001097    22      +   50738203   50745339   50738235   \n",
       "78362   972  NM_001003789    22      -   50767505   50783636   50768775   \n",
       "\n",
       "          cdsEnd  exonCount   \n",
       "0      201328836         15  \\\n",
       "1       67127240          8   \n",
       "2      201328836         14   \n",
       "3       67127240          9   \n",
       "4       67134970         10   \n",
       "...          ...        ...   \n",
       "78358   50782294          9   \n",
       "78359   50782294         10   \n",
       "78360   50782294         10   \n",
       "78361   50745207          5   \n",
       "78362   50782294          9   \n",
       "\n",
       "                                              exonStarts   \n",
       "0      201283451,201293941,201313165,201316552,201317...  \\\n",
       "1      67092165,67095234,67096251,67115351,67125751,6...   \n",
       "2      201283505,201293941,201313165,201316552,201317...   \n",
       "3      67092165,67096251,67103237,67111576,67115351,6...   \n",
       "4      67092165,67096251,67103237,67111576,67113613,6...   \n",
       "...                                                  ...   \n",
       "78358  50767505,50769040,50769454,50769904,50775771,5...   \n",
       "78359  50767505,50769040,50769424,50769904,50775771,5...   \n",
       "78360  50767505,50769040,50769424,50769904,50775771,5...   \n",
       "78361      50738203,50739270,50739693,50744060,50744652,   \n",
       "78362  50767505,50769040,50769454,50769904,50775771,5...   \n",
       "\n",
       "                                                exonEnds  score     name2   \n",
       "0      201283904,201294045,201313560,201316697,201317...      0      PKP1  \\\n",
       "1      67093604,67095421,67096321,67115464,67125909,6...      0  C1orf141   \n",
       "2      201283904,201294045,201313560,201316697,201317...      0      PKP1   \n",
       "3      67093604,67096321,67103382,67111644,67115464,6...      0  C1orf141   \n",
       "4      67093604,67096321,67103382,67111644,67113756,6...      0  C1orf141   \n",
       "...                                                  ...    ...       ...   \n",
       "78358  50768874,50769124,50769549,50770016,50775851,5...      0    RABL2B   \n",
       "78359  50768874,50769124,50769549,50770016,50775851,5...      0    RABL2B   \n",
       "78360  50768874,50769124,50769549,50770016,50775851,5...      0    RABL2B   \n",
       "78361      50738312,50739474,50739977,50744206,50745339,      0       ACR   \n",
       "78362  50768874,50769124,50769552,50770016,50775851,5...      0    RABL2B   \n",
       "\n",
       "      cdsStartStat cdsEndStat                       exonFrames  \n",
       "0             cmpl       cmpl  0,1,0,2,0,1,2,2,0,0,0,1,2,0,-1,  \n",
       "1             cmpl       cmpl               0,2,1,2,0,0,-1,-1,  \n",
       "2             cmpl       cmpl    0,1,0,2,0,1,2,0,0,0,1,2,0,-1,  \n",
       "3             cmpl       cmpl             2,1,0,1,2,0,0,-1,-1,  \n",
       "4              unk        unk   -1,-1,-1,-1,-1,-1,-1,-1,-1,-1,  \n",
       "...            ...        ...                              ...  \n",
       "78358         cmpl       cmpl              0,0,1,0,1,2,2,0,-1,  \n",
       "78359         cmpl       cmpl           0,0,1,0,1,2,2,0,-1,-1,  \n",
       "78360         cmpl       cmpl           0,0,1,0,1,2,2,0,-1,-1,  \n",
       "78361         cmpl       cmpl                       0,2,2,1,0,  \n",
       "78362         cmpl       cmpl              0,0,1,0,1,2,2,0,-1,  \n",
       "\n",
       "[78363 rows x 16 columns]"
      ]
     },
     "execution_count": 17,
     "metadata": {},
     "output_type": "execute_result"
    }
   ],
   "source": [
    "df[\"chrom\"] = df.chrom.str[3:]\n",
    "df"
   ]
  },
  {
   "cell_type": "code",
   "execution_count": 18,
   "id": "6e7c73e7-9ba5-444d-b782-bcd1fecc377c",
   "metadata": {
    "execution": {
     "iopub.execute_input": "2023-04-27T12:37:22.944873Z",
     "iopub.status.busy": "2023-04-27T12:37:22.944715Z",
     "iopub.status.idle": "2023-04-27T12:37:22.951752Z",
     "shell.execute_reply": "2023-04-27T12:37:22.951265Z",
     "shell.execute_reply.started": "2023-04-27T12:37:22.944860Z"
    },
    "tags": []
   },
   "outputs": [
    {
     "data": {
      "text/plain": [
       "array(['1', '2', '3', '4', '5', '6', '7', '8', '9', 'M', 'X', 'Y', '10',\n",
       "       '11', '12', '13', '14', '15', '16', '17', '18', '19', '20', '21',\n",
       "       '22'], dtype=object)"
      ]
     },
     "execution_count": 18,
     "metadata": {},
     "output_type": "execute_result"
    }
   ],
   "source": [
    "df.chrom.unique() # numpy"
   ]
  },
  {
   "cell_type": "code",
   "execution_count": 19,
   "id": "6e7c01aa-342f-4d9a-be07-dd58b836111d",
   "metadata": {
    "execution": {
     "iopub.execute_input": "2023-04-27T12:37:22.952862Z",
     "iopub.status.busy": "2023-04-27T12:37:22.952700Z",
     "iopub.status.idle": "2023-04-27T12:37:22.955346Z",
     "shell.execute_reply": "2023-04-27T12:37:22.954841Z",
     "shell.execute_reply.started": "2023-04-27T12:37:22.952850Z"
    },
    "tags": []
   },
   "outputs": [],
   "source": [
    "# df[~(df.chrom == \"M\")]"
   ]
  },
  {
   "cell_type": "code",
   "execution_count": 20,
   "id": "70fe79f5-4f95-43e7-9651-f6d4531aa0d6",
   "metadata": {
    "execution": {
     "iopub.execute_input": "2023-04-27T12:37:22.956313Z",
     "iopub.status.busy": "2023-04-27T12:37:22.956019Z",
     "iopub.status.idle": "2023-04-27T12:37:23.009986Z",
     "shell.execute_reply": "2023-04-27T12:37:23.009499Z",
     "shell.execute_reply.started": "2023-04-27T12:37:22.956301Z"
    },
    "tags": []
   },
   "outputs": [
    {
     "data": {
      "text/html": [
       "<div>\n",
       "<style scoped>\n",
       "    .dataframe tbody tr th:only-of-type {\n",
       "        vertical-align: middle;\n",
       "    }\n",
       "\n",
       "    .dataframe tbody tr th {\n",
       "        vertical-align: top;\n",
       "    }\n",
       "\n",
       "    .dataframe thead th {\n",
       "        text-align: right;\n",
       "    }\n",
       "</style>\n",
       "<table border=\"1\" class=\"dataframe\">\n",
       "  <thead>\n",
       "    <tr style=\"text-align: right;\">\n",
       "      <th></th>\n",
       "      <th>#bin</th>\n",
       "      <th>name</th>\n",
       "      <th>chrom</th>\n",
       "      <th>strand</th>\n",
       "      <th>txStart</th>\n",
       "      <th>txEnd</th>\n",
       "      <th>cdsStart</th>\n",
       "      <th>cdsEnd</th>\n",
       "      <th>exonCount</th>\n",
       "      <th>exonStarts</th>\n",
       "      <th>exonEnds</th>\n",
       "      <th>score</th>\n",
       "      <th>name2</th>\n",
       "      <th>cdsStartStat</th>\n",
       "      <th>cdsEndStat</th>\n",
       "      <th>exonFrames</th>\n",
       "    </tr>\n",
       "  </thead>\n",
       "  <tbody>\n",
       "    <tr>\n",
       "      <th>0</th>\n",
       "      <td>0</td>\n",
       "      <td>NM_000299</td>\n",
       "      <td>1</td>\n",
       "      <td>+</td>\n",
       "      <td>201283451</td>\n",
       "      <td>201332993</td>\n",
       "      <td>201283702</td>\n",
       "      <td>201328836</td>\n",
       "      <td>15</td>\n",
       "      <td>201283451,201293941,201313165,201316552,201317...</td>\n",
       "      <td>201283904,201294045,201313560,201316697,201317...</td>\n",
       "      <td>0</td>\n",
       "      <td>PKP1</td>\n",
       "      <td>cmpl</td>\n",
       "      <td>cmpl</td>\n",
       "      <td>0,1,0,2,0,1,2,2,0,0,0,1,2,0,-1,</td>\n",
       "    </tr>\n",
       "    <tr>\n",
       "      <th>1</th>\n",
       "      <td>0</td>\n",
       "      <td>NM_001276351</td>\n",
       "      <td>1</td>\n",
       "      <td>-</td>\n",
       "      <td>67092165</td>\n",
       "      <td>67134970</td>\n",
       "      <td>67093004</td>\n",
       "      <td>67127240</td>\n",
       "      <td>8</td>\n",
       "      <td>67092165,67095234,67096251,67115351,67125751,6...</td>\n",
       "      <td>67093604,67095421,67096321,67115464,67125909,6...</td>\n",
       "      <td>0</td>\n",
       "      <td>C1orf141</td>\n",
       "      <td>cmpl</td>\n",
       "      <td>cmpl</td>\n",
       "      <td>0,2,1,2,0,0,-1,-1,</td>\n",
       "    </tr>\n",
       "    <tr>\n",
       "      <th>2</th>\n",
       "      <td>0</td>\n",
       "      <td>NM_001005337</td>\n",
       "      <td>1</td>\n",
       "      <td>+</td>\n",
       "      <td>201283505</td>\n",
       "      <td>201332989</td>\n",
       "      <td>201283702</td>\n",
       "      <td>201328836</td>\n",
       "      <td>14</td>\n",
       "      <td>201283505,201293941,201313165,201316552,201317...</td>\n",
       "      <td>201283904,201294045,201313560,201316697,201317...</td>\n",
       "      <td>0</td>\n",
       "      <td>PKP1</td>\n",
       "      <td>cmpl</td>\n",
       "      <td>cmpl</td>\n",
       "      <td>0,1,0,2,0,1,2,0,0,0,1,2,0,-1,</td>\n",
       "    </tr>\n",
       "    <tr>\n",
       "      <th>3</th>\n",
       "      <td>0</td>\n",
       "      <td>NM_001276352</td>\n",
       "      <td>1</td>\n",
       "      <td>-</td>\n",
       "      <td>67092165</td>\n",
       "      <td>67134970</td>\n",
       "      <td>67093579</td>\n",
       "      <td>67127240</td>\n",
       "      <td>9</td>\n",
       "      <td>67092165,67096251,67103237,67111576,67115351,6...</td>\n",
       "      <td>67093604,67096321,67103382,67111644,67115464,6...</td>\n",
       "      <td>0</td>\n",
       "      <td>C1orf141</td>\n",
       "      <td>cmpl</td>\n",
       "      <td>cmpl</td>\n",
       "      <td>2,1,0,1,2,0,0,-1,-1,</td>\n",
       "    </tr>\n",
       "    <tr>\n",
       "      <th>4</th>\n",
       "      <td>0</td>\n",
       "      <td>NR_075077</td>\n",
       "      <td>1</td>\n",
       "      <td>-</td>\n",
       "      <td>67092165</td>\n",
       "      <td>67134970</td>\n",
       "      <td>67134970</td>\n",
       "      <td>67134970</td>\n",
       "      <td>10</td>\n",
       "      <td>67092165,67096251,67103237,67111576,67113613,6...</td>\n",
       "      <td>67093604,67096321,67103382,67111644,67113756,6...</td>\n",
       "      <td>0</td>\n",
       "      <td>C1orf141</td>\n",
       "      <td>unk</td>\n",
       "      <td>unk</td>\n",
       "      <td>-1,-1,-1,-1,-1,-1,-1,-1,-1,-1,</td>\n",
       "    </tr>\n",
       "    <tr>\n",
       "      <th>...</th>\n",
       "      <td>...</td>\n",
       "      <td>...</td>\n",
       "      <td>...</td>\n",
       "      <td>...</td>\n",
       "      <td>...</td>\n",
       "      <td>...</td>\n",
       "      <td>...</td>\n",
       "      <td>...</td>\n",
       "      <td>...</td>\n",
       "      <td>...</td>\n",
       "      <td>...</td>\n",
       "      <td>...</td>\n",
       "      <td>...</td>\n",
       "      <td>...</td>\n",
       "      <td>...</td>\n",
       "      <td>...</td>\n",
       "    </tr>\n",
       "    <tr>\n",
       "      <th>78358</th>\n",
       "      <td>972</td>\n",
       "      <td>NM_007081</td>\n",
       "      <td>22</td>\n",
       "      <td>-</td>\n",
       "      <td>50767505</td>\n",
       "      <td>50783636</td>\n",
       "      <td>50768775</td>\n",
       "      <td>50782294</td>\n",
       "      <td>9</td>\n",
       "      <td>50767505,50769040,50769454,50769904,50775771,5...</td>\n",
       "      <td>50768874,50769124,50769549,50770016,50775851,5...</td>\n",
       "      <td>0</td>\n",
       "      <td>RABL2B</td>\n",
       "      <td>cmpl</td>\n",
       "      <td>cmpl</td>\n",
       "      <td>0,0,1,0,1,2,2,0,-1,</td>\n",
       "    </tr>\n",
       "    <tr>\n",
       "      <th>78359</th>\n",
       "      <td>972</td>\n",
       "      <td>NM_001350014</td>\n",
       "      <td>22</td>\n",
       "      <td>-</td>\n",
       "      <td>50767505</td>\n",
       "      <td>50783636</td>\n",
       "      <td>50768775</td>\n",
       "      <td>50782294</td>\n",
       "      <td>10</td>\n",
       "      <td>50767505,50769040,50769424,50769904,50775771,5...</td>\n",
       "      <td>50768874,50769124,50769549,50770016,50775851,5...</td>\n",
       "      <td>0</td>\n",
       "      <td>RABL2B</td>\n",
       "      <td>cmpl</td>\n",
       "      <td>cmpl</td>\n",
       "      <td>0,0,1,0,1,2,2,0,-1,-1,</td>\n",
       "    </tr>\n",
       "    <tr>\n",
       "      <th>78360</th>\n",
       "      <td>972</td>\n",
       "      <td>NM_001130923</td>\n",
       "      <td>22</td>\n",
       "      <td>-</td>\n",
       "      <td>50767505</td>\n",
       "      <td>50783636</td>\n",
       "      <td>50768775</td>\n",
       "      <td>50782294</td>\n",
       "      <td>10</td>\n",
       "      <td>50767505,50769040,50769424,50769904,50775771,5...</td>\n",
       "      <td>50768874,50769124,50769549,50770016,50775851,5...</td>\n",
       "      <td>0</td>\n",
       "      <td>RABL2B</td>\n",
       "      <td>cmpl</td>\n",
       "      <td>cmpl</td>\n",
       "      <td>0,0,1,0,1,2,2,0,-1,-1,</td>\n",
       "    </tr>\n",
       "    <tr>\n",
       "      <th>78361</th>\n",
       "      <td>972</td>\n",
       "      <td>NM_001097</td>\n",
       "      <td>22</td>\n",
       "      <td>+</td>\n",
       "      <td>50738203</td>\n",
       "      <td>50745339</td>\n",
       "      <td>50738235</td>\n",
       "      <td>50745207</td>\n",
       "      <td>5</td>\n",
       "      <td>50738203,50739270,50739693,50744060,50744652,</td>\n",
       "      <td>50738312,50739474,50739977,50744206,50745339,</td>\n",
       "      <td>0</td>\n",
       "      <td>ACR</td>\n",
       "      <td>cmpl</td>\n",
       "      <td>cmpl</td>\n",
       "      <td>0,2,2,1,0,</td>\n",
       "    </tr>\n",
       "    <tr>\n",
       "      <th>78362</th>\n",
       "      <td>972</td>\n",
       "      <td>NM_001003789</td>\n",
       "      <td>22</td>\n",
       "      <td>-</td>\n",
       "      <td>50767505</td>\n",
       "      <td>50783636</td>\n",
       "      <td>50768775</td>\n",
       "      <td>50782294</td>\n",
       "      <td>9</td>\n",
       "      <td>50767505,50769040,50769454,50769904,50775771,5...</td>\n",
       "      <td>50768874,50769124,50769552,50770016,50775851,5...</td>\n",
       "      <td>0</td>\n",
       "      <td>RABL2B</td>\n",
       "      <td>cmpl</td>\n",
       "      <td>cmpl</td>\n",
       "      <td>0,0,1,0,1,2,2,0,-1,</td>\n",
       "    </tr>\n",
       "  </tbody>\n",
       "</table>\n",
       "<p>78362 rows × 16 columns</p>\n",
       "</div>"
      ],
      "text/plain": [
       "       #bin          name chrom strand    txStart      txEnd   cdsStart   \n",
       "0         0     NM_000299     1      +  201283451  201332993  201283702  \\\n",
       "1         0  NM_001276351     1      -   67092165   67134970   67093004   \n",
       "2         0  NM_001005337     1      +  201283505  201332989  201283702   \n",
       "3         0  NM_001276352     1      -   67092165   67134970   67093579   \n",
       "4         0     NR_075077     1      -   67092165   67134970   67134970   \n",
       "...     ...           ...   ...    ...        ...        ...        ...   \n",
       "78358   972     NM_007081    22      -   50767505   50783636   50768775   \n",
       "78359   972  NM_001350014    22      -   50767505   50783636   50768775   \n",
       "78360   972  NM_001130923    22      -   50767505   50783636   50768775   \n",
       "78361   972     NM_001097    22      +   50738203   50745339   50738235   \n",
       "78362   972  NM_001003789    22      -   50767505   50783636   50768775   \n",
       "\n",
       "          cdsEnd  exonCount   \n",
       "0      201328836         15  \\\n",
       "1       67127240          8   \n",
       "2      201328836         14   \n",
       "3       67127240          9   \n",
       "4       67134970         10   \n",
       "...          ...        ...   \n",
       "78358   50782294          9   \n",
       "78359   50782294         10   \n",
       "78360   50782294         10   \n",
       "78361   50745207          5   \n",
       "78362   50782294          9   \n",
       "\n",
       "                                              exonStarts   \n",
       "0      201283451,201293941,201313165,201316552,201317...  \\\n",
       "1      67092165,67095234,67096251,67115351,67125751,6...   \n",
       "2      201283505,201293941,201313165,201316552,201317...   \n",
       "3      67092165,67096251,67103237,67111576,67115351,6...   \n",
       "4      67092165,67096251,67103237,67111576,67113613,6...   \n",
       "...                                                  ...   \n",
       "78358  50767505,50769040,50769454,50769904,50775771,5...   \n",
       "78359  50767505,50769040,50769424,50769904,50775771,5...   \n",
       "78360  50767505,50769040,50769424,50769904,50775771,5...   \n",
       "78361      50738203,50739270,50739693,50744060,50744652,   \n",
       "78362  50767505,50769040,50769454,50769904,50775771,5...   \n",
       "\n",
       "                                                exonEnds  score     name2   \n",
       "0      201283904,201294045,201313560,201316697,201317...      0      PKP1  \\\n",
       "1      67093604,67095421,67096321,67115464,67125909,6...      0  C1orf141   \n",
       "2      201283904,201294045,201313560,201316697,201317...      0      PKP1   \n",
       "3      67093604,67096321,67103382,67111644,67115464,6...      0  C1orf141   \n",
       "4      67093604,67096321,67103382,67111644,67113756,6...      0  C1orf141   \n",
       "...                                                  ...    ...       ...   \n",
       "78358  50768874,50769124,50769549,50770016,50775851,5...      0    RABL2B   \n",
       "78359  50768874,50769124,50769549,50770016,50775851,5...      0    RABL2B   \n",
       "78360  50768874,50769124,50769549,50770016,50775851,5...      0    RABL2B   \n",
       "78361      50738312,50739474,50739977,50744206,50745339,      0       ACR   \n",
       "78362  50768874,50769124,50769552,50770016,50775851,5...      0    RABL2B   \n",
       "\n",
       "      cdsStartStat cdsEndStat                       exonFrames  \n",
       "0             cmpl       cmpl  0,1,0,2,0,1,2,2,0,0,0,1,2,0,-1,  \n",
       "1             cmpl       cmpl               0,2,1,2,0,0,-1,-1,  \n",
       "2             cmpl       cmpl    0,1,0,2,0,1,2,0,0,0,1,2,0,-1,  \n",
       "3             cmpl       cmpl             2,1,0,1,2,0,0,-1,-1,  \n",
       "4              unk        unk   -1,-1,-1,-1,-1,-1,-1,-1,-1,-1,  \n",
       "...            ...        ...                              ...  \n",
       "78358         cmpl       cmpl              0,0,1,0,1,2,2,0,-1,  \n",
       "78359         cmpl       cmpl           0,0,1,0,1,2,2,0,-1,-1,  \n",
       "78360         cmpl       cmpl           0,0,1,0,1,2,2,0,-1,-1,  \n",
       "78361         cmpl       cmpl                       0,2,2,1,0,  \n",
       "78362         cmpl       cmpl              0,0,1,0,1,2,2,0,-1,  \n",
       "\n",
       "[78362 rows x 16 columns]"
      ]
     },
     "execution_count": 20,
     "metadata": {},
     "output_type": "execute_result"
    }
   ],
   "source": [
    "df = df[df.chrom.map(lambda x: x in aim_chroms)].copy()\n",
    "df"
   ]
  },
  {
   "cell_type": "code",
   "execution_count": 21,
   "id": "f0f7ca48-45f0-4329-85af-f19e461b24b5",
   "metadata": {
    "execution": {
     "iopub.execute_input": "2023-04-27T12:37:23.010682Z",
     "iopub.status.busy": "2023-04-27T12:37:23.010548Z",
     "iopub.status.idle": "2023-04-27T12:37:23.036198Z",
     "shell.execute_reply": "2023-04-27T12:37:23.035691Z",
     "shell.execute_reply.started": "2023-04-27T12:37:23.010671Z"
    },
    "tags": []
   },
   "outputs": [
    {
     "data": {
      "text/html": [
       "<div>\n",
       "<style scoped>\n",
       "    .dataframe tbody tr th:only-of-type {\n",
       "        vertical-align: middle;\n",
       "    }\n",
       "\n",
       "    .dataframe tbody tr th {\n",
       "        vertical-align: top;\n",
       "    }\n",
       "\n",
       "    .dataframe thead th {\n",
       "        text-align: right;\n",
       "    }\n",
       "</style>\n",
       "<table border=\"1\" class=\"dataframe\">\n",
       "  <thead>\n",
       "    <tr style=\"text-align: right;\">\n",
       "      <th></th>\n",
       "      <th>#bin</th>\n",
       "      <th>name</th>\n",
       "      <th>chrom</th>\n",
       "      <th>strand</th>\n",
       "      <th>txStart</th>\n",
       "      <th>txEnd</th>\n",
       "      <th>cdsStart</th>\n",
       "      <th>cdsEnd</th>\n",
       "      <th>exonCount</th>\n",
       "      <th>exonStarts</th>\n",
       "      <th>exonEnds</th>\n",
       "      <th>score</th>\n",
       "      <th>name2</th>\n",
       "      <th>cdsStartStat</th>\n",
       "      <th>cdsEndStat</th>\n",
       "      <th>exonFrames</th>\n",
       "    </tr>\n",
       "  </thead>\n",
       "  <tbody>\n",
       "    <tr>\n",
       "      <th>0</th>\n",
       "      <td>0</td>\n",
       "      <td>NM_000299</td>\n",
       "      <td>1</td>\n",
       "      <td>+</td>\n",
       "      <td>201283451</td>\n",
       "      <td>201332993</td>\n",
       "      <td>201283702</td>\n",
       "      <td>201328836</td>\n",
       "      <td>15</td>\n",
       "      <td>201283451,201293941,201313165,201316552,201317...</td>\n",
       "      <td>201283904,201294045,201313560,201316697,201317...</td>\n",
       "      <td>0</td>\n",
       "      <td>PKP1</td>\n",
       "      <td>cmpl</td>\n",
       "      <td>cmpl</td>\n",
       "      <td>0,1,0,2,0,1,2,2,0,0,0,1,2,0,-1,</td>\n",
       "    </tr>\n",
       "    <tr>\n",
       "      <th>1</th>\n",
       "      <td>0</td>\n",
       "      <td>NM_001276351</td>\n",
       "      <td>1</td>\n",
       "      <td>-</td>\n",
       "      <td>67092165</td>\n",
       "      <td>67134970</td>\n",
       "      <td>67093004</td>\n",
       "      <td>67127240</td>\n",
       "      <td>8</td>\n",
       "      <td>67092165,67095234,67096251,67115351,67125751,6...</td>\n",
       "      <td>67093604,67095421,67096321,67115464,67125909,6...</td>\n",
       "      <td>0</td>\n",
       "      <td>C1orf141</td>\n",
       "      <td>cmpl</td>\n",
       "      <td>cmpl</td>\n",
       "      <td>0,2,1,2,0,0,-1,-1,</td>\n",
       "    </tr>\n",
       "    <tr>\n",
       "      <th>5</th>\n",
       "      <td>1</td>\n",
       "      <td>NM_001042681</td>\n",
       "      <td>1</td>\n",
       "      <td>-</td>\n",
       "      <td>8352403</td>\n",
       "      <td>8817640</td>\n",
       "      <td>8355086</td>\n",
       "      <td>8656297</td>\n",
       "      <td>23</td>\n",
       "      <td>8352403,8355418,8356099,8358195,8359763,836011...</td>\n",
       "      <td>8355120,8355599,8356246,8358916,8359986,836149...</td>\n",
       "      <td>0</td>\n",
       "      <td>RERE</td>\n",
       "      <td>cmpl</td>\n",
       "      <td>cmpl</td>\n",
       "      <td>2,1,1,0,2,0,0,0,1,1,0,0,0,2,0,2,2,1,0,0,1,0,-1,</td>\n",
       "    </tr>\n",
       "    <tr>\n",
       "      <th>7</th>\n",
       "      <td>1</td>\n",
       "      <td>NR_038261</td>\n",
       "      <td>1</td>\n",
       "      <td>-</td>\n",
       "      <td>41847188</td>\n",
       "      <td>42035934</td>\n",
       "      <td>42035934</td>\n",
       "      <td>42035934</td>\n",
       "      <td>4</td>\n",
       "      <td>41847188,41848870,41918412,42035806,</td>\n",
       "      <td>41848445,41849089,41918524,42035934,</td>\n",
       "      <td>0</td>\n",
       "      <td>HIVEP3</td>\n",
       "      <td>unk</td>\n",
       "      <td>unk</td>\n",
       "      <td>-1,-1,-1,-1,</td>\n",
       "    </tr>\n",
       "    <tr>\n",
       "      <th>9</th>\n",
       "      <td>1</td>\n",
       "      <td>NM_001281956</td>\n",
       "      <td>1</td>\n",
       "      <td>-</td>\n",
       "      <td>33513997</td>\n",
       "      <td>34165230</td>\n",
       "      <td>33519517</td>\n",
       "      <td>34165097</td>\n",
       "      <td>71</td>\n",
       "      <td>33513997,33519464,33519811,33521462,33523306,3...</td>\n",
       "      <td>33516570,33519677,33519950,33521550,33523419,3...</td>\n",
       "      <td>0</td>\n",
       "      <td>CSMD2</td>\n",
       "      <td>cmpl</td>\n",
       "      <td>cmpl</td>\n",
       "      <td>-1,2,1,0,1,1,1,1,0,1,1,1,1,1,1,1,1,1,1,1,1,1,1...</td>\n",
       "    </tr>\n",
       "    <tr>\n",
       "      <th>...</th>\n",
       "      <td>...</td>\n",
       "      <td>...</td>\n",
       "      <td>...</td>\n",
       "      <td>...</td>\n",
       "      <td>...</td>\n",
       "      <td>...</td>\n",
       "      <td>...</td>\n",
       "      <td>...</td>\n",
       "      <td>...</td>\n",
       "      <td>...</td>\n",
       "      <td>...</td>\n",
       "      <td>...</td>\n",
       "      <td>...</td>\n",
       "      <td>...</td>\n",
       "      <td>...</td>\n",
       "      <td>...</td>\n",
       "    </tr>\n",
       "    <tr>\n",
       "      <th>78336</th>\n",
       "      <td>971</td>\n",
       "      <td>NM_012324</td>\n",
       "      <td>22</td>\n",
       "      <td>+</td>\n",
       "      <td>50600792</td>\n",
       "      <td>50613976</td>\n",
       "      <td>50600818</td>\n",
       "      <td>50610779</td>\n",
       "      <td>12</td>\n",
       "      <td>50600792,50601788,50603222,50603625,50603840,5...</td>\n",
       "      <td>50600883,50601894,50603498,50603719,50605064,5...</td>\n",
       "      <td>0</td>\n",
       "      <td>MAPK8IP2</td>\n",
       "      <td>cmpl</td>\n",
       "      <td>cmpl</td>\n",
       "      <td>0,2,0,0,1,1,2,1,0,0,2,2,</td>\n",
       "    </tr>\n",
       "    <tr>\n",
       "      <th>78337</th>\n",
       "      <td>972</td>\n",
       "      <td>NM_001350007</td>\n",
       "      <td>22</td>\n",
       "      <td>-</td>\n",
       "      <td>50767505</td>\n",
       "      <td>50783636</td>\n",
       "      <td>50768775</td>\n",
       "      <td>50782294</td>\n",
       "      <td>10</td>\n",
       "      <td>50767505,50769040,50769454,50769904,50775771,5...</td>\n",
       "      <td>50768874,50769124,50769549,50770016,50775851,5...</td>\n",
       "      <td>0</td>\n",
       "      <td>RABL2B</td>\n",
       "      <td>cmpl</td>\n",
       "      <td>cmpl</td>\n",
       "      <td>0,0,1,0,1,2,2,0,-1,-1,</td>\n",
       "    </tr>\n",
       "    <tr>\n",
       "      <th>78350</th>\n",
       "      <td>972</td>\n",
       "      <td>NR_134637</td>\n",
       "      <td>22</td>\n",
       "      <td>-</td>\n",
       "      <td>50735828</td>\n",
       "      <td>50738169</td>\n",
       "      <td>50738169</td>\n",
       "      <td>50738169</td>\n",
       "      <td>2</td>\n",
       "      <td>50735828,50737389,</td>\n",
       "      <td>50737104,50738169,</td>\n",
       "      <td>0</td>\n",
       "      <td>LOC105373100</td>\n",
       "      <td>unk</td>\n",
       "      <td>unk</td>\n",
       "      <td>-1,-1,</td>\n",
       "    </tr>\n",
       "    <tr>\n",
       "      <th>78351</th>\n",
       "      <td>972</td>\n",
       "      <td>NR_026981</td>\n",
       "      <td>22</td>\n",
       "      <td>+</td>\n",
       "      <td>50757085</td>\n",
       "      <td>50799637</td>\n",
       "      <td>50799637</td>\n",
       "      <td>50799637</td>\n",
       "      <td>4</td>\n",
       "      <td>50757085,50783119,50785172,50798654,</td>\n",
       "      <td>50757326,50783294,50785293,50799637,</td>\n",
       "      <td>0</td>\n",
       "      <td>RPL23AP82</td>\n",
       "      <td>unk</td>\n",
       "      <td>unk</td>\n",
       "      <td>-1,-1,-1,-1,</td>\n",
       "    </tr>\n",
       "    <tr>\n",
       "      <th>78361</th>\n",
       "      <td>972</td>\n",
       "      <td>NM_001097</td>\n",
       "      <td>22</td>\n",
       "      <td>+</td>\n",
       "      <td>50738203</td>\n",
       "      <td>50745339</td>\n",
       "      <td>50738235</td>\n",
       "      <td>50745207</td>\n",
       "      <td>5</td>\n",
       "      <td>50738203,50739270,50739693,50744060,50744652,</td>\n",
       "      <td>50738312,50739474,50739977,50744206,50745339,</td>\n",
       "      <td>0</td>\n",
       "      <td>ACR</td>\n",
       "      <td>cmpl</td>\n",
       "      <td>cmpl</td>\n",
       "      <td>0,2,2,1,0,</td>\n",
       "    </tr>\n",
       "  </tbody>\n",
       "</table>\n",
       "<p>28430 rows × 16 columns</p>\n",
       "</div>"
      ],
      "text/plain": [
       "       #bin          name chrom strand    txStart      txEnd   cdsStart   \n",
       "0         0     NM_000299     1      +  201283451  201332993  201283702  \\\n",
       "1         0  NM_001276351     1      -   67092165   67134970   67093004   \n",
       "5         1  NM_001042681     1      -    8352403    8817640    8355086   \n",
       "7         1     NR_038261     1      -   41847188   42035934   42035934   \n",
       "9         1  NM_001281956     1      -   33513997   34165230   33519517   \n",
       "...     ...           ...   ...    ...        ...        ...        ...   \n",
       "78336   971     NM_012324    22      +   50600792   50613976   50600818   \n",
       "78337   972  NM_001350007    22      -   50767505   50783636   50768775   \n",
       "78350   972     NR_134637    22      -   50735828   50738169   50738169   \n",
       "78351   972     NR_026981    22      +   50757085   50799637   50799637   \n",
       "78361   972     NM_001097    22      +   50738203   50745339   50738235   \n",
       "\n",
       "          cdsEnd  exonCount   \n",
       "0      201328836         15  \\\n",
       "1       67127240          8   \n",
       "5        8656297         23   \n",
       "7       42035934          4   \n",
       "9       34165097         71   \n",
       "...          ...        ...   \n",
       "78336   50610779         12   \n",
       "78337   50782294         10   \n",
       "78350   50738169          2   \n",
       "78351   50799637          4   \n",
       "78361   50745207          5   \n",
       "\n",
       "                                              exonStarts   \n",
       "0      201283451,201293941,201313165,201316552,201317...  \\\n",
       "1      67092165,67095234,67096251,67115351,67125751,6...   \n",
       "5      8352403,8355418,8356099,8358195,8359763,836011...   \n",
       "7                   41847188,41848870,41918412,42035806,   \n",
       "9      33513997,33519464,33519811,33521462,33523306,3...   \n",
       "...                                                  ...   \n",
       "78336  50600792,50601788,50603222,50603625,50603840,5...   \n",
       "78337  50767505,50769040,50769454,50769904,50775771,5...   \n",
       "78350                                 50735828,50737389,   \n",
       "78351               50757085,50783119,50785172,50798654,   \n",
       "78361      50738203,50739270,50739693,50744060,50744652,   \n",
       "\n",
       "                                                exonEnds  score         name2   \n",
       "0      201283904,201294045,201313560,201316697,201317...      0          PKP1  \\\n",
       "1      67093604,67095421,67096321,67115464,67125909,6...      0      C1orf141   \n",
       "5      8355120,8355599,8356246,8358916,8359986,836149...      0          RERE   \n",
       "7                   41848445,41849089,41918524,42035934,      0        HIVEP3   \n",
       "9      33516570,33519677,33519950,33521550,33523419,3...      0         CSMD2   \n",
       "...                                                  ...    ...           ...   \n",
       "78336  50600883,50601894,50603498,50603719,50605064,5...      0      MAPK8IP2   \n",
       "78337  50768874,50769124,50769549,50770016,50775851,5...      0        RABL2B   \n",
       "78350                                 50737104,50738169,      0  LOC105373100   \n",
       "78351               50757326,50783294,50785293,50799637,      0     RPL23AP82   \n",
       "78361      50738312,50739474,50739977,50744206,50745339,      0           ACR   \n",
       "\n",
       "      cdsStartStat cdsEndStat   \n",
       "0             cmpl       cmpl  \\\n",
       "1             cmpl       cmpl   \n",
       "5             cmpl       cmpl   \n",
       "7              unk        unk   \n",
       "9             cmpl       cmpl   \n",
       "...            ...        ...   \n",
       "78336         cmpl       cmpl   \n",
       "78337         cmpl       cmpl   \n",
       "78350          unk        unk   \n",
       "78351          unk        unk   \n",
       "78361         cmpl       cmpl   \n",
       "\n",
       "                                              exonFrames  \n",
       "0                        0,1,0,2,0,1,2,2,0,0,0,1,2,0,-1,  \n",
       "1                                     0,2,1,2,0,0,-1,-1,  \n",
       "5        2,1,1,0,2,0,0,0,1,1,0,0,0,2,0,2,2,1,0,0,1,0,-1,  \n",
       "7                                           -1,-1,-1,-1,  \n",
       "9      -1,2,1,0,1,1,1,1,0,1,1,1,1,1,1,1,1,1,1,1,1,1,1...  \n",
       "...                                                  ...  \n",
       "78336                           0,2,0,0,1,1,2,1,0,0,2,2,  \n",
       "78337                             0,0,1,0,1,2,2,0,-1,-1,  \n",
       "78350                                             -1,-1,  \n",
       "78351                                       -1,-1,-1,-1,  \n",
       "78361                                         0,2,2,1,0,  \n",
       "\n",
       "[28430 rows x 16 columns]"
      ]
     },
     "execution_count": 21,
     "metadata": {},
     "output_type": "execute_result"
    }
   ],
   "source": [
    "df.drop_duplicates(subset=[\"chrom\", \"name2\"], keep=\"first\", inplace=True)\n",
    "df"
   ]
  },
  {
   "cell_type": "code",
   "execution_count": 22,
   "id": "f6c29e8e-adbf-4af8-a084-846df243d5e2",
   "metadata": {
    "execution": {
     "iopub.execute_input": "2023-04-27T12:37:23.037229Z",
     "iopub.status.busy": "2023-04-27T12:37:23.036827Z",
     "iopub.status.idle": "2023-04-27T12:37:23.053154Z",
     "shell.execute_reply": "2023-04-27T12:37:23.052671Z",
     "shell.execute_reply.started": "2023-04-27T12:37:23.037206Z"
    },
    "tags": []
   },
   "outputs": [
    {
     "name": "stdout",
     "output_type": "stream",
     "text": [
      "<class 'pandas.core.frame.DataFrame'>\n",
      "Index: 28430 entries, 0 to 78361\n",
      "Data columns (total 16 columns):\n",
      " #   Column        Non-Null Count  Dtype \n",
      "---  ------        --------------  ----- \n",
      " 0   #bin          28430 non-null  int64 \n",
      " 1   name          28430 non-null  object\n",
      " 2   chrom         28430 non-null  object\n",
      " 3   strand        28430 non-null  object\n",
      " 4   txStart       28430 non-null  int64 \n",
      " 5   txEnd         28430 non-null  int64 \n",
      " 6   cdsStart      28430 non-null  int64 \n",
      " 7   cdsEnd        28430 non-null  int64 \n",
      " 8   exonCount     28430 non-null  int64 \n",
      " 9   exonStarts    28430 non-null  object\n",
      " 10  exonEnds      28430 non-null  object\n",
      " 11  score         28430 non-null  int64 \n",
      " 12  name2         28430 non-null  object\n",
      " 13  cdsStartStat  28430 non-null  object\n",
      " 14  cdsEndStat    28430 non-null  object\n",
      " 15  exonFrames    28430 non-null  object\n",
      "dtypes: int64(7), object(9)\n",
      "memory usage: 3.7+ MB\n"
     ]
    }
   ],
   "source": [
    "df.info()"
   ]
  },
  {
   "cell_type": "code",
   "execution_count": 23,
   "id": "7c2860ab-a239-4d58-834b-b9f877d82e3d",
   "metadata": {
    "execution": {
     "iopub.execute_input": "2023-04-27T12:37:23.054491Z",
     "iopub.status.busy": "2023-04-27T12:37:23.054201Z",
     "iopub.status.idle": "2023-04-27T12:37:23.063989Z",
     "shell.execute_reply": "2023-04-27T12:37:23.063318Z",
     "shell.execute_reply.started": "2023-04-27T12:37:23.054476Z"
    },
    "tags": []
   },
   "outputs": [
    {
     "data": {
      "text/plain": [
       "#bin            0\n",
       "name            0\n",
       "chrom           0\n",
       "strand          0\n",
       "txStart         0\n",
       "txEnd           0\n",
       "cdsStart        0\n",
       "cdsEnd          0\n",
       "exonCount       0\n",
       "exonStarts      0\n",
       "exonEnds        0\n",
       "score           0\n",
       "name2           0\n",
       "cdsStartStat    0\n",
       "cdsEndStat      0\n",
       "exonFrames      0\n",
       "dtype: int64"
      ]
     },
     "execution_count": 23,
     "metadata": {},
     "output_type": "execute_result"
    }
   ],
   "source": [
    "df.isna().sum()"
   ]
  },
  {
   "cell_type": "code",
   "execution_count": 24,
   "id": "033a23de-5a56-4098-8bf8-d22b46c80184",
   "metadata": {
    "execution": {
     "iopub.execute_input": "2023-04-27T12:37:23.064820Z",
     "iopub.status.busy": "2023-04-27T12:37:23.064576Z",
     "iopub.status.idle": "2023-04-27T12:37:23.076306Z",
     "shell.execute_reply": "2023-04-27T12:37:23.075876Z",
     "shell.execute_reply.started": "2023-04-27T12:37:23.064809Z"
    },
    "tags": []
   },
   "outputs": [
    {
     "data": {
      "text/plain": [
       "0        0\n",
       "1        0\n",
       "5        0\n",
       "7        0\n",
       "9        0\n",
       "        ..\n",
       "78336    0\n",
       "78337    0\n",
       "78350    0\n",
       "78351    0\n",
       "78361    0\n",
       "Length: 28430, dtype: int64"
      ]
     },
     "execution_count": 24,
     "metadata": {},
     "output_type": "execute_result"
    }
   ],
   "source": [
    "df.isna().sum(axis=1)"
   ]
  },
  {
   "cell_type": "code",
   "execution_count": 25,
   "id": "42053bbc-0d0b-4122-8b48-54242cc84704",
   "metadata": {
    "execution": {
     "iopub.execute_input": "2023-04-27T12:37:23.076922Z",
     "iopub.status.busy": "2023-04-27T12:37:23.076801Z",
     "iopub.status.idle": "2023-04-27T12:37:23.084334Z",
     "shell.execute_reply": "2023-04-27T12:37:23.083798Z",
     "shell.execute_reply.started": "2023-04-27T12:37:23.076912Z"
    },
    "tags": []
   },
   "outputs": [
    {
     "data": {
      "text/html": [
       "<div>\n",
       "<style scoped>\n",
       "    .dataframe tbody tr th:only-of-type {\n",
       "        vertical-align: middle;\n",
       "    }\n",
       "\n",
       "    .dataframe tbody tr th {\n",
       "        vertical-align: top;\n",
       "    }\n",
       "\n",
       "    .dataframe thead th {\n",
       "        text-align: right;\n",
       "    }\n",
       "</style>\n",
       "<table border=\"1\" class=\"dataframe\">\n",
       "  <thead>\n",
       "    <tr style=\"text-align: right;\">\n",
       "      <th></th>\n",
       "      <th>name2</th>\n",
       "    </tr>\n",
       "    <tr>\n",
       "      <th>chrom</th>\n",
       "      <th></th>\n",
       "    </tr>\n",
       "  </thead>\n",
       "  <tbody>\n",
       "    <tr>\n",
       "      <th>1</th>\n",
       "      <td>2842</td>\n",
       "    </tr>\n",
       "    <tr>\n",
       "      <th>10</th>\n",
       "      <td>1116</td>\n",
       "    </tr>\n",
       "    <tr>\n",
       "      <th>11</th>\n",
       "      <td>1675</td>\n",
       "    </tr>\n",
       "    <tr>\n",
       "      <th>12</th>\n",
       "      <td>1391</td>\n",
       "    </tr>\n",
       "    <tr>\n",
       "      <th>13</th>\n",
       "      <td>632</td>\n",
       "    </tr>\n",
       "    <tr>\n",
       "      <th>14</th>\n",
       "      <td>949</td>\n",
       "    </tr>\n",
       "    <tr>\n",
       "      <th>15</th>\n",
       "      <td>1012</td>\n",
       "    </tr>\n",
       "    <tr>\n",
       "      <th>16</th>\n",
       "      <td>1144</td>\n",
       "    </tr>\n",
       "    <tr>\n",
       "      <th>17</th>\n",
       "      <td>1574</td>\n",
       "    </tr>\n",
       "    <tr>\n",
       "      <th>18</th>\n",
       "      <td>430</td>\n",
       "    </tr>\n",
       "    <tr>\n",
       "      <th>19</th>\n",
       "      <td>1792</td>\n",
       "    </tr>\n",
       "    <tr>\n",
       "      <th>2</th>\n",
       "      <td>1821</td>\n",
       "    </tr>\n",
       "    <tr>\n",
       "      <th>20</th>\n",
       "      <td>781</td>\n",
       "    </tr>\n",
       "    <tr>\n",
       "      <th>21</th>\n",
       "      <td>413</td>\n",
       "    </tr>\n",
       "    <tr>\n",
       "      <th>22</th>\n",
       "      <td>643</td>\n",
       "    </tr>\n",
       "    <tr>\n",
       "      <th>3</th>\n",
       "      <td>1563</td>\n",
       "    </tr>\n",
       "    <tr>\n",
       "      <th>4</th>\n",
       "      <td>1089</td>\n",
       "    </tr>\n",
       "    <tr>\n",
       "      <th>5</th>\n",
       "      <td>1314</td>\n",
       "    </tr>\n",
       "    <tr>\n",
       "      <th>6</th>\n",
       "      <td>1454</td>\n",
       "    </tr>\n",
       "    <tr>\n",
       "      <th>7</th>\n",
       "      <td>1349</td>\n",
       "    </tr>\n",
       "    <tr>\n",
       "      <th>8</th>\n",
       "      <td>1033</td>\n",
       "    </tr>\n",
       "    <tr>\n",
       "      <th>9</th>\n",
       "      <td>1112</td>\n",
       "    </tr>\n",
       "    <tr>\n",
       "      <th>X</th>\n",
       "      <td>1158</td>\n",
       "    </tr>\n",
       "    <tr>\n",
       "      <th>Y</th>\n",
       "      <td>143</td>\n",
       "    </tr>\n",
       "  </tbody>\n",
       "</table>\n",
       "</div>"
      ],
      "text/plain": [
       "       name2\n",
       "chrom       \n",
       "1       2842\n",
       "10      1116\n",
       "11      1675\n",
       "12      1391\n",
       "13       632\n",
       "14       949\n",
       "15      1012\n",
       "16      1144\n",
       "17      1574\n",
       "18       430\n",
       "19      1792\n",
       "2       1821\n",
       "20       781\n",
       "21       413\n",
       "22       643\n",
       "3       1563\n",
       "4       1089\n",
       "5       1314\n",
       "6       1454\n",
       "7       1349\n",
       "8       1033\n",
       "9       1112\n",
       "X       1158\n",
       "Y        143"
      ]
     },
     "execution_count": 25,
     "metadata": {},
     "output_type": "execute_result"
    }
   ],
   "source": [
    "df.groupby(\"chrom\")[\"name2\"].count().to_frame()"
   ]
  },
  {
   "cell_type": "code",
   "execution_count": 26,
   "id": "6468364b-178f-498c-a441-f2b53014d411",
   "metadata": {
    "execution": {
     "iopub.execute_input": "2023-04-27T12:37:23.085264Z",
     "iopub.status.busy": "2023-04-27T12:37:23.085121Z",
     "iopub.status.idle": "2023-04-27T12:37:23.093055Z",
     "shell.execute_reply": "2023-04-27T12:37:23.092294Z",
     "shell.execute_reply.started": "2023-04-27T12:37:23.085253Z"
    },
    "tags": []
   },
   "outputs": [
    {
     "data": {
      "text/html": [
       "<div>\n",
       "<style scoped>\n",
       "    .dataframe tbody tr th:only-of-type {\n",
       "        vertical-align: middle;\n",
       "    }\n",
       "\n",
       "    .dataframe tbody tr th {\n",
       "        vertical-align: top;\n",
       "    }\n",
       "\n",
       "    .dataframe thead th {\n",
       "        text-align: right;\n",
       "    }\n",
       "</style>\n",
       "<table border=\"1\" class=\"dataframe\">\n",
       "  <thead>\n",
       "    <tr style=\"text-align: right;\">\n",
       "      <th></th>\n",
       "      <th>count</th>\n",
       "    </tr>\n",
       "    <tr>\n",
       "      <th>chrom</th>\n",
       "      <th></th>\n",
       "    </tr>\n",
       "  </thead>\n",
       "  <tbody>\n",
       "    <tr>\n",
       "      <th>1</th>\n",
       "      <td>2842</td>\n",
       "    </tr>\n",
       "    <tr>\n",
       "      <th>10</th>\n",
       "      <td>1116</td>\n",
       "    </tr>\n",
       "    <tr>\n",
       "      <th>11</th>\n",
       "      <td>1675</td>\n",
       "    </tr>\n",
       "    <tr>\n",
       "      <th>12</th>\n",
       "      <td>1391</td>\n",
       "    </tr>\n",
       "    <tr>\n",
       "      <th>13</th>\n",
       "      <td>632</td>\n",
       "    </tr>\n",
       "    <tr>\n",
       "      <th>14</th>\n",
       "      <td>949</td>\n",
       "    </tr>\n",
       "    <tr>\n",
       "      <th>15</th>\n",
       "      <td>1012</td>\n",
       "    </tr>\n",
       "    <tr>\n",
       "      <th>16</th>\n",
       "      <td>1144</td>\n",
       "    </tr>\n",
       "    <tr>\n",
       "      <th>17</th>\n",
       "      <td>1574</td>\n",
       "    </tr>\n",
       "    <tr>\n",
       "      <th>18</th>\n",
       "      <td>430</td>\n",
       "    </tr>\n",
       "    <tr>\n",
       "      <th>19</th>\n",
       "      <td>1792</td>\n",
       "    </tr>\n",
       "    <tr>\n",
       "      <th>2</th>\n",
       "      <td>1821</td>\n",
       "    </tr>\n",
       "    <tr>\n",
       "      <th>20</th>\n",
       "      <td>781</td>\n",
       "    </tr>\n",
       "    <tr>\n",
       "      <th>21</th>\n",
       "      <td>413</td>\n",
       "    </tr>\n",
       "    <tr>\n",
       "      <th>22</th>\n",
       "      <td>643</td>\n",
       "    </tr>\n",
       "    <tr>\n",
       "      <th>3</th>\n",
       "      <td>1563</td>\n",
       "    </tr>\n",
       "    <tr>\n",
       "      <th>4</th>\n",
       "      <td>1089</td>\n",
       "    </tr>\n",
       "    <tr>\n",
       "      <th>5</th>\n",
       "      <td>1314</td>\n",
       "    </tr>\n",
       "    <tr>\n",
       "      <th>6</th>\n",
       "      <td>1454</td>\n",
       "    </tr>\n",
       "    <tr>\n",
       "      <th>7</th>\n",
       "      <td>1349</td>\n",
       "    </tr>\n",
       "    <tr>\n",
       "      <th>8</th>\n",
       "      <td>1033</td>\n",
       "    </tr>\n",
       "    <tr>\n",
       "      <th>9</th>\n",
       "      <td>1112</td>\n",
       "    </tr>\n",
       "    <tr>\n",
       "      <th>X</th>\n",
       "      <td>1158</td>\n",
       "    </tr>\n",
       "    <tr>\n",
       "      <th>Y</th>\n",
       "      <td>143</td>\n",
       "    </tr>\n",
       "  </tbody>\n",
       "</table>\n",
       "</div>"
      ],
      "text/plain": [
       "       count\n",
       "chrom       \n",
       "1       2842\n",
       "10      1116\n",
       "11      1675\n",
       "12      1391\n",
       "13       632\n",
       "14       949\n",
       "15      1012\n",
       "16      1144\n",
       "17      1574\n",
       "18       430\n",
       "19      1792\n",
       "2       1821\n",
       "20       781\n",
       "21       413\n",
       "22       643\n",
       "3       1563\n",
       "4       1089\n",
       "5       1314\n",
       "6       1454\n",
       "7       1349\n",
       "8       1033\n",
       "9       1112\n",
       "X       1158\n",
       "Y        143"
      ]
     },
     "execution_count": 26,
     "metadata": {},
     "output_type": "execute_result"
    }
   ],
   "source": [
    "df_count_genes = df.groupby(\"chrom\")[\"name2\"].count().to_frame()\n",
    "df_count_genes.columns = [\"count\"]\n",
    "df_count_genes"
   ]
  },
  {
   "cell_type": "code",
   "execution_count": 27,
   "id": "09736a72-d2a6-41d7-af55-4af815126ab2",
   "metadata": {
    "execution": {
     "iopub.execute_input": "2023-04-27T12:37:23.094368Z",
     "iopub.status.busy": "2023-04-27T12:37:23.094156Z",
     "iopub.status.idle": "2023-04-27T12:37:23.101109Z",
     "shell.execute_reply": "2023-04-27T12:37:23.100513Z",
     "shell.execute_reply.started": "2023-04-27T12:37:23.094355Z"
    },
    "tags": []
   },
   "outputs": [
    {
     "data": {
      "text/html": [
       "<div>\n",
       "<style scoped>\n",
       "    .dataframe tbody tr th:only-of-type {\n",
       "        vertical-align: middle;\n",
       "    }\n",
       "\n",
       "    .dataframe tbody tr th {\n",
       "        vertical-align: top;\n",
       "    }\n",
       "\n",
       "    .dataframe thead th {\n",
       "        text-align: right;\n",
       "    }\n",
       "</style>\n",
       "<table border=\"1\" class=\"dataframe\">\n",
       "  <thead>\n",
       "    <tr style=\"text-align: right;\">\n",
       "      <th></th>\n",
       "      <th>count</th>\n",
       "    </tr>\n",
       "    <tr>\n",
       "      <th>chrom</th>\n",
       "      <th></th>\n",
       "    </tr>\n",
       "  </thead>\n",
       "  <tbody>\n",
       "    <tr>\n",
       "      <th>1</th>\n",
       "      <td>2842</td>\n",
       "    </tr>\n",
       "    <tr>\n",
       "      <th>2</th>\n",
       "      <td>1821</td>\n",
       "    </tr>\n",
       "    <tr>\n",
       "      <th>3</th>\n",
       "      <td>1563</td>\n",
       "    </tr>\n",
       "    <tr>\n",
       "      <th>4</th>\n",
       "      <td>1089</td>\n",
       "    </tr>\n",
       "    <tr>\n",
       "      <th>5</th>\n",
       "      <td>1314</td>\n",
       "    </tr>\n",
       "    <tr>\n",
       "      <th>6</th>\n",
       "      <td>1454</td>\n",
       "    </tr>\n",
       "    <tr>\n",
       "      <th>7</th>\n",
       "      <td>1349</td>\n",
       "    </tr>\n",
       "    <tr>\n",
       "      <th>8</th>\n",
       "      <td>1033</td>\n",
       "    </tr>\n",
       "    <tr>\n",
       "      <th>9</th>\n",
       "      <td>1112</td>\n",
       "    </tr>\n",
       "    <tr>\n",
       "      <th>10</th>\n",
       "      <td>1116</td>\n",
       "    </tr>\n",
       "    <tr>\n",
       "      <th>11</th>\n",
       "      <td>1675</td>\n",
       "    </tr>\n",
       "    <tr>\n",
       "      <th>12</th>\n",
       "      <td>1391</td>\n",
       "    </tr>\n",
       "    <tr>\n",
       "      <th>13</th>\n",
       "      <td>632</td>\n",
       "    </tr>\n",
       "    <tr>\n",
       "      <th>14</th>\n",
       "      <td>949</td>\n",
       "    </tr>\n",
       "    <tr>\n",
       "      <th>15</th>\n",
       "      <td>1012</td>\n",
       "    </tr>\n",
       "    <tr>\n",
       "      <th>16</th>\n",
       "      <td>1144</td>\n",
       "    </tr>\n",
       "    <tr>\n",
       "      <th>17</th>\n",
       "      <td>1574</td>\n",
       "    </tr>\n",
       "    <tr>\n",
       "      <th>18</th>\n",
       "      <td>430</td>\n",
       "    </tr>\n",
       "    <tr>\n",
       "      <th>19</th>\n",
       "      <td>1792</td>\n",
       "    </tr>\n",
       "    <tr>\n",
       "      <th>20</th>\n",
       "      <td>781</td>\n",
       "    </tr>\n",
       "    <tr>\n",
       "      <th>21</th>\n",
       "      <td>413</td>\n",
       "    </tr>\n",
       "    <tr>\n",
       "      <th>22</th>\n",
       "      <td>643</td>\n",
       "    </tr>\n",
       "    <tr>\n",
       "      <th>X</th>\n",
       "      <td>1158</td>\n",
       "    </tr>\n",
       "    <tr>\n",
       "      <th>Y</th>\n",
       "      <td>143</td>\n",
       "    </tr>\n",
       "  </tbody>\n",
       "</table>\n",
       "</div>"
      ],
      "text/plain": [
       "       count\n",
       "chrom       \n",
       "1       2842\n",
       "2       1821\n",
       "3       1563\n",
       "4       1089\n",
       "5       1314\n",
       "6       1454\n",
       "7       1349\n",
       "8       1033\n",
       "9       1112\n",
       "10      1116\n",
       "11      1675\n",
       "12      1391\n",
       "13       632\n",
       "14       949\n",
       "15      1012\n",
       "16      1144\n",
       "17      1574\n",
       "18       430\n",
       "19      1792\n",
       "20       781\n",
       "21       413\n",
       "22       643\n",
       "X       1158\n",
       "Y        143"
      ]
     },
     "execution_count": 27,
     "metadata": {},
     "output_type": "execute_result"
    }
   ],
   "source": [
    "# aim_chroms\n",
    "df_count_genes = df_count_genes.loc[aim_chroms,].copy()\n",
    "df_count_genes"
   ]
  },
  {
   "cell_type": "code",
   "execution_count": 28,
   "id": "655e390a-99d0-43b5-8d2e-0cc05e2d747f",
   "metadata": {
    "execution": {
     "iopub.execute_input": "2023-04-27T12:37:23.105027Z",
     "iopub.status.busy": "2023-04-27T12:37:23.104740Z",
     "iopub.status.idle": "2023-04-27T12:37:23.111178Z",
     "shell.execute_reply": "2023-04-27T12:37:23.110393Z",
     "shell.execute_reply.started": "2023-04-27T12:37:23.105014Z"
    },
    "tags": []
   },
   "outputs": [
    {
     "data": {
      "text/html": [
       "<div>\n",
       "<style scoped>\n",
       "    .dataframe tbody tr th:only-of-type {\n",
       "        vertical-align: middle;\n",
       "    }\n",
       "\n",
       "    .dataframe tbody tr th {\n",
       "        vertical-align: top;\n",
       "    }\n",
       "\n",
       "    .dataframe thead th {\n",
       "        text-align: right;\n",
       "    }\n",
       "</style>\n",
       "<table border=\"1\" class=\"dataframe\">\n",
       "  <thead>\n",
       "    <tr style=\"text-align: right;\">\n",
       "      <th></th>\n",
       "      <th>chrom</th>\n",
       "      <th>count</th>\n",
       "    </tr>\n",
       "  </thead>\n",
       "  <tbody>\n",
       "    <tr>\n",
       "      <th>0</th>\n",
       "      <td>1</td>\n",
       "      <td>2842</td>\n",
       "    </tr>\n",
       "    <tr>\n",
       "      <th>1</th>\n",
       "      <td>2</td>\n",
       "      <td>1821</td>\n",
       "    </tr>\n",
       "    <tr>\n",
       "      <th>2</th>\n",
       "      <td>3</td>\n",
       "      <td>1563</td>\n",
       "    </tr>\n",
       "    <tr>\n",
       "      <th>3</th>\n",
       "      <td>4</td>\n",
       "      <td>1089</td>\n",
       "    </tr>\n",
       "    <tr>\n",
       "      <th>4</th>\n",
       "      <td>5</td>\n",
       "      <td>1314</td>\n",
       "    </tr>\n",
       "    <tr>\n",
       "      <th>5</th>\n",
       "      <td>6</td>\n",
       "      <td>1454</td>\n",
       "    </tr>\n",
       "    <tr>\n",
       "      <th>6</th>\n",
       "      <td>7</td>\n",
       "      <td>1349</td>\n",
       "    </tr>\n",
       "    <tr>\n",
       "      <th>7</th>\n",
       "      <td>8</td>\n",
       "      <td>1033</td>\n",
       "    </tr>\n",
       "    <tr>\n",
       "      <th>8</th>\n",
       "      <td>9</td>\n",
       "      <td>1112</td>\n",
       "    </tr>\n",
       "    <tr>\n",
       "      <th>9</th>\n",
       "      <td>10</td>\n",
       "      <td>1116</td>\n",
       "    </tr>\n",
       "    <tr>\n",
       "      <th>10</th>\n",
       "      <td>11</td>\n",
       "      <td>1675</td>\n",
       "    </tr>\n",
       "    <tr>\n",
       "      <th>11</th>\n",
       "      <td>12</td>\n",
       "      <td>1391</td>\n",
       "    </tr>\n",
       "    <tr>\n",
       "      <th>12</th>\n",
       "      <td>13</td>\n",
       "      <td>632</td>\n",
       "    </tr>\n",
       "    <tr>\n",
       "      <th>13</th>\n",
       "      <td>14</td>\n",
       "      <td>949</td>\n",
       "    </tr>\n",
       "    <tr>\n",
       "      <th>14</th>\n",
       "      <td>15</td>\n",
       "      <td>1012</td>\n",
       "    </tr>\n",
       "    <tr>\n",
       "      <th>15</th>\n",
       "      <td>16</td>\n",
       "      <td>1144</td>\n",
       "    </tr>\n",
       "    <tr>\n",
       "      <th>16</th>\n",
       "      <td>17</td>\n",
       "      <td>1574</td>\n",
       "    </tr>\n",
       "    <tr>\n",
       "      <th>17</th>\n",
       "      <td>18</td>\n",
       "      <td>430</td>\n",
       "    </tr>\n",
       "    <tr>\n",
       "      <th>18</th>\n",
       "      <td>19</td>\n",
       "      <td>1792</td>\n",
       "    </tr>\n",
       "    <tr>\n",
       "      <th>19</th>\n",
       "      <td>20</td>\n",
       "      <td>781</td>\n",
       "    </tr>\n",
       "    <tr>\n",
       "      <th>20</th>\n",
       "      <td>21</td>\n",
       "      <td>413</td>\n",
       "    </tr>\n",
       "    <tr>\n",
       "      <th>21</th>\n",
       "      <td>22</td>\n",
       "      <td>643</td>\n",
       "    </tr>\n",
       "    <tr>\n",
       "      <th>22</th>\n",
       "      <td>X</td>\n",
       "      <td>1158</td>\n",
       "    </tr>\n",
       "    <tr>\n",
       "      <th>23</th>\n",
       "      <td>Y</td>\n",
       "      <td>143</td>\n",
       "    </tr>\n",
       "  </tbody>\n",
       "</table>\n",
       "</div>"
      ],
      "text/plain": [
       "   chrom  count\n",
       "0      1   2842\n",
       "1      2   1821\n",
       "2      3   1563\n",
       "3      4   1089\n",
       "4      5   1314\n",
       "5      6   1454\n",
       "6      7   1349\n",
       "7      8   1033\n",
       "8      9   1112\n",
       "9     10   1116\n",
       "10    11   1675\n",
       "11    12   1391\n",
       "12    13    632\n",
       "13    14    949\n",
       "14    15   1012\n",
       "15    16   1144\n",
       "16    17   1574\n",
       "17    18    430\n",
       "18    19   1792\n",
       "19    20    781\n",
       "20    21    413\n",
       "21    22    643\n",
       "22     X   1158\n",
       "23     Y    143"
      ]
     },
     "execution_count": 28,
     "metadata": {},
     "output_type": "execute_result"
    }
   ],
   "source": [
    "df_count_genes.reset_index(inplace=True)\n",
    "df_count_genes"
   ]
  },
  {
   "cell_type": "markdown",
   "id": "8d484ccd-4fbe-4a33-b555-0fb2a4ad9d0c",
   "metadata": {},
   "source": [
    "## plot"
   ]
  },
  {
   "cell_type": "markdown",
   "id": "32b04a57-bf80-4b65-b6c6-325da7e08940",
   "metadata": {},
   "source": [
    "### plot count per chromosome"
   ]
  },
  {
   "cell_type": "code",
   "execution_count": 29,
   "id": "354ec7c4-041f-4bfd-914c-230bd6c2b11f",
   "metadata": {
    "execution": {
     "iopub.execute_input": "2023-04-27T12:37:23.112147Z",
     "iopub.status.busy": "2023-04-27T12:37:23.111794Z",
     "iopub.status.idle": "2023-04-27T12:37:23.358327Z",
     "shell.execute_reply": "2023-04-27T12:37:23.357832Z",
     "shell.execute_reply.started": "2023-04-27T12:37:23.112134Z"
    },
    "tags": []
   },
   "outputs": [
    {
     "data": {
      "text/plain": [
       "<Axes: xlabel='chrom', ylabel='count'>"
      ]
     },
     "execution_count": 29,
     "metadata": {},
     "output_type": "execute_result"
    },
    {
     "data": {
      "image/png": "[encoded data removed]",
      "text/plain": [
       "<Figure size 640x480 with 1 Axes>"
      ]
     },
     "metadata": {},
     "output_type": "display_data"
    }
   ],
   "source": [
    "sns.barplot(data=df_count_genes, x=\"chrom\", y=\"count\")"
   ]
  },
  {
   "cell_type": "code",
   "execution_count": 30,
   "id": "b835b40d-97fe-4fae-b963-77e0513c487e",
   "metadata": {
    "execution": {
     "iopub.execute_input": "2023-04-27T12:37:23.359299Z",
     "iopub.status.busy": "2023-04-27T12:37:23.359135Z",
     "iopub.status.idle": "2023-04-27T12:37:23.365745Z",
     "shell.execute_reply": "2023-04-27T12:37:23.365259Z",
     "shell.execute_reply.started": "2023-04-27T12:37:23.359287Z"
    },
    "tags": []
   },
   "outputs": [
    {
     "data": {
      "text/html": [
       "<div>\n",
       "<style scoped>\n",
       "    .dataframe tbody tr th:only-of-type {\n",
       "        vertical-align: middle;\n",
       "    }\n",
       "\n",
       "    .dataframe tbody tr th {\n",
       "        vertical-align: top;\n",
       "    }\n",
       "\n",
       "    .dataframe thead th {\n",
       "        text-align: right;\n",
       "    }\n",
       "</style>\n",
       "<table border=\"1\" class=\"dataframe\">\n",
       "  <thead>\n",
       "    <tr style=\"text-align: right;\">\n",
       "      <th></th>\n",
       "      <th>chrom</th>\n",
       "      <th>count</th>\n",
       "      <th>log2_count</th>\n",
       "    </tr>\n",
       "  </thead>\n",
       "  <tbody>\n",
       "    <tr>\n",
       "      <th>0</th>\n",
       "      <td>1</td>\n",
       "      <td>2842</td>\n",
       "      <td>11.472691</td>\n",
       "    </tr>\n",
       "    <tr>\n",
       "      <th>1</th>\n",
       "      <td>2</td>\n",
       "      <td>1821</td>\n",
       "      <td>10.830515</td>\n",
       "    </tr>\n",
       "    <tr>\n",
       "      <th>2</th>\n",
       "      <td>3</td>\n",
       "      <td>1563</td>\n",
       "      <td>10.610102</td>\n",
       "    </tr>\n",
       "    <tr>\n",
       "      <th>3</th>\n",
       "      <td>4</td>\n",
       "      <td>1089</td>\n",
       "      <td>10.088788</td>\n",
       "    </tr>\n",
       "    <tr>\n",
       "      <th>4</th>\n",
       "      <td>5</td>\n",
       "      <td>1314</td>\n",
       "      <td>10.359750</td>\n",
       "    </tr>\n",
       "    <tr>\n",
       "      <th>5</th>\n",
       "      <td>6</td>\n",
       "      <td>1454</td>\n",
       "      <td>10.505812</td>\n",
       "    </tr>\n",
       "    <tr>\n",
       "      <th>6</th>\n",
       "      <td>7</td>\n",
       "      <td>1349</td>\n",
       "      <td>10.397675</td>\n",
       "    </tr>\n",
       "    <tr>\n",
       "      <th>7</th>\n",
       "      <td>8</td>\n",
       "      <td>1033</td>\n",
       "      <td>10.012625</td>\n",
       "    </tr>\n",
       "    <tr>\n",
       "      <th>8</th>\n",
       "      <td>9</td>\n",
       "      <td>1112</td>\n",
       "      <td>10.118941</td>\n",
       "    </tr>\n",
       "    <tr>\n",
       "      <th>9</th>\n",
       "      <td>10</td>\n",
       "      <td>1116</td>\n",
       "      <td>10.124121</td>\n",
       "    </tr>\n",
       "    <tr>\n",
       "      <th>10</th>\n",
       "      <td>11</td>\n",
       "      <td>1675</td>\n",
       "      <td>10.709945</td>\n",
       "    </tr>\n",
       "    <tr>\n",
       "      <th>11</th>\n",
       "      <td>12</td>\n",
       "      <td>1391</td>\n",
       "      <td>10.441907</td>\n",
       "    </tr>\n",
       "    <tr>\n",
       "      <th>12</th>\n",
       "      <td>13</td>\n",
       "      <td>632</td>\n",
       "      <td>9.303781</td>\n",
       "    </tr>\n",
       "    <tr>\n",
       "      <th>13</th>\n",
       "      <td>14</td>\n",
       "      <td>949</td>\n",
       "      <td>9.890264</td>\n",
       "    </tr>\n",
       "    <tr>\n",
       "      <th>14</th>\n",
       "      <td>15</td>\n",
       "      <td>1012</td>\n",
       "      <td>9.982994</td>\n",
       "    </tr>\n",
       "    <tr>\n",
       "      <th>15</th>\n",
       "      <td>16</td>\n",
       "      <td>1144</td>\n",
       "      <td>10.159871</td>\n",
       "    </tr>\n",
       "    <tr>\n",
       "      <th>16</th>\n",
       "      <td>17</td>\n",
       "      <td>1574</td>\n",
       "      <td>10.620220</td>\n",
       "    </tr>\n",
       "    <tr>\n",
       "      <th>17</th>\n",
       "      <td>18</td>\n",
       "      <td>430</td>\n",
       "      <td>8.748193</td>\n",
       "    </tr>\n",
       "    <tr>\n",
       "      <th>18</th>\n",
       "      <td>19</td>\n",
       "      <td>1792</td>\n",
       "      <td>10.807355</td>\n",
       "    </tr>\n",
       "    <tr>\n",
       "      <th>19</th>\n",
       "      <td>20</td>\n",
       "      <td>781</td>\n",
       "      <td>9.609179</td>\n",
       "    </tr>\n",
       "    <tr>\n",
       "      <th>20</th>\n",
       "      <td>21</td>\n",
       "      <td>413</td>\n",
       "      <td>8.689998</td>\n",
       "    </tr>\n",
       "    <tr>\n",
       "      <th>21</th>\n",
       "      <td>22</td>\n",
       "      <td>643</td>\n",
       "      <td>9.328675</td>\n",
       "    </tr>\n",
       "    <tr>\n",
       "      <th>22</th>\n",
       "      <td>X</td>\n",
       "      <td>1158</td>\n",
       "      <td>10.177420</td>\n",
       "    </tr>\n",
       "    <tr>\n",
       "      <th>23</th>\n",
       "      <td>Y</td>\n",
       "      <td>143</td>\n",
       "      <td>7.159871</td>\n",
       "    </tr>\n",
       "  </tbody>\n",
       "</table>\n",
       "</div>"
      ],
      "text/plain": [
       "   chrom  count  log2_count\n",
       "0      1   2842   11.472691\n",
       "1      2   1821   10.830515\n",
       "2      3   1563   10.610102\n",
       "3      4   1089   10.088788\n",
       "4      5   1314   10.359750\n",
       "5      6   1454   10.505812\n",
       "6      7   1349   10.397675\n",
       "7      8   1033   10.012625\n",
       "8      9   1112   10.118941\n",
       "9     10   1116   10.124121\n",
       "10    11   1675   10.709945\n",
       "11    12   1391   10.441907\n",
       "12    13    632    9.303781\n",
       "13    14    949    9.890264\n",
       "14    15   1012    9.982994\n",
       "15    16   1144   10.159871\n",
       "16    17   1574   10.620220\n",
       "17    18    430    8.748193\n",
       "18    19   1792   10.807355\n",
       "19    20    781    9.609179\n",
       "20    21    413    8.689998\n",
       "21    22    643    9.328675\n",
       "22     X   1158   10.177420\n",
       "23     Y    143    7.159871"
      ]
     },
     "execution_count": 30,
     "metadata": {},
     "output_type": "execute_result"
    }
   ],
   "source": [
    "df_count_genes[\"log2_count\"] = df_count_genes[\"count\"].map(math.log2)\n",
    "df_count_genes"
   ]
  },
  {
   "cell_type": "code",
   "execution_count": 31,
   "id": "c40bec7b-2a72-4fd2-9b24-183dc2163dee",
   "metadata": {
    "execution": {
     "iopub.execute_input": "2023-04-27T12:37:23.366851Z",
     "iopub.status.busy": "2023-04-27T12:37:23.366563Z",
     "iopub.status.idle": "2023-04-27T12:37:23.567351Z",
     "shell.execute_reply": "2023-04-27T12:37:23.566895Z",
     "shell.execute_reply.started": "2023-04-27T12:37:23.366836Z"
    },
    "tags": []
   },
   "outputs": [
    {
     "data": {
      "text/plain": [
       "<Axes: xlabel='chrom', ylabel='log2_count'>"
      ]
     },
     "execution_count": 31,
     "metadata": {},
     "output_type": "execute_result"
    },
    {
     "data": {
      "image/png": "[encoded data removed]",
      "text/plain": [
       "<Figure size 640x480 with 1 Axes>"
      ]
     },
     "metadata": {},
     "output_type": "display_data"
    }
   ],
   "source": [
    "sns.barplot(data=df_count_genes, x=\"chrom\", y=\"log2_count\")"
   ]
  },
  {
   "attachments": {
    "cdd2a132-5292-4aa7-aeae-70e8d3d188c4.png": {
     "image/png": "[encoded data removed]"
    }
   },
   "cell_type": "markdown",
   "id": "3dd487aa-b538-4d51-b1cb-11492fd4b9dc",
   "metadata": {},
   "source": [
    "![image.png](attachment:cdd2a132-5292-4aa7-aeae-70e8d3d188c4.png)"
   ]
  },
  {
   "cell_type": "code",
   "execution_count": 32,
   "id": "b5181736-b1da-4c6a-ae39-f503abee1900",
   "metadata": {
    "execution": {
     "iopub.execute_input": "2023-04-27T12:37:23.568212Z",
     "iopub.status.busy": "2023-04-27T12:37:23.567969Z",
     "iopub.status.idle": "2023-04-27T12:37:23.578566Z",
     "shell.execute_reply": "2023-04-27T12:37:23.577953Z",
     "shell.execute_reply.started": "2023-04-27T12:37:23.568201Z"
    },
    "tags": []
   },
   "outputs": [
    {
     "data": {
      "text/plain": [
       "#bin            0\n",
       "name            0\n",
       "chrom           0\n",
       "strand          0\n",
       "txStart         0\n",
       "txEnd           0\n",
       "cdsStart        0\n",
       "cdsEnd          0\n",
       "exonCount       0\n",
       "exonStarts      0\n",
       "exonEnds        0\n",
       "score           0\n",
       "name2           0\n",
       "cdsStartStat    0\n",
       "cdsEndStat      0\n",
       "exonFrames      0\n",
       "dtype: int64"
      ]
     },
     "execution_count": 32,
     "metadata": {},
     "output_type": "execute_result"
    }
   ],
   "source": [
    "df.isna().sum()"
   ]
  },
  {
   "cell_type": "code",
   "execution_count": 33,
   "id": "fe55fa84-45d6-4398-bbf1-162991888089",
   "metadata": {
    "execution": {
     "iopub.execute_input": "2023-04-27T12:37:23.579466Z",
     "iopub.status.busy": "2023-04-27T12:37:23.579321Z",
     "iopub.status.idle": "2023-04-27T12:37:23.587158Z",
     "shell.execute_reply": "2023-04-27T12:37:23.586441Z",
     "shell.execute_reply.started": "2023-04-27T12:37:23.579455Z"
    },
    "tags": []
   },
   "outputs": [
    {
     "data": {
      "text/html": [
       "<div>\n",
       "<style scoped>\n",
       "    .dataframe tbody tr th:only-of-type {\n",
       "        vertical-align: middle;\n",
       "    }\n",
       "\n",
       "    .dataframe tbody tr th {\n",
       "        vertical-align: top;\n",
       "    }\n",
       "\n",
       "    .dataframe thead th {\n",
       "        text-align: right;\n",
       "    }\n",
       "</style>\n",
       "<table border=\"1\" class=\"dataframe\">\n",
       "  <thead>\n",
       "    <tr style=\"text-align: right;\">\n",
       "      <th></th>\n",
       "      <th>#bin</th>\n",
       "      <th>name</th>\n",
       "      <th>chrom</th>\n",
       "      <th>strand</th>\n",
       "      <th>txStart</th>\n",
       "      <th>txEnd</th>\n",
       "      <th>cdsStart</th>\n",
       "      <th>cdsEnd</th>\n",
       "      <th>exonCount</th>\n",
       "      <th>exonStarts</th>\n",
       "      <th>exonEnds</th>\n",
       "      <th>score</th>\n",
       "      <th>name2</th>\n",
       "      <th>cdsStartStat</th>\n",
       "      <th>cdsEndStat</th>\n",
       "      <th>exonFrames</th>\n",
       "    </tr>\n",
       "  </thead>\n",
       "  <tbody>\n",
       "    <tr>\n",
       "      <th>0</th>\n",
       "      <td>0</td>\n",
       "      <td>NM_000299</td>\n",
       "      <td>1</td>\n",
       "      <td>+</td>\n",
       "      <td>201283451</td>\n",
       "      <td>201332993</td>\n",
       "      <td>201283702</td>\n",
       "      <td>201328836</td>\n",
       "      <td>15</td>\n",
       "      <td>201283451,201293941,201313165,201316552,201317...</td>\n",
       "      <td>201283904,201294045,201313560,201316697,201317...</td>\n",
       "      <td>0</td>\n",
       "      <td>PKP1</td>\n",
       "      <td>cmpl</td>\n",
       "      <td>cmpl</td>\n",
       "      <td>0,1,0,2,0,1,2,2,0,0,0,1,2,0,-1,</td>\n",
       "    </tr>\n",
       "    <tr>\n",
       "      <th>1</th>\n",
       "      <td>0</td>\n",
       "      <td>NM_001276351</td>\n",
       "      <td>1</td>\n",
       "      <td>-</td>\n",
       "      <td>67092165</td>\n",
       "      <td>67134970</td>\n",
       "      <td>67093004</td>\n",
       "      <td>67127240</td>\n",
       "      <td>8</td>\n",
       "      <td>67092165,67095234,67096251,67115351,67125751,6...</td>\n",
       "      <td>67093604,67095421,67096321,67115464,67125909,6...</td>\n",
       "      <td>0</td>\n",
       "      <td>C1orf141</td>\n",
       "      <td>cmpl</td>\n",
       "      <td>cmpl</td>\n",
       "      <td>0,2,1,2,0,0,-1,-1,</td>\n",
       "    </tr>\n",
       "    <tr>\n",
       "      <th>5</th>\n",
       "      <td>1</td>\n",
       "      <td>NM_001042681</td>\n",
       "      <td>1</td>\n",
       "      <td>-</td>\n",
       "      <td>8352403</td>\n",
       "      <td>8817640</td>\n",
       "      <td>8355086</td>\n",
       "      <td>8656297</td>\n",
       "      <td>23</td>\n",
       "      <td>8352403,8355418,8356099,8358195,8359763,836011...</td>\n",
       "      <td>8355120,8355599,8356246,8358916,8359986,836149...</td>\n",
       "      <td>0</td>\n",
       "      <td>RERE</td>\n",
       "      <td>cmpl</td>\n",
       "      <td>cmpl</td>\n",
       "      <td>2,1,1,0,2,0,0,0,1,1,0,0,0,2,0,2,2,1,0,0,1,0,-1,</td>\n",
       "    </tr>\n",
       "    <tr>\n",
       "      <th>7</th>\n",
       "      <td>1</td>\n",
       "      <td>NR_038261</td>\n",
       "      <td>1</td>\n",
       "      <td>-</td>\n",
       "      <td>41847188</td>\n",
       "      <td>42035934</td>\n",
       "      <td>42035934</td>\n",
       "      <td>42035934</td>\n",
       "      <td>4</td>\n",
       "      <td>41847188,41848870,41918412,42035806,</td>\n",
       "      <td>41848445,41849089,41918524,42035934,</td>\n",
       "      <td>0</td>\n",
       "      <td>HIVEP3</td>\n",
       "      <td>unk</td>\n",
       "      <td>unk</td>\n",
       "      <td>-1,-1,-1,-1,</td>\n",
       "    </tr>\n",
       "    <tr>\n",
       "      <th>9</th>\n",
       "      <td>1</td>\n",
       "      <td>NM_001281956</td>\n",
       "      <td>1</td>\n",
       "      <td>-</td>\n",
       "      <td>33513997</td>\n",
       "      <td>34165230</td>\n",
       "      <td>33519517</td>\n",
       "      <td>34165097</td>\n",
       "      <td>71</td>\n",
       "      <td>33513997,33519464,33519811,33521462,33523306,3...</td>\n",
       "      <td>33516570,33519677,33519950,33521550,33523419,3...</td>\n",
       "      <td>0</td>\n",
       "      <td>CSMD2</td>\n",
       "      <td>cmpl</td>\n",
       "      <td>cmpl</td>\n",
       "      <td>-1,2,1,0,1,1,1,1,0,1,1,1,1,1,1,1,1,1,1,1,1,1,1...</td>\n",
       "    </tr>\n",
       "  </tbody>\n",
       "</table>\n",
       "</div>"
      ],
      "text/plain": [
       "   #bin          name chrom strand    txStart      txEnd   cdsStart   \n",
       "0     0     NM_000299     1      +  201283451  201332993  201283702  \\\n",
       "1     0  NM_001276351     1      -   67092165   67134970   67093004   \n",
       "5     1  NM_001042681     1      -    8352403    8817640    8355086   \n",
       "7     1     NR_038261     1      -   41847188   42035934   42035934   \n",
       "9     1  NM_001281956     1      -   33513997   34165230   33519517   \n",
       "\n",
       "      cdsEnd  exonCount                                         exonStarts   \n",
       "0  201328836         15  201283451,201293941,201313165,201316552,201317...  \\\n",
       "1   67127240          8  67092165,67095234,67096251,67115351,67125751,6...   \n",
       "5    8656297         23  8352403,8355418,8356099,8358195,8359763,836011...   \n",
       "7   42035934          4               41847188,41848870,41918412,42035806,   \n",
       "9   34165097         71  33513997,33519464,33519811,33521462,33523306,3...   \n",
       "\n",
       "                                            exonEnds  score     name2   \n",
       "0  201283904,201294045,201313560,201316697,201317...      0      PKP1  \\\n",
       "1  67093604,67095421,67096321,67115464,67125909,6...      0  C1orf141   \n",
       "5  8355120,8355599,8356246,8358916,8359986,836149...      0      RERE   \n",
       "7               41848445,41849089,41918524,42035934,      0    HIVEP3   \n",
       "9  33516570,33519677,33519950,33521550,33523419,3...      0     CSMD2   \n",
       "\n",
       "  cdsStartStat cdsEndStat                                         exonFrames  \n",
       "0         cmpl       cmpl                    0,1,0,2,0,1,2,2,0,0,0,1,2,0,-1,  \n",
       "1         cmpl       cmpl                                 0,2,1,2,0,0,-1,-1,  \n",
       "5         cmpl       cmpl    2,1,1,0,2,0,0,0,1,1,0,0,0,2,0,2,2,1,0,0,1,0,-1,  \n",
       "7          unk        unk                                       -1,-1,-1,-1,  \n",
       "9         cmpl       cmpl  -1,2,1,0,1,1,1,1,0,1,1,1,1,1,1,1,1,1,1,1,1,1,1...  "
      ]
     },
     "execution_count": 33,
     "metadata": {},
     "output_type": "execute_result"
    }
   ],
   "source": [
    "df.head()"
   ]
  },
  {
   "cell_type": "code",
   "execution_count": 34,
   "id": "caeed03e-4c47-4e68-8a41-7c18fad6d920",
   "metadata": {
    "execution": {
     "iopub.execute_input": "2023-04-27T12:37:23.587899Z",
     "iopub.status.busy": "2023-04-27T12:37:23.587760Z",
     "iopub.status.idle": "2023-04-27T12:37:23.592816Z",
     "shell.execute_reply": "2023-04-27T12:37:23.592181Z",
     "shell.execute_reply.started": "2023-04-27T12:37:23.587888Z"
    },
    "tags": []
   },
   "outputs": [
    {
     "data": {
      "text/plain": [
       "248.919146"
      ]
     },
     "execution_count": 34,
     "metadata": {},
     "output_type": "execute_result"
    }
   ],
   "source": [
    "df[\"txEnd\"].max() / 1_000_000"
   ]
  },
  {
   "cell_type": "code",
   "execution_count": 35,
   "id": "02ab39d2-f1a0-4aa1-8a97-5335ccd89253",
   "metadata": {
    "execution": {
     "iopub.execute_input": "2023-04-27T12:37:23.593994Z",
     "iopub.status.busy": "2023-04-27T12:37:23.593585Z",
     "iopub.status.idle": "2023-04-27T12:37:23.610615Z",
     "shell.execute_reply": "2023-04-27T12:37:23.610186Z",
     "shell.execute_reply.started": "2023-04-27T12:37:23.593976Z"
    },
    "tags": []
   },
   "outputs": [
    {
     "data": {
      "text/html": [
       "<div>\n",
       "<style scoped>\n",
       "    .dataframe tbody tr th:only-of-type {\n",
       "        vertical-align: middle;\n",
       "    }\n",
       "\n",
       "    .dataframe tbody tr th {\n",
       "        vertical-align: top;\n",
       "    }\n",
       "\n",
       "    .dataframe thead th {\n",
       "        text-align: right;\n",
       "    }\n",
       "</style>\n",
       "<table border=\"1\" class=\"dataframe\">\n",
       "  <thead>\n",
       "    <tr style=\"text-align: right;\">\n",
       "      <th></th>\n",
       "      <th>#bin</th>\n",
       "      <th>name</th>\n",
       "      <th>chrom</th>\n",
       "      <th>strand</th>\n",
       "      <th>txStart</th>\n",
       "      <th>txEnd</th>\n",
       "      <th>cdsStart</th>\n",
       "      <th>cdsEnd</th>\n",
       "      <th>exonCount</th>\n",
       "      <th>exonStarts</th>\n",
       "      <th>exonEnds</th>\n",
       "      <th>score</th>\n",
       "      <th>name2</th>\n",
       "      <th>cdsStartStat</th>\n",
       "      <th>cdsEndStat</th>\n",
       "      <th>exonFrames</th>\n",
       "      <th>category</th>\n",
       "    </tr>\n",
       "  </thead>\n",
       "  <tbody>\n",
       "    <tr>\n",
       "      <th>0</th>\n",
       "      <td>0</td>\n",
       "      <td>NM_000299</td>\n",
       "      <td>1</td>\n",
       "      <td>+</td>\n",
       "      <td>201283451</td>\n",
       "      <td>201332993</td>\n",
       "      <td>201283702</td>\n",
       "      <td>201328836</td>\n",
       "      <td>15</td>\n",
       "      <td>201283451,201293941,201313165,201316552,201317...</td>\n",
       "      <td>201283904,201294045,201313560,201316697,201317...</td>\n",
       "      <td>0</td>\n",
       "      <td>PKP1</td>\n",
       "      <td>cmpl</td>\n",
       "      <td>cmpl</td>\n",
       "      <td>0,1,0,2,0,1,2,2,0,0,0,1,2,0,-1,</td>\n",
       "      <td>(201, 202]</td>\n",
       "    </tr>\n",
       "    <tr>\n",
       "      <th>1</th>\n",
       "      <td>0</td>\n",
       "      <td>NM_001276351</td>\n",
       "      <td>1</td>\n",
       "      <td>-</td>\n",
       "      <td>67092165</td>\n",
       "      <td>67134970</td>\n",
       "      <td>67093004</td>\n",
       "      <td>67127240</td>\n",
       "      <td>8</td>\n",
       "      <td>67092165,67095234,67096251,67115351,67125751,6...</td>\n",
       "      <td>67093604,67095421,67096321,67115464,67125909,6...</td>\n",
       "      <td>0</td>\n",
       "      <td>C1orf141</td>\n",
       "      <td>cmpl</td>\n",
       "      <td>cmpl</td>\n",
       "      <td>0,2,1,2,0,0,-1,-1,</td>\n",
       "      <td>(67, 68]</td>\n",
       "    </tr>\n",
       "    <tr>\n",
       "      <th>5</th>\n",
       "      <td>1</td>\n",
       "      <td>NM_001042681</td>\n",
       "      <td>1</td>\n",
       "      <td>-</td>\n",
       "      <td>8352403</td>\n",
       "      <td>8817640</td>\n",
       "      <td>8355086</td>\n",
       "      <td>8656297</td>\n",
       "      <td>23</td>\n",
       "      <td>8352403,8355418,8356099,8358195,8359763,836011...</td>\n",
       "      <td>8355120,8355599,8356246,8358916,8359986,836149...</td>\n",
       "      <td>0</td>\n",
       "      <td>RERE</td>\n",
       "      <td>cmpl</td>\n",
       "      <td>cmpl</td>\n",
       "      <td>2,1,1,0,2,0,0,0,1,1,0,0,0,2,0,2,2,1,0,0,1,0,-1,</td>\n",
       "      <td>(8, 9]</td>\n",
       "    </tr>\n",
       "    <tr>\n",
       "      <th>7</th>\n",
       "      <td>1</td>\n",
       "      <td>NR_038261</td>\n",
       "      <td>1</td>\n",
       "      <td>-</td>\n",
       "      <td>41847188</td>\n",
       "      <td>42035934</td>\n",
       "      <td>42035934</td>\n",
       "      <td>42035934</td>\n",
       "      <td>4</td>\n",
       "      <td>41847188,41848870,41918412,42035806,</td>\n",
       "      <td>41848445,41849089,41918524,42035934,</td>\n",
       "      <td>0</td>\n",
       "      <td>HIVEP3</td>\n",
       "      <td>unk</td>\n",
       "      <td>unk</td>\n",
       "      <td>-1,-1,-1,-1,</td>\n",
       "      <td>(42, 43]</td>\n",
       "    </tr>\n",
       "    <tr>\n",
       "      <th>9</th>\n",
       "      <td>1</td>\n",
       "      <td>NM_001281956</td>\n",
       "      <td>1</td>\n",
       "      <td>-</td>\n",
       "      <td>33513997</td>\n",
       "      <td>34165230</td>\n",
       "      <td>33519517</td>\n",
       "      <td>34165097</td>\n",
       "      <td>71</td>\n",
       "      <td>33513997,33519464,33519811,33521462,33523306,3...</td>\n",
       "      <td>33516570,33519677,33519950,33521550,33523419,3...</td>\n",
       "      <td>0</td>\n",
       "      <td>CSMD2</td>\n",
       "      <td>cmpl</td>\n",
       "      <td>cmpl</td>\n",
       "      <td>-1,2,1,0,1,1,1,1,0,1,1,1,1,1,1,1,1,1,1,1,1,1,1...</td>\n",
       "      <td>(34, 35]</td>\n",
       "    </tr>\n",
       "    <tr>\n",
       "      <th>...</th>\n",
       "      <td>...</td>\n",
       "      <td>...</td>\n",
       "      <td>...</td>\n",
       "      <td>...</td>\n",
       "      <td>...</td>\n",
       "      <td>...</td>\n",
       "      <td>...</td>\n",
       "      <td>...</td>\n",
       "      <td>...</td>\n",
       "      <td>...</td>\n",
       "      <td>...</td>\n",
       "      <td>...</td>\n",
       "      <td>...</td>\n",
       "      <td>...</td>\n",
       "      <td>...</td>\n",
       "      <td>...</td>\n",
       "      <td>...</td>\n",
       "    </tr>\n",
       "    <tr>\n",
       "      <th>78336</th>\n",
       "      <td>971</td>\n",
       "      <td>NM_012324</td>\n",
       "      <td>22</td>\n",
       "      <td>+</td>\n",
       "      <td>50600792</td>\n",
       "      <td>50613976</td>\n",
       "      <td>50600818</td>\n",
       "      <td>50610779</td>\n",
       "      <td>12</td>\n",
       "      <td>50600792,50601788,50603222,50603625,50603840,5...</td>\n",
       "      <td>50600883,50601894,50603498,50603719,50605064,5...</td>\n",
       "      <td>0</td>\n",
       "      <td>MAPK8IP2</td>\n",
       "      <td>cmpl</td>\n",
       "      <td>cmpl</td>\n",
       "      <td>0,2,0,0,1,1,2,1,0,0,2,2,</td>\n",
       "      <td>(50, 51]</td>\n",
       "    </tr>\n",
       "    <tr>\n",
       "      <th>78337</th>\n",
       "      <td>972</td>\n",
       "      <td>NM_001350007</td>\n",
       "      <td>22</td>\n",
       "      <td>-</td>\n",
       "      <td>50767505</td>\n",
       "      <td>50783636</td>\n",
       "      <td>50768775</td>\n",
       "      <td>50782294</td>\n",
       "      <td>10</td>\n",
       "      <td>50767505,50769040,50769454,50769904,50775771,5...</td>\n",
       "      <td>50768874,50769124,50769549,50770016,50775851,5...</td>\n",
       "      <td>0</td>\n",
       "      <td>RABL2B</td>\n",
       "      <td>cmpl</td>\n",
       "      <td>cmpl</td>\n",
       "      <td>0,0,1,0,1,2,2,0,-1,-1,</td>\n",
       "      <td>(50, 51]</td>\n",
       "    </tr>\n",
       "    <tr>\n",
       "      <th>78350</th>\n",
       "      <td>972</td>\n",
       "      <td>NR_134637</td>\n",
       "      <td>22</td>\n",
       "      <td>-</td>\n",
       "      <td>50735828</td>\n",
       "      <td>50738169</td>\n",
       "      <td>50738169</td>\n",
       "      <td>50738169</td>\n",
       "      <td>2</td>\n",
       "      <td>50735828,50737389,</td>\n",
       "      <td>50737104,50738169,</td>\n",
       "      <td>0</td>\n",
       "      <td>LOC105373100</td>\n",
       "      <td>unk</td>\n",
       "      <td>unk</td>\n",
       "      <td>-1,-1,</td>\n",
       "      <td>(50, 51]</td>\n",
       "    </tr>\n",
       "    <tr>\n",
       "      <th>78351</th>\n",
       "      <td>972</td>\n",
       "      <td>NR_026981</td>\n",
       "      <td>22</td>\n",
       "      <td>+</td>\n",
       "      <td>50757085</td>\n",
       "      <td>50799637</td>\n",
       "      <td>50799637</td>\n",
       "      <td>50799637</td>\n",
       "      <td>4</td>\n",
       "      <td>50757085,50783119,50785172,50798654,</td>\n",
       "      <td>50757326,50783294,50785293,50799637,</td>\n",
       "      <td>0</td>\n",
       "      <td>RPL23AP82</td>\n",
       "      <td>unk</td>\n",
       "      <td>unk</td>\n",
       "      <td>-1,-1,-1,-1,</td>\n",
       "      <td>(50, 51]</td>\n",
       "    </tr>\n",
       "    <tr>\n",
       "      <th>78361</th>\n",
       "      <td>972</td>\n",
       "      <td>NM_001097</td>\n",
       "      <td>22</td>\n",
       "      <td>+</td>\n",
       "      <td>50738203</td>\n",
       "      <td>50745339</td>\n",
       "      <td>50738235</td>\n",
       "      <td>50745207</td>\n",
       "      <td>5</td>\n",
       "      <td>50738203,50739270,50739693,50744060,50744652,</td>\n",
       "      <td>50738312,50739474,50739977,50744206,50745339,</td>\n",
       "      <td>0</td>\n",
       "      <td>ACR</td>\n",
       "      <td>cmpl</td>\n",
       "      <td>cmpl</td>\n",
       "      <td>0,2,2,1,0,</td>\n",
       "      <td>(50, 51]</td>\n",
       "    </tr>\n",
       "  </tbody>\n",
       "</table>\n",
       "<p>28430 rows × 17 columns</p>\n",
       "</div>"
      ],
      "text/plain": [
       "       #bin          name chrom strand    txStart      txEnd   cdsStart   \n",
       "0         0     NM_000299     1      +  201283451  201332993  201283702  \\\n",
       "1         0  NM_001276351     1      -   67092165   67134970   67093004   \n",
       "5         1  NM_001042681     1      -    8352403    8817640    8355086   \n",
       "7         1     NR_038261     1      -   41847188   42035934   42035934   \n",
       "9         1  NM_001281956     1      -   33513997   34165230   33519517   \n",
       "...     ...           ...   ...    ...        ...        ...        ...   \n",
       "78336   971     NM_012324    22      +   50600792   50613976   50600818   \n",
       "78337   972  NM_001350007    22      -   50767505   50783636   50768775   \n",
       "78350   972     NR_134637    22      -   50735828   50738169   50738169   \n",
       "78351   972     NR_026981    22      +   50757085   50799637   50799637   \n",
       "78361   972     NM_001097    22      +   50738203   50745339   50738235   \n",
       "\n",
       "          cdsEnd  exonCount   \n",
       "0      201328836         15  \\\n",
       "1       67127240          8   \n",
       "5        8656297         23   \n",
       "7       42035934          4   \n",
       "9       34165097         71   \n",
       "...          ...        ...   \n",
       "78336   50610779         12   \n",
       "78337   50782294         10   \n",
       "78350   50738169          2   \n",
       "78351   50799637          4   \n",
       "78361   50745207          5   \n",
       "\n",
       "                                              exonStarts   \n",
       "0      201283451,201293941,201313165,201316552,201317...  \\\n",
       "1      67092165,67095234,67096251,67115351,67125751,6...   \n",
       "5      8352403,8355418,8356099,8358195,8359763,836011...   \n",
       "7                   41847188,41848870,41918412,42035806,   \n",
       "9      33513997,33519464,33519811,33521462,33523306,3...   \n",
       "...                                                  ...   \n",
       "78336  50600792,50601788,50603222,50603625,50603840,5...   \n",
       "78337  50767505,50769040,50769454,50769904,50775771,5...   \n",
       "78350                                 50735828,50737389,   \n",
       "78351               50757085,50783119,50785172,50798654,   \n",
       "78361      50738203,50739270,50739693,50744060,50744652,   \n",
       "\n",
       "                                                exonEnds  score         name2   \n",
       "0      201283904,201294045,201313560,201316697,201317...      0          PKP1  \\\n",
       "1      67093604,67095421,67096321,67115464,67125909,6...      0      C1orf141   \n",
       "5      8355120,8355599,8356246,8358916,8359986,836149...      0          RERE   \n",
       "7                   41848445,41849089,41918524,42035934,      0        HIVEP3   \n",
       "9      33516570,33519677,33519950,33521550,33523419,3...      0         CSMD2   \n",
       "...                                                  ...    ...           ...   \n",
       "78336  50600883,50601894,50603498,50603719,50605064,5...      0      MAPK8IP2   \n",
       "78337  50768874,50769124,50769549,50770016,50775851,5...      0        RABL2B   \n",
       "78350                                 50737104,50738169,      0  LOC105373100   \n",
       "78351               50757326,50783294,50785293,50799637,      0     RPL23AP82   \n",
       "78361      50738312,50739474,50739977,50744206,50745339,      0           ACR   \n",
       "\n",
       "      cdsStartStat cdsEndStat   \n",
       "0             cmpl       cmpl  \\\n",
       "1             cmpl       cmpl   \n",
       "5             cmpl       cmpl   \n",
       "7              unk        unk   \n",
       "9             cmpl       cmpl   \n",
       "...            ...        ...   \n",
       "78336         cmpl       cmpl   \n",
       "78337         cmpl       cmpl   \n",
       "78350          unk        unk   \n",
       "78351          unk        unk   \n",
       "78361         cmpl       cmpl   \n",
       "\n",
       "                                              exonFrames    category  \n",
       "0                        0,1,0,2,0,1,2,2,0,0,0,1,2,0,-1,  (201, 202]  \n",
       "1                                     0,2,1,2,0,0,-1,-1,    (67, 68]  \n",
       "5        2,1,1,0,2,0,0,0,1,1,0,0,0,2,0,2,2,1,0,0,1,0,-1,      (8, 9]  \n",
       "7                                           -1,-1,-1,-1,    (42, 43]  \n",
       "9      -1,2,1,0,1,1,1,1,0,1,1,1,1,1,1,1,1,1,1,1,1,1,1...    (34, 35]  \n",
       "...                                                  ...         ...  \n",
       "78336                           0,2,0,0,1,1,2,1,0,0,2,2,    (50, 51]  \n",
       "78337                             0,0,1,0,1,2,2,0,-1,-1,    (50, 51]  \n",
       "78350                                             -1,-1,    (50, 51]  \n",
       "78351                                       -1,-1,-1,-1,    (50, 51]  \n",
       "78361                                         0,2,2,1,0,    (50, 51]  \n",
       "\n",
       "[28430 rows x 17 columns]"
      ]
     },
     "execution_count": 35,
     "metadata": {},
     "output_type": "execute_result"
    }
   ],
   "source": [
    "df[\"category\"] = pd.cut(x=df[\"txEnd\"] / 1_000_000, bins=range(0,250,1))\n",
    "df"
   ]
  },
  {
   "cell_type": "code",
   "execution_count": 36,
   "id": "86a2be20-8aa0-407a-8da5-52ad1ba773ac",
   "metadata": {
    "execution": {
     "iopub.execute_input": "2023-04-27T12:37:23.611209Z",
     "iopub.status.busy": "2023-04-27T12:37:23.611091Z",
     "iopub.status.idle": "2023-04-27T12:37:23.625056Z",
     "shell.execute_reply": "2023-04-27T12:37:23.624497Z",
     "shell.execute_reply.started": "2023-04-27T12:37:23.611199Z"
    },
    "tags": []
   },
   "outputs": [
    {
     "data": {
      "text/html": [
       "<div>\n",
       "<style scoped>\n",
       "    .dataframe tbody tr th:only-of-type {\n",
       "        vertical-align: middle;\n",
       "    }\n",
       "\n",
       "    .dataframe tbody tr th {\n",
       "        vertical-align: top;\n",
       "    }\n",
       "\n",
       "    .dataframe thead th {\n",
       "        text-align: right;\n",
       "    }\n",
       "</style>\n",
       "<table border=\"1\" class=\"dataframe\">\n",
       "  <thead>\n",
       "    <tr style=\"text-align: right;\">\n",
       "      <th></th>\n",
       "      <th>chrom</th>\n",
       "      <th>category</th>\n",
       "      <th>count</th>\n",
       "    </tr>\n",
       "  </thead>\n",
       "  <tbody>\n",
       "    <tr>\n",
       "      <th>0</th>\n",
       "      <td>1</td>\n",
       "      <td>(0, 1]</td>\n",
       "      <td>36</td>\n",
       "    </tr>\n",
       "    <tr>\n",
       "      <th>1</th>\n",
       "      <td>1</td>\n",
       "      <td>(1, 2]</td>\n",
       "      <td>57</td>\n",
       "    </tr>\n",
       "    <tr>\n",
       "      <th>2</th>\n",
       "      <td>1</td>\n",
       "      <td>(2, 3]</td>\n",
       "      <td>21</td>\n",
       "    </tr>\n",
       "    <tr>\n",
       "      <th>3</th>\n",
       "      <td>1</td>\n",
       "      <td>(3, 4]</td>\n",
       "      <td>20</td>\n",
       "    </tr>\n",
       "    <tr>\n",
       "      <th>4</th>\n",
       "      <td>1</td>\n",
       "      <td>(4, 5]</td>\n",
       "      <td>3</td>\n",
       "    </tr>\n",
       "    <tr>\n",
       "      <th>...</th>\n",
       "      <td>...</td>\n",
       "      <td>...</td>\n",
       "      <td>...</td>\n",
       "    </tr>\n",
       "    <tr>\n",
       "      <th>5971</th>\n",
       "      <td>Y</td>\n",
       "      <td>(244, 245]</td>\n",
       "      <td>0</td>\n",
       "    </tr>\n",
       "    <tr>\n",
       "      <th>5972</th>\n",
       "      <td>Y</td>\n",
       "      <td>(245, 246]</td>\n",
       "      <td>0</td>\n",
       "    </tr>\n",
       "    <tr>\n",
       "      <th>5973</th>\n",
       "      <td>Y</td>\n",
       "      <td>(246, 247]</td>\n",
       "      <td>0</td>\n",
       "    </tr>\n",
       "    <tr>\n",
       "      <th>5974</th>\n",
       "      <td>Y</td>\n",
       "      <td>(247, 248]</td>\n",
       "      <td>0</td>\n",
       "    </tr>\n",
       "    <tr>\n",
       "      <th>5975</th>\n",
       "      <td>Y</td>\n",
       "      <td>(248, 249]</td>\n",
       "      <td>0</td>\n",
       "    </tr>\n",
       "  </tbody>\n",
       "</table>\n",
       "<p>5976 rows × 3 columns</p>\n",
       "</div>"
      ],
      "text/plain": [
       "     chrom    category  count\n",
       "0        1      (0, 1]     36\n",
       "1        1      (1, 2]     57\n",
       "2        1      (2, 3]     21\n",
       "3        1      (3, 4]     20\n",
       "4        1      (4, 5]      3\n",
       "...    ...         ...    ...\n",
       "5971     Y  (244, 245]      0\n",
       "5972     Y  (245, 246]      0\n",
       "5973     Y  (246, 247]      0\n",
       "5974     Y  (247, 248]      0\n",
       "5975     Y  (248, 249]      0\n",
       "\n",
       "[5976 rows x 3 columns]"
      ]
     },
     "execution_count": 36,
     "metadata": {},
     "output_type": "execute_result"
    }
   ],
   "source": [
    "df_cut = df.groupby([\"chrom\", \"category\"])[\"name2\"].count().to_frame().reset_index()\n",
    "df_cut.rename(columns={\"name2\": \"count\"}, inplace=True)\n",
    "df_cut"
   ]
  },
  {
   "cell_type": "code",
   "execution_count": 37,
   "id": "2248fee9-127d-4c58-b0d1-ba61c5ae3b6a",
   "metadata": {
    "execution": {
     "iopub.execute_input": "2023-04-27T12:37:23.626134Z",
     "iopub.status.busy": "2023-04-27T12:37:23.625742Z",
     "iopub.status.idle": "2023-04-27T12:37:23.634562Z",
     "shell.execute_reply": "2023-04-27T12:37:23.633971Z",
     "shell.execute_reply.started": "2023-04-27T12:37:23.626119Z"
    },
    "tags": []
   },
   "outputs": [
    {
     "data": {
      "text/html": [
       "<div>\n",
       "<style scoped>\n",
       "    .dataframe tbody tr th:only-of-type {\n",
       "        vertical-align: middle;\n",
       "    }\n",
       "\n",
       "    .dataframe tbody tr th {\n",
       "        vertical-align: top;\n",
       "    }\n",
       "\n",
       "    .dataframe thead th {\n",
       "        text-align: right;\n",
       "    }\n",
       "</style>\n",
       "<table border=\"1\" class=\"dataframe\">\n",
       "  <thead>\n",
       "    <tr style=\"text-align: right;\">\n",
       "      <th></th>\n",
       "      <th>chrom</th>\n",
       "      <th>category</th>\n",
       "      <th>count</th>\n",
       "    </tr>\n",
       "  </thead>\n",
       "  <tbody>\n",
       "    <tr>\n",
       "      <th>0</th>\n",
       "      <td>1</td>\n",
       "      <td>1</td>\n",
       "      <td>36</td>\n",
       "    </tr>\n",
       "    <tr>\n",
       "      <th>1</th>\n",
       "      <td>1</td>\n",
       "      <td>2</td>\n",
       "      <td>57</td>\n",
       "    </tr>\n",
       "    <tr>\n",
       "      <th>2</th>\n",
       "      <td>1</td>\n",
       "      <td>3</td>\n",
       "      <td>21</td>\n",
       "    </tr>\n",
       "    <tr>\n",
       "      <th>3</th>\n",
       "      <td>1</td>\n",
       "      <td>4</td>\n",
       "      <td>20</td>\n",
       "    </tr>\n",
       "    <tr>\n",
       "      <th>4</th>\n",
       "      <td>1</td>\n",
       "      <td>5</td>\n",
       "      <td>3</td>\n",
       "    </tr>\n",
       "    <tr>\n",
       "      <th>...</th>\n",
       "      <td>...</td>\n",
       "      <td>...</td>\n",
       "      <td>...</td>\n",
       "    </tr>\n",
       "    <tr>\n",
       "      <th>5971</th>\n",
       "      <td>Y</td>\n",
       "      <td>245</td>\n",
       "      <td>0</td>\n",
       "    </tr>\n",
       "    <tr>\n",
       "      <th>5972</th>\n",
       "      <td>Y</td>\n",
       "      <td>246</td>\n",
       "      <td>0</td>\n",
       "    </tr>\n",
       "    <tr>\n",
       "      <th>5973</th>\n",
       "      <td>Y</td>\n",
       "      <td>247</td>\n",
       "      <td>0</td>\n",
       "    </tr>\n",
       "    <tr>\n",
       "      <th>5974</th>\n",
       "      <td>Y</td>\n",
       "      <td>248</td>\n",
       "      <td>0</td>\n",
       "    </tr>\n",
       "    <tr>\n",
       "      <th>5975</th>\n",
       "      <td>Y</td>\n",
       "      <td>249</td>\n",
       "      <td>0</td>\n",
       "    </tr>\n",
       "  </tbody>\n",
       "</table>\n",
       "<p>5976 rows × 3 columns</p>\n",
       "</div>"
      ],
      "text/plain": [
       "     chrom  category  count\n",
       "0        1         1     36\n",
       "1        1         2     57\n",
       "2        1         3     21\n",
       "3        1         4     20\n",
       "4        1         5      3\n",
       "...    ...       ...    ...\n",
       "5971     Y       245      0\n",
       "5972     Y       246      0\n",
       "5973     Y       247      0\n",
       "5974     Y       248      0\n",
       "5975     Y       249      0\n",
       "\n",
       "[5976 rows x 3 columns]"
      ]
     },
     "execution_count": 37,
     "metadata": {},
     "output_type": "execute_result"
    }
   ],
   "source": [
    "df_cut[\"category\"] = df_cut[\"category\"].map(lambda x: str(x).replace(\"]\", \"\").split(\",\")[-1]).astype(int)\n",
    "df_cut"
   ]
  },
  {
   "cell_type": "code",
   "execution_count": 38,
   "id": "502aafc3-6e4a-4bf4-9f91-23858fb267d0",
   "metadata": {
    "execution": {
     "iopub.execute_input": "2023-04-27T12:37:23.635224Z",
     "iopub.status.busy": "2023-04-27T12:37:23.635102Z",
     "iopub.status.idle": "2023-04-27T12:37:23.641364Z",
     "shell.execute_reply": "2023-04-27T12:37:23.640698Z",
     "shell.execute_reply.started": "2023-04-27T12:37:23.635214Z"
    },
    "tags": []
   },
   "outputs": [
    {
     "name": "stdout",
     "output_type": "stream",
     "text": [
      "<class 'pandas.core.frame.DataFrame'>\n",
      "RangeIndex: 5976 entries, 0 to 5975\n",
      "Data columns (total 3 columns):\n",
      " #   Column    Non-Null Count  Dtype \n",
      "---  ------    --------------  ----- \n",
      " 0   chrom     5976 non-null   object\n",
      " 1   category  5976 non-null   int64 \n",
      " 2   count     5976 non-null   int64 \n",
      "dtypes: int64(2), object(1)\n",
      "memory usage: 140.2+ KB\n"
     ]
    }
   ],
   "source": [
    "df_cut.info()"
   ]
  },
  {
   "cell_type": "code",
   "execution_count": 39,
   "id": "e920eb1b-dc3a-4cb0-8bfa-a5c415b4c8e4",
   "metadata": {
    "execution": {
     "iopub.execute_input": "2023-04-27T12:37:23.642179Z",
     "iopub.status.busy": "2023-04-27T12:37:23.641943Z",
     "iopub.status.idle": "2023-04-27T12:37:23.646363Z",
     "shell.execute_reply": "2023-04-27T12:37:23.645854Z",
     "shell.execute_reply.started": "2023-04-27T12:37:23.642166Z"
    },
    "tags": []
   },
   "outputs": [
    {
     "data": {
      "text/plain": [
       "chrom       0\n",
       "category    0\n",
       "count       0\n",
       "dtype: int64"
      ]
     },
     "execution_count": 39,
     "metadata": {},
     "output_type": "execute_result"
    }
   ],
   "source": [
    "df_cut.isna().sum()"
   ]
  },
  {
   "cell_type": "markdown",
   "id": "e6375498-5829-4aaf-bf64-1f66ef6f7787",
   "metadata": {},
   "source": [
    "#### use R ggplot2\n",
    "```\n",
    "pip install rpy2\n",
    "```"
   ]
  },
  {
   "cell_type": "code",
   "execution_count": 40,
   "id": "d892c0b7-3b48-459d-a50e-bf33c4dcda3e",
   "metadata": {
    "execution": {
     "iopub.execute_input": "2023-04-27T12:37:23.647132Z",
     "iopub.status.busy": "2023-04-27T12:37:23.646902Z",
     "iopub.status.idle": "2023-04-27T12:37:24.036728Z",
     "shell.execute_reply": "2023-04-27T12:37:24.036181Z",
     "shell.execute_reply.started": "2023-04-27T12:37:23.647121Z"
    },
    "tags": []
   },
   "outputs": [],
   "source": [
    "%load_ext rpy2.ipython"
   ]
  },
  {
   "cell_type": "code",
   "execution_count": 41,
   "id": "bc367779-a5a2-4ede-89d1-1bc7d109f63f",
   "metadata": {
    "execution": {
     "iopub.execute_input": "2023-04-27T12:37:24.037957Z",
     "iopub.status.busy": "2023-04-27T12:37:24.037574Z",
     "iopub.status.idle": "2023-04-27T12:37:24.763649Z",
     "shell.execute_reply": "2023-04-27T12:37:24.763181Z",
     "shell.execute_reply.started": "2023-04-27T12:37:24.037943Z"
    },
    "tags": []
   },
   "outputs": [
    {
     "name": "stdout",
     "output_type": "stream",
     "text": [
      "── Attaching packages ─────────────────────────────────────── tidyverse 1.3.2 ──\n",
      "✔ ggplot2 3.4.2     ✔ purrr   1.0.1\n",
      "✔ tibble  3.2.1     ✔ dplyr   1.1.2\n",
      "✔ tidyr   1.3.0     ✔ stringr 1.5.0\n",
      "✔ readr   2.1.4     ✔ forcats 1.0.0\n"
     ]
    },
    {
     "name": "stderr",
     "output_type": "stream",
     "text": [
      "\u001b[0;1;31mSystem has not been booted with systemd as init system (PID 1). Can't operate.\u001b[0m\n",
      "\u001b[0;1;31mFailed to create bus connection: Host is down\u001b[0m\n"
     ]
    },
    {
     "name": "stdout",
     "output_type": "stream",
     "text": [
      "── Conflicts ────────────────────────────────────────── tidyverse_conflicts() ──\n",
      "✖ dplyr::filter() masks stats::filter()\n",
      "✖ dplyr::lag()    masks stats::lag()\n"
     ]
    }
   ],
   "source": [
    "%%R\n",
    "library(tidyverse)"
   ]
  },
  {
   "cell_type": "code",
   "execution_count": 42,
   "id": "b2ea685d-6201-4759-b841-a428ac842769",
   "metadata": {
    "execution": {
     "iopub.execute_input": "2023-04-27T12:37:24.764801Z",
     "iopub.status.busy": "2023-04-27T12:37:24.764529Z",
     "iopub.status.idle": "2023-04-27T12:37:24.830254Z",
     "shell.execute_reply": "2023-04-27T12:37:24.829800Z",
     "shell.execute_reply.started": "2023-04-27T12:37:24.764789Z"
    },
    "tags": []
   },
   "outputs": [
    {
     "name": "stdout",
     "output_type": "stream",
     "text": [
      "# A tibble: 5,976 × 3\n",
      "   chrom category count\n",
      "   <chr>    <int> <int>\n",
      " 1 1            1    36\n",
      " 2 1            2    57\n",
      " 3 1            3    21\n",
      " 4 1            4    20\n",
      " 5 1            5     3\n",
      " 6 1            6     2\n",
      " 7 1            7    24\n",
      " 8 1            8     7\n",
      " 9 1            9    10\n",
      "10 1           10    20\n",
      "# ℹ 5,966 more rows\n",
      "# ℹ Use `print(n = ...)` to see more rows\n"
     ]
    }
   ],
   "source": [
    "%%R -i df_cut\n",
    "# typeof(df_cut)\n",
    "df_cut = tibble(df_cut)\n",
    "df_cut"
   ]
  },
  {
   "cell_type": "code",
   "execution_count": 43,
   "id": "c9c73a2b-bfd1-4d8c-9bcb-e3041ccc75f4",
   "metadata": {
    "execution": {
     "iopub.execute_input": "2023-04-27T12:37:24.831055Z",
     "iopub.status.busy": "2023-04-27T12:37:24.830770Z",
     "iopub.status.idle": "2023-04-27T12:37:25.333485Z",
     "shell.execute_reply": "2023-04-27T12:37:25.332882Z",
     "shell.execute_reply.started": "2023-04-27T12:37:24.831043Z"
    },
    "tags": []
   },
   "outputs": [
    {
     "data": {
      "image/png": "[encoded data removed]",
      "text/plain": [
       "<IPython.core.display.Image object>"
      ]
     },
     "metadata": {},
     "output_type": "display_data"
    }
   ],
   "source": [
    "%%R\n",
    "g = ggplot(data=df_cut) + geom_line(aes(x=category, y=count)) + facet_wrap(~chrom, scales=\"fixed\")\n",
    "g"
   ]
  },
  {
   "cell_type": "code",
   "execution_count": 44,
   "id": "f304f5fd-cd9b-4eb8-867a-d84f700ffd35",
   "metadata": {
    "execution": {
     "iopub.execute_input": "2023-04-27T12:37:25.334617Z",
     "iopub.status.busy": "2023-04-27T12:37:25.334185Z",
     "iopub.status.idle": "2023-04-27T12:37:25.796298Z",
     "shell.execute_reply": "2023-04-27T12:37:25.795836Z",
     "shell.execute_reply.started": "2023-04-27T12:37:25.334604Z"
    },
    "tags": []
   },
   "outputs": [],
   "source": [
    "%%R\n",
    "ggsave(\"2022-11-07_distribution_of_gen_density_per_chromsome.pdf\", g, height=10, width=20)"
   ]
  },
  {
   "cell_type": "markdown",
   "id": "260f2c11-d10c-4d67-81cd-48262f490262",
   "metadata": {},
   "source": [
    "#### python lets\\_plot\n",
    "```\n",
    "pip install lets_plot  # jetbrains\n",
    "```"
   ]
  },
  {
   "cell_type": "code",
   "execution_count": 45,
   "id": "ffec953e-adff-41b3-9b21-cebabee53d9f",
   "metadata": {
    "execution": {
     "iopub.execute_input": "2023-04-27T12:37:25.796999Z",
     "iopub.status.busy": "2023-04-27T12:37:25.796871Z",
     "iopub.status.idle": "2023-04-27T12:37:25.839605Z",
     "shell.execute_reply": "2023-04-27T12:37:25.839061Z",
     "shell.execute_reply.started": "2023-04-27T12:37:25.796989Z"
    },
    "tags": []
   },
   "outputs": [
    {
     "data": {
      "text/html": [
       "\n",
       "            <div id=\"vkmjX8\"></div>\n",
       "            <script type=\"text/javascript\" data-lets-plot-script=\"library\">\n",
       "                if(!window.letsPlotCallQueue) {\n",
       "                    window.letsPlotCallQueue = [];\n",
       "                }; \n",
       "                window.letsPlotCall = function(f) {\n",
       "                    window.letsPlotCallQueue.push(f);\n",
       "                };\n",
       "                (function() {\n",
       "                    var script = document.createElement(\"script\");\n",
       "                    script.type = \"text/javascript\";\n",
       "                    script.src = \"https://cdn.jsdelivr.net/gh/JetBrains/lets-plot@v3.1.0/js-package/distr/lets-plot.min.js\";\n",
       "                    script.onload = function() {\n",
       "                        window.letsPlotCall = function(f) {f();};\n",
       "                        window.letsPlotCallQueue.forEach(function(f) {f();});\n",
       "                        window.letsPlotCallQueue = [];\n",
       "                        \n",
       "                    };\n",
       "                    script.onerror = function(event) {\n",
       "                        window.letsPlotCall = function(f) {};    // noop\n",
       "                        window.letsPlotCallQueue = [];\n",
       "                        var div = document.createElement(\"div\");\n",
       "                        div.style.color = 'darkred';\n",
       "                        div.textContent = 'Error loading Lets-Plot JS';\n",
       "                        document.getElementById(\"vkmjX8\").appendChild(div);\n",
       "                    };\n",
       "                    var e = document.getElementById(\"vkmjX8\");\n",
       "                    e.appendChild(script);\n",
       "                })()\n",
       "            </script>\n",
       "            "
      ]
     },
     "metadata": {},
     "output_type": "display_data"
    }
   ],
   "source": [
    "from lets_plot import *\n",
    "LetsPlot.setup_html()"
   ]
  },
  {
   "cell_type": "code",
   "execution_count": 46,
   "id": "b2a7d73c-d383-464e-9a14-d133c325e0bf",
   "metadata": {
    "execution": {
     "iopub.execute_input": "2023-04-27T12:37:25.840714Z",
     "iopub.status.busy": "2023-04-27T12:37:25.840248Z",
     "iopub.status.idle": "2023-04-27T12:37:25.883909Z",
     "shell.execute_reply": "2023-04-27T12:37:25.883415Z",
     "shell.execute_reply.started": "2023-04-27T12:37:25.840699Z"
    },
    "tags": []
   },
   "outputs": [
    {
     "data": {
      "text/html": [
       "   <div id=\"WUSj70\"></div>\n",
       "   <script type=\"text/javascript\" data-lets-plot-script=\"plot\">\n",
       "       (function() {\n",
       "           var plotSpec={\n",
       "\"data\":{\n",
       "\"chrom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n",
       "\"category\":[1.0,2.0,3.0,4.0,5.0,6.0,7.0,8.0,9.0,10.0,11.0,12.0,13.0,14.0,15.0,16.0,17.0,18.0,19.0,20.0,21.0,22.0,23.0,24.0,25.0,26.0,27.0,28.0,29.0,30.0,31.0,32.0,33.0,34.0,35.0,36.0,37.0,38.0,39.0,40.0,41.0,42.0,43.0,44.0,45.0,46.0,47.0,48.0,49.0,50.0,51.0,52.0,53.0,54.0,55.0,56.0,57.0,58.0,59.0,60.0,61.0,62.0,63.0,64.0,65.0,66.0,67.0,68.0,69.0,70.0,71.0,72.0,73.0,74.0,75.0,76.0,77.0,78.0,79.0,80.0,81.0,82.0,83.0,84.0,85.0,86.0,87.0,88.0,89.0,90.0,91.0,92.0,93.0,94.0,95.0,96.0,97.0,98.0,99.0,100.0,101.0,102.0,103.0,104.0,105.0,106.0,107.0,108.0,109.0,110.0,111.0,112.0,113.0,114.0,115.0,116.0,117.0,118.0,119.0,120.0,121.0,122.0,123.0,124.0,125.0,126.0,127.0,128.0,129.0,130.0,131.0,132.0,133.0,134.0,135.0,136.0,137.0,138.0,139.0,140.0,141.0,142.0,143.0,144.0,145.0,146.0,147.0,148.0,149.0,150.0,151.0,152.0,153.0,154.0,155.0,156.0,157.0,158.0,159.0,160.0,161.0,162.0,163.0,164.0,165.0,166.0,167.0,168.0,169.0,170.0,171.0,172.0,173.0,174.0,175.0,176.0,177.0,178.0,179.0,180.0,181.0,182.0,183.0,184.0,185.0,186.0,187.0,188.0,189.0,190.0,191.0,192.0,193.0,194.0,195.0,196.0,197.0,198.0,199.0,200.0,201.0,202.0,203.0,204.0,205.0,206.0,207.0,208.0,209.0,210.0,211.0,212.0,213.0,214.0,215.0,216.0,217.0,218.0,219.0,220.0,221.0,222.0,223.0,224.0,225.0,226.0,227.0,228.0,229.0,230.0,231.0,232.0,233.0,234.0,235.0,236.0,237.0,238.0,239.0,240.0,241.0,242.0,243.0,244.0,245.0,246.0,247.0,248.0,249.0,1.0,2.0,3.0,4.0,5.0,6.0,7.0,8.0,9.0,10.0,11.0,12.0,13.0,14.0,15.0,16.0,17.0,18.0,19.0,20.0,21.0,22.0,23.0,24.0,25.0,26.0,27.0,28.0,29.0,30.0,31.0,32.0,33.0,34.0,35.0,36.0,37.0,38.0,39.0,40.0,41.0,42.0,43.0,44.0,45.0,46.0,47.0,48.0,49.0,50.0,51.0,52.0,53.0,54.0,55.0,56.0,57.0,58.0,59.0,60.0,61.0,62.0,63.0,64.0,65.0,66.0,67.0,68.0,69.0,70.0,71.0,72.0,73.0,74.0,75.0,76.0,77.0,78.0,79.0,80.0,81.0,82.0,83.0,84.0,85.0,86.0,87.0,88.0,89.0,90.0,91.0,92.0,93.0,94.0,95.0,96.0,97.0,98.0,99.0,100.0,101.0,102.0,103.0,104.0,105.0,106.0,107.0,108.0,109.0,110.0,111.0,112.0,113.0,114.0,115.0,116.0,117.0,118.0,119.0,120.0,121.0,122.0,123.0,124.0,125.0,126.0,127.0,128.0,129.0,130.0,131.0,132.0,133.0,134.0,135.0,136.0,137.0,138.0,139.0,140.0,141.0,142.0,143.0,144.0,145.0,146.0,147.0,148.0,149.0,150.0,151.0,152.0,153.0,154.0,155.0,156.0,157.0,158.0,159.0,160.0,161.0,162.0,163.0,164.0,165.0,166.0,167.0,168.0,169.0,170.0,171.0,172.0,173.0,174.0,175.0,176.0,177.0,178.0,179.0,180.0,181.0,182.0,183.0,184.0,185.0,186.0,187.0,188.0,189.0,190.0,191.0,192.0,193.0,194.0,195.0,196.0,197.0,198.0,199.0,200.0,201.0,202.0,203.0,204.0,205.0,206.0,207.0,208.0,209.0,210.0,211.0,212.0,213.0,214.0,215.0,216.0,217.0,218.0,219.0,220.0,221.0,222.0,223.0,224.0,225.0,226.0,227.0,228.0,229.0,230.0,231.0,232.0,233.0,234.0,235.0,236.0,237.0,238.0,239.0,240.0,241.0,242.0,243.0,244.0,245.0,246.0,247.0,248.0,249.0,1.0,2.0,3.0,4.0,5.0,6.0,7.0,8.0,9.0,10.0,11.0,12.0,13.0,14.0,15.0,16.0,17.0,18.0,19.0,20.0,21.0,22.0,23.0,24.0,25.0,26.0,27.0,28.0,29.0,30.0,31.0,32.0,33.0,34.0,35.0,36.0,37.0,38.0,39.0,40.0,41.0,42.0,43.0,44.0,45.0,46.0,47.0,48.0,49.0,50.0,51.0,52.0,53.0,54.0,55.0,56.0,57.0,58.0,59.0,60.0,61.0,62.0,63.0,64.0,65.0,66.0,67.0,68.0,69.0,70.0,71.0,72.0,73.0,74.0,75.0,76.0,77.0,78.0,79.0,80.0,81.0,82.0,83.0,84.0,85.0,86.0,87.0,88.0,89.0,90.0,91.0,92.0,93.0,94.0,95.0,96.0,97.0,98.0,99.0,100.0,101.0,102.0,103.0,104.0,105.0,106.0,107.0,108.0,109.0,110.0,111.0,112.0,113.0,114.0,115.0,116.0,117.0,118.0,119.0,120.0,121.0,122.0,123.0,124.0,125.0,126.0,127.0,128.0,129.0,130.0,131.0,132.0,133.0,134.0,135.0,136.0,137.0,138.0,139.0,140.0,141.0,142.0,143.0,144.0,145.0,146.0,147.0,148.0,149.0,150.0,151.0,152.0,153.0,154.0,155.0,156.0,157.0,158.0,159.0,160.0,161.0,162.0,163.0,164.0,165.0,166.0,167.0,168.0,169.0,170.0,171.0,172.0,173.0,174.0,175.0,176.0,177.0,178.0,179.0,180.0,181.0,182.0,183.0,184.0,185.0,186.0,187.0,188.0,189.0,190.0,191.0,192.0,193.0,194.0,195.0,196.0,197.0,198.0,199.0,200.0,201.0,202.0,203.0,204.0,205.0,206.0,207.0,208.0,209.0,210.0,211.0,212.0,213.0,214.0,215.0,216.0,217.0,218.0,219.0,220.0,221.0,222.0,223.0,224.0,225.0,226.0,227.0,228.0,229.0,230.0,231.0,232.0,233.0,234.0,235.0,236.0,237.0,238.0,239.0,240.0,241.0,242.0,243.0,244.0,245.0,246.0,247.0,248.0,249.0,1.0,2.0,3.0,4.0,5.0,6.0,7.0,8.0,9.0,10.0,11.0,12.0,13.0,14.0,15.0,16.0,17.0,18.0,19.0,20.0,21.0,22.0,23.0,24.0,25.0,26.0,27.0,28.0,29.0,30.0,31.0,32.0,33.0,34.0,35.0,36.0,37.0,38.0,39.0,40.0,41.0,42.0,43.0,44.0,45.0,46.0,47.0,48.0,49.0,50.0,51.0,52.0,53.0,54.0,55.0,56.0,57.0,58.0,59.0,60.0,61.0,62.0,63.0,64.0,65.0,66.0,67.0,68.0,69.0,70.0,71.0,72.0,73.0,74.0,75.0,76.0,77.0,78.0,79.0,80.0,81.0,82.0,83.0,84.0,85.0,86.0,87.0,88.0,89.0,90.0,91.0,92.0,93.0,94.0,95.0,96.0,97.0,98.0,99.0,100.0,101.0,102.0,103.0,104.0,105.0,106.0,107.0,108.0,109.0,110.0,111.0,112.0,113.0,114.0,115.0,116.0,117.0,118.0,119.0,120.0,121.0,122.0,123.0,124.0,125.0,126.0,127.0,128.0,129.0,130.0,131.0,132.0,133.0,134.0,135.0,136.0,137.0,138.0,139.0,140.0,141.0,142.0,143.0,144.0,145.0,146.0,147.0,148.0,149.0,150.0,151.0,152.0,153.0,154.0,155.0,156.0,157.0,158.0,159.0,160.0,161.0,162.0,163.0,164.0,165.0,166.0,167.0,168.0,169.0,170.0,171.0,172.0,173.0,174.0,175.0,176.0,177.0,178.0,179.0,180.0,181.0,182.0,183.0,184.0,185.0,186.0,187.0,188.0,189.0,190.0,191.0,192.0,193.0,194.0,195.0,196.0,197.0,198.0,199.0,200.0,201.0,202.0,203.0,204.0,205.0,206.0,207.0,208.0,209.0,210.0,211.0,212.0,213.0,214.0,215.0,216.0,217.0,218.0,219.0,220.0,221.0,222.0,223.0,224.0,225.0,226.0,227.0,228.0,229.0,230.0,231.0,232.0,233.0,234.0,235.0,236.0,237.0,238.0,239.0,240.0,241.0,242.0,243.0,244.0,245.0,246.0,247.0,248.0,249.0,1.0,2.0,3.0,4.0,5.0,6.0,7.0,8.0,9.0,10.0,11.0,12.0,13.0,14.0,15.0,16.0,17.0,18.0,19.0,20.0,21.0,22.0,23.0,24.0,25.0,26.0,27.0,28.0,29.0,30.0,31.0,32.0,33.0,34.0,35.0,36.0,37.0,38.0,39.0,40.0,41.0,42.0,43.0,44.0,45.0,46.0,47.0,48.0,49.0,50.0,51.0,52.0,53.0,54.0,55.0,56.0,57.0,58.0,59.0,60.0,61.0,62.0,63.0,64.0,65.0,66.0,67.0,68.0,69.0,70.0,71.0,72.0,73.0,74.0,75.0,76.0,77.0,78.0,79.0,80.0,81.0,82.0,83.0,84.0,85.0,86.0,87.0,88.0,89.0,90.0,91.0,92.0,93.0,94.0,95.0,96.0,97.0,98.0,99.0,100.0,101.0,102.0,103.0,104.0,105.0,106.0,107.0,108.0,109.0,110.0,111.0,112.0,113.0,114.0,115.0,116.0,117.0,118.0,119.0,120.0,121.0,122.0,123.0,124.0,125.0,126.0,127.0,128.0,129.0,130.0,131.0,132.0,133.0,134.0,135.0,136.0,137.0,138.0,139.0,140.0,141.0,142.0,143.0,144.0,145.0,146.0,147.0,148.0,149.0,150.0,151.0,152.0,153.0,154.0,155.0,156.0,157.0,158.0,159.0,160.0,161.0,162.0,163.0,164.0,165.0,166.0,167.0,168.0,169.0,170.0,171.0,172.0,173.0,174.0,175.0,176.0,177.0,178.0,179.0,180.0,181.0,182.0,183.0,184.0,185.0,186.0,187.0,188.0,189.0,190.0,191.0,192.0,193.0,194.0,195.0,196.0,197.0,198.0,199.0,200.0,201.0,202.0,203.0,204.0,205.0,206.0,207.0,208.0,209.0,210.0,211.0,212.0,213.0,214.0,215.0,216.0,217.0,218.0,219.0,220.0,221.0,222.0,223.0,224.0,225.0,226.0,227.0,228.0,229.0,230.0,231.0,232.0,233.0,234.0,235.0,236.0,237.0,238.0,239.0,240.0,241.0,242.0,243.0,244.0,245.0,246.0,247.0,248.0,249.0,1.0,2.0,3.0,4.0,5.0,6.0,7.0,8.0,9.0,10.0,11.0,12.0,13.0,14.0,15.0,16.0,17.0,18.0,19.0,20.0,21.0,22.0,23.0,24.0,25.0,26.0,27.0,28.0,29.0,30.0,31.0,32.0,33.0,34.0,35.0,36.0,37.0,38.0,39.0,40.0,41.0,42.0,43.0,44.0,45.0,46.0,47.0,48.0,49.0,50.0,51.0,52.0,53.0,54.0,55.0,56.0,57.0,58.0,59.0,60.0,61.0,62.0,63.0,64.0,65.0,66.0,67.0,68.0,69.0,70.0,71.0,72.0,73.0,74.0,75.0,76.0,77.0,78.0,79.0,80.0,81.0,82.0,83.0,84.0,85.0,86.0,87.0,88.0,89.0,90.0,91.0,92.0,93.0,94.0,95.0,96.0,97.0,98.0,99.0,100.0,101.0,102.0,103.0,104.0,105.0,106.0,107.0,108.0,109.0,110.0,111.0,112.0,113.0,114.0,115.0,116.0,117.0,118.0,119.0,120.0,121.0,122.0,123.0,124.0,125.0,126.0,127.0,128.0,129.0,130.0,131.0,132.0,133.0,134.0,135.0,136.0,137.0,138.0,139.0,140.0,141.0,142.0,143.0,144.0,145.0,146.0,147.0,148.0,149.0,150.0,151.0,152.0,153.0,154.0,155.0,156.0,157.0,158.0,159.0,160.0,161.0,162.0,163.0,164.0,165.0,166.0,167.0,168.0,169.0,170.0,171.0,172.0,173.0,174.0,175.0,176.0,177.0,178.0,179.0,180.0,181.0,182.0,183.0,184.0,185.0,186.0,187.0,188.0,189.0,190.0,191.0,192.0,193.0,194.0,195.0,196.0,197.0,198.0,199.0,200.0,201.0,202.0,203.0,204.0,205.0,206.0,207.0,208.0,209.0,210.0,211.0,212.0,213.0,214.0,215.0,216.0,217.0,218.0,219.0,220.0,221.0,222.0,223.0,224.0,225.0,226.0,227.0,228.0,229.0,230.0,231.0,232.0,233.0,234.0,235.0,236.0,237.0,238.0,239.0,240.0,241.0,242.0,243.0,244.0,245.0,246.0,247.0,248.0,249.0,1.0,2.0,3.0,4.0,5.0,6.0,7.0,8.0,9.0,10.0,11.0,12.0,13.0,14.0,15.0,16.0,17.0,18.0,19.0,20.0,21.0,22.0,23.0,24.0,25.0,26.0,27.0,28.0,29.0,30.0,31.0,32.0,33.0,34.0,35.0,36.0,37.0,38.0,39.0,40.0,41.0,42.0,43.0,44.0,45.0,46.0,47.0,48.0,49.0,50.0,51.0,52.0,53.0,54.0,55.0,56.0,57.0,58.0,59.0,60.0,61.0,62.0,63.0,64.0,65.0,66.0,67.0,68.0,69.0,70.0,71.0,72.0,73.0,74.0,75.0,76.0,77.0,78.0,79.0,80.0,81.0,82.0,83.0,84.0,85.0,86.0,87.0,88.0,89.0,90.0,91.0,92.0,93.0,94.0,95.0,96.0,97.0,98.0,99.0,100.0,101.0,102.0,103.0,104.0,105.0,106.0,107.0,108.0,109.0,110.0,111.0,112.0,113.0,114.0,115.0,116.0,117.0,118.0,119.0,120.0,121.0,122.0,123.0,124.0,125.0,126.0,127.0,128.0,129.0,130.0,131.0,132.0,133.0,134.0,135.0,136.0,137.0,138.0,139.0,140.0,141.0,142.0,143.0,144.0,145.0,146.0,147.0,148.0,149.0,150.0,151.0,152.0,153.0,154.0,155.0,156.0,157.0,158.0,159.0,160.0,161.0,162.0,163.0,164.0,165.0,166.0,167.0,168.0,169.0,170.0,171.0,172.0,173.0,174.0,175.0,176.0,177.0,178.0,179.0,180.0,181.0,182.0,183.0,184.0,185.0,186.0,187.0,188.0,189.0,190.0,191.0,192.0,193.0,194.0,195.0,196.0,197.0,198.0,199.0,200.0,201.0,202.0,203.0,204.0,205.0,206.0,207.0,208.0,209.0,210.0,211.0,212.0,213.0,214.0,215.0,216.0,217.0,218.0,219.0,220.0,221.0,222.0,223.0,224.0,225.0,226.0,227.0,228.0,229.0,230.0,231.0,232.0,233.0,234.0,235.0,236.0,237.0,238.0,239.0,240.0,241.0,242.0,243.0,244.0,245.0,246.0,247.0,248.0,249.0,1.0,2.0,3.0,4.0,5.0,6.0,7.0,8.0,9.0,10.0,11.0,12.0,13.0,14.0,15.0,16.0,17.0,18.0,19.0,20.0,21.0,22.0,23.0,24.0,25.0,26.0,27.0,28.0,29.0,30.0,31.0,32.0,33.0,34.0,35.0,36.0,37.0,38.0,39.0,40.0,41.0,42.0,43.0,44.0,45.0,46.0,47.0,48.0,49.0,50.0,51.0,52.0,53.0,54.0,55.0,56.0,57.0,58.0,59.0,60.0,61.0,62.0,63.0,64.0,65.0,66.0,67.0,68.0,69.0,70.0,71.0,72.0,73.0,74.0,75.0,76.0,77.0,78.0,79.0,80.0,81.0,82.0,83.0,84.0,85.0,86.0,87.0,88.0,89.0,90.0,91.0,92.0,93.0,94.0,95.0,96.0,97.0,98.0,99.0,100.0,101.0,102.0,103.0,104.0,105.0,106.0,107.0,108.0,109.0,110.0,111.0,112.0,113.0,114.0,115.0,116.0,117.0,118.0,119.0,120.0,121.0,122.0,123.0,124.0,125.0,126.0,127.0,128.0,129.0,130.0,131.0,132.0,133.0,134.0,135.0,136.0,137.0,138.0,139.0,140.0,141.0,142.0,143.0,144.0,145.0,146.0,147.0,148.0,149.0,150.0,151.0,152.0,153.0,154.0,155.0,156.0,157.0,158.0,159.0,160.0,161.0,162.0,163.0,164.0,165.0,166.0,167.0,168.0,169.0,170.0,171.0,172.0,173.0,174.0,175.0,176.0,177.0,178.0,179.0,180.0,181.0,182.0,183.0,184.0,185.0,186.0,187.0,188.0,189.0,190.0,191.0,192.0,193.0,194.0,195.0,196.0,197.0,198.0,199.0,200.0,201.0,202.0,203.0,204.0,205.0,206.0,207.0,208.0,209.0,210.0,211.0,212.0,213.0,214.0,215.0,216.0,217.0,218.0,219.0,220.0,221.0,222.0,223.0,224.0,225.0,226.0,227.0,228.0,229.0,230.0,231.0,232.0,233.0,234.0,235.0,236.0,237.0,238.0,239.0,240.0,241.0,242.0,243.0,244.0,245.0,246.0,247.0,248.0,249.0,1.0,2.0,3.0,4.0,5.0,6.0,7.0,8.0,9.0,10.0,11.0,12.0,13.0,14.0,15.0,16.0,17.0,18.0,19.0,20.0,21.0,22.0,23.0,24.0,25.0,26.0,27.0,28.0,29.0,30.0,31.0,32.0,33.0,34.0,35.0,36.0,37.0,38.0,39.0,40.0,41.0,42.0,43.0,44.0,45.0,46.0,47.0,48.0,49.0,50.0,51.0,52.0,53.0,54.0,55.0,56.0,57.0,58.0,59.0,60.0,61.0,62.0,63.0,64.0,65.0,66.0,67.0,68.0,69.0,70.0,71.0,72.0,73.0,74.0,75.0,76.0,77.0,78.0,79.0,80.0,81.0,82.0,83.0,84.0,85.0,86.0,87.0,88.0,89.0,90.0,91.0,92.0,93.0,94.0,95.0,96.0,97.0,98.0,99.0,100.0,101.0,102.0,103.0,104.0,105.0,106.0,107.0,108.0,109.0,110.0,111.0,112.0,113.0,114.0,115.0,116.0,117.0,118.0,119.0,120.0,121.0,122.0,123.0,124.0,125.0,126.0,127.0,128.0,129.0,130.0,131.0,132.0,133.0,134.0,135.0,136.0,137.0,138.0,139.0,140.0,141.0,142.0,143.0,144.0,145.0,146.0,147.0,148.0,149.0,150.0,151.0,152.0,153.0,154.0,155.0,156.0,157.0,158.0,159.0,160.0,161.0,162.0,163.0,164.0,165.0,166.0,167.0,168.0,169.0,170.0,171.0,172.0,173.0,174.0,175.0,176.0,177.0,178.0,179.0,180.0,181.0,182.0,183.0,184.0,185.0,186.0,187.0,188.0,189.0,190.0,191.0,192.0,193.0,194.0,195.0,196.0,197.0,198.0,199.0,200.0,201.0,202.0,203.0,204.0,205.0,206.0,207.0,208.0,209.0,210.0,211.0,212.0,213.0,214.0,215.0,216.0,217.0,218.0,219.0,220.0,221.0,222.0,223.0,224.0,225.0,226.0,227.0,228.0,229.0,230.0,231.0,232.0,233.0,234.0,235.0,236.0,237.0,238.0,239.0,240.0,241.0,242.0,243.0,244.0,245.0,246.0,247.0,248.0,249.0,1.0,2.0,3.0,4.0,5.0,6.0,7.0,8.0,9.0,10.0,11.0,12.0,13.0,14.0,15.0,16.0,17.0,18.0,19.0,20.0,21.0,22.0,23.0,24.0,25.0,26.0,27.0,28.0,29.0,30.0,31.0,32.0,33.0,34.0,35.0,36.0,37.0,38.0,39.0,40.0,41.0,42.0,43.0,44.0,45.0,46.0,47.0,48.0,49.0,50.0,51.0,52.0,53.0,54.0,55.0,56.0,57.0,58.0,59.0,60.0,61.0,62.0,63.0,64.0,65.0,66.0,67.0,68.0,69.0,70.0,71.0,72.0,73.0,74.0,75.0,76.0,77.0,78.0,79.0,80.0,81.0,82.0,83.0,84.0,85.0,86.0,87.0,88.0,89.0,90.0,91.0,92.0,93.0,94.0,95.0,96.0,97.0,98.0,99.0,100.0,101.0,102.0,103.0,104.0,105.0,106.0,107.0,108.0,109.0,110.0,111.0,112.0,113.0,114.0,115.0,116.0,117.0,118.0,119.0,120.0,121.0,122.0,123.0,124.0,125.0,126.0,127.0,128.0,129.0,130.0,131.0,132.0,133.0,134.0,135.0,136.0,137.0,138.0,139.0,140.0,141.0,142.0,143.0,144.0,145.0,146.0,147.0,148.0,149.0,150.0,151.0,152.0,153.0,154.0,155.0,156.0,157.0,158.0,159.0,160.0,161.0,162.0,163.0,164.0,165.0,166.0,167.0,168.0,169.0,170.0,171.0,172.0,173.0,174.0,175.0,176.0,177.0,178.0,179.0,180.0,181.0,182.0,183.0,184.0,185.0,186.0,187.0,188.0,189.0,190.0,191.0,192.0,193.0,194.0,195.0,196.0,197.0,198.0,199.0,200.0,201.0,202.0,203.0,204.0,205.0,206.0,207.0,208.0,209.0,210.0,211.0,212.0,213.0,214.0,215.0,216.0,217.0,218.0,219.0,220.0,221.0,222.0,223.0,224.0,225.0,226.0,227.0,228.0,229.0,230.0,231.0,232.0,233.0,234.0,235.0,236.0,237.0,238.0,239.0,240.0,241.0,242.0,243.0,244.0,245.0,246.0,247.0,248.0,249.0,1.0,2.0,3.0,4.0,5.0,6.0,7.0,8.0,9.0,10.0,11.0,12.0,13.0,14.0,15.0,16.0,17.0,18.0,19.0,20.0,21.0,22.0,23.0,24.0,25.0,26.0,27.0,28.0,29.0,30.0,31.0,32.0,33.0,34.0,35.0,36.0,37.0,38.0,39.0,40.0,41.0,42.0,43.0,44.0,45.0,46.0,47.0,48.0,49.0,50.0,51.0,52.0,53.0,54.0,55.0,56.0,57.0,58.0,59.0,60.0,61.0,62.0,63.0,64.0,65.0,66.0,67.0,68.0,69.0,70.0,71.0,72.0,73.0,74.0,75.0,76.0,77.0,78.0,79.0,80.0,81.0,82.0,83.0,84.0,85.0,86.0,87.0,88.0,89.0,90.0,91.0,92.0,93.0,94.0,95.0,96.0,97.0,98.0,99.0,100.0,101.0,102.0,103.0,104.0,105.0,106.0,107.0,108.0,109.0,110.0,111.0,112.0,113.0,114.0,115.0,116.0,117.0,118.0,119.0,120.0,121.0,122.0,123.0,124.0,125.0,126.0,127.0,128.0,129.0,130.0,131.0,132.0,133.0,134.0,135.0,136.0,137.0,138.0,139.0,140.0,141.0,142.0,143.0,144.0,145.0,146.0,147.0,148.0,149.0,150.0,151.0,152.0,153.0,154.0,155.0,156.0,157.0,158.0,159.0,160.0,161.0,162.0,163.0,164.0,165.0,166.0,167.0,168.0,169.0,170.0,171.0,172.0,173.0,174.0,175.0,176.0,177.0,178.0,179.0,180.0,181.0,182.0,183.0,184.0,185.0,186.0,187.0,188.0,189.0,190.0,191.0,192.0,193.0,194.0,195.0,196.0,197.0,198.0,199.0,200.0,201.0,202.0,203.0,204.0,205.0,206.0,207.0,208.0,209.0,210.0,211.0,212.0,213.0,214.0,215.0,216.0,217.0,218.0,219.0,220.0,221.0,222.0,223.0,224.0,225.0,226.0,227.0,228.0,229.0,230.0,231.0,232.0,233.0,234.0,235.0,236.0,237.0,238.0,239.0,240.0,241.0,242.0,243.0,244.0,245.0,246.0,247.0,248.0,249.0,1.0,2.0,3.0,4.0,5.0,6.0,7.0,8.0,9.0,10.0,11.0,12.0,13.0,14.0,15.0,16.0,17.0,18.0,19.0,20.0,21.0,22.0,23.0,24.0,25.0,26.0,27.0,28.0,29.0,30.0,31.0,32.0,33.0,34.0,35.0,36.0,37.0,38.0,39.0,40.0,41.0,42.0,43.0,44.0,45.0,46.0,47.0,48.0,49.0,50.0,51.0,52.0,53.0,54.0,55.0,56.0,57.0,58.0,59.0,60.0,61.0,62.0,63.0,64.0,65.0,66.0,67.0,68.0,69.0,70.0,71.0,72.0,73.0,74.0,75.0,76.0,77.0,78.0,79.0,80.0,81.0,82.0,83.0,84.0,85.0,86.0,87.0,88.0,89.0,90.0,91.0,92.0,93.0,94.0,95.0,96.0,97.0,98.0,99.0,100.0,101.0,102.0,103.0,104.0,105.0,106.0,107.0,108.0,109.0,110.0,111.0,112.0,113.0,114.0,115.0,116.0,117.0,118.0,119.0,120.0,121.0,122.0,123.0,124.0,125.0,126.0,127.0,128.0,129.0,130.0,131.0,132.0,133.0,134.0,135.0,136.0,137.0,138.0,139.0,140.0,141.0,142.0,143.0,144.0,145.0,146.0,147.0,148.0,149.0,150.0,151.0,152.0,153.0,154.0,155.0,156.0,157.0,158.0,159.0,160.0,161.0,162.0,163.0,164.0,165.0,166.0,167.0,168.0,169.0,170.0,171.0,172.0,173.0,174.0,175.0,176.0,177.0,178.0,179.0,180.0,181.0,182.0,183.0,184.0,185.0,186.0,187.0,188.0,189.0,190.0,191.0,192.0,193.0,194.0,195.0,196.0,197.0,198.0,199.0,200.0,201.0,202.0,203.0,204.0,205.0,206.0,207.0,208.0,209.0,210.0,211.0,212.0,213.0,214.0,215.0,216.0,217.0,218.0,219.0,220.0,221.0,222.0,223.0,224.0,225.0,226.0,227.0,228.0,229.0,230.0,231.0,232.0,233.0,234.0,235.0,236.0,237.0,238.0,239.0,240.0,241.0,242.0,243.0,244.0,245.0,246.0,247.0,248.0,249.0,1.0,2.0,3.0,4.0,5.0,6.0,7.0,8.0,9.0,10.0,11.0,12.0,13.0,14.0,15.0,16.0,17.0,18.0,19.0,20.0,21.0,22.0,23.0,24.0,25.0,26.0,27.0,28.0,29.0,30.0,31.0,32.0,33.0,34.0,35.0,36.0,37.0,38.0,39.0,40.0,41.0,42.0,43.0,44.0,45.0,46.0,47.0,48.0,49.0,50.0,51.0,52.0,53.0,54.0,55.0,56.0,57.0,58.0,59.0,60.0,61.0,62.0,63.0,64.0,65.0,66.0,67.0,68.0,69.0,70.0,71.0,72.0,73.0,74.0,75.0,76.0,77.0,78.0,79.0,80.0,81.0,82.0,83.0,84.0,85.0,86.0,87.0,88.0,89.0,90.0,91.0,92.0,93.0,94.0,95.0,96.0,97.0,98.0,99.0,100.0,101.0,102.0,103.0,104.0,105.0,106.0,107.0,108.0,109.0,110.0,111.0,112.0,113.0,114.0,115.0,116.0,117.0,118.0,119.0,120.0,121.0,122.0,123.0,124.0,125.0,126.0,127.0,128.0,129.0,130.0,131.0,132.0,133.0,134.0,135.0,136.0,137.0,138.0,139.0,140.0,141.0,142.0,143.0,144.0,145.0,146.0,147.0,148.0,149.0,150.0,151.0,152.0,153.0,154.0,155.0,156.0,157.0,158.0,159.0,160.0,161.0,162.0,163.0,164.0,165.0,166.0,167.0,168.0,169.0,170.0,171.0,172.0,173.0,174.0,175.0,176.0,177.0,178.0,179.0,180.0,181.0,182.0,183.0,184.0,185.0,186.0,187.0,188.0,189.0,190.0,191.0,192.0,193.0,194.0,195.0,196.0,197.0,198.0,199.0,200.0,201.0,202.0,203.0,204.0,205.0,206.0,207.0,208.0,209.0,210.0,211.0,212.0,213.0,214.0,215.0,216.0,217.0,218.0,219.0,220.0,221.0,222.0,223.0,224.0,225.0,226.0,227.0,228.0,229.0,230.0,231.0,232.0,233.0,234.0,235.0,236.0,237.0,238.0,239.0,240.0,241.0,242.0,243.0,244.0,245.0,246.0,247.0,248.0,249.0,1.0,2.0,3.0,4.0,5.0,6.0,7.0,8.0,9.0,10.0,11.0,12.0,13.0,14.0,15.0,16.0,17.0,18.0,19.0,20.0,21.0,22.0,23.0,24.0,25.0,26.0,27.0,28.0,29.0,30.0,31.0,32.0,33.0,34.0,35.0,36.0,37.0,38.0,39.0,40.0,41.0,42.0,43.0,44.0,45.0,46.0,47.0,48.0,49.0,50.0,51.0,52.0,53.0,54.0,55.0,56.0,57.0,58.0,59.0,60.0,61.0,62.0,63.0,64.0,65.0,66.0,67.0,68.0,69.0,70.0,71.0,72.0,73.0,74.0,75.0,76.0,77.0,78.0,79.0,80.0,81.0,82.0,83.0,84.0,85.0,86.0,87.0,88.0,89.0,90.0,91.0,92.0,93.0,94.0,95.0,96.0,97.0,98.0,99.0,100.0,101.0,102.0,103.0,104.0,105.0,106.0,107.0,108.0,109.0,110.0,111.0,112.0,113.0,114.0,115.0,116.0,117.0,118.0,119.0,120.0,121.0,122.0,123.0,124.0,125.0,126.0,127.0,128.0,129.0,130.0,131.0,132.0,133.0,134.0,135.0,136.0,137.0,138.0,139.0,140.0,141.0,142.0,143.0,144.0,145.0,146.0,147.0,148.0,149.0,150.0,151.0,152.0,153.0,154.0,155.0,156.0,157.0,158.0,159.0,160.0,161.0,162.0,163.0,164.0,165.0,166.0,167.0,168.0,169.0,170.0,171.0,172.0,173.0,174.0,175.0,176.0,177.0,178.0,179.0,180.0,181.0,182.0,183.0,184.0,185.0,186.0,187.0,188.0,189.0,190.0,191.0,192.0,193.0,194.0,195.0,196.0,197.0,198.0,199.0,200.0,201.0,202.0,203.0,204.0,205.0,206.0,207.0,208.0,209.0,210.0,211.0,212.0,213.0,214.0,215.0,216.0,217.0,218.0,219.0,220.0,221.0,222.0,223.0,224.0,225.0,226.0,227.0,228.0,229.0,230.0,231.0,232.0,233.0,234.0,235.0,236.0,237.0,238.0,239.0,240.0,241.0,242.0,243.0,244.0,245.0,246.0,247.0,248.0,249.0,1.0,2.0,3.0,4.0,5.0,6.0,7.0,8.0,9.0,10.0,11.0,12.0,13.0,14.0,15.0,16.0,17.0,18.0,19.0,20.0,21.0,22.0,23.0,24.0,25.0,26.0,27.0,28.0,29.0,30.0,31.0,32.0,33.0,34.0,35.0,36.0,37.0,38.0,39.0,40.0,41.0,42.0,43.0,44.0,45.0,46.0,47.0,48.0,49.0,50.0,51.0,52.0,53.0,54.0,55.0,56.0,57.0,58.0,59.0,60.0,61.0,62.0,63.0,64.0,65.0,66.0,67.0,68.0,69.0,70.0,71.0,72.0,73.0,74.0,75.0,76.0,77.0,78.0,79.0,80.0,81.0,82.0,83.0,84.0,85.0,86.0,87.0,88.0,89.0,90.0,91.0,92.0,93.0,94.0,95.0,96.0,97.0,98.0,99.0,100.0,101.0,102.0,103.0,104.0,105.0,106.0,107.0,108.0,109.0,110.0,111.0,112.0,113.0,114.0,115.0,116.0,117.0,118.0,119.0,120.0,121.0,122.0,123.0,124.0,125.0,126.0,127.0,128.0,129.0,130.0,131.0,132.0,133.0,134.0,135.0,136.0,137.0,138.0,139.0,140.0,141.0,142.0,143.0,144.0,145.0,146.0,147.0,148.0,149.0,150.0,151.0,152.0,153.0,154.0,155.0,156.0,157.0,158.0,159.0,160.0,161.0,162.0,163.0,164.0,165.0,166.0,167.0,168.0,169.0,170.0,171.0,172.0,173.0,174.0,175.0,176.0,177.0,178.0,179.0,180.0,181.0,182.0,183.0,184.0,185.0,186.0,187.0,188.0,189.0,190.0,191.0,192.0,193.0,194.0,195.0,196.0,197.0,198.0,199.0,200.0,201.0,202.0,203.0,204.0,205.0,206.0,207.0,208.0,209.0,210.0,211.0,212.0,213.0,214.0,215.0,216.0,217.0,218.0,219.0,220.0,221.0,222.0,223.0,224.0,225.0,226.0,227.0,228.0,229.0,230.0,231.0,232.0,233.0,234.0,235.0,236.0,237.0,238.0,239.0,240.0,241.0,242.0,243.0,244.0,245.0,246.0,247.0,248.0,249.0,1.0,2.0,3.0,4.0,5.0,6.0,7.0,8.0,9.0,10.0,11.0,12.0,13.0,14.0,15.0,16.0,17.0,18.0,19.0,20.0,21.0,22.0,23.0,24.0,25.0,26.0,27.0,28.0,29.0,30.0,31.0,32.0,33.0,34.0,35.0,36.0,37.0,38.0,39.0,40.0,41.0,42.0,43.0,44.0,45.0,46.0,47.0,48.0,49.0,50.0,51.0,52.0,53.0,54.0,55.0,56.0,57.0,58.0,59.0,60.0,61.0,62.0,63.0,64.0,65.0,66.0,67.0,68.0,69.0,70.0,71.0,72.0,73.0,74.0,75.0,76.0,77.0,78.0,79.0,80.0,81.0,82.0,83.0,84.0,85.0,86.0,87.0,88.0,89.0,90.0,91.0,92.0,93.0,94.0,95.0,96.0,97.0,98.0,99.0,100.0,101.0,102.0,103.0,104.0,105.0,106.0,107.0,108.0,109.0,110.0,111.0,112.0,113.0,114.0,115.0,116.0,117.0,118.0,119.0,120.0,121.0,122.0,123.0,124.0,125.0,126.0,127.0,128.0,129.0,130.0,131.0,132.0,133.0,134.0,135.0,136.0,137.0,138.0,139.0,140.0,141.0,142.0,143.0,144.0,145.0,146.0,147.0,148.0,149.0,150.0,151.0,152.0,153.0,154.0,155.0,156.0,157.0,158.0,159.0,160.0,161.0,162.0,163.0,164.0,165.0,166.0,167.0,168.0,169.0,170.0,171.0,172.0,173.0,174.0,175.0,176.0,177.0,178.0,179.0,180.0,181.0,182.0,183.0,184.0,185.0,186.0,187.0,188.0,189.0,190.0,191.0,192.0,193.0,194.0,195.0,196.0,197.0,198.0,199.0,200.0,201.0,202.0,203.0,204.0,205.0,206.0,207.0,208.0,209.0,210.0,211.0,212.0,213.0,214.0,215.0,216.0,217.0,218.0,219.0,220.0,221.0,222.0,223.0,224.0,225.0,226.0,227.0,228.0,229.0,230.0,231.0,232.0,233.0,234.0,235.0,236.0,237.0,238.0,239.0,240.0,241.0,242.0,243.0,244.0,245.0,246.0,247.0,248.0,249.0,1.0,2.0,3.0,4.0,5.0,6.0,7.0,8.0,9.0,10.0,11.0,12.0,13.0,14.0,15.0,16.0,17.0,18.0,19.0,20.0,21.0,22.0,23.0,24.0,25.0,26.0,27.0,28.0,29.0,30.0,31.0,32.0,33.0,34.0,35.0,36.0,37.0,38.0,39.0,40.0,41.0,42.0,43.0,44.0,45.0,46.0,47.0,48.0,49.0,50.0,51.0,52.0,53.0,54.0,55.0,56.0,57.0,58.0,59.0,60.0,61.0,62.0,63.0,64.0,65.0,66.0,67.0,68.0,69.0,70.0,71.0,72.0,73.0,74.0,75.0,76.0,77.0,78.0,79.0,80.0,81.0,82.0,83.0,84.0,85.0,86.0,87.0,88.0,89.0,90.0,91.0,92.0,93.0,94.0,95.0,96.0,97.0,98.0,99.0,100.0,101.0,102.0,103.0,104.0,105.0,106.0,107.0,108.0,109.0,110.0,111.0,112.0,113.0,114.0,115.0,116.0,117.0,118.0,119.0,120.0,121.0,122.0,123.0,124.0,125.0,126.0,127.0,128.0,129.0,130.0,131.0,132.0,133.0,134.0,135.0,136.0,137.0,138.0,139.0,140.0,141.0,142.0,143.0,144.0,145.0,146.0,147.0,148.0,149.0,150.0,151.0,152.0,153.0,154.0,155.0,156.0,157.0,158.0,159.0,160.0,161.0,162.0,163.0,164.0,165.0,166.0,167.0,168.0,169.0,170.0,171.0,172.0,173.0,174.0,175.0,176.0,177.0,178.0,179.0,180.0,181.0,182.0,183.0,184.0,185.0,186.0,187.0,188.0,189.0,190.0,191.0,192.0,193.0,194.0,195.0,196.0,197.0,198.0,199.0,200.0,201.0,202.0,203.0,204.0,205.0,206.0,207.0,208.0,209.0,210.0,211.0,212.0,213.0,214.0,215.0,216.0,217.0,218.0,219.0,220.0,221.0,222.0,223.0,224.0,225.0,226.0,227.0,228.0,229.0,230.0,231.0,232.0,233.0,234.0,235.0,236.0,237.0,238.0,239.0,240.0,241.0,242.0,243.0,244.0,245.0,246.0,247.0,248.0,249.0,1.0,2.0,3.0,4.0,5.0,6.0,7.0,8.0,9.0,10.0,11.0,12.0,13.0,14.0,15.0,16.0,17.0,18.0,19.0,20.0,21.0,22.0,23.0,24.0,25.0,26.0,27.0,28.0,29.0,30.0,31.0,32.0,33.0,34.0,35.0,36.0,37.0,38.0,39.0,40.0,41.0,42.0,43.0,44.0,45.0,46.0,47.0,48.0,49.0,50.0,51.0,52.0,53.0,54.0,55.0,56.0,57.0,58.0,59.0,60.0,61.0,62.0,63.0,64.0,65.0,66.0,67.0,68.0,69.0,70.0,71.0,72.0,73.0,74.0,75.0,76.0,77.0,78.0,79.0,80.0,81.0,82.0,83.0,84.0,85.0,86.0,87.0,88.0,89.0,90.0,91.0,92.0,93.0,94.0,95.0,96.0,97.0,98.0,99.0,100.0,101.0,102.0,103.0,104.0,105.0,106.0,107.0,108.0,109.0,110.0,111.0,112.0,113.0,114.0,115.0,116.0,117.0,118.0,119.0,120.0,121.0,122.0,123.0,124.0,125.0,126.0,127.0,128.0,129.0,130.0,131.0,132.0,133.0,134.0,135.0,136.0,137.0,138.0,139.0,140.0,141.0,142.0,143.0,144.0,145.0,146.0,147.0,148.0,149.0,150.0,151.0,152.0,153.0,154.0,155.0,156.0,157.0,158.0,159.0,160.0,161.0,162.0,163.0,164.0,165.0,166.0,167.0,168.0,169.0,170.0,171.0,172.0,173.0,174.0,175.0,176.0,177.0,178.0,179.0,180.0,181.0,182.0,183.0,184.0,185.0,186.0,187.0,188.0,189.0,190.0,191.0,192.0,193.0,194.0,195.0,196.0,197.0,198.0,199.0,200.0,201.0,202.0,203.0,204.0,205.0,206.0,207.0,208.0,209.0,210.0,211.0,212.0,213.0,214.0,215.0,216.0,217.0,218.0,219.0,220.0,221.0,222.0,223.0,224.0,225.0,226.0,227.0,228.0,229.0,230.0,231.0,232.0,233.0,234.0,235.0,236.0,237.0,238.0,239.0,240.0,241.0,242.0,243.0,244.0,245.0,246.0,247.0,248.0,249.0,1.0,2.0,3.0,4.0,5.0,6.0,7.0,8.0,9.0,10.0,11.0,12.0,13.0,14.0,15.0,16.0,17.0,18.0,19.0,20.0,21.0,22.0,23.0,24.0,25.0,26.0,27.0,28.0,29.0,30.0,31.0,32.0,33.0,34.0,35.0,36.0,37.0,38.0,39.0,40.0,41.0,42.0,43.0,44.0,45.0,46.0,47.0,48.0,49.0,50.0,51.0,52.0,53.0,54.0,55.0,56.0,57.0,58.0,59.0,60.0,61.0,62.0,63.0,64.0,65.0,66.0,67.0,68.0,69.0,70.0,71.0,72.0,73.0,74.0,75.0,76.0,77.0,78.0,79.0,80.0,81.0,82.0,83.0,84.0,85.0,86.0,87.0,88.0,89.0,90.0,91.0,92.0,93.0,94.0,95.0,96.0,97.0,98.0,99.0,100.0,101.0,102.0,103.0,104.0,105.0,106.0,107.0,108.0,109.0,110.0,111.0,112.0,113.0,114.0,115.0,116.0,117.0,118.0,119.0,120.0,121.0,122.0,123.0,124.0,125.0,126.0,127.0,128.0,129.0,130.0,131.0,132.0,133.0,134.0,135.0,136.0,137.0,138.0,139.0,140.0,141.0,142.0,143.0,144.0,145.0,146.0,147.0,148.0,149.0,150.0,151.0,152.0,153.0,154.0,155.0,156.0,157.0,158.0,159.0,160.0,161.0,162.0,163.0,164.0,165.0,166.0,167.0,168.0,169.0,170.0,171.0,172.0,173.0,174.0,175.0,176.0,177.0,178.0,179.0,180.0,181.0,182.0,183.0,184.0,185.0,186.0,187.0,188.0,189.0,190.0,191.0,192.0,193.0,194.0,195.0,196.0,197.0,198.0,199.0,200.0,201.0,202.0,203.0,204.0,205.0,206.0,207.0,208.0,209.0,210.0,211.0,212.0,213.0,214.0,215.0,216.0,217.0,218.0,219.0,220.0,221.0,222.0,223.0,224.0,225.0,226.0,227.0,228.0,229.0,230.0,231.0,232.0,233.0,234.0,235.0,236.0,237.0,238.0,239.0,240.0,241.0,242.0,243.0,244.0,245.0,246.0,247.0,248.0,249.0,1.0,2.0,3.0,4.0,5.0,6.0,7.0,8.0,9.0,10.0,11.0,12.0,13.0,14.0,15.0,16.0,17.0,18.0,19.0,20.0,21.0,22.0,23.0,24.0,25.0,26.0,27.0,28.0,29.0,30.0,31.0,32.0,33.0,34.0,35.0,36.0,37.0,38.0,39.0,40.0,41.0,42.0,43.0,44.0,45.0,46.0,47.0,48.0,49.0,50.0,51.0,52.0,53.0,54.0,55.0,56.0,57.0,58.0,59.0,60.0,61.0,62.0,63.0,64.0,65.0,66.0,67.0,68.0,69.0,70.0,71.0,72.0,73.0,74.0,75.0,76.0,77.0,78.0,79.0,80.0,81.0,82.0,83.0,84.0,85.0,86.0,87.0,88.0,89.0,90.0,91.0,92.0,93.0,94.0,95.0,96.0,97.0,98.0,99.0,100.0,101.0,102.0,103.0,104.0,105.0,106.0,107.0,108.0,109.0,110.0,111.0,112.0,113.0,114.0,115.0,116.0,117.0,118.0,119.0,120.0,121.0,122.0,123.0,124.0,125.0,126.0,127.0,128.0,129.0,130.0,131.0,132.0,133.0,134.0,135.0,136.0,137.0,138.0,139.0,140.0,141.0,142.0,143.0,144.0,145.0,146.0,147.0,148.0,149.0,150.0,151.0,152.0,153.0,154.0,155.0,156.0,157.0,158.0,159.0,160.0,161.0,162.0,163.0,164.0,165.0,166.0,167.0,168.0,169.0,170.0,171.0,172.0,173.0,174.0,175.0,176.0,177.0,178.0,179.0,180.0,181.0,182.0,183.0,184.0,185.0,186.0,187.0,188.0,189.0,190.0,191.0,192.0,193.0,194.0,195.0,196.0,197.0,198.0,199.0,200.0,201.0,202.0,203.0,204.0,205.0,206.0,207.0,208.0,209.0,210.0,211.0,212.0,213.0,214.0,215.0,216.0,217.0,218.0,219.0,220.0,221.0,222.0,223.0,224.0,225.0,226.0,227.0,228.0,229.0,230.0,231.0,232.0,233.0,234.0,235.0,236.0,237.0,238.0,239.0,240.0,241.0,242.0,243.0,244.0,245.0,246.0,247.0,248.0,249.0,1.0,2.0,3.0,4.0,5.0,6.0,7.0,8.0,9.0,10.0,11.0,12.0,13.0,14.0,15.0,16.0,17.0,18.0,19.0,20.0,21.0,22.0,23.0,24.0,25.0,26.0,27.0,28.0,29.0,30.0,31.0,32.0,33.0,34.0,35.0,36.0,37.0,38.0,39.0,40.0,41.0,42.0,43.0,44.0,45.0,46.0,47.0,48.0,49.0,50.0,51.0,52.0,53.0,54.0,55.0,56.0,57.0,58.0,59.0,60.0,61.0,62.0,63.0,64.0,65.0,66.0,67.0,68.0,69.0,70.0,71.0,72.0,73.0,74.0,75.0,76.0,77.0,78.0,79.0,80.0,81.0,82.0,83.0,84.0,85.0,86.0,87.0,88.0,89.0,90.0,91.0,92.0,93.0,94.0,95.0,96.0,97.0,98.0,99.0,100.0,101.0,102.0,103.0,104.0,105.0,106.0,107.0,108.0,109.0,110.0,111.0,112.0,113.0,114.0,115.0,116.0,117.0,118.0,119.0,120.0,121.0,122.0,123.0,124.0,125.0,126.0,127.0,128.0,129.0,130.0,131.0,132.0,133.0,134.0,135.0,136.0,137.0,138.0,139.0,140.0,141.0,142.0,143.0,144.0,145.0,146.0,147.0,148.0,149.0,150.0,151.0,152.0,153.0,154.0,155.0,156.0,157.0,158.0,159.0,160.0,161.0,162.0,163.0,164.0,165.0,166.0,167.0,168.0,169.0,170.0,171.0,172.0,173.0,174.0,175.0,176.0,177.0,178.0,179.0,180.0,181.0,182.0,183.0,184.0,185.0,186.0,187.0,188.0,189.0,190.0,191.0,192.0,193.0,194.0,195.0,196.0,197.0,198.0,199.0,200.0,201.0,202.0,203.0,204.0,205.0,206.0,207.0,208.0,209.0,210.0,211.0,212.0,213.0,214.0,215.0,216.0,217.0,218.0,219.0,220.0,221.0,222.0,223.0,224.0,225.0,226.0,227.0,228.0,229.0,230.0,231.0,232.0,233.0,234.0,235.0,236.0,237.0,238.0,239.0,240.0,241.0,242.0,243.0,244.0,245.0,246.0,247.0,248.0,249.0,1.0,2.0,3.0,4.0,5.0,6.0,7.0,8.0,9.0,10.0,11.0,12.0,13.0,14.0,15.0,16.0,17.0,18.0,19.0,20.0,21.0,22.0,23.0,24.0,25.0,26.0,27.0,28.0,29.0,30.0,31.0,32.0,33.0,34.0,35.0,36.0,37.0,38.0,39.0,40.0,41.0,42.0,43.0,44.0,45.0,46.0,47.0,48.0,49.0,50.0,51.0,52.0,53.0,54.0,55.0,56.0,57.0,58.0,59.0,60.0,61.0,62.0,63.0,64.0,65.0,66.0,67.0,68.0,69.0,70.0,71.0,72.0,73.0,74.0,75.0,76.0,77.0,78.0,79.0,80.0,81.0,82.0,83.0,84.0,85.0,86.0,87.0,88.0,89.0,90.0,91.0,92.0,93.0,94.0,95.0,96.0,97.0,98.0,99.0,100.0,101.0,102.0,103.0,104.0,105.0,106.0,107.0,108.0,109.0,110.0,111.0,112.0,113.0,114.0,115.0,116.0,117.0,118.0,119.0,120.0,121.0,122.0,123.0,124.0,125.0,126.0,127.0,128.0,129.0,130.0,131.0,132.0,133.0,134.0,135.0,136.0,137.0,138.0,139.0,140.0,141.0,142.0,143.0,144.0,145.0,146.0,147.0,148.0,149.0,150.0,151.0,152.0,153.0,154.0,155.0,156.0,157.0,158.0,159.0,160.0,161.0,162.0,163.0,164.0,165.0,166.0,167.0,168.0,169.0,170.0,171.0,172.0,173.0,174.0,175.0,176.0,177.0,178.0,179.0,180.0,181.0,182.0,183.0,184.0,185.0,186.0,187.0,188.0,189.0,190.0,191.0,192.0,193.0,194.0,195.0,196.0,197.0,198.0,199.0,200.0,201.0,202.0,203.0,204.0,205.0,206.0,207.0,208.0,209.0,210.0,211.0,212.0,213.0,214.0,215.0,216.0,217.0,218.0,219.0,220.0,221.0,222.0,223.0,224.0,225.0,226.0,227.0,228.0,229.0,230.0,231.0,232.0,233.0,234.0,235.0,236.0,237.0,238.0,239.0,240.0,241.0,242.0,243.0,244.0,245.0,246.0,247.0,248.0,249.0,1.0,2.0,3.0,4.0,5.0,6.0,7.0,8.0,9.0,10.0,11.0,12.0,13.0,14.0,15.0,16.0,17.0,18.0,19.0,20.0,21.0,22.0,23.0,24.0,25.0,26.0,27.0,28.0,29.0,30.0,31.0,32.0,33.0,34.0,35.0,36.0,37.0,38.0,39.0,40.0,41.0,42.0,43.0,44.0,45.0,46.0,47.0,48.0,49.0,50.0,51.0,52.0,53.0,54.0,55.0,56.0,57.0,58.0,59.0,60.0,61.0,62.0,63.0,64.0,65.0,66.0,67.0,68.0,69.0,70.0,71.0,72.0,73.0,74.0,75.0,76.0,77.0,78.0,79.0,80.0,81.0,82.0,83.0,84.0,85.0,86.0,87.0,88.0,89.0,90.0,91.0,92.0,93.0,94.0,95.0,96.0,97.0,98.0,99.0,100.0,101.0,102.0,103.0,104.0,105.0,106.0,107.0,108.0,109.0,110.0,111.0,112.0,113.0,114.0,115.0,116.0,117.0,118.0,119.0,120.0,121.0,122.0,123.0,124.0,125.0,126.0,127.0,128.0,129.0,130.0,131.0,132.0,133.0,134.0,135.0,136.0,137.0,138.0,139.0,140.0,141.0,142.0,143.0,144.0,145.0,146.0,147.0,148.0,149.0,150.0,151.0,152.0,153.0,154.0,155.0,156.0,157.0,158.0,159.0,160.0,161.0,162.0,163.0,164.0,165.0,166.0,167.0,168.0,169.0,170.0,171.0,172.0,173.0,174.0,175.0,176.0,177.0,178.0,179.0,180.0,181.0,182.0,183.0,184.0,185.0,186.0,187.0,188.0,189.0,190.0,191.0,192.0,193.0,194.0,195.0,196.0,197.0,198.0,199.0,200.0,201.0,202.0,203.0,204.0,205.0,206.0,207.0,208.0,209.0,210.0,211.0,212.0,213.0,214.0,215.0,216.0,217.0,218.0,219.0,220.0,221.0,222.0,223.0,224.0,225.0,226.0,227.0,228.0,229.0,230.0,231.0,232.0,233.0,234.0,235.0,236.0,237.0,238.0,239.0,240.0,241.0,242.0,243.0,244.0,245.0,246.0,247.0,248.0,249.0,1.0,2.0,3.0,4.0,5.0,6.0,7.0,8.0,9.0,10.0,11.0,12.0,13.0,14.0,15.0,16.0,17.0,18.0,19.0,20.0,21.0,22.0,23.0,24.0,25.0,26.0,27.0,28.0,29.0,30.0,31.0,32.0,33.0,34.0,35.0,36.0,37.0,38.0,39.0,40.0,41.0,42.0,43.0,44.0,45.0,46.0,47.0,48.0,49.0,50.0,51.0,52.0,53.0,54.0,55.0,56.0,57.0,58.0,59.0,60.0,61.0,62.0,63.0,64.0,65.0,66.0,67.0,68.0,69.0,70.0,71.0,72.0,73.0,74.0,75.0,76.0,77.0,78.0,79.0,80.0,81.0,82.0,83.0,84.0,85.0,86.0,87.0,88.0,89.0,90.0,91.0,92.0,93.0,94.0,95.0,96.0,97.0,98.0,99.0,100.0,101.0,102.0,103.0,104.0,105.0,106.0,107.0,108.0,109.0,110.0,111.0,112.0,113.0,114.0,115.0,116.0,117.0,118.0,119.0,120.0,121.0,122.0,123.0,124.0,125.0,126.0,127.0,128.0,129.0,130.0,131.0,132.0,133.0,134.0,135.0,136.0,137.0,138.0,139.0,140.0,141.0,142.0,143.0,144.0,145.0,146.0,147.0,148.0,149.0,150.0,151.0,152.0,153.0,154.0,155.0,156.0,157.0,158.0,159.0,160.0,161.0,162.0,163.0,164.0,165.0,166.0,167.0,168.0,169.0,170.0,171.0,172.0,173.0,174.0,175.0,176.0,177.0,178.0,179.0,180.0,181.0,182.0,183.0,184.0,185.0,186.0,187.0,188.0,189.0,190.0,191.0,192.0,193.0,194.0,195.0,196.0,197.0,198.0,199.0,200.0,201.0,202.0,203.0,204.0,205.0,206.0,207.0,208.0,209.0,210.0,211.0,212.0,213.0,214.0,215.0,216.0,217.0,218.0,219.0,220.0,221.0,222.0,223.0,224.0,225.0,226.0,227.0,228.0,229.0,230.0,231.0,232.0,233.0,234.0,235.0,236.0,237.0,238.0,239.0,240.0,241.0,242.0,243.0,244.0,245.0,246.0,247.0,248.0,249.0],\n",
       "\"count\":[36.0,57.0,21.0,20.0,3.0,2.0,24.0,7.0,10.0,20.0,16.0,27.0,25.0,23.0,1.0,25.0,30.0,12.0,9.0,21.0,21.0,10.0,16.0,27.0,15.0,17.0,32.0,24.0,24.0,6.0,10.0,16.0,30.0,11.0,11.0,13.0,15.0,20.0,13.0,20.0,18.0,7.0,21.0,28.0,27.0,18.0,28.0,13.0,4.0,2.0,5.0,13.0,16.0,16.0,19.0,8.0,7.0,1.0,6.0,7.0,4.0,5.0,9.0,10.0,6.0,8.0,8.0,7.0,7.0,4.0,6.0,6.0,1.0,2.0,9.0,10.0,3.0,10.0,6.0,1.0,1.0,2.0,1.0,5.0,13.0,10.0,10.0,5.0,5.0,14.0,5.0,4.0,13.0,12.0,10.0,10.0,3.0,4.0,5.0,8.0,15.0,7.0,0.0,9.0,1.0,1.0,2.0,5.0,12.0,28.0,21.0,25.0,14.0,14.0,9.0,9.0,12.0,12.0,2.0,17.0,15.0,8.0,0.0,0.0,0.0,0.0,0.0,0.0,0.0,0.0,0.0,0.0,0.0,0.0,0.0,0.0,0.0,0.0,0.0,0.0,0.0,0.0,0.0,8.0,12.0,26.0,10.0,13.0,18.0,23.0,31.0,41.0,37.0,47.0,29.0,45.0,42.0,11.0,24.0,24.0,27.0,37.0,12.0,5.0,2.0,11.0,7.0,12.0,13.0,14.0,9.0,15.0,9.0,27.0,4.0,8.0,2.0,6.0,9.0,11.0,10.0,6.0,15.0,10.0,5.0,7.0,9.0,2.0,0.0,0.0,3.0,1.0,7.0,8.0,0.0,0.0,8.0,8.0,6.0,3.0,10.0,23.0,20.0,22.0,14.0,25.0,19.0,16.0,3.0,14.0,4.0,12.0,19.0,4.0,4.0,2.0,2.0,5.0,7.0,6.0,17.0,5.0,8.0,7.0,11.0,11.0,13.0,10.0,40.0,11.0,10.0,17.0,5.0,4.0,12.0,12.0,9.0,5.0,1.0,3.0,3.0,10.0,1.0,5.0,10.0,3.0,7.0,33.0,35.0,10.0,8.0,4.0,11.0,8.0,18.0,14.0,6.0,6.0,2.0,4.0,8.0,10.0,14.0,10.0,11.0,3.0,12.0,5.0,2.0,2.0,7.0,9.0,6.0,4.0,7.0,9.0,11.0,10.0,5.0,9.0,6.0,7.0,3.0,2.0,8.0,0.0,6.0,7.0,0.0,0.0,0.0,12.0,18.0,6.0,17.0,21.0,18.0,8.0,16.0,9.0,3.0,6.0,0.0,2.0,2.0,1.0,1.0,7.0,8.0,3.0,5.0,6.0,6.0,2.0,1.0,0.0,6.0,15.0,12.0,16.0,9.0,11.0,29.0,5.0,13.0,2.0,5.0,4.0,17.0,14.0,0.0,2.0,1.0,9.0,5.0,9.0,16.0,11.0,19.0,5.0,10.0,7.0,12.0,9.0,7.0,15.0,25.0,9.0,12.0,19.0,21.0,27.0,17.0,15.0,2.0,1.0,1.0,1.0,1.0,14.0,3.0,10.0,9.0,11.0,1.0,11.0,9.0,6.0,15.0,5.0,4.0,17.0,7.0,9.0,14.0,5.0,5.0,5.0,3.0,4.0,5.0,13.0,23.0,0.0,0.0,0.0,0.0,0.0,0.0,0.0,0.0,0.0,0.0,0.0,0.0,0.0,0.0,0.0,0.0,0.0,0.0,0.0,0.0,0.0,0.0,0.0,0.0,0.0,0.0,0.0,0.0,0.0,0.0,0.0,0.0,0.0,0.0,0.0,0.0,0.0,0.0,0.0,0.0,0.0,0.0,0.0,0.0,0.0,0.0,0.0,0.0,0.0,0.0,0.0,0.0,0.0,0.0,0.0,0.0,0.0,0.0,0.0,0.0,0.0,0.0,0.0,0.0,0.0,0.0,0.0,0.0,0.0,0.0,0.0,0.0,0.0,0.0,0.0,0.0,0.0,0.0,0.0,0.0,0.0,0.0,0.0,0.0,0.0,0.0,0.0,0.0,0.0,0.0,0.0,0.0,0.0,0.0,0.0,0.0,0.0,0.0,0.0,0.0,0.0,0.0,0.0,0.0,0.0,0.0,0.0,0.0,0.0,0.0,0.0,0.0,0.0,0.0,0.0,50.0,37.0,24.0,20.0,26.0,47.0,33.0,17.0,18.0,15.0,16.0,5.0,8.0,8.0,7.0,4.0,3.0,15.0,25.0,9.0,6.0,1.0,7.0,1.0,0.0,1.0,5.0,10.0,4.0,2.0,4.0,7.0,9.0,12.0,9.0,7.0,9.0,1.0,2.0,0.0,0.0,2.0,2.0,11.0,8.0,14.0,20.0,25.0,9.0,6.0,3.0,0.0,0.0,0.0,2.0,22.0,32.0,25.0,20.0,24.0,27.0,34.0,54.0,19.0,47.0,62.0,41.0,35.0,18.0,14.0,10.0,16.0,21.0,14.0,16.0,18.0,9.0,13.0,12.0,3.0,1.0,1.0,4.0,8.0,0.0,7.0,9.0,3.0,4.0,13.0,7.0,0.0,3.0,18.0,14.0,9.0,6.0,0.0,0.0,0.0,4.0,5.0,18.0,3.0,6.0,7.0,5.0,7.0,8.0,1.0,5.0,23.0,15.0,12.0,9.0,5.0,8.0,15.0,29.0,28.0,11.0,6.0,10.0,18.0,31.0,20.0,12.0,4.0,11.0,6.0,12.0,2.0,2.0,5.0,13.0,0.0,0.0,0.0,0.0,0.0,0.0,0.0,0.0,0.0,0.0,0.0,0.0,0.0,0.0,0.0,0.0,0.0,0.0,0.0,0.0,0.0,0.0,0.0,0.0,0.0,0.0,0.0,0.0,0.0,0.0,0.0,0.0,0.0,0.0,0.0,0.0,0.0,0.0,0.0,0.0,0.0,0.0,0.0,0.0,0.0,0.0,0.0,0.0,0.0,0.0,0.0,0.0,0.0,0.0,0.0,0.0,0.0,0.0,0.0,0.0,0.0,0.0,0.0,0.0,0.0,0.0,0.0,0.0,0.0,0.0,0.0,0.0,0.0,0.0,0.0,0.0,0.0,0.0,0.0,0.0,0.0,0.0,0.0,0.0,0.0,0.0,0.0,0.0,0.0,0.0,0.0,0.0,0.0,0.0,0.0,0.0,0.0,0.0,0.0,0.0,0.0,0.0,0.0,0.0,0.0,0.0,0.0,0.0,0.0,0.0,0.0,0.0,0.0,0.0,16.0,10.0,15.0,8.0,14.0,4.0,51.0,19.0,20.0,31.0,34.0,17.0,17.0,7.0,14.0,6.0,5.0,2.0,4.0,2.0,5.0,13.0,5.0,1.0,6.0,8.0,6.0,13.0,2.0,6.0,5.0,13.0,5.0,1.0,1.0,0.0,0.0,0.0,2.0,3.0,4.0,3.0,9.0,5.0,2.0,7.0,4.0,14.0,32.0,32.0,16.0,17.0,39.0,40.0,32.0,33.0,40.0,48.0,4.0,1.0,0.0,0.0,7.0,5.0,12.0,9.0,8.0,8.0,14.0,14.0,5.0,8.0,3.0,1.0,2.0,7.0,7.0,1.0,2.0,5.0,8.0,5.0,2.0,1.0,1.0,5.0,2.0,3.0,5.0,9.0,3.0,4.0,8.0,10.0,8.0,16.0,5.0,6.0,8.0,3.0,9.0,11.0,8.0,11.0,8.0,8.0,10.0,7.0,13.0,20.0,18.0,12.0,13.0,18.0,4.0,0.0,9.0,6.0,8.0,9.0,29.0,19.0,26.0,24.0,9.0,5.0,8.0,8.0,8.0,3.0,9.0,9.0,21.0,8.0,0.0,0.0,0.0,0.0,0.0,0.0,0.0,0.0,0.0,0.0,0.0,0.0,0.0,0.0,0.0,0.0,0.0,0.0,0.0,0.0,0.0,0.0,0.0,0.0,0.0,0.0,0.0,0.0,0.0,0.0,0.0,0.0,0.0,0.0,0.0,0.0,0.0,0.0,0.0,0.0,0.0,0.0,0.0,0.0,0.0,0.0,0.0,0.0,0.0,0.0,0.0,0.0,0.0,0.0,0.0,0.0,0.0,0.0,0.0,0.0,0.0,0.0,0.0,0.0,0.0,0.0,0.0,0.0,0.0,0.0,0.0,0.0,0.0,0.0,0.0,0.0,0.0,0.0,0.0,0.0,0.0,0.0,0.0,0.0,0.0,0.0,0.0,0.0,0.0,0.0,0.0,0.0,0.0,0.0,0.0,0.0,0.0,0.0,0.0,0.0,0.0,0.0,0.0,0.0,0.0,0.0,0.0,0.0,0.0,0.0,0.0,0.0,0.0,0.0,0.0,0.0,0.0,0.0,0.0,0.0,0.0,0.0,0.0,0.0,0.0,0.0,0.0,0.0,0.0,0.0,0.0,0.0,0.0,4.0,11.0,12.0,13.0,3.0,9.0,12.0,6.0,7.0,18.0,6.0,8.0,14.0,4.0,10.0,5.0,2.0,3.0,11.0,7.0,7.0,5.0,10.0,13.0,8.0,6.0,13.0,15.0,13.0,1.0,11.0,15.0,12.0,12.0,17.0,3.0,2.0,1.0,0.0,6.0,2.0,0.0,6.0,3.0,5.0,5.0,1.0,2.0,3.0,3.0,1.0,1.0,2.0,2.0,3.0,3.0,5.0,10.0,3.0,12.0,6.0,7.0,2.0,2.0,0.0,1.0,2.0,3.0,1.0,4.0,3.0,4.0,4.0,9.0,4.0,2.0,11.0,7.0,5.0,3.0,8.0,20.0,6.0,4.0,14.0,2.0,0.0,3.0,5.0,4.0,3.0,5.0,16.0,8.0,13.0,27.0,7.0,0.0,0.0,0.0,0.0,0.0,0.0,0.0,0.0,0.0,0.0,0.0,0.0,0.0,0.0,0.0,0.0,0.0,0.0,0.0,0.0,0.0,0.0,0.0,0.0,0.0,0.0,0.0,0.0,0.0,0.0,0.0,0.0,0.0,0.0,0.0,0.0,0.0,0.0,0.0,0.0,0.0,0.0,0.0,0.0,0.0,0.0,0.0,0.0,0.0,0.0,0.0,0.0,0.0,0.0,0.0,0.0,0.0,0.0,0.0,0.0,0.0,0.0,0.0,0.0,0.0,0.0,0.0,0.0,0.0,0.0,0.0,0.0,0.0,0.0,0.0,0.0,0.0,0.0,0.0,0.0,0.0,0.0,0.0,0.0,0.0,0.0,0.0,0.0,0.0,0.0,0.0,0.0,0.0,0.0,0.0,0.0,0.0,0.0,0.0,0.0,0.0,0.0,0.0,0.0,0.0,0.0,0.0,0.0,0.0,0.0,0.0,0.0,0.0,0.0,0.0,0.0,0.0,0.0,0.0,0.0,0.0,0.0,0.0,0.0,0.0,0.0,0.0,0.0,0.0,0.0,0.0,0.0,0.0,0.0,0.0,0.0,0.0,0.0,0.0,0.0,0.0,0.0,0.0,0.0,0.0,0.0,0.0,0.0,0.0,0.0,0.0,0.0,3.0,21.0,39.0,26.0,18.0,34.0,43.0,1.0,6.0,3.0,4.0,1.0,5.0,10.0,8.0,3.0,13.0,11.0,9.0,6.0,5.0,8.0,0.0,2.0,0.0,0.0,6.0,7.0,2.0,3.0,0.0,14.0,15.0,10.0,11.0,4.0,7.0,12.0,5.0,5.0,10.0,8.0,13.0,10.0,3.0,7.0,17.0,10.0,1.0,15.0,5.0,13.0,15.0,4.0,4.0,23.0,19.0,15.0,8.0,23.0,0.0,2.0,3.0,9.0,1.0,0.0,0.0,4.0,2.0,2.0,9.0,4.0,11.0,9.0,10.0,14.0,20.0,15.0,11.0,5.0,1.0,7.0,69.0,52.0,13.0,22.0,22.0,26.0,3.0,0.0,0.0,0.0,0.0,0.0,0.0,0.0,0.0,0.0,0.0,0.0,0.0,0.0,0.0,0.0,0.0,0.0,0.0,0.0,0.0,0.0,0.0,0.0,0.0,0.0,0.0,0.0,0.0,0.0,0.0,0.0,0.0,0.0,0.0,0.0,0.0,0.0,0.0,0.0,0.0,0.0,0.0,0.0,0.0,0.0,0.0,0.0,0.0,0.0,0.0,0.0,0.0,0.0,0.0,0.0,0.0,0.0,0.0,0.0,0.0,0.0,0.0,0.0,0.0,0.0,0.0,0.0,0.0,0.0,0.0,0.0,0.0,0.0,0.0,0.0,0.0,0.0,0.0,0.0,0.0,0.0,0.0,0.0,0.0,0.0,0.0,0.0,0.0,0.0,0.0,0.0,0.0,0.0,0.0,0.0,0.0,0.0,0.0,0.0,0.0,0.0,0.0,0.0,0.0,0.0,0.0,0.0,0.0,0.0,0.0,0.0,0.0,0.0,0.0,0.0,0.0,0.0,0.0,0.0,0.0,0.0,0.0,0.0,0.0,0.0,0.0,0.0,0.0,0.0,0.0,0.0,0.0,0.0,0.0,0.0,0.0,0.0,0.0,0.0,0.0,0.0,0.0,0.0,0.0,0.0,0.0,0.0,0.0,0.0,0.0,0.0,0.0,0.0,0.0,0.0,0.0,0.0,0.0,0.0,0.0,0.0,0.0,15.0,11.0,16.0,17.0,12.0,88.0,4.0,2.0,12.0,5.0,20.0,6.0,9.0,4.0,20.0,6.0,4.0,2.0,6.0,5.0,37.0,24.0,15.0,30.0,13.0,18.0,0.0,2.0,9.0,8.0,12.0,15.0,11.0,2.0,1.0,13.0,5.0,8.0,10.0,9.0,5.0,2.0,11.0,14.0,16.0,22.0,18.0,14.0,10.0,10.0,9.0,6.0,18.0,13.0,31.0,21.0,9.0,12.0,19.0,11.0,12.0,6.0,24.0,7.0,20.0,9.0,4.0,3.0,14.0,23.0,25.0,4.0,9.0,6.0,3.0,2.0,6.0,4.0,7.0,10.0,11.0,26.0,0.0,0.0,0.0,0.0,0.0,0.0,0.0,0.0,0.0,0.0,0.0,0.0,0.0,0.0,0.0,0.0,0.0,0.0,0.0,0.0,0.0,0.0,0.0,0.0,0.0,0.0,0.0,0.0,0.0,0.0,0.0,0.0,0.0,0.0,0.0,0.0,0.0,0.0,0.0,0.0,0.0,0.0,0.0,0.0,0.0,0.0,0.0,0.0,0.0,0.0,0.0,0.0,0.0,0.0,0.0,0.0,0.0,0.0,0.0,0.0,0.0,0.0,0.0,0.0,0.0,0.0,0.0,0.0,0.0,0.0,0.0,0.0,0.0,0.0,0.0,0.0,0.0,0.0,0.0,0.0,0.0,0.0,0.0,0.0,0.0,0.0,0.0,0.0,0.0,0.0,0.0,0.0,0.0,0.0,0.0,0.0,0.0,0.0,0.0,0.0,0.0,0.0,0.0,0.0,0.0,0.0,0.0,0.0,0.0,0.0,0.0,0.0,0.0,0.0,0.0,0.0,0.0,0.0,0.0,0.0,0.0,0.0,0.0,0.0,0.0,0.0,0.0,0.0,0.0,0.0,0.0,0.0,0.0,0.0,0.0,0.0,0.0,0.0,0.0,0.0,0.0,0.0,0.0,0.0,0.0,0.0,0.0,64.0,51.0,63.0,40.0,28.0,8.0,0.0,1.0,8.0,4.0,9.0,20.0,3.0,2.0,35.0,18.0,8.0,2.0,5.0,13.0,14.0,22.0,11.0,13.0,8.0,8.0,2.0,10.0,29.0,35.0,52.0,32.0,12.0,1.0,2.0,6.0,0.0,0.0,0.0,0.0,0.0,0.0,0.0,0.0,0.0,0.0,9.0,7.0,5.0,4.0,14.0,4.0,5.0,7.0,8.0,10.0,29.0,24.0,15.0,1.0,1.0,1.0,1.0,0.0,0.0,3.0,22.0,48.0,15.0,21.0,21.0,20.0,7.0,3.0,11.0,18.0,3.0,5.0,1.0,4.0,5.0,14.0,6.0,6.0,17.0,16.0,13.0,16.0,28.0,31.0,6.0,0.0,0.0,0.0,0.0,0.0,0.0,0.0,0.0,0.0,0.0,0.0,0.0,0.0,0.0,0.0,0.0,0.0,0.0,0.0,0.0,0.0,0.0,0.0,0.0,0.0,0.0,0.0,0.0,0.0,0.0,0.0,0.0,0.0,0.0,0.0,0.0,0.0,0.0,0.0,0.0,0.0,0.0,0.0,0.0,0.0,0.0,0.0,0.0,0.0,0.0,0.0,0.0,0.0,0.0,0.0,0.0,0.0,0.0,0.0,0.0,0.0,0.0,0.0,0.0,0.0,0.0,0.0,0.0,0.0,0.0,0.0,0.0,0.0,0.0,0.0,0.0,0.0,0.0,0.0,0.0,0.0,0.0,0.0,0.0,0.0,0.0,0.0,0.0,0.0,0.0,0.0,0.0,0.0,0.0,0.0,0.0,0.0,0.0,0.0,0.0,0.0,0.0,0.0,0.0,0.0,0.0,0.0,0.0,0.0,0.0,0.0,0.0,0.0,0.0,0.0,0.0,0.0,0.0,0.0,0.0,0.0,0.0,0.0,0.0,0.0,0.0,0.0,0.0,0.0,0.0,0.0,0.0,0.0,0.0,0.0,0.0,0.0,0.0,0.0,0.0,0.0,0.0,0.0,0.0,0.0,0.0,0.0,0.0,0.0,0.0,0.0,0.0,0.0,0.0,0.0,0.0,0.0,0.0,16.0,23.0,24.0,32.0,36.0,21.0,16.0,77.0,32.0,9.0,15.0,3.0,8.0,4.0,6.0,19.0,24.0,16.0,31.0,28.0,13.0,9.0,4.0,0.0,0.0,0.0,0.0,9.0,45.0,14.0,18.0,14.0,15.0,1.0,12.0,31.0,29.0,13.0,27.0,30.0,36.0,64.0,50.0,27.0,37.0,26.0,14.0,21.0,34.0,23.0,32.0,9.0,4.0,1.0,2.0,5.0,8.0,10.0,23.0,19.0,13.0,9.0,10.0,24.0,21.0,5.0,6.0,12.0,12.0,12.0,4.0,1.0,9.0,12.0,31.0,39.0,38.0,11.0,22.0,14.0,16.0,48.0,33.0,3.0,0.0,0.0,0.0,0.0,0.0,0.0,0.0,0.0,0.0,0.0,0.0,0.0,0.0,0.0,0.0,0.0,0.0,0.0,0.0,0.0,0.0,0.0,0.0,0.0,0.0,0.0,0.0,0.0,0.0,0.0,0.0,0.0,0.0,0.0,0.0,0.0,0.0,0.0,0.0,0.0,0.0,0.0,0.0,0.0,0.0,0.0,0.0,0.0,0.0,0.0,0.0,0.0,0.0,0.0,0.0,0.0,0.0,0.0,0.0,0.0,0.0,0.0,0.0,0.0,0.0,0.0,0.0,0.0,0.0,0.0,0.0,0.0,0.0,0.0,0.0,0.0,0.0,0.0,0.0,0.0,0.0,0.0,0.0,0.0,0.0,0.0,0.0,0.0,0.0,0.0,0.0,0.0,0.0,0.0,0.0,0.0,0.0,0.0,0.0,0.0,0.0,0.0,0.0,0.0,0.0,0.0,0.0,0.0,0.0,0.0,0.0,0.0,0.0,0.0,0.0,0.0,0.0,0.0,0.0,0.0,0.0,0.0,0.0,0.0,0.0,0.0,0.0,0.0,0.0,0.0,0.0,0.0,0.0,0.0,0.0,0.0,0.0,0.0,0.0,0.0,0.0,0.0,0.0,0.0,0.0,0.0,0.0,0.0,0.0,0.0,0.0,0.0,0.0,0.0,0.0,0.0,0.0,0.0,0.0,0.0,0.0,0.0,0.0,0.0,0.0,17.0,1.0,6.0,12.0,3.0,9.0,8.0,3.0,5.0,10.0,6.0,8.0,14.0,10.0,9.0,1.0,0.0,0.0,0.0,0.0,0.0,10.0,5.0,8.0,10.0,1.0,9.0,2.0,1.0,0.0,1.0,14.0,6.0,2.0,2.0,12.0,9.0,5.0,0.0,5.0,1.0,1.0,2.0,2.0,3.0,6.0,8.0,8.0,5.0,14.0,10.0,3.0,0.0,4.0,8.0,6.0,4.0,10.0,9.0,8.0,1.0,3.0,5.0,14.0,3.0,1.0,1.0,4.0,1.0,4.0,6.0,2.0,4.0,2.0,9.0,5.0,11.0,3.0,1.0,9.0,5.0,0.0,0.0,0.0,0.0,0.0,0.0,0.0,0.0,0.0,0.0,0.0,0.0,0.0,0.0,0.0,0.0,0.0,0.0,0.0,0.0,0.0,0.0,0.0,0.0,0.0,0.0,0.0,0.0,0.0,0.0,0.0,0.0,0.0,0.0,0.0,0.0,0.0,0.0,0.0,0.0,0.0,0.0,0.0,0.0,0.0,0.0,0.0,0.0,0.0,0.0,0.0,0.0,0.0,0.0,0.0,0.0,0.0,0.0,0.0,0.0,0.0,0.0,0.0,0.0,0.0,0.0,0.0,0.0,0.0,0.0,0.0,0.0,0.0,0.0,0.0,0.0,0.0,0.0,0.0,0.0,0.0,0.0,0.0,0.0,0.0,0.0,0.0,0.0,0.0,0.0,0.0,0.0,0.0,0.0,0.0,0.0,0.0,0.0,0.0,0.0,0.0,0.0,0.0,0.0,0.0,0.0,0.0,0.0,0.0,0.0,0.0,0.0,0.0,0.0,0.0,0.0,0.0,0.0,0.0,0.0,0.0,0.0,0.0,0.0,0.0,0.0,0.0,0.0,0.0,0.0,0.0,0.0,0.0,0.0,0.0,0.0,0.0,0.0,0.0,0.0,0.0,0.0,0.0,0.0,0.0,0.0,0.0,0.0,0.0,0.0,0.0,0.0,0.0,0.0,0.0,0.0,0.0,0.0,0.0,0.0,0.0,0.0,0.0,0.0,0.0,0.0,0.0,0.0,47.0,42.0,36.0,33.0,34.0,22.0,30.0,37.0,24.0,27.0,48.0,37.0,51.0,22.0,34.0,29.0,21.0,37.0,37.0,31.0,9.0,12.0,14.0,13.0,2.0,0.0,0.0,2.0,4.0,8.0,2.0,3.0,14.0,11.0,19.0,56.0,34.0,22.0,32.0,37.0,34.0,33.0,29.0,31.0,37.0,45.0,27.0,48.0,46.0,74.0,43.0,48.0,31.0,78.0,55.0,53.0,27.0,42.0,38.0,0.0,0.0,0.0,0.0,0.0,0.0,0.0,0.0,0.0,0.0,0.0,0.0,0.0,0.0,0.0,0.0,0.0,0.0,0.0,0.0,0.0,0.0,0.0,0.0,0.0,0.0,0.0,0.0,0.0,0.0,0.0,0.0,0.0,0.0,0.0,0.0,0.0,0.0,0.0,0.0,0.0,0.0,0.0,0.0,0.0,0.0,0.0,0.0,0.0,0.0,0.0,0.0,0.0,0.0,0.0,0.0,0.0,0.0,0.0,0.0,0.0,0.0,0.0,0.0,0.0,0.0,0.0,0.0,0.0,0.0,0.0,0.0,0.0,0.0,0.0,0.0,0.0,0.0,0.0,0.0,0.0,0.0,0.0,0.0,0.0,0.0,0.0,0.0,0.0,0.0,0.0,0.0,0.0,0.0,0.0,0.0,0.0,0.0,0.0,0.0,0.0,0.0,0.0,0.0,0.0,0.0,0.0,0.0,0.0,0.0,0.0,0.0,0.0,0.0,0.0,0.0,0.0,0.0,0.0,0.0,0.0,0.0,0.0,0.0,0.0,0.0,0.0,0.0,0.0,0.0,0.0,0.0,0.0,0.0,0.0,0.0,0.0,0.0,0.0,0.0,0.0,0.0,0.0,0.0,0.0,0.0,0.0,0.0,0.0,0.0,0.0,0.0,0.0,0.0,0.0,0.0,0.0,0.0,0.0,0.0,0.0,0.0,0.0,0.0,0.0,0.0,0.0,0.0,0.0,0.0,0.0,0.0,0.0,0.0,0.0,0.0,0.0,0.0,0.0,0.0,0.0,0.0,0.0,0.0,0.0,0.0,0.0,0.0,0.0,0.0,13.0,4.0,2.0,12.0,1.0,6.0,9.0,5.0,5.0,8.0,16.0,12.0,4.0,1.0,2.0,6.0,2.0,6.0,3.0,6.0,11.0,3.0,1.0,2.0,15.0,9.0,14.0,45.0,14.0,5.0,6.0,6.0,12.0,6.0,3.0,1.0,5.0,11.0,15.0,6.0,2.0,3.0,8.0,11.0,7.0,3.0,14.0,12.0,6.0,2.0,1.0,1.0,3.0,7.0,6.0,13.0,5.0,0.0,3.0,2.0,6.0,11.0,4.0,7.0,15.0,5.0,9.0,5.0,13.0,12.0,21.0,7.0,4.0,20.0,32.0,6.0,0.0,4.0,3.0,8.0,2.0,1.0,1.0,1.0,5.0,26.0,15.0,11.0,13.0,2.0,0.0,3.0,0.0,0.0,7.0,11.0,28.0,10.0,8.0,10.0,9.0,11.0,13.0,0.0,8.0,10.0,7.0,5.0,14.0,15.0,11.0,5.0,17.0,24.0,2.0,2.0,0.0,2.0,6.0,11.0,6.0,6.0,0.0,1.0,2.0,0.0,3.0,15.0,4.0,6.0,21.0,17.0,9.0,2.0,7.0,12.0,2.0,2.0,5.0,0.0,1.0,0.0,1.0,3.0,5.0,1.0,1.0,1.0,3.0,7.0,4.0,9.0,5.0,1.0,3.0,0.0,4.0,6.0,6.0,9.0,5.0,7.0,9.0,1.0,5.0,7.0,5.0,4.0,7.0,14.0,9.0,7.0,8.0,5.0,15.0,4.0,21.0,12.0,11.0,4.0,2.0,7.0,4.0,3.0,2.0,4.0,5.0,2.0,7.0,12.0,8.0,8.0,2.0,0.0,2.0,1.0,9.0,14.0,2.0,7.0,12.0,14.0,14.0,7.0,0.0,2.0,17.0,13.0,12.0,2.0,9.0,0.0,5.0,4.0,6.0,6.0,14.0,6.0,36.0,36.0,0.0,1.0,7.0,5.0,3.0,3.0,4.0,12.0,2.0,3.0,12.0,23.0,17.0,24.0,5.0,3.0,5.0,10.0,17.0,9.0,22.0,24.0,4.0,0.0,0.0,0.0,0.0,0.0,0.0,21.0,22.0,23.0,28.0,8.0,15.0,7.0,5.0,4.0,4.0,10.0,4.0,3.0,7.0,3.0,1.0,4.0,8.0,17.0,2.0,6.0,9.0,7.0,20.0,4.0,16.0,5.0,0.0,1.0,7.0,3.0,23.0,18.0,22.0,18.0,26.0,17.0,12.0,23.0,2.0,3.0,9.0,2.0,8.0,25.0,45.0,16.0,10.0,2.0,19.0,21.0,6.0,2.0,5.0,5.0,2.0,12.0,13.0,19.0,12.0,8.0,4.0,35.0,51.0,12.0,0.0,0.0,0.0,0.0,0.0,0.0,0.0,0.0,0.0,0.0,0.0,0.0,0.0,0.0,0.0,0.0,0.0,0.0,0.0,0.0,0.0,0.0,0.0,0.0,0.0,0.0,0.0,0.0,0.0,0.0,0.0,0.0,0.0,0.0,0.0,0.0,0.0,0.0,0.0,0.0,0.0,0.0,0.0,0.0,0.0,0.0,0.0,0.0,0.0,0.0,0.0,0.0,0.0,0.0,0.0,0.0,0.0,0.0,0.0,0.0,0.0,0.0,0.0,0.0,0.0,0.0,0.0,0.0,0.0,0.0,0.0,0.0,0.0,0.0,0.0,0.0,0.0,0.0,0.0,0.0,0.0,0.0,0.0,0.0,0.0,0.0,0.0,0.0,0.0,0.0,0.0,0.0,0.0,0.0,0.0,0.0,0.0,0.0,0.0,0.0,0.0,0.0,0.0,0.0,0.0,0.0,0.0,0.0,0.0,0.0,0.0,0.0,0.0,0.0,0.0,0.0,0.0,0.0,0.0,0.0,0.0,0.0,0.0,0.0,0.0,0.0,0.0,0.0,0.0,0.0,0.0,0.0,0.0,0.0,0.0,0.0,0.0,0.0,0.0,0.0,0.0,0.0,0.0,0.0,0.0,0.0,0.0,0.0,0.0,0.0,0.0,0.0,0.0,0.0,0.0,0.0,0.0,0.0,0.0,0.0,0.0,0.0,0.0,0.0,0.0,0.0,0.0,0.0,0.0,0.0,0.0,0.0,0.0,0.0,0.0,0.0,0.0,0.0,0.0,0.0,0.0,0.0,0.0,0.0,0.0,0.0,0.0,0.0,0.0,9.0,15.0,10.0,28.0,4.0,5.0,0.0,0.0,9.0,8.0,2.0,5.0,7.0,4.0,1.0,2.0,3.0,2.0,2.0,2.0,9.0,6.0,1.0,6.0,11.0,36.0,5.0,17.0,21.0,10.0,4.0,14.0,8.0,11.0,14.0,4.0,17.0,20.0,11.0,38.0,16.0,16.0,0.0,0.0,0.0,0.0,0.0,0.0,0.0,0.0,0.0,0.0,0.0,0.0,0.0,0.0,0.0,0.0,0.0,0.0,0.0,0.0,0.0,0.0,0.0,0.0,0.0,0.0,0.0,0.0,0.0,0.0,0.0,0.0,0.0,0.0,0.0,0.0,0.0,0.0,0.0,0.0,0.0,0.0,0.0,0.0,0.0,0.0,0.0,0.0,0.0,0.0,0.0,0.0,0.0,0.0,0.0,0.0,0.0,0.0,0.0,0.0,0.0,0.0,0.0,0.0,0.0,0.0,0.0,0.0,0.0,0.0,0.0,0.0,0.0,0.0,0.0,0.0,0.0,0.0,0.0,0.0,0.0,0.0,0.0,0.0,0.0,0.0,0.0,0.0,0.0,0.0,0.0,0.0,0.0,0.0,0.0,0.0,0.0,0.0,0.0,0.0,0.0,0.0,0.0,0.0,0.0,0.0,0.0,0.0,0.0,0.0,0.0,0.0,0.0,0.0,0.0,0.0,0.0,0.0,0.0,0.0,0.0,0.0,0.0,0.0,0.0,0.0,0.0,0.0,0.0,0.0,0.0,0.0,0.0,0.0,0.0,0.0,0.0,0.0,0.0,0.0,0.0,0.0,0.0,0.0,0.0,0.0,0.0,0.0,0.0,0.0,0.0,0.0,0.0,0.0,0.0,0.0,0.0,0.0,0.0,0.0,0.0,0.0,0.0,0.0,0.0,0.0,0.0,0.0,0.0,0.0,0.0,0.0,0.0,0.0,0.0,0.0,0.0,0.0,0.0,0.0,0.0,0.0,0.0,0.0,0.0,0.0,0.0,0.0,0.0,0.0,0.0,0.0,0.0,0.0,0.0,0.0,0.0,0.0,0.0,0.0,0.0,0.0,0.0,0.0,0.0,0.0,0.0,0.0,0.0,0.0,0.0,0.0,1.0,1.0,0.0,0.0,0.0,8.0,6.0,18.0,20.0,25.0,31.0,31.0,12.0,29.0,21.0,9.0,15.0,8.0,7.0,21.0,32.0,20.0,14.0,6.0,1.0,13.0,17.0,36.0,29.0,23.0,14.0,33.0,23.0,18.0,10.0,16.0,21.0,5.0,5.0,8.0,36.0,0.0,0.0,0.0,0.0,0.0,0.0,0.0,0.0,0.0,0.0,0.0,0.0,0.0,0.0,0.0,0.0,0.0,0.0,0.0,0.0,0.0,0.0,0.0,0.0,0.0,0.0,0.0,0.0,0.0,0.0,0.0,0.0,0.0,0.0,0.0,0.0,0.0,0.0,0.0,0.0,0.0,0.0,0.0,0.0,0.0,0.0,0.0,0.0,0.0,0.0,0.0,0.0,0.0,0.0,0.0,0.0,0.0,0.0,0.0,0.0,0.0,0.0,0.0,0.0,0.0,0.0,0.0,0.0,0.0,0.0,0.0,0.0,0.0,0.0,0.0,0.0,0.0,0.0,0.0,0.0,0.0,0.0,0.0,0.0,0.0,0.0,0.0,0.0,0.0,0.0,0.0,0.0,0.0,0.0,0.0,0.0,0.0,0.0,0.0,0.0,0.0,0.0,0.0,0.0,0.0,0.0,0.0,0.0,0.0,0.0,0.0,0.0,0.0,0.0,0.0,0.0,0.0,0.0,0.0,0.0,0.0,0.0,0.0,0.0,0.0,0.0,0.0,0.0,0.0,0.0,0.0,0.0,0.0,0.0,0.0,0.0,0.0,0.0,0.0,0.0,0.0,0.0,0.0,0.0,0.0,0.0,0.0,0.0,0.0,0.0,0.0,0.0,0.0,0.0,0.0,0.0,0.0,0.0,0.0,0.0,0.0,0.0,0.0,0.0,0.0,0.0,0.0,0.0,0.0,0.0,0.0,0.0,0.0,0.0,0.0,0.0,0.0,0.0,0.0,0.0,0.0,0.0,0.0,0.0,0.0,0.0,0.0,0.0,0.0,0.0,0.0,0.0,0.0,0.0,0.0,0.0,0.0,0.0,5.0,1.0,1.0,7.0,7.0,3.0,2.0,2.0,8.0,25.0,20.0,6.0,12.0,9.0,13.0,16.0,7.0,3.0,3.0,4.0,6.0,4.0,0.0,7.0,4.0,7.0,1.0,5.0,4.0,3.0,3.0,5.0,9.0,8.0,0.0,3.0,5.0,10.0,14.0,14.0,9.0,2.0,22.0,6.0,22.0,14.0,25.0,15.0,37.0,42.0,31.0,23.0,40.0,11.0,3.0,5.0,5.0,13.0,13.0,3.0,1.0,1.0,5.0,8.0,10.0,3.0,4.0,4.0,3.0,8.0,2.0,6.0,6.0,6.0,1.0,9.0,0.0,1.0,1.0,3.0,1.0,2.0,1.0,0.0,2.0,3.0,3.0,5.0,4.0,1.0,0.0,0.0,0.0,1.0,5.0,1.0,1.0,4.0,17.0,3.0,11.0,13.0,2.0,1.0,0.0,2.0,0.0,8.0,10.0,8.0,0.0,8.0,18.0,15.0,10.0,4.0,6.0,1.0,3.0,17.0,11.0,10.0,16.0,11.0,7.0,12.0,14.0,13.0,16.0,22.0,8.0,9.0,9.0,10.0,10.0,1.0,7.0,3.0,14.0,11.0,4.0,8.0,9.0,7.0,0.0,0.0,7.0,3.0,5.0,17.0,13.0,14.0,5.0,3.0,4.0,8.0,9.0,7.0,9.0,6.0,12.0,6.0,0.0,1.0,2.0,4.0,1.0,7.0,4.0,11.0,10.0,6.0,6.0,2.0,1.0,5.0,3.0,4.0,3.0,13.0,6.0,8.0,5.0,15.0,31.0,14.0,22.0,13.0,6.0,4.0,8.0,6.0,4.0,10.0,17.0,18.0,25.0,14.0,4.0,0.0,0.0,0.0,0.0,0.0,0.0,0.0,0.0,0.0,0.0,0.0,0.0,0.0,0.0,0.0,0.0,0.0,0.0,0.0,0.0,0.0,0.0,0.0,0.0,0.0,0.0,0.0,0.0,0.0,0.0,0.0,0.0,0.0,0.0,0.0,0.0,0.0,0.0,0.0,0.0,0.0,0.0,0.0,0.0,0.0,0.0,0.0,0.0,0.0,0.0,22.0,22.0,17.0,12.0,13.0,7.0,14.0,13.0,10.0,25.0,5.0,4.0,1.0,7.0,2.0,11.0,4.0,9.0,1.0,0.0,5.0,3.0,4.0,0.0,5.0,10.0,4.0,2.0,1.0,2.0,0.0,3.0,3.0,0.0,2.0,0.0,5.0,7.0,12.0,14.0,8.0,8.0,5.0,2.0,5.0,0.0,4.0,8.0,11.0,1.0,0.0,1.0,12.0,7.0,6.0,9.0,12.0,4.0,2.0,1.0,1.0,1.0,2.0,0.0,1.0,3.0,1.0,9.0,12.0,11.0,22.0,3.0,2.0,14.0,9.0,12.0,15.0,6.0,6.0,5.0,4.0,4.0,12.0,9.0,4.0,2.0,8.0,12.0,13.0,5.0,1.0,0.0,1.0,2.0,5.0,3.0,1.0,1.0,6.0,18.0,6.0,4.0,9.0,6.0,2.0,9.0,5.0,5.0,8.0,12.0,6.0,0.0,14.0,5.0,2.0,1.0,1.0,5.0,9.0,13.0,2.0,10.0,9.0,3.0,2.0,2.0,0.0,5.0,5.0,4.0,1.0,1.0,1.0,2.0,2.0,2.0,0.0,4.0,4.0,10.0,10.0,4.0,1.0,11.0,4.0,10.0,7.0,5.0,3.0,2.0,3.0,8.0,11.0,8.0,7.0,8.0,1.0,3.0,8.0,5.0,0.0,0.0,2.0,7.0,5.0,9.0,1.0,1.0,4.0,6.0,4.0,4.0,1.0,10.0,8.0,1.0,7.0,4.0,0.0,0.0,0.0,3.0,4.0,11.0,16.0,13.0,9.0,4.0,5.0,4.0,3.0,0.0,0.0,0.0,0.0,0.0,0.0,0.0,0.0,0.0,0.0,0.0,0.0,0.0,0.0,0.0,0.0,0.0,0.0,0.0,0.0,0.0,0.0,0.0,0.0,0.0,0.0,0.0,0.0,0.0,0.0,0.0,0.0,0.0,0.0,0.0,0.0,0.0,0.0,0.0,0.0,0.0,0.0,0.0,0.0,0.0,0.0,0.0,0.0,0.0,0.0,0.0,0.0,0.0,0.0,0.0,0.0,0.0,0.0,22.0,21.0,5.0,5.0,1.0,5.0,10.0,7.0,4.0,8.0,12.0,1.0,1.0,2.0,10.0,4.0,7.0,9.0,0.0,0.0,4.0,3.0,2.0,1.0,3.0,2.0,0.0,2.0,2.0,4.0,0.0,4.0,8.0,5.0,9.0,7.0,8.0,8.0,11.0,5.0,8.0,7.0,5.0,14.0,5.0,1.0,0.0,0.0,0.0,0.0,3.0,2.0,3.0,7.0,6.0,19.0,8.0,5.0,6.0,1.0,5.0,8.0,5.0,1.0,4.0,10.0,4.0,5.0,2.0,19.0,10.0,9.0,9.0,12.0,9.0,8.0,9.0,9.0,5.0,9.0,14.0,6.0,5.0,6.0,1.0,0.0,4.0,7.0,7.0,1.0,7.0,4.0,0.0,4.0,3.0,12.0,6.0,5.0,5.0,2.0,4.0,0.0,4.0,6.0,0.0,1.0,0.0,2.0,2.0,5.0,3.0,6.0,11.0,4.0,3.0,13.0,9.0,1.0,9.0,6.0,1.0,2.0,9.0,6.0,2.0,2.0,8.0,6.0,3.0,7.0,1.0,6.0,28.0,7.0,18.0,17.0,7.0,8.0,21.0,19.0,32.0,69.0,8.0,5.0,2.0,2.0,8.0,9.0,11.0,19.0,21.0,17.0,3.0,2.0,15.0,1.0,3.0,15.0,1.0,10.0,13.0,3.0,2.0,5.0,2.0,0.0,1.0,1.0,11.0,5.0,13.0,7.0,15.0,14.0,6.0,5.0,22.0,28.0,15.0,18.0,15.0,20.0,0.0,0.0,0.0,0.0,0.0,0.0,0.0,0.0,0.0,0.0,0.0,0.0,0.0,0.0,0.0,0.0,0.0,0.0,0.0,0.0,0.0,0.0,0.0,0.0,0.0,0.0,0.0,0.0,0.0,0.0,0.0,0.0,0.0,0.0,0.0,0.0,0.0,0.0,0.0,0.0,0.0,0.0,0.0,0.0,0.0,0.0,0.0,0.0,0.0,0.0,0.0,0.0,0.0,0.0,0.0,0.0,0.0,0.0,0.0,0.0,0.0,0.0,0.0,0.0,0.0,0.0,0.0,7.0,6.0,13.0,14.0,9.0,8.0,6.0,9.0,8.0,0.0,15.0,7.0,5.0,9.0,2.0,3.0,5.0,8.0,7.0,4.0,2.0,3.0,5.0,0.0,13.0,12.0,48.0,34.0,26.0,35.0,47.0,82.0,47.0,42.0,15.0,20.0,21.0,10.0,5.0,11.0,3.0,29.0,21.0,31.0,18.0,3.0,15.0,6.0,1.0,14.0,4.0,1.0,20.0,12.0,5.0,4.0,3.0,12.0,0.0,0.0,0.0,1.0,1.0,4.0,0.0,3.0,0.0,0.0,3.0,2.0,8.0,5.0,3.0,16.0,1.0,10.0,2.0,2.0,2.0,8.0,2.0,3.0,2.0,10.0,5.0,7.0,0.0,13.0,4.0,13.0,3.0,2.0,0.0,2.0,0.0,2.0,5.0,3.0,4.0,10.0,3.0,0.0,1.0,0.0,2.0,5.0,10.0,6.0,9.0,11.0,9.0,11.0,6.0,6.0,2.0,1.0,19.0,6.0,8.0,5.0,1.0,2.0,5.0,3.0,2.0,9.0,3.0,7.0,2.0,3.0,4.0,10.0,19.0,6.0,8.0,5.0,11.0,9.0,12.0,7.0,3.0,0.0,6.0,9.0,6.0,4.0,5.0,4.0,2.0,21.0,6.0,8.0,6.0,2.0,5.0,6.0,3.0,5.0,15.0,15.0,9.0,4.0,1.0,8.0,1.0,4.0,14.0,17.0,7.0,14.0,10.0,0.0,0.0,0.0,0.0,0.0,0.0,0.0,0.0,0.0,0.0,0.0,0.0,0.0,0.0,0.0,0.0,0.0,0.0,0.0,0.0,0.0,0.0,0.0,0.0,0.0,0.0,0.0,0.0,0.0,0.0,0.0,0.0,0.0,0.0,0.0,0.0,0.0,0.0,0.0,0.0,0.0,0.0,0.0,0.0,0.0,0.0,0.0,0.0,0.0,0.0,0.0,0.0,0.0,0.0,0.0,0.0,0.0,0.0,0.0,0.0,0.0,0.0,0.0,0.0,0.0,0.0,0.0,0.0,0.0,0.0,0.0,0.0,0.0,0.0,0.0,0.0,0.0,0.0,20.0,19.0,16.0,2.0,10.0,21.0,19.0,10.0,4.0,1.0,3.0,2.0,5.0,1.0,1.0,4.0,9.0,4.0,2.0,6.0,10.0,5.0,9.0,14.0,4.0,5.0,9.0,24.0,4.0,12.0,19.0,4.0,12.0,5.0,4.0,9.0,8.0,5.0,6.0,8.0,4.0,3.0,5.0,11.0,29.0,12.0,1.0,8.0,5.0,1.0,7.0,2.0,0.0,2.0,5.0,9.0,17.0,6.0,0.0,0.0,0.0,0.0,0.0,4.0,15.0,15.0,14.0,7.0,1.0,1.0,1.0,3.0,10.0,30.0,16.0,19.0,14.0,14.0,1.0,3.0,5.0,3.0,2.0,2.0,2.0,2.0,1.0,11.0,5.0,1.0,11.0,3.0,15.0,12.0,6.0,6.0,4.0,12.0,9.0,31.0,60.0,20.0,26.0,11.0,5.0,7.0,5.0,13.0,7.0,1.0,0.0,3.0,9.0,3.0,2.0,4.0,10.0,9.0,2.0,1.0,3.0,3.0,8.0,15.0,6.0,3.0,0.0,9.0,24.0,13.0,21.0,5.0,4.0,6.0,7.0,13.0,1.0,5.0,8.0,12.0,12.0,14.0,14.0,28.0,20.0,0.0,0.0,3.0,9.0,17.0,21.0,27.0,7.0,1.0,3.0,13.0,6.0,8.0,7.0,2.0,0.0,0.0,0.0,0.0,0.0,0.0,0.0,0.0,0.0,0.0,0.0,0.0,0.0,0.0,0.0,0.0,0.0,0.0,0.0,0.0,0.0,0.0,0.0,0.0,0.0,0.0,0.0,0.0,0.0,0.0,0.0,0.0,0.0,0.0,0.0,0.0,0.0,0.0,0.0,0.0,0.0,0.0,0.0,0.0,0.0,0.0,0.0,0.0,0.0,0.0,0.0,0.0,0.0,0.0,0.0,0.0,0.0,0.0,0.0,0.0,0.0,0.0,0.0,0.0,0.0,0.0,0.0,0.0,0.0,0.0,0.0,0.0,0.0,0.0,0.0,0.0,0.0,0.0,0.0,0.0,0.0,0.0,0.0,0.0,0.0,0.0,0.0,0.0,0.0,10.0,10.0,4.0,1.0,1.0,0.0,20.0,31.0,7.0,10.0,11.0,19.0,25.0,4.0,1.0,2.0,1.0,11.0,6.0,5.0,7.0,3.0,28.0,17.0,8.0,6.0,7.0,17.0,10.0,8.0,12.0,2.0,3.0,6.0,1.0,2.0,1.0,12.0,16.0,9.0,4.0,11.0,16.0,5.0,0.0,0.0,2.0,5.0,5.0,2.0,1.0,2.0,5.0,4.0,6.0,6.0,13.0,6.0,6.0,2.0,6.0,4.0,1.0,6.0,6.0,5.0,18.0,6.0,3.0,4.0,7.0,2.0,5.0,12.0,8.0,3.0,4.0,2.0,6.0,5.0,5.0,12.0,1.0,1.0,1.0,10.0,7.0,2.0,1.0,4.0,7.0,6.0,4.0,9.0,11.0,9.0,6.0,6.0,11.0,4.0,12.0,6.0,12.0,13.0,5.0,1.0,3.0,1.0,4.0,8.0,0.0,3.0,1.0,1.0,0.0,1.0,8.0,3.0,4.0,9.0,6.0,2.0,3.0,16.0,17.0,5.0,2.0,14.0,6.0,4.0,5.0,1.0,8.0,10.0,6.0,2.0,1.0,1.0,3.0,1.0,5.0,9.0,21.0,45.0,57.0,3.0,0.0,0.0,0.0,0.0,0.0,0.0,0.0,0.0,0.0,0.0,0.0,0.0,0.0,0.0,0.0,0.0,0.0,0.0,0.0,0.0,0.0,0.0,0.0,0.0,0.0,0.0,0.0,0.0,0.0,0.0,0.0,0.0,0.0,0.0,0.0,0.0,0.0,0.0,0.0,0.0,0.0,0.0,0.0,0.0,0.0,0.0,0.0,0.0,0.0,0.0,0.0,0.0,0.0,0.0,0.0,0.0,0.0,0.0,0.0,0.0,0.0,0.0,0.0,0.0,0.0,0.0,0.0,0.0,0.0,0.0,0.0,0.0,0.0,0.0,0.0,0.0,0.0,0.0,0.0,0.0,0.0,0.0,0.0,0.0,0.0,0.0,0.0,0.0,0.0,0.0,0.0,0.0,0.0,0.0,0.0,0.0,0.0,0.0,0.0,0.0,0.0,0.0,0.0,17.0,2.0,5.0,4.0,9.0,11.0,7.0,2.0,2.0,1.0,1.0,0.0,4.0,3.0,4.0,5.0,3.0,2.0,2.0,9.0,7.0,24.0,4.0,2.0,1.0,2.0,4.0,8.0,2.0,1.0,1.0,1.0,7.0,24.0,28.0,36.0,10.0,13.0,6.0,7.0,7.0,12.0,6.0,1.0,0.0,0.0,0.0,0.0,0.0,0.0,0.0,0.0,0.0,0.0,0.0,0.0,0.0,0.0,0.0,0.0,2.0,6.0,8.0,7.0,2.0,3.0,4.0,5.0,7.0,10.0,6.0,4.0,7.0,1.0,6.0,3.0,6.0,5.0,3.0,2.0,1.0,6.0,0.0,10.0,3.0,3.0,7.0,14.0,6.0,9.0,6.0,7.0,21.0,14.0,14.0,10.0,17.0,18.0,9.0,9.0,7.0,10.0,1.0,2.0,15.0,6.0,2.0,5.0,4.0,7.0,6.0,13.0,8.0,17.0,15.0,5.0,4.0,4.0,1.0,2.0,10.0,8.0,27.0,9.0,16.0,9.0,6.0,29.0,37.0,22.0,15.0,12.0,13.0,33.0,20.0,19.0,54.0,46.0,5.0,0.0,0.0,0.0,0.0,0.0,0.0,0.0,0.0,0.0,0.0,0.0,0.0,0.0,0.0,0.0,0.0,0.0,0.0,0.0,0.0,0.0,0.0,0.0,0.0,0.0,0.0,0.0,0.0,0.0,0.0,0.0,0.0,0.0,0.0,0.0,0.0,0.0,0.0,0.0,0.0,0.0,0.0,0.0,0.0,0.0,0.0,0.0,0.0,0.0,0.0,0.0,0.0,0.0,0.0,0.0,0.0,0.0,0.0,0.0,0.0,0.0,0.0,0.0,0.0,0.0,0.0,0.0,0.0,0.0,0.0,0.0,0.0,0.0,0.0,0.0,0.0,0.0,0.0,0.0,0.0,0.0,0.0,0.0,0.0,0.0,0.0,0.0,0.0,0.0,0.0,0.0,0.0,0.0,0.0,0.0,0.0,0.0,0.0,0.0,0.0,0.0,0.0,0.0,0.0,0.0,0.0,0.0,0.0,0.0,0.0,5.0,11.0,12.0,10.0,1.0,0.0,4.0,5.0,5.0,5.0,3.0,5.0,6.0,12.0,5.0,16.0,8.0,7.0,9.0,6.0,6.0,6.0,3.0,8.0,11.0,1.0,4.0,4.0,1.0,2.0,9.0,1.0,3.0,0.0,3.0,1.0,2.0,8.0,8.0,4.0,8.0,7.0,1.0,5.0,3.0,7.0,8.0,22.0,33.0,42.0,14.0,10.0,17.0,14.0,12.0,16.0,5.0,6.0,0.0,0.0,0.0,0.0,0.0,5.0,3.0,5.0,4.0,1.0,4.0,3.0,18.0,21.0,19.0,10.0,11.0,5.0,3.0,7.0,8.0,2.0,4.0,2.0,0.0,2.0,4.0,7.0,2.0,1.0,1.0,1.0,0.0,2.0,2.0,2.0,0.0,1.0,2.0,2.0,0.0,0.0,9.0,18.0,16.0,24.0,7.0,3.0,8.0,12.0,7.0,5.0,8.0,6.0,5.0,2.0,8.0,9.0,4.0,0.0,7.0,20.0,27.0,2.0,0.0,4.0,4.0,1.0,4.0,0.0,1.0,7.0,11.0,5.0,7.0,5.0,23.0,27.0,13.0,2.0,2.0,7.0,6.0,15.0,1.0,5.0,0.0,7.0,4.0,17.0,1.0,16.0,7.0,14.0,20.0,37.0,48.0,13.0,3.0,0.0,0.0,0.0,0.0,0.0,0.0,0.0,0.0,0.0,0.0,0.0,0.0,0.0,0.0,0.0,0.0,0.0,0.0,0.0,0.0,0.0,0.0,0.0,0.0,0.0,0.0,0.0,0.0,0.0,0.0,0.0,0.0,0.0,0.0,0.0,0.0,0.0,0.0,0.0,0.0,0.0,0.0,0.0,0.0,0.0,0.0,0.0,0.0,0.0,0.0,0.0,0.0,0.0,0.0,0.0,0.0,0.0,0.0,0.0,0.0,0.0,0.0,0.0,0.0,0.0,0.0,0.0,0.0,0.0,0.0,0.0,0.0,0.0,0.0,0.0,0.0,0.0,0.0,0.0,0.0,0.0,0.0,0.0,0.0,0.0,0.0,0.0,0.0,0.0,0.0,0.0,0.0,5.0,11.0,10.0,3.0,1.0,1.0,16.0,4.0,4.0,16.0,0.0,0.0,4.0,5.0,2.0,0.0,0.0,8.0,4.0,4.0,3.0,7.0,16.0,3.0,8.0,3.0,0.0,0.0,0.0,0.0,0.0,0.0,0.0,0.0,0.0,0.0,0.0,0.0,0.0,0.0,0.0,0.0,0.0,0.0,0.0,0.0,0.0,0.0,0.0,0.0,0.0,0.0,0.0,0.0,0.0,0.0,1.0,4.0,0.0,0.0,0.0,0.0,0.0,0.0,0.0,0.0,0.0,0.0,0.0,0.0,0.0,0.0,0.0,0.0,0.0,0.0,0.0,0.0,0.0,0.0,0.0,0.0,0.0,0.0,0.0,0.0,0.0,0.0,0.0,0.0,0.0,0.0,0.0,0.0,0.0,0.0,0.0,0.0,0.0,0.0,0.0,0.0,0.0,0.0,0.0,0.0,0.0,0.0,0.0,0.0,0.0,0.0,0.0,0.0,0.0,0.0,0.0,0.0,0.0,0.0,0.0,0.0,0.0,0.0,0.0,0.0,0.0,0.0,0.0,0.0,0.0,0.0,0.0,0.0,0.0,0.0,0.0,0.0,0.0,0.0,0.0,0.0,0.0,0.0,0.0,0.0,0.0,0.0,0.0,0.0,0.0,0.0,0.0,0.0,0.0,0.0,0.0,0.0,0.0,0.0,0.0,0.0,0.0,0.0,0.0,0.0,0.0,0.0,0.0,0.0,0.0,0.0,0.0,0.0,0.0,0.0,0.0,0.0,0.0,0.0,0.0,0.0,0.0,0.0,0.0,0.0,0.0,0.0,0.0,0.0,0.0,0.0,0.0,0.0,0.0,0.0,0.0,0.0,0.0,0.0,0.0,0.0,0.0,0.0,0.0,0.0,0.0,0.0,0.0,0.0,0.0,0.0,0.0,0.0,0.0,0.0,0.0,0.0,0.0,0.0,0.0,0.0,0.0,0.0,0.0,0.0,0.0,0.0,0.0,0.0,0.0,0.0,0.0,0.0,0.0,0.0,0.0,0.0,0.0,0.0,0.0,0.0,0.0,0.0,0.0,0.0,0.0,0.0,0.0]\n",
       "},\n",
       "\"mapping\":{\n",
       "},\n",
       "\"data_meta\":{\n",
       "},\n",
       "\"facet\":{\n",
       "\"name\":\"wrap\",\n",
       "\"facets\":\"chrom\",\n",
       "\"scales\":\"fixed\",\n",
       "\"order\":1,\n",
       "\"dir\":\"h\"\n",
       "},\n",
       "\"kind\":\"plot\",\n",
       "\"scales\":[],\n",
       "\"layers\":[{\n",
       "\"geom\":\"line\",\n",
       "\"mapping\":{\n",
       "\"x\":\"category\",\n",
       "\"y\":\"count\"\n",
       "},\n",
       "\"data_meta\":{\n",
       "},\n",
       "\"data\":{\n",
       "}\n",
       "}],\n",
       "\"metainfo_list\":[]\n",
       "};\n",
       "           var plotContainer = document.getElementById(\"WUSj70\");\n",
       "           window.letsPlotCall(function() {{\n",
       "               LetsPlot.buildPlotFromProcessedSpecs(plotSpec, -1, -1, plotContainer);\n",
       "           }});\n",
       "       })();    \n",
       "   </script>"
      ],
      "text/plain": [
       "<lets_plot.plot.core.PlotSpec at 0x7f32b874ba30>"
      ]
     },
     "execution_count": 46,
     "metadata": {},
     "output_type": "execute_result"
    }
   ],
   "source": [
    "g = ggplot(data=df_cut) + geom_line(aes(x=\"category\", y=\"count\")) + facet_wrap(\"chrom\", scales=\"fixed\")\n",
    "g"
   ]
  },
  {
   "cell_type": "code",
   "execution_count": 47,
   "id": "a0dede17-4d72-46cb-91b7-8dfb5362f6da",
   "metadata": {
    "execution": {
     "iopub.execute_input": "2023-04-27T12:37:25.884788Z",
     "iopub.status.busy": "2023-04-27T12:37:25.884545Z",
     "iopub.status.idle": "2023-04-27T12:37:25.925235Z",
     "shell.execute_reply": "2023-04-27T12:37:25.924714Z",
     "shell.execute_reply.started": "2023-04-27T12:37:25.884775Z"
    },
    "tags": []
   },
   "outputs": [
    {
     "data": {
      "text/plain": [
       "'/home/caogaoxiang/jupyter_file/basic_python/project_3/2022-11-07_distribution_of_gen_density_per_chromsome.html'"
      ]
     },
     "execution_count": 47,
     "metadata": {},
     "output_type": "execute_result"
    }
   ],
   "source": [
    "ggsave(g,\"2022-11-07_distribution_of_gen_density_per_chromsome.html\", path=\".\", iframe=False)"
   ]
  },
  {
   "cell_type": "markdown",
   "id": "41cbecbc-5463-4a89-b977-a6648749ee68",
   "metadata": {},
   "source": [
    "### plot gene density per chromosome"
   ]
  },
  {
   "cell_type": "code",
   "execution_count": 48,
   "id": "58dfbbc3-0b2c-40f2-9f02-5991266c97c4",
   "metadata": {
    "execution": {
     "iopub.execute_input": "2023-04-27T12:37:25.926239Z",
     "iopub.status.busy": "2023-04-27T12:37:25.925912Z",
     "iopub.status.idle": "2023-04-27T12:37:25.932534Z",
     "shell.execute_reply": "2023-04-27T12:37:25.932000Z",
     "shell.execute_reply.started": "2023-04-27T12:37:25.926225Z"
    },
    "tags": []
   },
   "outputs": [
    {
     "data": {
      "text/html": [
       "<div>\n",
       "<style scoped>\n",
       "    .dataframe tbody tr th:only-of-type {\n",
       "        vertical-align: middle;\n",
       "    }\n",
       "\n",
       "    .dataframe tbody tr th {\n",
       "        vertical-align: top;\n",
       "    }\n",
       "\n",
       "    .dataframe thead th {\n",
       "        text-align: right;\n",
       "    }\n",
       "</style>\n",
       "<table border=\"1\" class=\"dataframe\">\n",
       "  <thead>\n",
       "    <tr style=\"text-align: right;\">\n",
       "      <th></th>\n",
       "      <th>chrom</th>\n",
       "      <th>count</th>\n",
       "      <th>log2_count</th>\n",
       "    </tr>\n",
       "  </thead>\n",
       "  <tbody>\n",
       "    <tr>\n",
       "      <th>0</th>\n",
       "      <td>1</td>\n",
       "      <td>2842</td>\n",
       "      <td>11.472691</td>\n",
       "    </tr>\n",
       "    <tr>\n",
       "      <th>1</th>\n",
       "      <td>2</td>\n",
       "      <td>1821</td>\n",
       "      <td>10.830515</td>\n",
       "    </tr>\n",
       "    <tr>\n",
       "      <th>2</th>\n",
       "      <td>3</td>\n",
       "      <td>1563</td>\n",
       "      <td>10.610102</td>\n",
       "    </tr>\n",
       "    <tr>\n",
       "      <th>3</th>\n",
       "      <td>4</td>\n",
       "      <td>1089</td>\n",
       "      <td>10.088788</td>\n",
       "    </tr>\n",
       "    <tr>\n",
       "      <th>4</th>\n",
       "      <td>5</td>\n",
       "      <td>1314</td>\n",
       "      <td>10.359750</td>\n",
       "    </tr>\n",
       "    <tr>\n",
       "      <th>5</th>\n",
       "      <td>6</td>\n",
       "      <td>1454</td>\n",
       "      <td>10.505812</td>\n",
       "    </tr>\n",
       "    <tr>\n",
       "      <th>6</th>\n",
       "      <td>7</td>\n",
       "      <td>1349</td>\n",
       "      <td>10.397675</td>\n",
       "    </tr>\n",
       "    <tr>\n",
       "      <th>7</th>\n",
       "      <td>8</td>\n",
       "      <td>1033</td>\n",
       "      <td>10.012625</td>\n",
       "    </tr>\n",
       "    <tr>\n",
       "      <th>8</th>\n",
       "      <td>9</td>\n",
       "      <td>1112</td>\n",
       "      <td>10.118941</td>\n",
       "    </tr>\n",
       "    <tr>\n",
       "      <th>9</th>\n",
       "      <td>10</td>\n",
       "      <td>1116</td>\n",
       "      <td>10.124121</td>\n",
       "    </tr>\n",
       "    <tr>\n",
       "      <th>10</th>\n",
       "      <td>11</td>\n",
       "      <td>1675</td>\n",
       "      <td>10.709945</td>\n",
       "    </tr>\n",
       "    <tr>\n",
       "      <th>11</th>\n",
       "      <td>12</td>\n",
       "      <td>1391</td>\n",
       "      <td>10.441907</td>\n",
       "    </tr>\n",
       "    <tr>\n",
       "      <th>12</th>\n",
       "      <td>13</td>\n",
       "      <td>632</td>\n",
       "      <td>9.303781</td>\n",
       "    </tr>\n",
       "    <tr>\n",
       "      <th>13</th>\n",
       "      <td>14</td>\n",
       "      <td>949</td>\n",
       "      <td>9.890264</td>\n",
       "    </tr>\n",
       "    <tr>\n",
       "      <th>14</th>\n",
       "      <td>15</td>\n",
       "      <td>1012</td>\n",
       "      <td>9.982994</td>\n",
       "    </tr>\n",
       "    <tr>\n",
       "      <th>15</th>\n",
       "      <td>16</td>\n",
       "      <td>1144</td>\n",
       "      <td>10.159871</td>\n",
       "    </tr>\n",
       "    <tr>\n",
       "      <th>16</th>\n",
       "      <td>17</td>\n",
       "      <td>1574</td>\n",
       "      <td>10.620220</td>\n",
       "    </tr>\n",
       "    <tr>\n",
       "      <th>17</th>\n",
       "      <td>18</td>\n",
       "      <td>430</td>\n",
       "      <td>8.748193</td>\n",
       "    </tr>\n",
       "    <tr>\n",
       "      <th>18</th>\n",
       "      <td>19</td>\n",
       "      <td>1792</td>\n",
       "      <td>10.807355</td>\n",
       "    </tr>\n",
       "    <tr>\n",
       "      <th>19</th>\n",
       "      <td>20</td>\n",
       "      <td>781</td>\n",
       "      <td>9.609179</td>\n",
       "    </tr>\n",
       "    <tr>\n",
       "      <th>20</th>\n",
       "      <td>21</td>\n",
       "      <td>413</td>\n",
       "      <td>8.689998</td>\n",
       "    </tr>\n",
       "    <tr>\n",
       "      <th>21</th>\n",
       "      <td>22</td>\n",
       "      <td>643</td>\n",
       "      <td>9.328675</td>\n",
       "    </tr>\n",
       "    <tr>\n",
       "      <th>22</th>\n",
       "      <td>X</td>\n",
       "      <td>1158</td>\n",
       "      <td>10.177420</td>\n",
       "    </tr>\n",
       "    <tr>\n",
       "      <th>23</th>\n",
       "      <td>Y</td>\n",
       "      <td>143</td>\n",
       "      <td>7.159871</td>\n",
       "    </tr>\n",
       "  </tbody>\n",
       "</table>\n",
       "</div>"
      ],
      "text/plain": [
       "   chrom  count  log2_count\n",
       "0      1   2842   11.472691\n",
       "1      2   1821   10.830515\n",
       "2      3   1563   10.610102\n",
       "3      4   1089   10.088788\n",
       "4      5   1314   10.359750\n",
       "5      6   1454   10.505812\n",
       "6      7   1349   10.397675\n",
       "7      8   1033   10.012625\n",
       "8      9   1112   10.118941\n",
       "9     10   1116   10.124121\n",
       "10    11   1675   10.709945\n",
       "11    12   1391   10.441907\n",
       "12    13    632    9.303781\n",
       "13    14    949    9.890264\n",
       "14    15   1012    9.982994\n",
       "15    16   1144   10.159871\n",
       "16    17   1574   10.620220\n",
       "17    18    430    8.748193\n",
       "18    19   1792   10.807355\n",
       "19    20    781    9.609179\n",
       "20    21    413    8.689998\n",
       "21    22    643    9.328675\n",
       "22     X   1158   10.177420\n",
       "23     Y    143    7.159871"
      ]
     },
     "execution_count": 48,
     "metadata": {},
     "output_type": "execute_result"
    }
   ],
   "source": [
    "df_count_genes"
   ]
  },
  {
   "cell_type": "code",
   "execution_count": 49,
   "id": "2f0438b7-6c95-4021-9e48-e3d1fe99c70b",
   "metadata": {
    "execution": {
     "iopub.execute_input": "2023-04-27T12:37:25.933651Z",
     "iopub.status.busy": "2023-04-27T12:37:25.933268Z",
     "iopub.status.idle": "2023-04-27T12:37:25.942923Z",
     "shell.execute_reply": "2023-04-27T12:37:25.942502Z",
     "shell.execute_reply.started": "2023-04-27T12:37:25.933636Z"
    },
    "tags": []
   },
   "outputs": [
    {
     "data": {
      "text/html": [
       "<div>\n",
       "<style scoped>\n",
       "    .dataframe tbody tr th:only-of-type {\n",
       "        vertical-align: middle;\n",
       "    }\n",
       "\n",
       "    .dataframe tbody tr th {\n",
       "        vertical-align: top;\n",
       "    }\n",
       "\n",
       "    .dataframe thead th {\n",
       "        text-align: right;\n",
       "    }\n",
       "</style>\n",
       "<table border=\"1\" class=\"dataframe\">\n",
       "  <thead>\n",
       "    <tr style=\"text-align: right;\">\n",
       "      <th></th>\n",
       "      <th>chrom</th>\n",
       "      <th>length</th>\n",
       "    </tr>\n",
       "  </thead>\n",
       "  <tbody>\n",
       "    <tr>\n",
       "      <th>0</th>\n",
       "      <td>1</td>\n",
       "      <td>248956422</td>\n",
       "    </tr>\n",
       "    <tr>\n",
       "      <th>1</th>\n",
       "      <td>2</td>\n",
       "      <td>242193529</td>\n",
       "    </tr>\n",
       "    <tr>\n",
       "      <th>2</th>\n",
       "      <td>3</td>\n",
       "      <td>198295559</td>\n",
       "    </tr>\n",
       "    <tr>\n",
       "      <th>3</th>\n",
       "      <td>4</td>\n",
       "      <td>190214555</td>\n",
       "    </tr>\n",
       "    <tr>\n",
       "      <th>4</th>\n",
       "      <td>5</td>\n",
       "      <td>181538259</td>\n",
       "    </tr>\n",
       "    <tr>\n",
       "      <th>5</th>\n",
       "      <td>6</td>\n",
       "      <td>170805979</td>\n",
       "    </tr>\n",
       "    <tr>\n",
       "      <th>6</th>\n",
       "      <td>7</td>\n",
       "      <td>159345973</td>\n",
       "    </tr>\n",
       "    <tr>\n",
       "      <th>7</th>\n",
       "      <td>8</td>\n",
       "      <td>145138636</td>\n",
       "    </tr>\n",
       "    <tr>\n",
       "      <th>8</th>\n",
       "      <td>9</td>\n",
       "      <td>138394717</td>\n",
       "    </tr>\n",
       "    <tr>\n",
       "      <th>9</th>\n",
       "      <td>10</td>\n",
       "      <td>133797422</td>\n",
       "    </tr>\n",
       "    <tr>\n",
       "      <th>10</th>\n",
       "      <td>11</td>\n",
       "      <td>135086622</td>\n",
       "    </tr>\n",
       "    <tr>\n",
       "      <th>11</th>\n",
       "      <td>12</td>\n",
       "      <td>133275309</td>\n",
       "    </tr>\n",
       "    <tr>\n",
       "      <th>12</th>\n",
       "      <td>13</td>\n",
       "      <td>114364328</td>\n",
       "    </tr>\n",
       "    <tr>\n",
       "      <th>13</th>\n",
       "      <td>14</td>\n",
       "      <td>107043718</td>\n",
       "    </tr>\n",
       "    <tr>\n",
       "      <th>14</th>\n",
       "      <td>15</td>\n",
       "      <td>101991189</td>\n",
       "    </tr>\n",
       "    <tr>\n",
       "      <th>15</th>\n",
       "      <td>16</td>\n",
       "      <td>90338345</td>\n",
       "    </tr>\n",
       "    <tr>\n",
       "      <th>16</th>\n",
       "      <td>17</td>\n",
       "      <td>83257441</td>\n",
       "    </tr>\n",
       "    <tr>\n",
       "      <th>17</th>\n",
       "      <td>18</td>\n",
       "      <td>80373285</td>\n",
       "    </tr>\n",
       "    <tr>\n",
       "      <th>18</th>\n",
       "      <td>19</td>\n",
       "      <td>58617616</td>\n",
       "    </tr>\n",
       "    <tr>\n",
       "      <th>19</th>\n",
       "      <td>20</td>\n",
       "      <td>64444167</td>\n",
       "    </tr>\n",
       "    <tr>\n",
       "      <th>20</th>\n",
       "      <td>21</td>\n",
       "      <td>46709983</td>\n",
       "    </tr>\n",
       "    <tr>\n",
       "      <th>21</th>\n",
       "      <td>22</td>\n",
       "      <td>50818468</td>\n",
       "    </tr>\n",
       "    <tr>\n",
       "      <th>22</th>\n",
       "      <td>X</td>\n",
       "      <td>156040895</td>\n",
       "    </tr>\n",
       "    <tr>\n",
       "      <th>23</th>\n",
       "      <td>Y</td>\n",
       "      <td>57227415</td>\n",
       "    </tr>\n",
       "  </tbody>\n",
       "</table>\n",
       "</div>"
      ],
      "text/plain": [
       "   chrom     length\n",
       "0      1  248956422\n",
       "1      2  242193529\n",
       "2      3  198295559\n",
       "3      4  190214555\n",
       "4      5  181538259\n",
       "5      6  170805979\n",
       "6      7  159345973\n",
       "7      8  145138636\n",
       "8      9  138394717\n",
       "9     10  133797422\n",
       "10    11  135086622\n",
       "11    12  133275309\n",
       "12    13  114364328\n",
       "13    14  107043718\n",
       "14    15  101991189\n",
       "15    16   90338345\n",
       "16    17   83257441\n",
       "17    18   80373285\n",
       "18    19   58617616\n",
       "19    20   64444167\n",
       "20    21   46709983\n",
       "21    22   50818468\n",
       "22     X  156040895\n",
       "23     Y   57227415"
      ]
     },
     "execution_count": 49,
     "metadata": {},
     "output_type": "execute_result"
    }
   ],
   "source": [
    "df_chrom_lens = pd.read_csv(\n",
    "    \"hg38_only_chromosome.fa.fai\",\n",
    "    header=None,\n",
    "    index_col=None,\n",
    "    sep=\"\\t\",\n",
    "    usecols=[0,1],\n",
    "    names=[\"chrom\", \"length\"]\n",
    ")\n",
    "\n",
    "df_chrom_lens[\"chrom\"] = df_chrom_lens[\"chrom\"].str[3:]\n",
    "df_chrom_lens = df_chrom_lens[df_chrom_lens[\"chrom\"].map(lambda x: x in aim_chroms)]\n",
    "df_chrom_lens"
   ]
  },
  {
   "cell_type": "code",
   "execution_count": 50,
   "id": "3f313e79-efc1-45ac-aa11-a8fa2b2553dd",
   "metadata": {
    "execution": {
     "iopub.execute_input": "2023-04-27T12:37:25.943719Z",
     "iopub.status.busy": "2023-04-27T12:37:25.943459Z",
     "iopub.status.idle": "2023-04-27T12:37:25.954383Z",
     "shell.execute_reply": "2023-04-27T12:37:25.953637Z",
     "shell.execute_reply.started": "2023-04-27T12:37:25.943704Z"
    },
    "tags": []
   },
   "outputs": [
    {
     "name": "stdout",
     "output_type": "stream",
     "text": [
      "  chrom  count  log2_count\n",
      "0     1   2842   11.472691\n",
      "1     2   1821   10.830515\n",
      "2     3   1563   10.610102\n",
      "3     4   1089   10.088788\n",
      "4     5   1314   10.359750\n",
      "  chrom     length\n",
      "0     1  248956422\n",
      "1     2  242193529\n",
      "2     3  198295559\n",
      "3     4  190214555\n",
      "4     5  181538259\n"
     ]
    },
    {
     "data": {
      "text/html": [
       "<div>\n",
       "<style scoped>\n",
       "    .dataframe tbody tr th:only-of-type {\n",
       "        vertical-align: middle;\n",
       "    }\n",
       "\n",
       "    .dataframe tbody tr th {\n",
       "        vertical-align: top;\n",
       "    }\n",
       "\n",
       "    .dataframe thead th {\n",
       "        text-align: right;\n",
       "    }\n",
       "</style>\n",
       "<table border=\"1\" class=\"dataframe\">\n",
       "  <thead>\n",
       "    <tr style=\"text-align: right;\">\n",
       "      <th></th>\n",
       "      <th>chrom</th>\n",
       "      <th>count</th>\n",
       "      <th>log2_count</th>\n",
       "      <th>length</th>\n",
       "    </tr>\n",
       "  </thead>\n",
       "  <tbody>\n",
       "    <tr>\n",
       "      <th>0</th>\n",
       "      <td>1</td>\n",
       "      <td>2842</td>\n",
       "      <td>11.472691</td>\n",
       "      <td>248956422</td>\n",
       "    </tr>\n",
       "    <tr>\n",
       "      <th>1</th>\n",
       "      <td>2</td>\n",
       "      <td>1821</td>\n",
       "      <td>10.830515</td>\n",
       "      <td>242193529</td>\n",
       "    </tr>\n",
       "    <tr>\n",
       "      <th>2</th>\n",
       "      <td>3</td>\n",
       "      <td>1563</td>\n",
       "      <td>10.610102</td>\n",
       "      <td>198295559</td>\n",
       "    </tr>\n",
       "    <tr>\n",
       "      <th>3</th>\n",
       "      <td>4</td>\n",
       "      <td>1089</td>\n",
       "      <td>10.088788</td>\n",
       "      <td>190214555</td>\n",
       "    </tr>\n",
       "    <tr>\n",
       "      <th>4</th>\n",
       "      <td>5</td>\n",
       "      <td>1314</td>\n",
       "      <td>10.359750</td>\n",
       "      <td>181538259</td>\n",
       "    </tr>\n",
       "    <tr>\n",
       "      <th>5</th>\n",
       "      <td>6</td>\n",
       "      <td>1454</td>\n",
       "      <td>10.505812</td>\n",
       "      <td>170805979</td>\n",
       "    </tr>\n",
       "    <tr>\n",
       "      <th>6</th>\n",
       "      <td>7</td>\n",
       "      <td>1349</td>\n",
       "      <td>10.397675</td>\n",
       "      <td>159345973</td>\n",
       "    </tr>\n",
       "    <tr>\n",
       "      <th>7</th>\n",
       "      <td>8</td>\n",
       "      <td>1033</td>\n",
       "      <td>10.012625</td>\n",
       "      <td>145138636</td>\n",
       "    </tr>\n",
       "    <tr>\n",
       "      <th>8</th>\n",
       "      <td>9</td>\n",
       "      <td>1112</td>\n",
       "      <td>10.118941</td>\n",
       "      <td>138394717</td>\n",
       "    </tr>\n",
       "    <tr>\n",
       "      <th>9</th>\n",
       "      <td>10</td>\n",
       "      <td>1116</td>\n",
       "      <td>10.124121</td>\n",
       "      <td>133797422</td>\n",
       "    </tr>\n",
       "    <tr>\n",
       "      <th>10</th>\n",
       "      <td>11</td>\n",
       "      <td>1675</td>\n",
       "      <td>10.709945</td>\n",
       "      <td>135086622</td>\n",
       "    </tr>\n",
       "    <tr>\n",
       "      <th>11</th>\n",
       "      <td>12</td>\n",
       "      <td>1391</td>\n",
       "      <td>10.441907</td>\n",
       "      <td>133275309</td>\n",
       "    </tr>\n",
       "    <tr>\n",
       "      <th>12</th>\n",
       "      <td>13</td>\n",
       "      <td>632</td>\n",
       "      <td>9.303781</td>\n",
       "      <td>114364328</td>\n",
       "    </tr>\n",
       "    <tr>\n",
       "      <th>13</th>\n",
       "      <td>14</td>\n",
       "      <td>949</td>\n",
       "      <td>9.890264</td>\n",
       "      <td>107043718</td>\n",
       "    </tr>\n",
       "    <tr>\n",
       "      <th>14</th>\n",
       "      <td>15</td>\n",
       "      <td>1012</td>\n",
       "      <td>9.982994</td>\n",
       "      <td>101991189</td>\n",
       "    </tr>\n",
       "    <tr>\n",
       "      <th>15</th>\n",
       "      <td>16</td>\n",
       "      <td>1144</td>\n",
       "      <td>10.159871</td>\n",
       "      <td>90338345</td>\n",
       "    </tr>\n",
       "    <tr>\n",
       "      <th>16</th>\n",
       "      <td>17</td>\n",
       "      <td>1574</td>\n",
       "      <td>10.620220</td>\n",
       "      <td>83257441</td>\n",
       "    </tr>\n",
       "    <tr>\n",
       "      <th>17</th>\n",
       "      <td>18</td>\n",
       "      <td>430</td>\n",
       "      <td>8.748193</td>\n",
       "      <td>80373285</td>\n",
       "    </tr>\n",
       "    <tr>\n",
       "      <th>18</th>\n",
       "      <td>19</td>\n",
       "      <td>1792</td>\n",
       "      <td>10.807355</td>\n",
       "      <td>58617616</td>\n",
       "    </tr>\n",
       "    <tr>\n",
       "      <th>19</th>\n",
       "      <td>20</td>\n",
       "      <td>781</td>\n",
       "      <td>9.609179</td>\n",
       "      <td>64444167</td>\n",
       "    </tr>\n",
       "    <tr>\n",
       "      <th>20</th>\n",
       "      <td>21</td>\n",
       "      <td>413</td>\n",
       "      <td>8.689998</td>\n",
       "      <td>46709983</td>\n",
       "    </tr>\n",
       "    <tr>\n",
       "      <th>21</th>\n",
       "      <td>22</td>\n",
       "      <td>643</td>\n",
       "      <td>9.328675</td>\n",
       "      <td>50818468</td>\n",
       "    </tr>\n",
       "    <tr>\n",
       "      <th>22</th>\n",
       "      <td>X</td>\n",
       "      <td>1158</td>\n",
       "      <td>10.177420</td>\n",
       "      <td>156040895</td>\n",
       "    </tr>\n",
       "    <tr>\n",
       "      <th>23</th>\n",
       "      <td>Y</td>\n",
       "      <td>143</td>\n",
       "      <td>7.159871</td>\n",
       "      <td>57227415</td>\n",
       "    </tr>\n",
       "  </tbody>\n",
       "</table>\n",
       "</div>"
      ],
      "text/plain": [
       "   chrom  count  log2_count     length\n",
       "0      1   2842   11.472691  248956422\n",
       "1      2   1821   10.830515  242193529\n",
       "2      3   1563   10.610102  198295559\n",
       "3      4   1089   10.088788  190214555\n",
       "4      5   1314   10.359750  181538259\n",
       "5      6   1454   10.505812  170805979\n",
       "6      7   1349   10.397675  159345973\n",
       "7      8   1033   10.012625  145138636\n",
       "8      9   1112   10.118941  138394717\n",
       "9     10   1116   10.124121  133797422\n",
       "10    11   1675   10.709945  135086622\n",
       "11    12   1391   10.441907  133275309\n",
       "12    13    632    9.303781  114364328\n",
       "13    14    949    9.890264  107043718\n",
       "14    15   1012    9.982994  101991189\n",
       "15    16   1144   10.159871   90338345\n",
       "16    17   1574   10.620220   83257441\n",
       "17    18    430    8.748193   80373285\n",
       "18    19   1792   10.807355   58617616\n",
       "19    20    781    9.609179   64444167\n",
       "20    21    413    8.689998   46709983\n",
       "21    22    643    9.328675   50818468\n",
       "22     X   1158   10.177420  156040895\n",
       "23     Y    143    7.159871   57227415"
      ]
     },
     "execution_count": 50,
     "metadata": {},
     "output_type": "execute_result"
    }
   ],
   "source": [
    "print(df_count_genes.head())\n",
    "print(df_chrom_lens.head())\n",
    "df_density = pd.merge(left=df_count_genes, right=df_chrom_lens, on=\"chrom\", how=\"left\")\n",
    "df_density"
   ]
  },
  {
   "cell_type": "code",
   "execution_count": 51,
   "id": "4ff3cfbf-1959-48c6-ba24-f589eda89056",
   "metadata": {
    "execution": {
     "iopub.execute_input": "2023-04-27T12:37:25.955146Z",
     "iopub.status.busy": "2023-04-27T12:37:25.954999Z",
     "iopub.status.idle": "2023-04-27T12:37:25.963318Z",
     "shell.execute_reply": "2023-04-27T12:37:25.962471Z",
     "shell.execute_reply.started": "2023-04-27T12:37:25.955135Z"
    },
    "tags": []
   },
   "outputs": [
    {
     "data": {
      "text/html": [
       "<div>\n",
       "<style scoped>\n",
       "    .dataframe tbody tr th:only-of-type {\n",
       "        vertical-align: middle;\n",
       "    }\n",
       "\n",
       "    .dataframe tbody tr th {\n",
       "        vertical-align: top;\n",
       "    }\n",
       "\n",
       "    .dataframe thead th {\n",
       "        text-align: right;\n",
       "    }\n",
       "</style>\n",
       "<table border=\"1\" class=\"dataframe\">\n",
       "  <thead>\n",
       "    <tr style=\"text-align: right;\">\n",
       "      <th></th>\n",
       "      <th>chrom</th>\n",
       "      <th>count</th>\n",
       "      <th>log2_count</th>\n",
       "      <th>length</th>\n",
       "      <th>density</th>\n",
       "    </tr>\n",
       "  </thead>\n",
       "  <tbody>\n",
       "    <tr>\n",
       "      <th>0</th>\n",
       "      <td>1</td>\n",
       "      <td>2842</td>\n",
       "      <td>11.472691</td>\n",
       "      <td>248956422</td>\n",
       "      <td>11.415652</td>\n",
       "    </tr>\n",
       "    <tr>\n",
       "      <th>1</th>\n",
       "      <td>2</td>\n",
       "      <td>1821</td>\n",
       "      <td>10.830515</td>\n",
       "      <td>242193529</td>\n",
       "      <td>7.518781</td>\n",
       "    </tr>\n",
       "    <tr>\n",
       "      <th>2</th>\n",
       "      <td>3</td>\n",
       "      <td>1563</td>\n",
       "      <td>10.610102</td>\n",
       "      <td>198295559</td>\n",
       "      <td>7.882173</td>\n",
       "    </tr>\n",
       "    <tr>\n",
       "      <th>3</th>\n",
       "      <td>4</td>\n",
       "      <td>1089</td>\n",
       "      <td>10.088788</td>\n",
       "      <td>190214555</td>\n",
       "      <td>5.725114</td>\n",
       "    </tr>\n",
       "    <tr>\n",
       "      <th>4</th>\n",
       "      <td>5</td>\n",
       "      <td>1314</td>\n",
       "      <td>10.359750</td>\n",
       "      <td>181538259</td>\n",
       "      <td>7.238144</td>\n",
       "    </tr>\n",
       "    <tr>\n",
       "      <th>5</th>\n",
       "      <td>6</td>\n",
       "      <td>1454</td>\n",
       "      <td>10.505812</td>\n",
       "      <td>170805979</td>\n",
       "      <td>8.512583</td>\n",
       "    </tr>\n",
       "    <tr>\n",
       "      <th>6</th>\n",
       "      <td>7</td>\n",
       "      <td>1349</td>\n",
       "      <td>10.397675</td>\n",
       "      <td>159345973</td>\n",
       "      <td>8.465856</td>\n",
       "    </tr>\n",
       "    <tr>\n",
       "      <th>7</th>\n",
       "      <td>8</td>\n",
       "      <td>1033</td>\n",
       "      <td>10.012625</td>\n",
       "      <td>145138636</td>\n",
       "      <td>7.117333</td>\n",
       "    </tr>\n",
       "    <tr>\n",
       "      <th>8</th>\n",
       "      <td>9</td>\n",
       "      <td>1112</td>\n",
       "      <td>10.118941</td>\n",
       "      <td>138394717</td>\n",
       "      <td>8.034989</td>\n",
       "    </tr>\n",
       "    <tr>\n",
       "      <th>9</th>\n",
       "      <td>10</td>\n",
       "      <td>1116</td>\n",
       "      <td>10.124121</td>\n",
       "      <td>133797422</td>\n",
       "      <td>8.340968</td>\n",
       "    </tr>\n",
       "    <tr>\n",
       "      <th>10</th>\n",
       "      <td>11</td>\n",
       "      <td>1675</td>\n",
       "      <td>10.709945</td>\n",
       "      <td>135086622</td>\n",
       "      <td>12.399451</td>\n",
       "    </tr>\n",
       "    <tr>\n",
       "      <th>11</th>\n",
       "      <td>12</td>\n",
       "      <td>1391</td>\n",
       "      <td>10.441907</td>\n",
       "      <td>133275309</td>\n",
       "      <td>10.437042</td>\n",
       "    </tr>\n",
       "    <tr>\n",
       "      <th>12</th>\n",
       "      <td>13</td>\n",
       "      <td>632</td>\n",
       "      <td>9.303781</td>\n",
       "      <td>114364328</td>\n",
       "      <td>5.526199</td>\n",
       "    </tr>\n",
       "    <tr>\n",
       "      <th>13</th>\n",
       "      <td>14</td>\n",
       "      <td>949</td>\n",
       "      <td>9.890264</td>\n",
       "      <td>107043718</td>\n",
       "      <td>8.865537</td>\n",
       "    </tr>\n",
       "    <tr>\n",
       "      <th>14</th>\n",
       "      <td>15</td>\n",
       "      <td>1012</td>\n",
       "      <td>9.982994</td>\n",
       "      <td>101991189</td>\n",
       "      <td>9.922426</td>\n",
       "    </tr>\n",
       "    <tr>\n",
       "      <th>15</th>\n",
       "      <td>16</td>\n",
       "      <td>1144</td>\n",
       "      <td>10.159871</td>\n",
       "      <td>90338345</td>\n",
       "      <td>12.663504</td>\n",
       "    </tr>\n",
       "    <tr>\n",
       "      <th>16</th>\n",
       "      <td>17</td>\n",
       "      <td>1574</td>\n",
       "      <td>10.620220</td>\n",
       "      <td>83257441</td>\n",
       "      <td>18.905217</td>\n",
       "    </tr>\n",
       "    <tr>\n",
       "      <th>17</th>\n",
       "      <td>18</td>\n",
       "      <td>430</td>\n",
       "      <td>8.748193</td>\n",
       "      <td>80373285</td>\n",
       "      <td>5.350036</td>\n",
       "    </tr>\n",
       "    <tr>\n",
       "      <th>18</th>\n",
       "      <td>19</td>\n",
       "      <td>1792</td>\n",
       "      <td>10.807355</td>\n",
       "      <td>58617616</td>\n",
       "      <td>30.571015</td>\n",
       "    </tr>\n",
       "    <tr>\n",
       "      <th>19</th>\n",
       "      <td>20</td>\n",
       "      <td>781</td>\n",
       "      <td>9.609179</td>\n",
       "      <td>64444167</td>\n",
       "      <td>12.119018</td>\n",
       "    </tr>\n",
       "    <tr>\n",
       "      <th>20</th>\n",
       "      <td>21</td>\n",
       "      <td>413</td>\n",
       "      <td>8.689998</td>\n",
       "      <td>46709983</td>\n",
       "      <td>8.841793</td>\n",
       "    </tr>\n",
       "    <tr>\n",
       "      <th>21</th>\n",
       "      <td>22</td>\n",
       "      <td>643</td>\n",
       "      <td>9.328675</td>\n",
       "      <td>50818468</td>\n",
       "      <td>12.652880</td>\n",
       "    </tr>\n",
       "    <tr>\n",
       "      <th>22</th>\n",
       "      <td>X</td>\n",
       "      <td>1158</td>\n",
       "      <td>10.177420</td>\n",
       "      <td>156040895</td>\n",
       "      <td>7.421131</td>\n",
       "    </tr>\n",
       "    <tr>\n",
       "      <th>23</th>\n",
       "      <td>Y</td>\n",
       "      <td>143</td>\n",
       "      <td>7.159871</td>\n",
       "      <td>57227415</td>\n",
       "      <td>2.498802</td>\n",
       "    </tr>\n",
       "  </tbody>\n",
       "</table>\n",
       "</div>"
      ],
      "text/plain": [
       "   chrom  count  log2_count     length    density\n",
       "0      1   2842   11.472691  248956422  11.415652\n",
       "1      2   1821   10.830515  242193529   7.518781\n",
       "2      3   1563   10.610102  198295559   7.882173\n",
       "3      4   1089   10.088788  190214555   5.725114\n",
       "4      5   1314   10.359750  181538259   7.238144\n",
       "5      6   1454   10.505812  170805979   8.512583\n",
       "6      7   1349   10.397675  159345973   8.465856\n",
       "7      8   1033   10.012625  145138636   7.117333\n",
       "8      9   1112   10.118941  138394717   8.034989\n",
       "9     10   1116   10.124121  133797422   8.340968\n",
       "10    11   1675   10.709945  135086622  12.399451\n",
       "11    12   1391   10.441907  133275309  10.437042\n",
       "12    13    632    9.303781  114364328   5.526199\n",
       "13    14    949    9.890264  107043718   8.865537\n",
       "14    15   1012    9.982994  101991189   9.922426\n",
       "15    16   1144   10.159871   90338345  12.663504\n",
       "16    17   1574   10.620220   83257441  18.905217\n",
       "17    18    430    8.748193   80373285   5.350036\n",
       "18    19   1792   10.807355   58617616  30.571015\n",
       "19    20    781    9.609179   64444167  12.119018\n",
       "20    21    413    8.689998   46709983   8.841793\n",
       "21    22    643    9.328675   50818468  12.652880\n",
       "22     X   1158   10.177420  156040895   7.421131\n",
       "23     Y    143    7.159871   57227415   2.498802"
      ]
     },
     "execution_count": 51,
     "metadata": {},
     "output_type": "execute_result"
    }
   ],
   "source": [
    "df_density[\"density\"] = df_density[\"count\"] / df_density[\"length\"] * 1_000_000\n",
    "df_density"
   ]
  },
  {
   "cell_type": "code",
   "execution_count": 52,
   "id": "4396d344-7fc2-42d6-8c49-c66727f51eb5",
   "metadata": {
    "execution": {
     "iopub.execute_input": "2023-04-27T12:37:25.964462Z",
     "iopub.status.busy": "2023-04-27T12:37:25.964319Z",
     "iopub.status.idle": "2023-04-27T12:37:26.339111Z",
     "shell.execute_reply": "2023-04-27T12:37:26.338589Z",
     "shell.execute_reply.started": "2023-04-27T12:37:25.964450Z"
    },
    "tags": []
   },
   "outputs": [
    {
     "data": {
      "image/png": "[encoded data removed]",
      "text/plain": [
       "<Figure size 640x480 with 1 Axes>"
      ]
     },
     "metadata": {},
     "output_type": "display_data"
    }
   ],
   "source": [
    "# sns.barplot(x=df_density[\"chrom\"], y=df_density[\"density\"])\n",
    "ax = sns.barplot(data=df_density, x=\"chrom\", y=\"density\")\n",
    "# ax.__dir__()\n",
    "ax.axes.set_xlabel(\"chromosome\")\n",
    "ax.axes.set_ylabel(\"gene count per Mbps\")\n",
    "ax.set_title(\"Gene Density per Chromsome of HG38\")\n",
    "\n",
    "plt.savefig(\"gene_density_per_chromsome.pdf\")"
   ]
  },
  {
   "cell_type": "code",
   "execution_count": 53,
   "id": "386c2528-6bbe-40d1-a23c-7c2aa6470082",
   "metadata": {
    "execution": {
     "iopub.execute_input": "2023-04-27T12:37:26.339853Z",
     "iopub.status.busy": "2023-04-27T12:37:26.339708Z",
     "iopub.status.idle": "2023-04-27T12:37:26.366042Z",
     "shell.execute_reply": "2023-04-27T12:37:26.365507Z",
     "shell.execute_reply.started": "2023-04-27T12:37:26.339841Z"
    },
    "tags": []
   },
   "outputs": [
    {
     "name": "stdout",
     "output_type": "stream",
     "text": [
      "# A tibble: 24 × 2\n",
      "   chrom total\n",
      "   <chr> <int>\n",
      " 1 1      2842\n",
      " 2 10     1116\n",
      " 3 11     1675\n",
      " 4 12     1391\n",
      " 5 13      632\n",
      " 6 14      949\n",
      " 7 15     1012\n",
      " 8 16     1144\n",
      " 9 17     1574\n",
      "10 18      430\n",
      "# ℹ 14 more rows\n",
      "# ℹ Use `print(n = ...)` to see more rows\n"
     ]
    }
   ],
   "source": [
    "%%R\n",
    "df_cut %>% group_by(chrom) %>% summarize(total=sum(count))"
   ]
  },
  {
   "cell_type": "markdown",
   "id": "faa9c290-0c58-473d-b642-9ed40616f79f",
   "metadata": {},
   "source": [
    "## 读取 Genbank 文件并完成计算\n",
    "- genbank文件下载\n",
    "- load genbank文件（Biopython）\n",
    "- gene 的 feature 进行基本统计（CDS, exon）\n",
    "    - min\n",
    "    - max\n",
    "    - mean\n",
    "    - median"
   ]
  },
  {
   "cell_type": "markdown",
   "id": "66fa0bf6-4bfa-4fe2-a326-6b10a27829c8",
   "metadata": {},
   "source": [
    "### 文件下载"
   ]
  },
  {
   "cell_type": "code",
   "execution_count": 54,
   "id": "1efcec4e-20cb-43aa-b1d2-2c9fc0730721",
   "metadata": {
    "execution": {
     "iopub.execute_input": "2023-04-27T12:37:26.367091Z",
     "iopub.status.busy": "2023-04-27T12:37:26.366689Z",
     "iopub.status.idle": "2023-04-27T12:37:26.369146Z",
     "shell.execute_reply": "2023-04-27T12:37:26.368673Z",
     "shell.execute_reply.started": "2023-04-27T12:37:26.367076Z"
    },
    "tags": []
   },
   "outputs": [],
   "source": [
    "# Ensembl (per chromosome) \n",
    "# RefSeq (per transcript) "
   ]
  },
  {
   "cell_type": "markdown",
   "id": "54083432-d257-4e5f-929d-4a5b04b2b353",
   "metadata": {},
   "source": [
    "### load genbank file"
   ]
  },
  {
   "cell_type": "code",
   "execution_count": 55,
   "id": "8627b5da-4766-40e0-ab7e-adacead6664e",
   "metadata": {
    "execution": {
     "iopub.execute_input": "2023-04-27T12:37:26.370261Z",
     "iopub.status.busy": "2023-04-27T12:37:26.369846Z",
     "iopub.status.idle": "2023-04-27T12:37:26.372851Z",
     "shell.execute_reply": "2023-04-27T12:37:26.372375Z",
     "shell.execute_reply.started": "2023-04-27T12:37:26.370246Z"
    },
    "tags": []
   },
   "outputs": [],
   "source": [
    "ensembl_gb = \"genbank/Homo_sapiens.hg38.Ensembl.GRCh38.109.gbff.gz\"\n",
    "test_ensemnl_gb = \"genbank/Homo_sapiens.GRCh38.109.chromosome.18.dat.gz\"\n",
    "test_ensemnl_gb2 = \"genbank/Homo_sapiens.GRCh38.109.chromosome.MT.dat.gz\"\n",
    "RefSeq_gb = \"genbank/Homo_sapiens.hg38.RefSeq_GRCh38.latest.gbff.gz\""
   ]
  },
  {
   "cell_type": "code",
   "execution_count": 56,
   "id": "809d32ea-e5c7-4535-b506-8dd28919a399",
   "metadata": {
    "execution": {
     "iopub.execute_input": "2023-04-27T12:37:26.373732Z",
     "iopub.status.busy": "2023-04-27T12:37:26.373508Z",
     "iopub.status.idle": "2023-04-27T12:37:26.375913Z",
     "shell.execute_reply": "2023-04-27T12:37:26.375389Z",
     "shell.execute_reply.started": "2023-04-27T12:37:26.373721Z"
    },
    "tags": []
   },
   "outputs": [],
   "source": [
    "# pip/conda/mamba install biopython"
   ]
  },
  {
   "cell_type": "code",
   "execution_count": 57,
   "id": "9f760921-2f0d-467b-b7b0-b7b7f23caf67",
   "metadata": {
    "execution": {
     "iopub.execute_input": "2023-04-27T12:37:26.377261Z",
     "iopub.status.busy": "2023-04-27T12:37:26.376864Z",
     "iopub.status.idle": "2023-04-27T12:37:26.414613Z",
     "shell.execute_reply": "2023-04-27T12:37:26.414150Z",
     "shell.execute_reply.started": "2023-04-27T12:37:26.377250Z"
    },
    "tags": []
   },
   "outputs": [
    {
     "data": {
      "text/plain": [
       "'1.81'"
      ]
     },
     "execution_count": 57,
     "metadata": {},
     "output_type": "execute_result"
    }
   ],
   "source": [
    "from Bio import SeqIO\n",
    "from Bio import __version__ as biov\n",
    "\n",
    "\n",
    "biov"
   ]
  },
  {
   "cell_type": "code",
   "execution_count": 58,
   "id": "44422590-f665-48ba-9c31-29a7f9534afe",
   "metadata": {
    "execution": {
     "iopub.execute_input": "2023-04-27T12:37:26.415563Z",
     "iopub.status.busy": "2023-04-27T12:37:26.415175Z",
     "iopub.status.idle": "2023-04-27T12:37:26.443281Z",
     "shell.execute_reply": "2023-04-27T12:37:26.442588Z",
     "shell.execute_reply.started": "2023-04-27T12:37:26.415553Z"
    },
    "tags": []
   },
   "outputs": [
    {
     "data": {
      "text/plain": [
       "\u001b[0;31mSignature:\u001b[0m \u001b[0mSeqIO\u001b[0m\u001b[0;34m.\u001b[0m\u001b[0mparse\u001b[0m\u001b[0;34m(\u001b[0m\u001b[0mhandle\u001b[0m\u001b[0;34m,\u001b[0m \u001b[0mformat\u001b[0m\u001b[0;34m,\u001b[0m \u001b[0malphabet\u001b[0m\u001b[0;34m=\u001b[0m\u001b[0;32mNone\u001b[0m\u001b[0;34m)\u001b[0m\u001b[0;34m\u001b[0m\u001b[0;34m\u001b[0m\u001b[0m\n",
       "\u001b[0;31mDocstring:\u001b[0m\n",
       "Turn a sequence file into an iterator returning SeqRecords.\n",
       "\n",
       "Arguments:\n",
       " - handle   - handle to the file, or the filename as a string\n",
       "   (note older versions of Biopython only took a handle).\n",
       " - format   - lower case string describing the file format.\n",
       " - alphabet - no longer used, should be None.\n",
       "\n",
       "Typical usage, opening a file to read in, and looping over the record(s):\n",
       "\n",
       ">>> from Bio import SeqIO\n",
       ">>> filename = \"Fasta/sweetpea.nu\"\n",
       ">>> for record in SeqIO.parse(filename, \"fasta\"):\n",
       "...    print(\"ID %s\" % record.id)\n",
       "...    print(\"Sequence length %i\" % len(record))\n",
       "ID gi|3176602|gb|U78617.1|LOU78617\n",
       "Sequence length 309\n",
       "\n",
       "For lazy-loading file formats such as twobit, for which the file contents\n",
       "is read on demand only, ensure that the file remains open while extracting\n",
       "sequence data.\n",
       "\n",
       "If you have a string 'data' containing the file contents, you must\n",
       "first turn this into a handle in order to parse it:\n",
       "\n",
       ">>> data = \">Alpha\\nACCGGATGTA\\n>Beta\\nAGGCTCGGTTA\\n\"\n",
       ">>> from Bio import SeqIO\n",
       ">>> from io import StringIO\n",
       ">>> for record in SeqIO.parse(StringIO(data), \"fasta\"):\n",
       "...     print(\"%s %s\" % (record.id, record.seq))\n",
       "Alpha ACCGGATGTA\n",
       "Beta AGGCTCGGTTA\n",
       "\n",
       "Use the Bio.SeqIO.read(...) function when you expect a single record\n",
       "only.\n",
       "\u001b[0;31mFile:\u001b[0m      ~/anaconda3/lib/python3.9/site-packages/Bio/SeqIO/__init__.py\n",
       "\u001b[0;31mType:\u001b[0m      function"
      ]
     },
     "metadata": {},
     "output_type": "display_data"
    }
   ],
   "source": [
    "SeqIO.parse?"
   ]
  },
  {
   "cell_type": "code",
   "execution_count": 59,
   "id": "f071f2eb-d617-47b6-a263-2aa631483248",
   "metadata": {
    "execution": {
     "iopub.execute_input": "2023-04-27T12:37:26.444261Z",
     "iopub.status.busy": "2023-04-27T12:37:26.443960Z",
     "iopub.status.idle": "2023-04-27T12:37:26.447422Z",
     "shell.execute_reply": "2023-04-27T12:37:26.446927Z",
     "shell.execute_reply.started": "2023-04-27T12:37:26.444245Z"
    },
    "tags": []
   },
   "outputs": [
    {
     "data": {
      "text/plain": [
       "'genbank/Homo_sapiens.GRCh38.109.chromosome.18.dat.gz'"
      ]
     },
     "execution_count": 59,
     "metadata": {},
     "output_type": "execute_result"
    }
   ],
   "source": [
    "test_ensemnl_gb"
   ]
  },
  {
   "cell_type": "code",
   "execution_count": 60,
   "id": "f79bb7a9-4377-47a2-b672-dea2caea5cbb",
   "metadata": {
    "execution": {
     "iopub.execute_input": "2023-04-27T12:37:26.448417Z",
     "iopub.status.busy": "2023-04-27T12:37:26.448072Z",
     "iopub.status.idle": "2023-04-27T12:37:26.793141Z",
     "shell.execute_reply": "2023-04-27T12:37:26.791827Z",
     "shell.execute_reply.started": "2023-04-27T12:37:26.448395Z"
    },
    "tags": []
   },
   "outputs": [
    {
     "ename": "UnicodeDecodeError",
     "evalue": "'utf-8' codec can't decode byte 0x8b in position 1: invalid start byte",
     "output_type": "error",
     "traceback": [
      "\u001b[0;31m---------------------------------------------------------------------------\u001b[0m",
      "\u001b[0;31mTypeError\u001b[0m                                 Traceback (most recent call last)",
      "File \u001b[0;32m~/anaconda3/lib/python3.9/site-packages/Bio/File.py:72\u001b[0m, in \u001b[0;36mas_handle\u001b[0;34m(handleish, mode, **kwargs)\u001b[0m\n\u001b[1;32m     71\u001b[0m \u001b[38;5;28;01mtry\u001b[39;00m:\n\u001b[0;32m---> 72\u001b[0m     \u001b[38;5;28;01mwith\u001b[39;00m \u001b[38;5;28;43mopen\u001b[39;49m\u001b[43m(\u001b[49m\u001b[43mhandleish\u001b[49m\u001b[43m,\u001b[49m\u001b[43m \u001b[49m\u001b[43mmode\u001b[49m\u001b[43m,\u001b[49m\u001b[43m \u001b[49m\u001b[38;5;241;43m*\u001b[39;49m\u001b[38;5;241;43m*\u001b[39;49m\u001b[43mkwargs\u001b[49m\u001b[43m)\u001b[49m \u001b[38;5;28;01mas\u001b[39;00m fp:\n\u001b[1;32m     73\u001b[0m         \u001b[38;5;28;01myield\u001b[39;00m fp\n",
      "\u001b[0;31mTypeError\u001b[0m: expected str, bytes or os.PathLike object, not TextIOWrapper",
      "\nDuring handling of the above exception, another exception occurred:\n",
      "\u001b[0;31mUnicodeDecodeError\u001b[0m                        Traceback (most recent call last)",
      "Cell \u001b[0;32mIn[60], line 1\u001b[0m\n\u001b[0;32m----> 1\u001b[0m \u001b[38;5;28;01mfor\u001b[39;00m record \u001b[38;5;129;01min\u001b[39;00m SeqIO\u001b[38;5;241m.\u001b[39mparse(test_ensemnl_gb, \u001b[38;5;28mformat\u001b[39m\u001b[38;5;241m=\u001b[39m\u001b[38;5;124m\"\u001b[39m\u001b[38;5;124mgenbank\u001b[39m\u001b[38;5;124m\"\u001b[39m):\n\u001b[1;32m      2\u001b[0m     \u001b[38;5;28mprint\u001b[39m(record\u001b[38;5;241m.\u001b[39mid)\n",
      "File \u001b[0;32m~/anaconda3/lib/python3.9/site-packages/Bio/SeqIO/Interfaces.py:72\u001b[0m, in \u001b[0;36mSequenceIterator.__next__\u001b[0;34m(self)\u001b[0m\n\u001b[1;32m     70\u001b[0m \u001b[38;5;250m\u001b[39m\u001b[38;5;124;03m\"\"\"Return the next entry.\"\"\"\u001b[39;00m\n\u001b[1;32m     71\u001b[0m \u001b[38;5;28;01mtry\u001b[39;00m:\n\u001b[0;32m---> 72\u001b[0m     \u001b[38;5;28;01mreturn\u001b[39;00m \u001b[38;5;28;43mnext\u001b[39;49m\u001b[43m(\u001b[49m\u001b[38;5;28;43mself\u001b[39;49m\u001b[38;5;241;43m.\u001b[39;49m\u001b[43mrecords\u001b[49m\u001b[43m)\u001b[49m\n\u001b[1;32m     73\u001b[0m \u001b[38;5;28;01mexcept\u001b[39;00m \u001b[38;5;167;01mException\u001b[39;00m:\n\u001b[1;32m     74\u001b[0m     \u001b[38;5;28;01mif\u001b[39;00m \u001b[38;5;28mself\u001b[39m\u001b[38;5;241m.\u001b[39mshould_close_stream:\n",
      "File \u001b[0;32m~/anaconda3/lib/python3.9/site-packages/Bio/GenBank/Scanner.py:516\u001b[0m, in \u001b[0;36mInsdcScanner.parse_records\u001b[0;34m(self, handle, do_features)\u001b[0m\n\u001b[1;32m    514\u001b[0m \u001b[38;5;28;01mwith\u001b[39;00m as_handle(handle) \u001b[38;5;28;01mas\u001b[39;00m handle:\n\u001b[1;32m    515\u001b[0m     \u001b[38;5;28;01mwhile\u001b[39;00m \u001b[38;5;28;01mTrue\u001b[39;00m:\n\u001b[0;32m--> 516\u001b[0m         record \u001b[38;5;241m=\u001b[39m \u001b[38;5;28;43mself\u001b[39;49m\u001b[38;5;241;43m.\u001b[39;49m\u001b[43mparse\u001b[49m\u001b[43m(\u001b[49m\u001b[43mhandle\u001b[49m\u001b[43m,\u001b[49m\u001b[43m \u001b[49m\u001b[43mdo_features\u001b[49m\u001b[43m)\u001b[49m\n\u001b[1;32m    517\u001b[0m         \u001b[38;5;28;01mif\u001b[39;00m record \u001b[38;5;129;01mis\u001b[39;00m \u001b[38;5;28;01mNone\u001b[39;00m:\n\u001b[1;32m    518\u001b[0m             \u001b[38;5;28;01mbreak\u001b[39;00m\n",
      "File \u001b[0;32m~/anaconda3/lib/python3.9/site-packages/Bio/GenBank/Scanner.py:499\u001b[0m, in \u001b[0;36mInsdcScanner.parse\u001b[0;34m(self, handle, do_features)\u001b[0m\n\u001b[1;32m    493\u001b[0m \u001b[38;5;28;01mfrom\u001b[39;00m \u001b[38;5;21;01mBio\u001b[39;00m\u001b[38;5;21;01m.\u001b[39;00m\u001b[38;5;21;01mGenBank\u001b[39;00m\u001b[38;5;21;01m.\u001b[39;00m\u001b[38;5;21;01mutils\u001b[39;00m \u001b[38;5;28;01mimport\u001b[39;00m FeatureValueCleaner\n\u001b[1;32m    495\u001b[0m consumer \u001b[38;5;241m=\u001b[39m _FeatureConsumer(\n\u001b[1;32m    496\u001b[0m     use_fuzziness\u001b[38;5;241m=\u001b[39m\u001b[38;5;241m1\u001b[39m, feature_cleaner\u001b[38;5;241m=\u001b[39mFeatureValueCleaner()\n\u001b[1;32m    497\u001b[0m )\n\u001b[0;32m--> 499\u001b[0m \u001b[38;5;28;01mif\u001b[39;00m \u001b[38;5;28;43mself\u001b[39;49m\u001b[38;5;241;43m.\u001b[39;49m\u001b[43mfeed\u001b[49m\u001b[43m(\u001b[49m\u001b[43mhandle\u001b[49m\u001b[43m,\u001b[49m\u001b[43m \u001b[49m\u001b[43mconsumer\u001b[49m\u001b[43m,\u001b[49m\u001b[43m \u001b[49m\u001b[43mdo_features\u001b[49m\u001b[43m)\u001b[49m:\n\u001b[1;32m    500\u001b[0m     \u001b[38;5;28;01mreturn\u001b[39;00m consumer\u001b[38;5;241m.\u001b[39mdata\n\u001b[1;32m    501\u001b[0m \u001b[38;5;28;01melse\u001b[39;00m:\n",
      "File \u001b[0;32m~/anaconda3/lib/python3.9/site-packages/Bio/GenBank/Scanner.py:455\u001b[0m, in \u001b[0;36mInsdcScanner.feed\u001b[0;34m(self, handle, consumer, do_features)\u001b[0m\n\u001b[1;32m    452\u001b[0m \u001b[38;5;66;03m# Should work with both EMBL and GenBank files provided the\u001b[39;00m\n\u001b[1;32m    453\u001b[0m \u001b[38;5;66;03m# equivalent Bio.GenBank._FeatureConsumer methods are called...\u001b[39;00m\n\u001b[1;32m    454\u001b[0m \u001b[38;5;28mself\u001b[39m\u001b[38;5;241m.\u001b[39mset_handle(handle)\n\u001b[0;32m--> 455\u001b[0m \u001b[38;5;28;01mif\u001b[39;00m \u001b[38;5;129;01mnot\u001b[39;00m \u001b[38;5;28;43mself\u001b[39;49m\u001b[38;5;241;43m.\u001b[39;49m\u001b[43mfind_start\u001b[49m\u001b[43m(\u001b[49m\u001b[43m)\u001b[49m:\n\u001b[1;32m    456\u001b[0m     \u001b[38;5;66;03m# Could not find (another) record\u001b[39;00m\n\u001b[1;32m    457\u001b[0m     consumer\u001b[38;5;241m.\u001b[39mdata \u001b[38;5;241m=\u001b[39m \u001b[38;5;28;01mNone\u001b[39;00m\n\u001b[1;32m    458\u001b[0m     \u001b[38;5;28;01mreturn\u001b[39;00m \u001b[38;5;28;01mFalse\u001b[39;00m\n",
      "File \u001b[0;32m~/anaconda3/lib/python3.9/site-packages/Bio/GenBank/Scanner.py:88\u001b[0m, in \u001b[0;36mInsdcScanner.find_start\u001b[0;34m(self)\u001b[0m\n\u001b[1;32m     86\u001b[0m     \u001b[38;5;28mself\u001b[39m\u001b[38;5;241m.\u001b[39mline \u001b[38;5;241m=\u001b[39m \u001b[38;5;124m\"\u001b[39m\u001b[38;5;124m\"\u001b[39m\n\u001b[1;32m     87\u001b[0m \u001b[38;5;28;01melse\u001b[39;00m:\n\u001b[0;32m---> 88\u001b[0m     line \u001b[38;5;241m=\u001b[39m \u001b[38;5;28;43mself\u001b[39;49m\u001b[38;5;241;43m.\u001b[39;49m\u001b[43mhandle\u001b[49m\u001b[38;5;241;43m.\u001b[39;49m\u001b[43mreadline\u001b[49m\u001b[43m(\u001b[49m\u001b[43m)\u001b[49m\n\u001b[1;32m     89\u001b[0m \u001b[38;5;28;01mif\u001b[39;00m \u001b[38;5;129;01mnot\u001b[39;00m line:\n\u001b[1;32m     90\u001b[0m     \u001b[38;5;28;01mif\u001b[39;00m \u001b[38;5;28mself\u001b[39m\u001b[38;5;241m.\u001b[39mdebug:\n",
      "File \u001b[0;32m~/anaconda3/lib/python3.9/codecs.py:322\u001b[0m, in \u001b[0;36mBufferedIncrementalDecoder.decode\u001b[0;34m(self, input, final)\u001b[0m\n\u001b[1;32m    319\u001b[0m \u001b[38;5;28;01mdef\u001b[39;00m \u001b[38;5;21mdecode\u001b[39m(\u001b[38;5;28mself\u001b[39m, \u001b[38;5;28minput\u001b[39m, final\u001b[38;5;241m=\u001b[39m\u001b[38;5;28;01mFalse\u001b[39;00m):\n\u001b[1;32m    320\u001b[0m     \u001b[38;5;66;03m# decode input (taking the buffer into account)\u001b[39;00m\n\u001b[1;32m    321\u001b[0m     data \u001b[38;5;241m=\u001b[39m \u001b[38;5;28mself\u001b[39m\u001b[38;5;241m.\u001b[39mbuffer \u001b[38;5;241m+\u001b[39m \u001b[38;5;28minput\u001b[39m\n\u001b[0;32m--> 322\u001b[0m     (result, consumed) \u001b[38;5;241m=\u001b[39m \u001b[38;5;28;43mself\u001b[39;49m\u001b[38;5;241;43m.\u001b[39;49m\u001b[43m_buffer_decode\u001b[49m\u001b[43m(\u001b[49m\u001b[43mdata\u001b[49m\u001b[43m,\u001b[49m\u001b[43m \u001b[49m\u001b[38;5;28;43mself\u001b[39;49m\u001b[38;5;241;43m.\u001b[39;49m\u001b[43merrors\u001b[49m\u001b[43m,\u001b[49m\u001b[43m \u001b[49m\u001b[43mfinal\u001b[49m\u001b[43m)\u001b[49m\n\u001b[1;32m    323\u001b[0m     \u001b[38;5;66;03m# keep undecoded input until the next call\u001b[39;00m\n\u001b[1;32m    324\u001b[0m     \u001b[38;5;28mself\u001b[39m\u001b[38;5;241m.\u001b[39mbuffer \u001b[38;5;241m=\u001b[39m data[consumed:]\n",
      "\u001b[0;31mUnicodeDecodeError\u001b[0m: 'utf-8' codec can't decode byte 0x8b in position 1: invalid start byte"
     ]
    }
   ],
   "source": [
    "for record in SeqIO.parse(test_ensemnl_gb, format=\"genbank\"):\n",
    "    print(record.id)"
   ]
  },
  {
   "cell_type": "code",
   "execution_count": 61,
   "id": "ade0af99-a6f8-40fb-b395-582a2d738457",
   "metadata": {
    "execution": {
     "iopub.execute_input": "2023-04-27T12:37:47.283278Z",
     "iopub.status.busy": "2023-04-27T12:37:47.283068Z",
     "iopub.status.idle": "2023-04-27T12:37:47.378609Z",
     "shell.execute_reply": "2023-04-27T12:37:47.377945Z",
     "shell.execute_reply.started": "2023-04-27T12:37:47.283266Z"
    },
    "tags": []
   },
   "outputs": [
    {
     "ename": "FileNotFoundError",
     "evalue": "[Errno 2] No such file or directory: 'genbank/Homo_sapiens.GRCh38.109.chromosome.18.dat'",
     "output_type": "error",
     "traceback": [
      "\u001b[0;31m---------------------------------------------------------------------------\u001b[0m",
      "\u001b[0;31mFileNotFoundError\u001b[0m                         Traceback (most recent call last)",
      "Cell \u001b[0;32mIn[61], line 2\u001b[0m\n\u001b[1;32m      1\u001b[0m \u001b[38;5;66;03m# file ok\u001b[39;00m\n\u001b[0;32m----> 2\u001b[0m \u001b[38;5;28;01mfor\u001b[39;00m record \u001b[38;5;129;01min\u001b[39;00m \u001b[43mSeqIO\u001b[49m\u001b[38;5;241;43m.\u001b[39;49m\u001b[43mparse\u001b[49m\u001b[43m(\u001b[49m\u001b[43mtest_ensemnl_gb\u001b[49m\u001b[43m[\u001b[49m\u001b[43m:\u001b[49m\u001b[38;5;241;43m-\u001b[39;49m\u001b[38;5;241;43m3\u001b[39;49m\u001b[43m]\u001b[49m\u001b[43m,\u001b[49m\u001b[43m \u001b[49m\u001b[38;5;28;43mformat\u001b[39;49m\u001b[38;5;241;43m=\u001b[39;49m\u001b[38;5;124;43m\"\u001b[39;49m\u001b[38;5;124;43mgenbank\u001b[39;49m\u001b[38;5;124;43m\"\u001b[39;49m\u001b[43m)\u001b[49m:\n\u001b[1;32m      3\u001b[0m     \u001b[38;5;28mprint\u001b[39m(record\u001b[38;5;241m.\u001b[39mid)\n",
      "File \u001b[0;32m~/anaconda3/lib/python3.9/site-packages/Bio/SeqIO/__init__.py:605\u001b[0m, in \u001b[0;36mparse\u001b[0;34m(handle, format, alphabet)\u001b[0m\n\u001b[1;32m    603\u001b[0m iterator_generator \u001b[38;5;241m=\u001b[39m _FormatToIterator\u001b[38;5;241m.\u001b[39mget(\u001b[38;5;28mformat\u001b[39m)\n\u001b[1;32m    604\u001b[0m \u001b[38;5;28;01mif\u001b[39;00m iterator_generator:\n\u001b[0;32m--> 605\u001b[0m     \u001b[38;5;28;01mreturn\u001b[39;00m \u001b[43miterator_generator\u001b[49m\u001b[43m(\u001b[49m\u001b[43mhandle\u001b[49m\u001b[43m)\u001b[49m\n\u001b[1;32m    606\u001b[0m \u001b[38;5;28;01mif\u001b[39;00m \u001b[38;5;28mformat\u001b[39m \u001b[38;5;129;01min\u001b[39;00m AlignIO\u001b[38;5;241m.\u001b[39m_FormatToIterator:\n\u001b[1;32m    607\u001b[0m     \u001b[38;5;66;03m# Use Bio.AlignIO to read in the alignments\u001b[39;00m\n\u001b[1;32m    608\u001b[0m     \u001b[38;5;28;01mreturn\u001b[39;00m (r \u001b[38;5;28;01mfor\u001b[39;00m alignment \u001b[38;5;129;01min\u001b[39;00m AlignIO\u001b[38;5;241m.\u001b[39mparse(handle, \u001b[38;5;28mformat\u001b[39m) \u001b[38;5;28;01mfor\u001b[39;00m r \u001b[38;5;129;01min\u001b[39;00m alignment)\n",
      "File \u001b[0;32m~/anaconda3/lib/python3.9/site-packages/Bio/SeqIO/InsdcIO.py:97\u001b[0m, in \u001b[0;36mGenBankIterator.__init__\u001b[0;34m(self, source)\u001b[0m\n\u001b[1;32m     60\u001b[0m \u001b[38;5;28;01mdef\u001b[39;00m \u001b[38;5;21m__init__\u001b[39m(\u001b[38;5;28mself\u001b[39m, source):\n\u001b[1;32m     61\u001b[0m \u001b[38;5;250m    \u001b[39m\u001b[38;5;124;03m\"\"\"Break up a Genbank file into SeqRecord objects.\u001b[39;00m\n\u001b[1;32m     62\u001b[0m \n\u001b[1;32m     63\u001b[0m \u001b[38;5;124;03m    Argument source is a file-like object opened in text mode or a path to a file.\u001b[39;00m\n\u001b[0;32m   (...)\u001b[0m\n\u001b[1;32m     95\u001b[0m \n\u001b[1;32m     96\u001b[0m \u001b[38;5;124;03m    \"\"\"\u001b[39;00m\n\u001b[0;32m---> 97\u001b[0m     \u001b[38;5;28;43msuper\u001b[39;49m\u001b[43m(\u001b[49m\u001b[43m)\u001b[49m\u001b[38;5;241;43m.\u001b[39;49m\u001b[38;5;21;43m__init__\u001b[39;49m\u001b[43m(\u001b[49m\u001b[43msource\u001b[49m\u001b[43m,\u001b[49m\u001b[43m \u001b[49m\u001b[43mmode\u001b[49m\u001b[38;5;241;43m=\u001b[39;49m\u001b[38;5;124;43m\"\u001b[39;49m\u001b[38;5;124;43mt\u001b[39;49m\u001b[38;5;124;43m\"\u001b[39;49m\u001b[43m,\u001b[49m\u001b[43m \u001b[49m\u001b[43mfmt\u001b[49m\u001b[38;5;241;43m=\u001b[39;49m\u001b[38;5;124;43m\"\u001b[39;49m\u001b[38;5;124;43mGenBank\u001b[39;49m\u001b[38;5;124;43m\"\u001b[39;49m\u001b[43m)\u001b[49m\n",
      "File \u001b[0;32m~/anaconda3/lib/python3.9/site-packages/Bio/SeqIO/Interfaces.py:45\u001b[0m, in \u001b[0;36mSequenceIterator.__init__\u001b[0;34m(self, source, alphabet, mode, fmt)\u001b[0m\n\u001b[1;32m     43\u001b[0m     \u001b[38;5;28;01mraise\u001b[39;00m \u001b[38;5;167;01mValueError\u001b[39;00m(\u001b[38;5;124m\"\u001b[39m\u001b[38;5;124mThe alphabet argument is no longer supported\u001b[39m\u001b[38;5;124m\"\u001b[39m)\n\u001b[1;32m     44\u001b[0m \u001b[38;5;28;01mtry\u001b[39;00m:\n\u001b[0;32m---> 45\u001b[0m     \u001b[38;5;28mself\u001b[39m\u001b[38;5;241m.\u001b[39mstream \u001b[38;5;241m=\u001b[39m \u001b[38;5;28;43mopen\u001b[39;49m\u001b[43m(\u001b[49m\u001b[43msource\u001b[49m\u001b[43m,\u001b[49m\u001b[43m \u001b[49m\u001b[38;5;124;43m\"\u001b[39;49m\u001b[38;5;124;43mr\u001b[39;49m\u001b[38;5;124;43m\"\u001b[39;49m\u001b[43m \u001b[49m\u001b[38;5;241;43m+\u001b[39;49m\u001b[43m \u001b[49m\u001b[43mmode\u001b[49m\u001b[43m)\u001b[49m\n\u001b[1;32m     46\u001b[0m     \u001b[38;5;28mself\u001b[39m\u001b[38;5;241m.\u001b[39mshould_close_stream \u001b[38;5;241m=\u001b[39m \u001b[38;5;28;01mTrue\u001b[39;00m\n\u001b[1;32m     47\u001b[0m \u001b[38;5;28;01mexcept\u001b[39;00m \u001b[38;5;167;01mTypeError\u001b[39;00m:  \u001b[38;5;66;03m# not a path, assume we received a stream\u001b[39;00m\n",
      "\u001b[0;31mFileNotFoundError\u001b[0m: [Errno 2] No such file or directory: 'genbank/Homo_sapiens.GRCh38.109.chromosome.18.dat'"
     ]
    }
   ],
   "source": [
    "# file ok\n",
    "for record in SeqIO.parse(test_ensemnl_gb[:-3], format=\"genbank\"):\n",
    "    print(record.id)"
   ]
  },
  {
   "cell_type": "code",
   "execution_count": 62,
   "id": "09fa39c4-59fe-4761-8340-3fccaaf9dc4f",
   "metadata": {
    "execution": {
     "iopub.execute_input": "2023-04-27T12:37:49.593052Z",
     "iopub.status.busy": "2023-04-27T12:37:49.592853Z",
     "iopub.status.idle": "2023-04-27T12:37:52.303881Z",
     "shell.execute_reply": "2023-04-27T12:37:52.303217Z",
     "shell.execute_reply.started": "2023-04-27T12:37:49.593041Z"
    },
    "tags": []
   },
   "outputs": [
    {
     "name": "stdout",
     "output_type": "stream",
     "text": [
      "18GRCh38\n"
     ]
    }
   ],
   "source": [
    "for record in SeqIO.parse(\n",
    "        gzip.open(test_ensemnl_gb, \"rt\"), \n",
    "        format=\"genbank\"):\n",
    "    print(record.id)"
   ]
  },
  {
   "cell_type": "code",
   "execution_count": 63,
   "id": "7e6cbcc1-33cc-4271-aea8-e1d7de8eb0ae",
   "metadata": {
    "execution": {
     "iopub.execute_input": "2023-04-27T12:37:52.304768Z",
     "iopub.status.busy": "2023-04-27T12:37:52.304613Z",
     "iopub.status.idle": "2023-04-27T12:37:52.308245Z",
     "shell.execute_reply": "2023-04-27T12:37:52.307755Z",
     "shell.execute_reply.started": "2023-04-27T12:37:52.304757Z"
    },
    "tags": []
   },
   "outputs": [
    {
     "data": {
      "text/plain": [
       "'genbank/Homo_sapiens.hg38.Ensembl.GRCh38.109.gbff.gz'"
      ]
     },
     "execution_count": 63,
     "metadata": {},
     "output_type": "execute_result"
    }
   ],
   "source": [
    "ensembl_gb"
   ]
  },
  {
   "cell_type": "code",
   "execution_count": 64,
   "id": "093c2418-8106-4034-a537-c440ff4a6068",
   "metadata": {
    "execution": {
     "iopub.execute_input": "2023-04-27T12:38:02.763982Z",
     "iopub.status.busy": "2023-04-27T12:38:02.763786Z",
     "iopub.status.idle": "2023-04-27T12:39:47.014616Z",
     "shell.execute_reply": "2023-04-27T12:39:47.013981Z",
     "shell.execute_reply.started": "2023-04-27T12:38:02.763970Z"
    },
    "tags": []
   },
   "outputs": [
    {
     "name": "stdout",
     "output_type": "stream",
     "text": [
      "1GRCh38\n",
      "2GRCh38\n",
      "3GRCh38\n",
      "4GRCh38\n",
      "5GRCh38\n",
      "6GRCh38\n",
      "7GRCh38\n",
      "8GRCh38\n",
      "9GRCh38\n",
      "10GRCh38\n",
      "11GRCh38\n",
      "12GRCh38\n",
      "13GRCh38\n",
      "14GRCh38\n",
      "15GRCh38\n",
      "16GRCh38\n",
      "17GRCh38\n",
      "18GRCh38\n",
      "19GRCh38\n",
      "20GRCh38\n",
      "21GRCh38\n",
      "22GRCh38\n",
      "XGRCh38\n",
      "chromosome:GRCh38:Y:2781480:56887902:1\n",
      "chromosome:GRCh38:Y:1:10000:1\n",
      "chromosome:GRCh38:Y:57217416:57227415:1\n",
      "MTGRCh38\n"
     ]
    }
   ],
   "source": [
    "for record in SeqIO.parse(\n",
    "        gzip.open(ensembl_gb, \"rt\"), \n",
    "        format=\"genbank\"):\n",
    "    print(record.id)"
   ]
  },
  {
   "cell_type": "code",
   "execution_count": 65,
   "id": "6a36538f-dd47-4667-9fbd-abda36164b24",
   "metadata": {
    "execution": {
     "iopub.execute_input": "2023-04-27T12:40:10.780878Z",
     "iopub.status.busy": "2023-04-27T12:40:10.780339Z",
     "iopub.status.idle": "2023-04-27T12:40:13.229479Z",
     "shell.execute_reply": "2023-04-27T12:40:13.228940Z",
     "shell.execute_reply.started": "2023-04-27T12:40:10.780865Z"
    },
    "tags": []
   },
   "outputs": [
    {
     "name": "stdout",
     "output_type": "stream",
     "text": [
      "18GRCh38\n"
     ]
    }
   ],
   "source": [
    "for record in SeqIO.parse(\n",
    "        gzip.open(test_ensemnl_gb, \"rt\"), \n",
    "        format=\"genbank\"):\n",
    "    print(record.id)"
   ]
  },
  {
   "cell_type": "code",
   "execution_count": 66,
   "id": "cb567e54-fa94-4ab5-b1a9-141847eb2cc1",
   "metadata": {
    "execution": {
     "iopub.execute_input": "2023-04-27T12:40:14.086419Z",
     "iopub.status.busy": "2023-04-27T12:40:14.085903Z",
     "iopub.status.idle": "2023-04-27T12:40:14.089992Z",
     "shell.execute_reply": "2023-04-27T12:40:14.089363Z",
     "shell.execute_reply.started": "2023-04-27T12:40:14.086403Z"
    },
    "tags": []
   },
   "outputs": [
    {
     "data": {
      "text/plain": [
       "SeqRecord(seq=Seq('NNNNNNNNNNNNNNNNNNNNNNNNNNNNNNNNNNNNNNNNNNNNNNNNNNNNNN...NNN'), id='18GRCh38', name='18', description='Homo sapiens chromosome 18 GRCh38 full sequence 1..80373285 reannotated via EnsEMBL', dbxrefs=[])"
      ]
     },
     "execution_count": 66,
     "metadata": {},
     "output_type": "execute_result"
    }
   ],
   "source": [
    "record"
   ]
  },
  {
   "cell_type": "code",
   "execution_count": 67,
   "id": "1d0af2e3-6404-4eb0-88f9-7fb1526ad1fa",
   "metadata": {
    "execution": {
     "iopub.execute_input": "2023-04-27T12:40:14.993185Z",
     "iopub.status.busy": "2023-04-27T12:40:14.992784Z",
     "iopub.status.idle": "2023-04-27T12:40:14.997229Z",
     "shell.execute_reply": "2023-04-27T12:40:14.996450Z",
     "shell.execute_reply.started": "2023-04-27T12:40:14.993171Z"
    },
    "tags": []
   },
   "outputs": [
    {
     "data": {
      "text/plain": [
       "'18GRCh38'"
      ]
     },
     "execution_count": 67,
     "metadata": {},
     "output_type": "execute_result"
    }
   ],
   "source": [
    "record.id"
   ]
  },
  {
   "cell_type": "code",
   "execution_count": 68,
   "id": "4f965afc-a940-4e5c-bf48-113cb92aeebc",
   "metadata": {
    "execution": {
     "iopub.execute_input": "2023-04-27T12:40:15.184617Z",
     "iopub.status.busy": "2023-04-27T12:40:15.184058Z",
     "iopub.status.idle": "2023-04-27T12:40:15.187964Z",
     "shell.execute_reply": "2023-04-27T12:40:15.187407Z",
     "shell.execute_reply.started": "2023-04-27T12:40:15.184603Z"
    },
    "tags": []
   },
   "outputs": [
    {
     "data": {
      "text/plain": [
       "Seq('NNNNNNNNNNNNNNNNNNNNNNNNNNNNNNNNNNNNNNNNNNNNNNNNNNNNNN...NNN')"
      ]
     },
     "execution_count": 68,
     "metadata": {},
     "output_type": "execute_result"
    }
   ],
   "source": [
    "record.seq"
   ]
  },
  {
   "cell_type": "code",
   "execution_count": 69,
   "id": "e19ec20e-ced1-49f2-927c-3c39d6c09e80",
   "metadata": {
    "execution": {
     "iopub.execute_input": "2023-04-27T12:40:15.364495Z",
     "iopub.status.busy": "2023-04-27T12:40:15.364132Z",
     "iopub.status.idle": "2023-04-27T12:40:15.368091Z",
     "shell.execute_reply": "2023-04-27T12:40:15.367485Z",
     "shell.execute_reply.started": "2023-04-27T12:40:15.364480Z"
    },
    "tags": []
   },
   "outputs": [
    {
     "data": {
      "text/plain": [
       "Seq('NNNNNNNNNNNNNNNNNNNNNNNNNNNNNNNNNNNNNNNNNNNNNNNNNNNNNN...NNN')"
      ]
     },
     "execution_count": 69,
     "metadata": {},
     "output_type": "execute_result"
    }
   ],
   "source": [
    "record.seq[:100]"
   ]
  },
  {
   "cell_type": "code",
   "execution_count": 70,
   "id": "52e9a2a8-3fe2-41ba-a5c2-98d9cf9999d4",
   "metadata": {
    "execution": {
     "iopub.execute_input": "2023-04-27T12:40:15.532999Z",
     "iopub.status.busy": "2023-04-27T12:40:15.532667Z",
     "iopub.status.idle": "2023-04-27T12:40:15.537150Z",
     "shell.execute_reply": "2023-04-27T12:40:15.536569Z",
     "shell.execute_reply.started": "2023-04-27T12:40:15.532987Z"
    },
    "tags": []
   },
   "outputs": [
    {
     "data": {
      "text/plain": [
       "80373285"
      ]
     },
     "execution_count": 70,
     "metadata": {},
     "output_type": "execute_result"
    }
   ],
   "source": [
    "len(record.seq)"
   ]
  },
  {
   "cell_type": "code",
   "execution_count": 71,
   "id": "6e3360a7-fd10-4ee7-bdbf-96963b0e9464",
   "metadata": {
    "execution": {
     "iopub.execute_input": "2023-04-27T12:40:15.691377Z",
     "iopub.status.busy": "2023-04-27T12:40:15.691150Z",
     "iopub.status.idle": "2023-04-27T12:40:15.695134Z",
     "shell.execute_reply": "2023-04-27T12:40:15.694469Z",
     "shell.execute_reply.started": "2023-04-27T12:40:15.691364Z"
    },
    "tags": []
   },
   "outputs": [
    {
     "data": {
      "text/plain": [
       "80373285"
      ]
     },
     "execution_count": 71,
     "metadata": {},
     "output_type": "execute_result"
    }
   ],
   "source": [
    "len(record)"
   ]
  },
  {
   "cell_type": "code",
   "execution_count": 72,
   "id": "542782fc-4193-4ab1-8249-11e7e15c896f",
   "metadata": {
    "execution": {
     "iopub.execute_input": "2023-04-27T12:40:15.837033Z",
     "iopub.status.busy": "2023-04-27T12:40:15.836440Z",
     "iopub.status.idle": "2023-04-27T12:40:15.840605Z",
     "shell.execute_reply": "2023-04-27T12:40:15.840018Z",
     "shell.execute_reply.started": "2023-04-27T12:40:15.837011Z"
    },
    "tags": []
   },
   "outputs": [
    {
     "data": {
      "text/plain": [
       "'18'"
      ]
     },
     "execution_count": 72,
     "metadata": {},
     "output_type": "execute_result"
    }
   ],
   "source": [
    "record.name"
   ]
  },
  {
   "cell_type": "code",
   "execution_count": 73,
   "id": "b18343c2-a594-496b-9464-4e9ddd810297",
   "metadata": {
    "execution": {
     "iopub.execute_input": "2023-04-27T12:40:15.983398Z",
     "iopub.status.busy": "2023-04-27T12:40:15.983007Z",
     "iopub.status.idle": "2023-04-27T12:40:15.986817Z",
     "shell.execute_reply": "2023-04-27T12:40:15.986287Z",
     "shell.execute_reply.started": "2023-04-27T12:40:15.983380Z"
    },
    "tags": []
   },
   "outputs": [
    {
     "data": {
      "text/plain": [
       "'Homo sapiens chromosome 18 GRCh38 full sequence 1..80373285 reannotated via EnsEMBL'"
      ]
     },
     "execution_count": 73,
     "metadata": {},
     "output_type": "execute_result"
    }
   ],
   "source": [
    "record.description"
   ]
  },
  {
   "cell_type": "code",
   "execution_count": 74,
   "id": "d98f389c-65d7-473c-940d-786c1cd8828b",
   "metadata": {
    "execution": {
     "iopub.execute_input": "2023-04-27T12:40:16.162724Z",
     "iopub.status.busy": "2023-04-27T12:40:16.162402Z",
     "iopub.status.idle": "2023-04-27T12:40:16.166793Z",
     "shell.execute_reply": "2023-04-27T12:40:16.166126Z",
     "shell.execute_reply.started": "2023-04-27T12:40:16.162711Z"
    },
    "tags": []
   },
   "outputs": [
    {
     "data": {
      "text/plain": [
       "'N'"
      ]
     },
     "execution_count": 74,
     "metadata": {},
     "output_type": "execute_result"
    }
   ],
   "source": [
    "record[0]"
   ]
  },
  {
   "cell_type": "code",
   "execution_count": 75,
   "id": "345333a8-d9ce-4ea7-86ce-7cabc39fa26d",
   "metadata": {
    "execution": {
     "iopub.execute_input": "2023-04-27T12:40:16.309588Z",
     "iopub.status.busy": "2023-04-27T12:40:16.308907Z",
     "iopub.status.idle": "2023-04-27T12:40:16.313377Z",
     "shell.execute_reply": "2023-04-27T12:40:16.312803Z",
     "shell.execute_reply.started": "2023-04-27T12:40:16.309571Z"
    },
    "tags": []
   },
   "outputs": [
    {
     "data": {
      "text/plain": [
       "'N'"
      ]
     },
     "execution_count": 75,
     "metadata": {},
     "output_type": "execute_result"
    }
   ],
   "source": [
    "record.seq[0]"
   ]
  },
  {
   "cell_type": "code",
   "execution_count": 76,
   "id": "15e70319-b15e-4094-9991-b6b7f054272c",
   "metadata": {
    "execution": {
     "iopub.execute_input": "2023-04-27T12:40:16.466549Z",
     "iopub.status.busy": "2023-04-27T12:40:16.466225Z",
     "iopub.status.idle": "2023-04-27T12:40:16.470536Z",
     "shell.execute_reply": "2023-04-27T12:40:16.470005Z",
     "shell.execute_reply.started": "2023-04-27T12:40:16.466536Z"
    },
    "tags": []
   },
   "outputs": [
    {
     "data": {
      "text/plain": [
       "['__add__',\n",
       " '__bool__',\n",
       " '__bytes__',\n",
       " '__class__',\n",
       " '__contains__',\n",
       " '__delattr__',\n",
       " '__dict__',\n",
       " '__dir__',\n",
       " '__doc__',\n",
       " '__eq__',\n",
       " '__format__',\n",
       " '__ge__',\n",
       " '__getattribute__',\n",
       " '__getitem__',\n",
       " '__gt__',\n",
       " '__hash__',\n",
       " '__init__',\n",
       " '__init_subclass__',\n",
       " '__iter__',\n",
       " '__le__',\n",
       " '__len__',\n",
       " '__lt__',\n",
       " '__module__',\n",
       " '__ne__',\n",
       " '__new__',\n",
       " '__radd__',\n",
       " '__reduce__',\n",
       " '__reduce_ex__',\n",
       " '__repr__',\n",
       " '__setattr__',\n",
       " '__sizeof__',\n",
       " '__str__',\n",
       " '__subclasshook__',\n",
       " '__weakref__',\n",
       " '_per_letter_annotations',\n",
       " '_seq',\n",
       " '_set_per_letter_annotations',\n",
       " '_set_seq',\n",
       " 'annotations',\n",
       " 'count',\n",
       " 'dbxrefs',\n",
       " 'description',\n",
       " 'features',\n",
       " 'format',\n",
       " 'id',\n",
       " 'islower',\n",
       " 'isupper',\n",
       " 'letter_annotations',\n",
       " 'lower',\n",
       " 'name',\n",
       " 'reverse_complement',\n",
       " 'seq',\n",
       " 'translate',\n",
       " 'upper']"
      ]
     },
     "execution_count": 76,
     "metadata": {},
     "output_type": "execute_result"
    }
   ],
   "source": [
    "dir(record)\n",
    "# record.__dir__()"
   ]
  },
  {
   "cell_type": "code",
   "execution_count": 77,
   "id": "9ca7cb42-3782-4d92-930b-f2b47f63d03a",
   "metadata": {
    "execution": {
     "iopub.execute_input": "2023-04-27T12:40:16.635855Z",
     "iopub.status.busy": "2023-04-27T12:40:16.635317Z",
     "iopub.status.idle": "2023-04-27T12:40:16.638137Z",
     "shell.execute_reply": "2023-04-27T12:40:16.637615Z",
     "shell.execute_reply.started": "2023-04-27T12:40:16.635839Z"
    },
    "tags": []
   },
   "outputs": [],
   "source": [
    "# record.features"
   ]
  },
  {
   "cell_type": "code",
   "execution_count": 78,
   "id": "62a440f0-6485-4b22-8cd3-78dfb156bd52",
   "metadata": {
    "execution": {
     "iopub.execute_input": "2023-04-27T12:40:16.804389Z",
     "iopub.status.busy": "2023-04-27T12:40:16.803858Z",
     "iopub.status.idle": "2023-04-27T12:40:16.808192Z",
     "shell.execute_reply": "2023-04-27T12:40:16.807179Z",
     "shell.execute_reply.started": "2023-04-27T12:40:16.804376Z"
    },
    "tags": []
   },
   "outputs": [
    {
     "data": {
      "text/plain": [
       "SeqFeature(SimpleLocation(ExactPosition(0), ExactPosition(80373285), strand=1), type='source', qualifiers=...)"
      ]
     },
     "execution_count": 78,
     "metadata": {},
     "output_type": "execute_result"
    }
   ],
   "source": [
    "record.features[0]"
   ]
  },
  {
   "cell_type": "code",
   "execution_count": 79,
   "id": "5b9f9f1c-12a4-4cbb-b0ab-4dcf719efc4e",
   "metadata": {
    "execution": {
     "iopub.execute_input": "2023-04-27T12:40:16.984629Z",
     "iopub.status.busy": "2023-04-27T12:40:16.984038Z",
     "iopub.status.idle": "2023-04-27T12:40:16.987910Z",
     "shell.execute_reply": "2023-04-27T12:40:16.987401Z",
     "shell.execute_reply.started": "2023-04-27T12:40:16.984613Z"
    },
    "tags": []
   },
   "outputs": [
    {
     "data": {
      "text/plain": [
       "SeqFeature(SimpleLocation(ExactPosition(316736), ExactPosition(500722), strand=-1), type='gene', qualifiers=...)"
      ]
     },
     "execution_count": 79,
     "metadata": {},
     "output_type": "execute_result"
    }
   ],
   "source": [
    "record.features[1]"
   ]
  },
  {
   "cell_type": "code",
   "execution_count": 80,
   "id": "b096db89-bdac-49a9-9a14-003999fe98df",
   "metadata": {
    "execution": {
     "iopub.execute_input": "2023-04-27T12:40:17.366771Z",
     "iopub.status.busy": "2023-04-27T12:40:17.366424Z",
     "iopub.status.idle": "2023-04-27T12:40:17.370255Z",
     "shell.execute_reply": "2023-04-27T12:40:17.369570Z",
     "shell.execute_reply.started": "2023-04-27T12:40:17.366758Z"
    },
    "tags": []
   },
   "outputs": [
    {
     "data": {
      "text/plain": [
       "'gene'"
      ]
     },
     "execution_count": 80,
     "metadata": {},
     "output_type": "execute_result"
    }
   ],
   "source": [
    "record.features[1].type"
   ]
  },
  {
   "cell_type": "code",
   "execution_count": 81,
   "id": "efda7aaf-bc65-4b90-acef-5ae01f83fcca",
   "metadata": {
    "execution": {
     "iopub.execute_input": "2023-04-27T12:40:17.614392Z",
     "iopub.status.busy": "2023-04-27T12:40:17.613800Z",
     "iopub.status.idle": "2023-04-27T12:40:17.617654Z",
     "shell.execute_reply": "2023-04-27T12:40:17.617175Z",
     "shell.execute_reply.started": "2023-04-27T12:40:17.614375Z"
    },
    "tags": []
   },
   "outputs": [
    {
     "data": {
      "text/plain": [
       "SeqFeature(CompoundLocation([SimpleLocation(ExactPosition(5084991), ExactPosition(5085228), strand=1), SimpleLocation(ExactPosition(5095545), ExactPosition(5095815), strand=1)], 'join'), type='misc_RNA', location_operator='join', qualifiers=...)"
      ]
     },
     "execution_count": 81,
     "metadata": {},
     "output_type": "execute_result"
    }
   ],
   "source": [
    "record.features[10]"
   ]
  },
  {
   "cell_type": "code",
   "execution_count": 82,
   "id": "7ff869e8-2ab3-404b-9e7f-9a7a3b9ebcd6",
   "metadata": {
    "execution": {
     "iopub.execute_input": "2023-04-27T12:40:17.873408Z",
     "iopub.status.busy": "2023-04-27T12:40:17.872898Z",
     "iopub.status.idle": "2023-04-27T12:40:17.876904Z",
     "shell.execute_reply": "2023-04-27T12:40:17.876217Z",
     "shell.execute_reply.started": "2023-04-27T12:40:17.873386Z"
    },
    "tags": []
   },
   "outputs": [
    {
     "data": {
      "text/plain": [
       "SeqFeature(CompoundLocation([SimpleLocation(ExactPosition(1359386), ExactPosition(1359590), strand=-1), SimpleLocation(ExactPosition(1358725), ExactPosition(1358760), strand=-1), SimpleLocation(ExactPosition(1275965), ExactPosition(1276087), strand=-1), SimpleLocation(ExactPosition(1273360), ExactPosition(1273533), strand=-1), SimpleLocation(ExactPosition(1272441), ExactPosition(1272511), strand=-1), SimpleLocation(ExactPosition(1269175), ExactPosition(1269852), strand=-1)], 'join'), type='misc_RNA', location_operator='join', qualifiers=...)"
      ]
     },
     "execution_count": 82,
     "metadata": {},
     "output_type": "execute_result"
    }
   ],
   "source": [
    "record.features[100]"
   ]
  },
  {
   "cell_type": "code",
   "execution_count": 83,
   "id": "7a16947f-636e-4517-859c-142d986dce8b",
   "metadata": {
    "execution": {
     "iopub.execute_input": "2023-04-27T12:40:18.628049Z",
     "iopub.status.busy": "2023-04-27T12:40:18.627542Z",
     "iopub.status.idle": "2023-04-27T12:40:18.631263Z",
     "shell.execute_reply": "2023-04-27T12:40:18.630619Z",
     "shell.execute_reply.started": "2023-04-27T12:40:18.628032Z"
    },
    "tags": []
   },
   "outputs": [
    {
     "data": {
      "text/plain": [
       "SeqFeature(SimpleLocation(ExactPosition(50457886), ExactPosition(50458795), strand=1), type='misc_RNA', qualifiers=...)"
      ]
     },
     "execution_count": 83,
     "metadata": {},
     "output_type": "execute_result"
    }
   ],
   "source": [
    "record.features[1000]"
   ]
  },
  {
   "cell_type": "code",
   "execution_count": 84,
   "id": "3adbf985-2ca6-4b7a-b5a2-8317b632f16a",
   "metadata": {
    "execution": {
     "iopub.execute_input": "2023-04-27T12:40:19.245825Z",
     "iopub.status.busy": "2023-04-27T12:40:19.245266Z",
     "iopub.status.idle": "2023-04-27T12:40:19.249228Z",
     "shell.execute_reply": "2023-04-27T12:40:19.248660Z",
     "shell.execute_reply.started": "2023-04-27T12:40:19.245808Z"
    },
    "tags": []
   },
   "outputs": [
    {
     "data": {
      "text/plain": [
       "909"
      ]
     },
     "execution_count": 84,
     "metadata": {},
     "output_type": "execute_result"
    }
   ],
   "source": [
    "len(record.features[1000])"
   ]
  },
  {
   "cell_type": "code",
   "execution_count": 85,
   "id": "9abb04f3-b545-4af1-896e-3557dd30f514",
   "metadata": {
    "execution": {
     "iopub.execute_input": "2023-04-27T12:40:19.740397Z",
     "iopub.status.busy": "2023-04-27T12:40:19.740032Z",
     "iopub.status.idle": "2023-04-27T12:40:19.743793Z",
     "shell.execute_reply": "2023-04-27T12:40:19.743181Z",
     "shell.execute_reply.started": "2023-04-27T12:40:19.740382Z"
    },
    "tags": []
   },
   "outputs": [
    {
     "data": {
      "text/plain": [
       "SeqFeature(CompoundLocation([SimpleLocation(ExactPosition(47896520), ExactPosition(47896756), strand=-1), SimpleLocation(ExactPosition(47870474), ExactPosition(47870564), strand=-1), SimpleLocation(ExactPosition(47869242), ExactPosition(47869436), strand=-1), SimpleLocation(ExactPosition(47868322), ExactPosition(47868457), strand=-1), SimpleLocation(ExactPosition(47865058), ExactPosition(47865133), strand=-1), SimpleLocation(ExactPosition(47851273), ExactPosition(47851327), strand=-1), SimpleLocation(ExactPosition(47848474), ExactPosition(47848687), strand=-1), SimpleLocation(ExactPosition(47845662), ExactPosition(47845800), strand=-1), SimpleLocation(ExactPosition(47845339), ExactPosition(47845484), strand=-1), SimpleLocation(ExactPosition(47841826), ExactPosition(47841950), strand=-1)], 'join'), type='CDS', location_operator='join', qualifiers=...)"
      ]
     },
     "execution_count": 85,
     "metadata": {},
     "output_type": "execute_result"
    }
   ],
   "source": [
    "record.features[1003]"
   ]
  },
  {
   "cell_type": "code",
   "execution_count": 87,
   "id": "00c39625-aa7c-45bc-9e5c-2e503d1cf8e4",
   "metadata": {
    "execution": {
     "iopub.execute_input": "2023-04-27T12:40:28.206089Z",
     "iopub.status.busy": "2023-04-27T12:40:28.205554Z",
     "iopub.status.idle": "2023-04-27T12:40:28.209416Z",
     "shell.execute_reply": "2023-04-27T12:40:28.208778Z",
     "shell.execute_reply.started": "2023-04-27T12:40:28.206069Z"
    },
    "tags": []
   },
   "outputs": [
    {
     "data": {
      "text/plain": [
       "1404"
      ]
     },
     "execution_count": 87,
     "metadata": {},
     "output_type": "execute_result"
    }
   ],
   "source": [
    "len(record.features[1003])"
   ]
  },
  {
   "cell_type": "markdown",
   "id": "c90d7824-9a0f-427f-8e02-fed7df92ebfc",
   "metadata": {},
   "source": [
    "#### use one chromsome (chr18)"
   ]
  },
  {
   "cell_type": "code",
   "execution_count": 88,
   "id": "ff2d12ef-0a81-49fb-9dac-277852a196b9",
   "metadata": {
    "execution": {
     "iopub.execute_input": "2023-04-27T12:40:41.133354Z",
     "iopub.status.busy": "2023-04-27T12:40:41.132935Z",
     "iopub.status.idle": "2023-04-27T12:40:41.136035Z",
     "shell.execute_reply": "2023-04-27T12:40:41.135446Z",
     "shell.execute_reply.started": "2023-04-27T12:40:41.133339Z"
    },
    "tags": []
   },
   "outputs": [],
   "source": [
    "# CDS misc_RNA exon mRNA ..."
   ]
  },
  {
   "cell_type": "code",
   "execution_count": 89,
   "id": "236ec231-a0ab-4102-9823-422f90561329",
   "metadata": {
    "execution": {
     "iopub.execute_input": "2023-04-27T12:40:41.465466Z",
     "iopub.status.busy": "2023-04-27T12:40:41.465108Z",
     "iopub.status.idle": "2023-04-27T12:40:41.469661Z",
     "shell.execute_reply": "2023-04-27T12:40:41.469096Z",
     "shell.execute_reply.started": "2023-04-27T12:40:41.465448Z"
    },
    "tags": []
   },
   "outputs": [
    {
     "data": {
      "text/plain": [
       "{'CDS': [], 'exon': []}"
      ]
     },
     "execution_count": 89,
     "metadata": {},
     "output_type": "execute_result"
    }
   ],
   "source": [
    "aim_features = (\"CDS\", \"exon\")\n",
    "dt_features_length = {k:[] for k in aim_features}\n",
    "dt_features_length"
   ]
  },
  {
   "cell_type": "code",
   "execution_count": 90,
   "id": "946fc952-3b11-461a-a6ad-0eb1e5678691",
   "metadata": {
    "execution": {
     "iopub.execute_input": "2023-04-27T12:40:41.656597Z",
     "iopub.status.busy": "2023-04-27T12:40:41.656391Z",
     "iopub.status.idle": "2023-04-27T12:40:41.660015Z",
     "shell.execute_reply": "2023-04-27T12:40:41.659404Z",
     "shell.execute_reply.started": "2023-04-27T12:40:41.656585Z"
    },
    "tags": []
   },
   "outputs": [
    {
     "name": "stdout",
     "output_type": "stream",
     "text": [
      "0 type: source\n",
      "location: [0:80373285](+)\n",
      "qualifiers:\n",
      "    Key: db_xref, Value: ['taxon:9606']\n",
      "    Key: organism, Value: ['Homo sapiens']\n",
      "\n",
      "1 type: gene\n",
      "location: [316736:500722](-)\n",
      "qualifiers:\n",
      "    Key: gene, Value: ['ENSG00000158270.12']\n",
      "    Key: locus_tag, Value: ['COLEC12']\n",
      "    Key: note, Value: ['collectin subfamily member 12 [Source:HGNC Symbol;Acc:HGNC:16016]']\n",
      "\n",
      "2 type: misc_RNA\n",
      "location: join{[317098:317366](-), [316739:316963](-)}\n",
      "qualifiers:\n",
      "    Key: db_xref, Value: ['UCSC:uc060mso.1', 'HGNC_trans_name:COLEC12-202', 'RNAcentral:URS0000480B63']\n",
      "    Key: gene, Value: ['ENSG00000158270.12']\n",
      "    Key: note, Value: ['protein_coding_CDS_not_defined']\n",
      "    Key: standard_name, Value: ['ENST00000580242.1']\n",
      "\n",
      "3 type: mRNA\n",
      "location: join{[500507:500701](-), [480706:480757](-), [357399:357522](-), [348064:348163](-), [346294:347341](-), [334741:335230](-), [333006:333143](-), [331667:331777](-), [321661:321807](-), [316736:320064](-)}\n",
      "qualifiers:\n",
      "    Key: gene, Value: ['ENSG00000158270.12']\n",
      "    Key: standard_name, Value: ['ENST00000400256.5']\n",
      "\n",
      "4 type: CDS\n",
      "location: join{[500507:500514](-), [480706:480757](-), [357399:357522](-), [348064:348163](-), [346294:347341](-), [334741:335230](-), [333006:333143](-), [331667:331777](-), [321661:321807](-), [320044:320064](-)}\n",
      "qualifiers:\n",
      "    Key: db_xref, Value: ['CCDS:CCDS32782', 'Uniprot/SWISSPROT:Q5KU26', 'RefSeq_peptide:NP_569057', 'RefSeq_mRNA:NM_130386', 'RefSeq_mRNA_predicted:XM_011525741', 'RefSeq_peptide_predicted:XP_011524043', 'UCSC:uc002kkm.5', 'HPA:47917', 'HPA:71056', 'BioGRID:123353', 'EMBL:AB005145', 'EMBL:AB034251', 'EMBL:AB038518', 'EMBL:AB052103', 'EMBL:AL713657', 'EMBL:AP000915', 'EMBL:AP005240', 'EMBL:BC060789', 'GO:0002682', 'GO:0005044', 'GO:0005515', 'GO:0005534', 'GO:0005581', 'GO:0005615', 'GO:0005886', 'GO:0006910', 'GO:0006952', 'GO:0006955', 'GO:0009756', 'GO:0016020', 'GO:0030169', 'GO:0030169', 'GO:0030246', 'GO:0030666', 'GO:0031012', 'GO:0034138', 'GO:0038187', 'GO:0038187', 'GO:0042742', 'GO:0044857', 'GO:0045087', 'GO:0046872', 'GO:0071360', 'HGNC_trans_name:COLEC12-201', 'PDB:2OX8', 'protein_id:AAH60789', 'protein_id:BAB39147', 'protein_id:BAB39148', 'protein_id:BAB72147', 'protein_id:BAD83592', 'protein_id:CAD28466', 'Reactome:R-HSA-1280218', 'Reactome:R-HSA-168256', 'Reactome:R-HSA-198933', 'Reactome:R-HSA-2173782', 'Reactome:R-HSA-3000480', 'Reactome:R-HSA-5653656', 'Reactome_transcript:R-HSA-1280218', 'Reactome_transcript:R-HSA-168256', 'Reactome_transcript:R-HSA-198933', 'Reactome_transcript:R-HSA-2173782', 'Reactome_transcript:R-HSA-3000480', 'Reactome_transcript:R-HSA-5653656', 'UniParc:UPI00002018EC']\n",
      "    Key: gene, Value: ['ENSG00000158270.12']\n",
      "    Key: note, Value: ['transcript_id=ENST00000400256.5']\n",
      "    Key: protein_id, Value: ['ENSP00000383115.3']\n",
      "    Key: translation, Value: ['MKDDFAEEEEVQSFGYKRFGIQEGTQCTKCKNNWALKFSIILLYILCALLTITVAILGYKVVEKMDNVTGGMETSRQTYDDKLTAVESDLKKLGDQTGKKAISTNSELSTFRSDILDLRQQLREITEKTSKNKDTLEKLQASGDALVDRQSQLKETLENNSFLITTVNKTLQAYNGYVTNLQQDTSVLQGNLQNQMYSHNVVIMNLNNLNLTQVQQRNLITNLQRSVDDTSQAIQRIKNDFQNLQQVFLQAKKDTDWLKEKVQSLQTLAANNSALAKANNDTLEDMNSQLNSFTGQMENITTISQANEQNLKDLQDLHKDAENRTAIKFNQLEERFQLFETDIVNIISNISYTAHHLRTLTSNLNEVRTTCTDTLTKHTDDLTSLNNTLANIRLDSVSLRMQQDLMRSRLDTEVANLSVIMEEMKLVDSKHGQLIKNFTILQGPPGPRGPRGDRGSQGPPGPTGNKGQKGEKGEPGPPGPAGERGPIGPAGPPGERGGKGSKGSQGPKGSRGSPGKPGPQGSSGDPGPPGPPGKEGLPGPQGPPGFQGLQGTVGEPGVPGPRGLPGLPGVPGMPGPKGPPGPPGPSGAVVPLALQNEPTPAPEDNGCPPHWKNFTDKCYYFSVEKEIFEDAKLFCEDKSSHLVFINTREEQQWIKKQMVGRESHWIGLTDSERENEWKWLDGTSPDYKNWKAGQPDNWGHGHGPGEDCAGLIYAGQWNDFQCEDVNNFICEKDRETVLSSAL']\n",
      "\n",
      "5 type: misc_RNA\n",
      "location: join{[500507:500722](-), [480706:480757](-), [357399:357522](-), [348064:348163](-), [346294:347341](-), [333006:335230](-), [331667:331777](-), [321661:321807](-), [319360:320064](-)}\n",
      "qualifiers:\n",
      "    Key: db_xref, Value: ['UCSC:uc060msp.1', 'HGNC_trans_name:COLEC12-203']\n",
      "    Key: gene, Value: ['ENSG00000158270.12']\n",
      "    Key: note, Value: ['retained_intron']\n",
      "    Key: standard_name, Value: ['ENST00000582147.1']\n",
      "\n",
      "6 type: gene\n",
      "location: [9310521:9334445](-)\n",
      "qualifiers:\n",
      "    Key: gene, Value: ['ENSG00000264964.2']\n",
      "    Key: locus_tag, Value: ['TWSG1-DT']\n",
      "    Key: note, Value: ['TWSG1 divergent transcript [Source:HGNC Symbol;Acc:HGNC:55329]']\n",
      "\n",
      "7 type: misc_RNA\n",
      "location: join{[9334136:9334445](-), [9322061:9322152](-), [9310521:9315263](-)}\n",
      "qualifiers:\n",
      "    Key: db_xref, Value: ['UCSC:uc060nfz.2', 'HGNC_trans_name:TWSG1-DT-201', 'RNAcentral:URS0000EF54F4']\n",
      "    Key: gene, Value: ['ENSG00000264964.2']\n",
      "    Key: note, Value: ['lncRNA']\n",
      "    Key: standard_name, Value: ['ENST00000584509.2']\n",
      "\n",
      "8 type: gene\n",
      "location: [5081170:5098780](+)\n",
      "qualifiers:\n",
      "    Key: gene, Value: ['ENSG00000265514.2']\n",
      "    Key: locus_tag, Value: ['LINC01892']\n",
      "    Key: note, Value: ['long intergenic non-protein coding RNA 1892 [Source:HGNC Symbol;Acc:HGNC:52711]']\n",
      "\n",
      "9 type: misc_RNA\n",
      "location: join{[5081181:5081240](+), [5084996:5085962](+), [5095545:5095813](+), [5098481:5098775](+)}\n",
      "qualifiers:\n",
      "    Key: db_xref, Value: ['UCSC:uc060mzo.2', 'HGNC_trans_name:LINC01892-202', 'RNAcentral:URS0000EF3EB4']\n",
      "    Key: gene, Value: ['ENSG00000265514.2']\n",
      "    Key: note, Value: ['lncRNA']\n",
      "    Key: standard_name, Value: ['ENST00000583985.2']\n",
      "\n",
      "10 type: misc_RNA\n",
      "location: join{[5084991:5085228](+), [5095545:5095815](+)}\n",
      "qualifiers:\n",
      "    Key: db_xref, Value: ['UCSC:uc060mzp.1', 'HGNC_trans_name:LINC01892-201', 'RNAcentral:URS00005F688A']\n",
      "    Key: gene, Value: ['ENSG00000265514.2']\n",
      "    Key: note, Value: ['lncRNA']\n",
      "    Key: standard_name, Value: ['ENST00000579141.1']\n",
      "\n"
     ]
    }
   ],
   "source": [
    "for idx, feature in enumerate(record.features):\n",
    "    print(idx, feature)\n",
    "    if  idx >= 10:\n",
    "        break "
   ]
  },
  {
   "cell_type": "code",
   "execution_count": 91,
   "id": "5af23d8d-48d5-43b7-aa1e-55e46c90f7bb",
   "metadata": {
    "execution": {
     "iopub.execute_input": "2023-04-27T12:40:41.836271Z",
     "iopub.status.busy": "2023-04-27T12:40:41.835736Z",
     "iopub.status.idle": "2023-04-27T12:40:41.840404Z",
     "shell.execute_reply": "2023-04-27T12:40:41.839500Z",
     "shell.execute_reply.started": "2023-04-27T12:40:41.836254Z"
    },
    "tags": []
   },
   "outputs": [],
   "source": [
    "# one record(18)\n",
    "for idx, feature in enumerate(record.features):\n",
    "    if idx >= 1000:\n",
    "        break\n",
    "    if feature.type in aim_features:\n",
    "        length = len(feature)\n",
    "        dt_features_length[feature.type].append(length)"
   ]
  },
  {
   "cell_type": "code",
   "execution_count": 92,
   "id": "31002450-047e-4521-8c4f-162403ff570e",
   "metadata": {
    "execution": {
     "iopub.execute_input": "2023-04-27T12:40:41.993732Z",
     "iopub.status.busy": "2023-04-27T12:40:41.993351Z",
     "iopub.status.idle": "2023-04-27T12:40:41.996434Z",
     "shell.execute_reply": "2023-04-27T12:40:41.995909Z",
     "shell.execute_reply.started": "2023-04-27T12:40:41.993717Z"
    },
    "tags": []
   },
   "outputs": [],
   "source": [
    "# dt_features_length"
   ]
  },
  {
   "cell_type": "code",
   "execution_count": 93,
   "id": "6347659f-63c3-4ece-93c1-391353825bb2",
   "metadata": {
    "execution": {
     "iopub.execute_input": "2023-04-27T12:40:42.140543Z",
     "iopub.status.busy": "2023-04-27T12:40:42.140186Z",
     "iopub.status.idle": "2023-04-27T12:40:42.144247Z",
     "shell.execute_reply": "2023-04-27T12:40:42.143757Z",
     "shell.execute_reply.started": "2023-04-27T12:40:42.140526Z"
    },
    "tags": []
   },
   "outputs": [
    {
     "name": "stdout",
     "output_type": "stream",
     "text": [
      "0 source\n",
      "1 gene\n",
      "2 misc_RNA\n",
      "3 mRNA\n",
      "4 CDS\n",
      "5 misc_RNA\n",
      "6 gene\n",
      "7 misc_RNA\n",
      "8 gene\n",
      "9 misc_RNA\n",
      "10 misc_RNA\n",
      "11 misc_RNA\n",
      "12 misc_RNA\n",
      "13 misc_RNA\n",
      "14 misc_RNA\n",
      "15 gene\n",
      "16 misc_RNA\n",
      "17 gene\n",
      "18 misc_RNA\n",
      "19 gene\n",
      "20 misc_RNA\n",
      "21 gene\n",
      "22 misc_RNA\n",
      "23 gene\n",
      "24 misc_RNA\n",
      "25 gene\n",
      "26 misc_RNA\n",
      "27 gene\n",
      "28 misc_RNA\n",
      "29 misc_RNA\n",
      "30 gene\n",
      "31 misc_RNA\n",
      "32 misc_RNA\n",
      "33 gene\n",
      "34 misc_RNA\n",
      "35 gene\n",
      "36 misc_RNA\n",
      "37 gene\n",
      "38 misc_RNA\n",
      "39 gene\n",
      "40 misc_RNA\n",
      "41 gene\n",
      "42 misc_RNA\n",
      "43 gene\n",
      "44 misc_RNA\n",
      "45 mRNA\n",
      "46 CDS\n",
      "47 mRNA\n",
      "48 CDS\n",
      "49 mRNA\n",
      "50 CDS\n",
      "51 mRNA\n",
      "52 CDS\n",
      "53 mRNA\n",
      "54 CDS\n",
      "55 mRNA\n",
      "56 CDS\n",
      "57 misc_RNA\n",
      "58 misc_RNA\n",
      "59 mRNA\n",
      "60 CDS\n",
      "61 misc_RNA\n",
      "62 mRNA\n",
      "63 CDS\n",
      "64 gene\n",
      "65 misc_RNA\n",
      "66 gene\n",
      "67 misc_RNA\n",
      "68 gene\n",
      "69 misc_RNA\n",
      "70 gene\n",
      "71 misc_RNA\n",
      "72 misc_RNA\n",
      "73 misc_RNA\n",
      "74 misc_RNA\n",
      "75 gene\n",
      "76 misc_RNA\n",
      "77 gene\n",
      "78 mRNA\n",
      "79 CDS\n",
      "80 mRNA\n",
      "81 CDS\n",
      "82 mRNA\n",
      "83 CDS\n",
      "84 mRNA\n",
      "85 CDS\n",
      "86 misc_RNA\n",
      "87 misc_RNA\n",
      "88 misc_RNA\n",
      "89 misc_RNA\n",
      "90 misc_RNA\n",
      "91 misc_RNA\n",
      "92 misc_RNA\n",
      "93 misc_RNA\n",
      "94 gene\n",
      "95 misc_RNA\n",
      "96 gene\n",
      "97 misc_RNA\n",
      "98 misc_RNA\n",
      "99 misc_RNA\n",
      "100 misc_RNA\n"
     ]
    }
   ],
   "source": [
    "# one record(18)\n",
    "for idx, feature in enumerate(record.features):\n",
    "    print(idx, feature.type)\n",
    "    if idx >= 100:\n",
    "        break\n",
    "    if feature.type in aim_features:\n",
    "        length = len(feature)\n",
    "        dt_features_length[feature.type].append(length)"
   ]
  },
  {
   "cell_type": "code",
   "execution_count": 94,
   "id": "95da394f-3dcc-4e8e-a947-2bce5ab1c4a2",
   "metadata": {
    "execution": {
     "iopub.execute_input": "2023-04-27T12:40:42.297468Z",
     "iopub.status.busy": "2023-04-27T12:40:42.297056Z",
     "iopub.status.idle": "2023-04-27T12:40:42.321113Z",
     "shell.execute_reply": "2023-04-27T12:40:42.320257Z",
     "shell.execute_reply.started": "2023-04-27T12:40:42.297449Z"
    },
    "tags": []
   },
   "outputs": [],
   "source": [
    "# one record(18)\n",
    "for idx, feature in enumerate(record.features):\n",
    "    # print(idx, feature.type)\n",
    "    # if idx >= 100:\n",
    "    #     break\n",
    "    if feature.type in aim_features:\n",
    "        length = len(feature)\n",
    "        dt_features_length[feature.type].append(length)"
   ]
  },
  {
   "cell_type": "code",
   "execution_count": 95,
   "id": "e090e164-75d9-44e6-960d-6ec3cebb18a5",
   "metadata": {
    "execution": {
     "iopub.execute_input": "2023-04-27T12:40:42.455112Z",
     "iopub.status.busy": "2023-04-27T12:40:42.454578Z",
     "iopub.status.idle": "2023-04-27T12:40:42.458538Z",
     "shell.execute_reply": "2023-04-27T12:40:42.457996Z",
     "shell.execute_reply.started": "2023-04-27T12:40:42.455092Z"
    },
    "tags": []
   },
   "outputs": [
    {
     "data": {
      "text/plain": [
       "[2229, 300, 867]"
      ]
     },
     "execution_count": 95,
     "metadata": {},
     "output_type": "execute_result"
    }
   ],
   "source": [
    "dt_features_length[\"CDS\"][:3]"
   ]
  },
  {
   "cell_type": "code",
   "execution_count": 96,
   "id": "67a3cab2-161b-4eea-be0b-5df492c5181a",
   "metadata": {
    "execution": {
     "iopub.execute_input": "2023-04-27T12:40:42.646256Z",
     "iopub.status.busy": "2023-04-27T12:40:42.645927Z",
     "iopub.status.idle": "2023-04-27T12:40:42.649847Z",
     "shell.execute_reply": "2023-04-27T12:40:42.649256Z",
     "shell.execute_reply.started": "2023-04-27T12:40:42.646244Z"
    },
    "tags": []
   },
   "outputs": [
    {
     "data": {
      "text/plain": [
       "14002"
      ]
     },
     "execution_count": 96,
     "metadata": {},
     "output_type": "execute_result"
    }
   ],
   "source": [
    "len(dt_features_length[\"exon\"])"
   ]
  },
  {
   "cell_type": "code",
   "execution_count": 97,
   "id": "2b0a4db7-03e3-4541-a7f3-ce6b3e9349f5",
   "metadata": {
    "execution": {
     "iopub.execute_input": "2023-04-27T12:40:42.814945Z",
     "iopub.status.busy": "2023-04-27T12:40:42.814535Z",
     "iopub.status.idle": "2023-04-27T12:40:42.818335Z",
     "shell.execute_reply": "2023-04-27T12:40:42.817756Z",
     "shell.execute_reply.started": "2023-04-27T12:40:42.814932Z"
    },
    "tags": []
   },
   "outputs": [
    {
     "data": {
      "text/plain": [
       "2039"
      ]
     },
     "execution_count": 97,
     "metadata": {},
     "output_type": "execute_result"
    }
   ],
   "source": [
    "len(dt_features_length[\"CDS\"])"
   ]
  },
  {
   "cell_type": "code",
   "execution_count": 98,
   "id": "3ff558a1-81a6-4d91-81a3-249666174deb",
   "metadata": {
    "execution": {
     "iopub.execute_input": "2023-04-27T12:40:42.939105Z",
     "iopub.status.busy": "2023-04-27T12:40:42.938523Z",
     "iopub.status.idle": "2023-04-27T12:40:42.942461Z",
     "shell.execute_reply": "2023-04-27T12:40:42.941808Z",
     "shell.execute_reply.started": "2023-04-27T12:40:42.939089Z"
    },
    "tags": []
   },
   "outputs": [
    {
     "data": {
      "text/plain": [
       "{'CDS': [], 'exon': []}"
      ]
     },
     "execution_count": 98,
     "metadata": {},
     "output_type": "execute_result"
    }
   ],
   "source": [
    "dt_summarize = {k: [] for k in aim_features}\n",
    "dt_summarize"
   ]
  },
  {
   "cell_type": "code",
   "execution_count": 99,
   "id": "70de0b6f-6d60-4a75-8267-9ebde9ea37b5",
   "metadata": {
    "execution": {
     "iopub.execute_input": "2023-04-27T12:40:43.108123Z",
     "iopub.status.busy": "2023-04-27T12:40:43.107789Z",
     "iopub.status.idle": "2023-04-27T12:40:43.113041Z",
     "shell.execute_reply": "2023-04-27T12:40:43.112526Z",
     "shell.execute_reply.started": "2023-04-27T12:40:43.108110Z"
    },
    "tags": []
   },
   "outputs": [
    {
     "name": "stdout",
     "output_type": "stream",
     "text": [
      "CDS\n",
      "10002\n",
      "11\n",
      "1134.8322707209416\n",
      "654\n",
      "exon\n",
      "32994\n",
      "1\n",
      "390.40679902871017\n",
      "154.0\n"
     ]
    }
   ],
   "source": [
    "for feature, lengthes in dt_features_length.items():\n",
    "    print(feature)\n",
    "    # print(lengthes[:10])\n",
    "    # lengthes = lengthes[:10]\n",
    "    print(max(lengthes))\n",
    "    print(min(lengthes))\n",
    "    # print(mean(lengthes))\n",
    "    print(mymean(lengthes))\n",
    "    print(median(lengthes))"
   ]
  },
  {
   "cell_type": "code",
   "execution_count": 100,
   "id": "a33c8ddc-d566-4917-a22f-b27d4d7a4245",
   "metadata": {
    "execution": {
     "iopub.execute_input": "2023-04-27T12:40:43.265630Z",
     "iopub.status.busy": "2023-04-27T12:40:43.265106Z",
     "iopub.status.idle": "2023-04-27T12:40:43.267915Z",
     "shell.execute_reply": "2023-04-27T12:40:43.267342Z",
     "shell.execute_reply.started": "2023-04-27T12:40:43.265617Z"
    },
    "tags": []
   },
   "outputs": [],
   "source": [
    "# CDS\n",
    "# [2229, 300, 867, 492, 258, 351, 300, 379, 258, 588]\n",
    "# exon\n",
    "# [2224, 110, 1047, 3328, 137, 51, 146, 51, 123, 704]"
   ]
  },
  {
   "cell_type": "code",
   "execution_count": 101,
   "id": "40af270f-6d8b-4cd1-9a92-f82823706db1",
   "metadata": {
    "execution": {
     "iopub.execute_input": "2023-04-27T12:40:43.426947Z",
     "iopub.status.busy": "2023-04-27T12:40:43.426382Z",
     "iopub.status.idle": "2023-04-27T12:40:43.431098Z",
     "shell.execute_reply": "2023-04-27T12:40:43.430526Z",
     "shell.execute_reply.started": "2023-04-27T12:40:43.426934Z"
    },
    "tags": []
   },
   "outputs": [],
   "source": [
    "for feature, lengthes in dt_features_length.items():\n",
    "    dt_summarize[feature].extend(\n",
    "        [\n",
    "            max(lengthes),\n",
    "            min(lengthes),\n",
    "            mymean(lengthes),\n",
    "            median(lengthes)\n",
    "        ]\n",
    "    )"
   ]
  },
  {
   "cell_type": "code",
   "execution_count": 102,
   "id": "4af0a7b8-8425-4ecc-8bed-8828487497ab",
   "metadata": {
    "execution": {
     "iopub.execute_input": "2023-04-27T12:40:43.613573Z",
     "iopub.status.busy": "2023-04-27T12:40:43.613210Z",
     "iopub.status.idle": "2023-04-27T12:40:43.617028Z",
     "shell.execute_reply": "2023-04-27T12:40:43.616504Z",
     "shell.execute_reply.started": "2023-04-27T12:40:43.613560Z"
    },
    "tags": []
   },
   "outputs": [
    {
     "data": {
      "text/plain": [
       "{'CDS': [10002, 11, 1134.8322707209416, 654],\n",
       " 'exon': [32994, 1, 390.40679902871017, 154.0]}"
      ]
     },
     "execution_count": 102,
     "metadata": {},
     "output_type": "execute_result"
    }
   ],
   "source": [
    "dt_summarize"
   ]
  },
  {
   "cell_type": "code",
   "execution_count": 103,
   "id": "73e393ff-9819-49a3-aa3c-761ad89b8cae",
   "metadata": {
    "execution": {
     "iopub.execute_input": "2023-04-27T12:40:43.771349Z",
     "iopub.status.busy": "2023-04-27T12:40:43.770921Z",
     "iopub.status.idle": "2023-04-27T12:40:43.778287Z",
     "shell.execute_reply": "2023-04-27T12:40:43.777681Z",
     "shell.execute_reply.started": "2023-04-27T12:40:43.771331Z"
    },
    "tags": []
   },
   "outputs": [
    {
     "data": {
      "text/html": [
       "<div>\n",
       "<style scoped>\n",
       "    .dataframe tbody tr th:only-of-type {\n",
       "        vertical-align: middle;\n",
       "    }\n",
       "\n",
       "    .dataframe tbody tr th {\n",
       "        vertical-align: top;\n",
       "    }\n",
       "\n",
       "    .dataframe thead th {\n",
       "        text-align: right;\n",
       "    }\n",
       "</style>\n",
       "<table border=\"1\" class=\"dataframe\">\n",
       "  <thead>\n",
       "    <tr style=\"text-align: right;\">\n",
       "      <th></th>\n",
       "      <th>max</th>\n",
       "      <th>min</th>\n",
       "      <th>mean</th>\n",
       "      <th>median</th>\n",
       "    </tr>\n",
       "  </thead>\n",
       "  <tbody>\n",
       "    <tr>\n",
       "      <th>CDS</th>\n",
       "      <td>10002.0</td>\n",
       "      <td>11.0</td>\n",
       "      <td>1134.832271</td>\n",
       "      <td>654.0</td>\n",
       "    </tr>\n",
       "    <tr>\n",
       "      <th>exon</th>\n",
       "      <td>32994.0</td>\n",
       "      <td>1.0</td>\n",
       "      <td>390.406799</td>\n",
       "      <td>154.0</td>\n",
       "    </tr>\n",
       "  </tbody>\n",
       "</table>\n",
       "</div>"
      ],
      "text/plain": [
       "          max   min         mean  median\n",
       "CDS   10002.0  11.0  1134.832271   654.0\n",
       "exon  32994.0   1.0   390.406799   154.0"
      ]
     },
     "execution_count": 103,
     "metadata": {},
     "output_type": "execute_result"
    }
   ],
   "source": [
    "df_summarize = pd.DataFrame(dt_summarize).T\n",
    "df_summarize.columns = [\"max\", \"min\", \"mean\", \"median\"]\n",
    "df_summarize"
   ]
  },
  {
   "cell_type": "markdown",
   "id": "288028a8-16d6-4c58-8dcd-b412d7ea57f1",
   "metadata": {},
   "source": [
    "#### use all the genome"
   ]
  },
  {
   "cell_type": "code",
   "execution_count": 104,
   "id": "d392b9b7-b9aa-41b4-a1ad-e7b9174cdcb5",
   "metadata": {
    "execution": {
     "iopub.execute_input": "2023-04-27T12:50:28.132918Z",
     "iopub.status.busy": "2023-04-27T12:50:28.132575Z",
     "iopub.status.idle": "2023-04-27T12:50:28.135703Z",
     "shell.execute_reply": "2023-04-27T12:50:28.135146Z",
     "shell.execute_reply.started": "2023-04-27T12:50:28.132902Z"
    },
    "tags": []
   },
   "outputs": [],
   "source": [
    "aim_features = (\"CDS\", \"exon\")\n",
    "dt_features_length = {k: [] for k in aim_features}"
   ]
  },
  {
   "cell_type": "code",
   "execution_count": 107,
   "id": "a8a65c1b-a104-41f9-8805-f3dbfd09ecfb",
   "metadata": {
    "execution": {
     "iopub.execute_input": "2023-04-27T12:55:26.151351Z",
     "iopub.status.busy": "2023-04-27T12:55:26.150978Z",
     "iopub.status.idle": "2023-04-27T12:57:07.182618Z",
     "shell.execute_reply": "2023-04-27T12:57:07.181935Z",
     "shell.execute_reply.started": "2023-04-27T12:55:26.151333Z"
    },
    "tags": []
   },
   "outputs": [
    {
     "name": "stdout",
     "output_type": "stream",
     "text": [
      "1GRCh38 1\n",
      "2GRCh38 2\n",
      "3GRCh38 3\n",
      "4GRCh38 4\n",
      "5GRCh38 5\n",
      "6GRCh38 6\n",
      "7GRCh38 7\n",
      "8GRCh38 8\n",
      "9GRCh38 9\n",
      "10GRCh38 10\n",
      "11GRCh38 11\n",
      "12GRCh38 12\n",
      "13GRCh38 13\n",
      "14GRCh38 14\n",
      "15GRCh38 15\n",
      "16GRCh38 16\n",
      "17GRCh38 17\n",
      "18GRCh38 18\n",
      "19GRCh38 19\n",
      "20GRCh38 20\n",
      "21GRCh38 21\n",
      "22GRCh38 22\n",
      "XGRCh38 X\n",
      "chromosome:GRCh38:Y:2781480:56887902:1 Y\n",
      "chromosome:GRCh38:Y:1:10000:1 Y\n",
      "chromosome:GRCh38:Y:57217416:57227415:1 Y\n",
      "MTGRCh38 MT\n"
     ]
    }
   ],
   "source": [
    "for record in SeqIO.parse(\n",
    "        gzip.open(ensembl_gb, \"rt\"),\n",
    "        format=\"genbank\"):\n",
    "    print(record.id, record.name)\n",
    "\n",
    "    for feature in record.features:\n",
    "        if feature.type in aim_features:\n",
    "            length = len(feature)\n",
    "            dt_features_length[feature.type].append(length)"
   ]
  },
  {
   "cell_type": "code",
   "execution_count": 106,
   "id": "3ff41515-6176-4a56-8545-869959f16cca",
   "metadata": {
    "execution": {
     "iopub.execute_input": "2023-04-27T12:53:45.492526Z",
     "iopub.status.busy": "2023-04-27T12:53:45.492182Z",
     "iopub.status.idle": "2023-04-27T12:53:45.496086Z",
     "shell.execute_reply": "2023-04-27T12:53:45.495406Z",
     "shell.execute_reply.started": "2023-04-27T12:53:45.492511Z"
    },
    "tags": []
   },
   "outputs": [
    {
     "data": {
      "text/plain": [
       "{'CDS': [], 'exon': []}"
      ]
     },
     "execution_count": 106,
     "metadata": {},
     "output_type": "execute_result"
    }
   ],
   "source": [
    "dt_summarize = {k: [] for k in aim_features}\n",
    "dt_summarize"
   ]
  },
  {
   "cell_type": "code",
   "execution_count": 108,
   "id": "2e08ada8-24dd-4e79-b7fd-307ccc3cb48e",
   "metadata": {
    "execution": {
     "iopub.execute_input": "2023-04-27T12:57:07.183749Z",
     "iopub.status.busy": "2023-04-27T12:57:07.183523Z",
     "iopub.status.idle": "2023-04-27T12:57:07.277668Z",
     "shell.execute_reply": "2023-04-27T12:57:07.277074Z",
     "shell.execute_reply.started": "2023-04-27T12:57:07.183738Z"
    },
    "tags": []
   },
   "outputs": [],
   "source": [
    "for feature, lengthes in dt_features_length.items():\n",
    "    dt_summarize[feature].extend(\n",
    "        [\n",
    "            max(lengthes),\n",
    "            min(lengthes),\n",
    "            mymean(lengthes),\n",
    "            median(lengthes)\n",
    "        ]\n",
    "    )"
   ]
  },
  {
   "cell_type": "code",
   "execution_count": 109,
   "id": "f71f5819-1ff1-437c-a5a5-b3fcca2bd52e",
   "metadata": {
    "execution": {
     "iopub.execute_input": "2023-04-27T12:57:07.278659Z",
     "iopub.status.busy": "2023-04-27T12:57:07.278303Z",
     "iopub.status.idle": "2023-04-27T12:57:07.285155Z",
     "shell.execute_reply": "2023-04-27T12:57:07.284586Z",
     "shell.execute_reply.started": "2023-04-27T12:57:07.278648Z"
    },
    "tags": []
   },
   "outputs": [
    {
     "data": {
      "text/html": [
       "<div>\n",
       "<style scoped>\n",
       "    .dataframe tbody tr th:only-of-type {\n",
       "        vertical-align: middle;\n",
       "    }\n",
       "\n",
       "    .dataframe tbody tr th {\n",
       "        vertical-align: top;\n",
       "    }\n",
       "\n",
       "    .dataframe thead th {\n",
       "        text-align: right;\n",
       "    }\n",
       "</style>\n",
       "<table border=\"1\" class=\"dataframe\">\n",
       "  <thead>\n",
       "    <tr style=\"text-align: right;\">\n",
       "      <th></th>\n",
       "      <th>max</th>\n",
       "      <th>min</th>\n",
       "      <th>mean</th>\n",
       "      <th>median</th>\n",
       "    </tr>\n",
       "  </thead>\n",
       "  <tbody>\n",
       "    <tr>\n",
       "      <th>CDS</th>\n",
       "      <td>107976.0</td>\n",
       "      <td>3.0</td>\n",
       "      <td>1188.664393</td>\n",
       "      <td>744.0</td>\n",
       "    </tr>\n",
       "    <tr>\n",
       "      <th>exon</th>\n",
       "      <td>347300.0</td>\n",
       "      <td>1.0</td>\n",
       "      <td>362.011519</td>\n",
       "      <td>148.0</td>\n",
       "    </tr>\n",
       "  </tbody>\n",
       "</table>\n",
       "</div>"
      ],
      "text/plain": [
       "           max  min         mean  median\n",
       "CDS   107976.0  3.0  1188.664393   744.0\n",
       "exon  347300.0  1.0   362.011519   148.0"
      ]
     },
     "execution_count": 109,
     "metadata": {},
     "output_type": "execute_result"
    }
   ],
   "source": [
    "df_summarize = pd.DataFrame(dt_summarize).T\n",
    "df_summarize.columns = [\"max\", \"min\", \"mean\", \"median\"]\n",
    "df_summarize"
   ]
  },
  {
   "cell_type": "code",
   "execution_count": null,
   "id": "812fba06-b76f-4e07-93b0-9b2316489557",
   "metadata": {},
   "outputs": [],
   "source": []
  }
 ],
 "metadata": {
  "kernelspec": {
   "display_name": "Python 3 (ipykernel)",
   "language": "python",
   "name": "python3"
  },
  "language_info": {
   "codemirror_mode": {
    "name": "ipython",
    "version": 3
   },
   "file_extension": ".py",
   "mimetype": "text/x-python",
   "name": "python",
   "nbconvert_exporter": "python",
   "pygments_lexer": "ipython3",
   "version": "3.9.15"
  },
  "toc-autonumbering": true
 },
 "nbformat": 4,
 "nbformat_minor": 5
}
