{
 "cells": [
  {
   "cell_type": "markdown",
   "id": "89274e61-8a4a-4cd0-899c-c5e065c7eceb",
   "metadata": {},
   "source": [
    "# load gene table and make deduped BED file\n",
    "By CAO Gaoxaing\n",
    "\n",
    "2023.6.1"
   ]
  },
  {
   "cell_type": "code",
   "execution_count": null,
   "id": "f041ebde-8a08-4934-a8b3-23da2283b2e4",
   "metadata": {},
   "outputs": [],
   "source": [
    "def multi_query_region_signal(\n",
    "    signal_bam_obj,\n",
    "    query_region_list,\n",
    "    scale_method):\n",
    "    \"\"\"\n",
    "    INPUT: \n",
    "        <signal_bam_obj>\n",
    "            pysam AlignmentFile obj\n",
    "            \n",
    "        <query_region_list>\n",
    "            list, each item contains three info, chrom, start, end \n",
    "            \n",
    "        <scale_method>\n",
    "            str, cpm, rpkm, raw\n",
    "    RETURN:\n",
    "        <signal_value_list>\n",
    "            list, same length as input <query_region_list>\n",
    "    \"\"\"\n",
    "    # count total\n",
    "    total_count = 0\n",
    "\n",
    "    for info in signal_bam_obj.get_index_statistics():\n",
    "        total_count += info.mapped\n",
    "    \n",
    "    # query value\n",
    "    "
   ]
  },
  {
   "cell_type": "code",
   "execution_count": 8,
   "id": "aa6df11b-5543-4e2d-bbd5-c29d94cf3ed8",
   "metadata": {
    "execution": {
     "iopub.execute_input": "2023-06-06T03:22:55.438981Z",
     "iopub.status.busy": "2023-06-06T03:22:55.438597Z",
     "iopub.status.idle": "2023-06-06T03:22:55.441687Z",
     "shell.execute_reply": "2023-06-06T03:22:55.441112Z",
     "shell.execute_reply.started": "2023-06-06T03:22:55.438965Z"
    },
    "tags": []
   },
   "outputs": [],
   "source": [
    "import pysam "
   ]
  },
  {
   "cell_type": "code",
   "execution_count": 2,
   "id": "203f1b05-94c2-4755-b13f-47faba23adb0",
   "metadata": {
    "execution": {
     "iopub.execute_input": "2023-06-06T03:22:47.695303Z",
     "iopub.status.busy": "2023-06-06T03:22:47.694952Z",
     "iopub.status.idle": "2023-06-06T03:22:47.700837Z",
     "shell.execute_reply": "2023-06-06T03:22:47.700414Z",
     "shell.execute_reply.started": "2023-06-06T03:22:47.695293Z"
    },
    "tags": []
   },
   "outputs": [
    {
     "data": {
      "text/plain": [
       "['chr0',\n",
       " 'chr1',\n",
       " 'chr2',\n",
       " 'chr3',\n",
       " 'chr4',\n",
       " 'chr5',\n",
       " 'chr6',\n",
       " 'chr7',\n",
       " 'chr8',\n",
       " 'chr9',\n",
       " 'chr10',\n",
       " 'chr11',\n",
       " 'chr12',\n",
       " 'chr13',\n",
       " 'chr14',\n",
       " 'chr15',\n",
       " 'chr16',\n",
       " 'chr17',\n",
       " 'chr18',\n",
       " 'chr19',\n",
       " 'chr20',\n",
       " 'chr21',\n",
       " 'chr22',\n",
       " 'chrX']"
      ]
     },
     "execution_count": 2,
     "metadata": {},
     "output_type": "execute_result"
    }
   ],
   "source": [
    "# make chrom list\n",
    "chr_name_list = [f\"chr{i}\" for i  in range(0,23)]\n",
    "chr_name_list.append(\"chrX\")\n",
    "chr_name_list"
   ]
  },
  {
   "cell_type": "code",
   "execution_count": 3,
   "id": "171c9577-1f6c-492a-bf02-70ae236eb2d3",
   "metadata": {
    "execution": {
     "iopub.execute_input": "2023-06-06T03:22:47.701390Z",
     "iopub.status.busy": "2023-06-06T03:22:47.701285Z",
     "iopub.status.idle": "2023-06-06T03:22:48.003807Z",
     "shell.execute_reply": "2023-06-06T03:22:48.003288Z",
     "shell.execute_reply.started": "2023-06-06T03:22:47.701380Z"
    },
    "tags": []
   },
   "outputs": [],
   "source": [
    "# laod gene table\n",
    "\n",
    "gene_table_file = open(\"./hg38_refseq_gene_table.tsv\", \"rt\")\n",
    "\n",
    "header = gene_table_file.readline()\n",
    "# print(header)\n",
    "\n",
    "gene_dict = {}\n",
    "\n",
    "raw_count = 0\n",
    "\n",
    "\n",
    "for line in gene_table_file:\n",
    "    raw_count += 1 \n",
    "    \n",
    "    line_list = line.strip().split(\"\\t\")\n",
    "       \n",
    "    # load gene info\n",
    "    tss_id = line_list[1]\n",
    "    gene_id = line_list[12]\n",
    "    chr_name = line_list[2]\n",
    "    tss = int(line_list[4])\n",
    "    tes = int(line_list[5])\n",
    "    strand = line_list[3]\n",
    "    exon_num = line_list[8]\n",
    "    trans_len = tes - tss + 1\n",
    "    \n",
    "    if \"NM\" not in tss_id:\n",
    "        continue\n",
    "    \n",
    "    if chr_name not in chr_name_list:\n",
    "        continue\n",
    "    \n",
    "    gene_info_list = [\n",
    "        chr_name,\n",
    "        tss,\n",
    "        tes,\n",
    "        gene_id,\n",
    "        exon_num,\n",
    "        strand,\n",
    "        trans_len\n",
    "    ]\n",
    "    \n",
    "    query_res = gene_dict.get(gene_id)\n",
    "    # print(query_res)\n",
    "   \n",
    "    if query_res is None:\n",
    "        gene_dict[gene_id] = gene_info_list\n",
    "    else:\n",
    "        if query_res[6] < trans_len:\n",
    "            gene_dict[gene_id] = gene_info_list\n",
    "               "
   ]
  },
  {
   "cell_type": "code",
   "execution_count": 4,
   "id": "bf2314de-d3a8-4c40-8a1e-8b73ef3abee4",
   "metadata": {
    "execution": {
     "iopub.execute_input": "2023-06-06T03:22:48.005590Z",
     "iopub.status.busy": "2023-06-06T03:22:48.004908Z",
     "iopub.status.idle": "2023-06-06T03:22:48.008984Z",
     "shell.execute_reply": "2023-06-06T03:22:48.008575Z",
     "shell.execute_reply.started": "2023-06-06T03:22:48.005571Z"
    },
    "tags": []
   },
   "outputs": [
    {
     "data": {
      "text/plain": [
       "186794"
      ]
     },
     "execution_count": 4,
     "metadata": {},
     "output_type": "execute_result"
    }
   ],
   "source": [
    "raw_count"
   ]
  },
  {
   "cell_type": "code",
   "execution_count": 5,
   "id": "6392b54f-50c7-40ae-bae3-f34c1c6917b1",
   "metadata": {
    "execution": {
     "iopub.execute_input": "2023-06-06T03:22:48.009881Z",
     "iopub.status.busy": "2023-06-06T03:22:48.009442Z",
     "iopub.status.idle": "2023-06-06T03:22:48.012997Z",
     "shell.execute_reply": "2023-06-06T03:22:48.012562Z",
     "shell.execute_reply.started": "2023-06-06T03:22:48.009871Z"
    },
    "tags": []
   },
   "outputs": [
    {
     "data": {
      "text/plain": [
       "19291"
      ]
     },
     "execution_count": 5,
     "metadata": {},
     "output_type": "execute_result"
    }
   ],
   "source": [
    "len(gene_dict)"
   ]
  },
  {
   "cell_type": "code",
   "execution_count": 6,
   "id": "42e2f1fc-362a-4093-9caa-aeab4904f378",
   "metadata": {
    "execution": {
     "iopub.execute_input": "2023-06-06T03:22:48.013849Z",
     "iopub.status.busy": "2023-06-06T03:22:48.013655Z",
     "iopub.status.idle": "2023-06-06T03:22:48.031100Z",
     "shell.execute_reply": "2023-06-06T03:22:48.030613Z",
     "shell.execute_reply.started": "2023-06-06T03:22:48.013840Z"
    },
    "tags": []
   },
   "outputs": [],
   "source": [
    "# output gene dict \n",
    "output_file  = open(\"./hg38_refseq_gene_TSS_TES_protein_only.bed\", \"wt\")\n",
    "\n",
    "for gene_id in gene_dict:\n",
    "    gene_info  = gene_dict[gene_id]\n",
    "    \n",
    "    out_list = gene_info[:6]\n",
    "    out_str = \"\\t\".join(map(str, out_list))\n",
    "    output_file.write(out_str + \"\\n\")\n",
    "    \n",
    "output_file.close()"
   ]
  },
  {
   "cell_type": "code",
   "execution_count": 7,
   "id": "ce5ca992-0fc1-427b-af95-b42c0514f5cd",
   "metadata": {
    "execution": {
     "iopub.execute_input": "2023-06-06T03:22:48.032042Z",
     "iopub.status.busy": "2023-06-06T03:22:48.031903Z",
     "iopub.status.idle": "2023-06-06T03:22:48.036687Z",
     "shell.execute_reply": "2023-06-06T03:22:48.035960Z",
     "shell.execute_reply.started": "2023-06-06T03:22:48.032031Z"
    },
    "tags": []
   },
   "outputs": [],
   "source": [
    "# output gene dict chr21\n",
    "output_file  = open(\"./hg38_refseq_gene_TSS_TES_protein_only.chr21.bed\", \"wt\")\n",
    "\n",
    "for gene_id in gene_dict:\n",
    "    gene_info  = gene_dict[gene_id]\n",
    "    \n",
    "    if gene_info[0] == \"chr21\": \n",
    "        out_list = gene_info[:6]\n",
    "        out_str = \"\\t\".join(map(str, out_list))\n",
    "        output_file.write(out_str + \"\\n\")\n",
    "    \n",
    "output_file.close()"
   ]
  },
  {
   "cell_type": "code",
   "execution_count": null,
   "id": "32560e61-0e59-4549-bead-e201c99835d5",
   "metadata": {},
   "outputs": [],
   "source": []
  }
 ],
 "metadata": {
  "kernelspec": {
   "display_name": "Python 3 (ipykernel)",
   "language": "python",
   "name": "python3"
  },
  "language_info": {
   "codemirror_mode": {
    "name": "ipython",
    "version": 3
   },
   "file_extension": ".py",
   "mimetype": "text/x-python",
   "name": "python",
   "nbconvert_exporter": "python",
   "pygments_lexer": "ipython3",
   "version": "3.10.8"
  }
 },
 "nbformat": 4,
 "nbformat_minor": 5
}
