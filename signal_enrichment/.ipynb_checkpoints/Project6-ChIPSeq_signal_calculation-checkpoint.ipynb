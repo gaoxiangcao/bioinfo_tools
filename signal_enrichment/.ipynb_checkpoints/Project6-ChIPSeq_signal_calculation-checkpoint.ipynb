{
 "cells": [
  {
   "cell_type": "markdown",
   "id": "3778e55b-b926-4603-820b-3622d8281e70",
   "metadata": {},
   "source": [
    "# Project6 ChIP_Seq scale region signal calculation\n",
    "\n",
    "By CAO Gaoxiang\n",
    "\n",
    "2023-6-5\n",
    "\n",
    "## steps\n",
    "1. 读取BED文件，获得TSS参考点；\n",
    "2. 根据reference point，获得子区间；\n",
    "3. 读取BAM文件，计算每个子区间的信号强度（基于项目4）；\n",
    "4. 输出计算结果；\n",
    "5. 读取结果，进行排序，画图。"
   ]
  },
  {
   "cell_type": "code",
   "execution_count": 1,
   "id": "ce90ea88-614e-41d9-bd49-9eb2455dd76d",
   "metadata": {
    "execution": {
     "iopub.execute_input": "2023-06-06T13:01:48.379442Z",
     "iopub.status.busy": "2023-06-06T13:01:48.379309Z",
     "iopub.status.idle": "2023-06-06T13:01:48.398532Z",
     "shell.execute_reply": "2023-06-06T13:01:48.398106Z",
     "shell.execute_reply.started": "2023-06-06T13:01:48.379432Z"
    },
    "tags": []
   },
   "outputs": [],
   "source": [
    "import pysam"
   ]
  },
  {
   "cell_type": "code",
   "execution_count": 37,
   "id": "d6b5aed8-0586-46f0-9893-9b3061b4d0de",
   "metadata": {
    "execution": {
     "iopub.execute_input": "2023-06-07T07:45:58.578328Z",
     "iopub.status.busy": "2023-06-07T07:45:58.577942Z",
     "iopub.status.idle": "2023-06-07T07:45:58.581825Z",
     "shell.execute_reply": "2023-06-07T07:45:58.581345Z",
     "shell.execute_reply.started": "2023-06-07T07:45:58.578309Z"
    },
    "tags": []
   },
   "outputs": [],
   "source": [
    "def multi_query_region_signal(\n",
    "    signal_bam_obj,\n",
    "    query_region_list,\n",
    "    scale_method):\n",
    "    \"\"\"\n",
    "    INPUT: \n",
    "        <signal_bam_obj>\n",
    "            pysam AlignmentFile obj\n",
    "            \n",
    "        <query_region_list>\n",
    "            list, each item contains three info, chrom, start, end \n",
    "            \n",
    "        <scale_method>\n",
    "            str, cpm, rpkm, raw\n",
    "    RETURN:\n",
    "        <signal_value_list>\n",
    "            list, same length as input <query_region_list>\n",
    "    \"\"\"\n",
    "    # count total\n",
    "    total_count = 0\n",
    "\n",
    "    for info in signal_bam_obj.get_index_statistics():\n",
    "        total_count += info.mapped\n",
    "    \n",
    "    # query value\n",
    "    signal_value_list = []\n",
    "    \n",
    "    for region_info in query_region_list:\n",
    "        region_chr_name = region_info[0]\n",
    "        region_start = int(region_info[1])\n",
    "        region_end = int(region_info[2])\n",
    "\n",
    "        region_count = 0\n",
    "        \n",
    "        for align in signal_bam_obj.fetch(contig=region_chr_name, start=region_start, end=region_end):\n",
    "            region_count += 1\n",
    "            \n",
    "        if scale_method == \"cpm\":\n",
    "            scale_value = region_count / 1.0 / (total_count / 1e6)\n",
    "        elif scale_method == \"rpkm\":\n",
    "            region_length = region_end - region_start\n",
    "            scale_value = region_count / 1.0 / (total_count / 1e6) / (region_length / 1e3)\n",
    "        elif scale_method == \"raw\":\n",
    "            scale_value = region_count\n",
    "        \n",
    "        signal_value_list.append(round(scale_value, 6))\n",
    "        \n",
    "    return signal_value_list"
   ]
  },
  {
   "cell_type": "code",
   "execution_count": 33,
   "id": "de1214ed-2500-49ff-849c-0c82cf11fd69",
   "metadata": {
    "execution": {
     "iopub.execute_input": "2023-06-06T13:16:29.462245Z",
     "iopub.status.busy": "2023-06-06T13:16:29.461948Z",
     "iopub.status.idle": "2023-06-06T13:16:29.464693Z",
     "shell.execute_reply": "2023-06-06T13:16:29.464080Z",
     "shell.execute_reply.started": "2023-06-06T13:16:29.462234Z"
    },
    "tags": []
   },
   "outputs": [],
   "source": [
    "# multi_query_region_signal(bam_file_obj, query_region_list, scale_method=\"cpm\")"
   ]
  },
  {
   "cell_type": "code",
   "execution_count": 41,
   "id": "1389691a-34e2-47e0-93b4-2ceb61962fc0",
   "metadata": {
    "execution": {
     "iopub.execute_input": "2023-06-07T07:46:46.099393Z",
     "iopub.status.busy": "2023-06-07T07:46:46.099067Z",
     "iopub.status.idle": "2023-06-07T07:46:50.408164Z",
     "shell.execute_reply": "2023-06-07T07:46:50.407708Z",
     "shell.execute_reply.started": "2023-06-07T07:46:46.099377Z"
    },
    "tags": []
   },
   "outputs": [
    {
     "name": "stderr",
     "output_type": "stream",
     "text": [
      "[W::hts_idx_load3] The index file is older than the data file: bam_files/293.ChIP.H3K36me3.rep1.ENCFF899GOH.bam.bai\n"
     ]
    }
   ],
   "source": [
    "in_bed_file = open(\"./hg38_refseq_gene_TSS_TES_protein_only.chr21.bed\")\n",
    "bam_file_obj = pysam.AlignmentFile(\"bam_files/293.ChIP.H3K36me3.rep1.ENCFF899GOH.bam\")\n",
    "# bam_file_obj = pysam.AlignmentFile(\"./bam_files/293.ChIP.H3K4me3.rep1.ENCFF449FCR.bam\", \"r\")\n",
    "\n",
    "\n",
    "split_num = 100\n",
    "extend_length = 3000\n",
    "extend_binsize =100\n",
    "\n",
    "\n",
    "for region in in_bed_file:\n",
    "    region_list = region.strip().split(\"\\t\")\n",
    "    # print(region_list)\n",
    "    \n",
    "    chr_name = region_list[0]\n",
    "    tss = int(region_list[1])\n",
    "    tes =int(region_list[2])\n",
    "    \n",
    "    # make sub region\n",
    "    upstream_region_list = []\n",
    "    query_region_list = []\n",
    "    downstream_region_list = []\n",
    "    all_info_list = []\n",
    "    \n",
    "    # upstream\n",
    "    for up_region_start in range(tss - extend_length, tss, extend_binsize):\n",
    "        up_region_end = min(up_region_start + extend_binsize, tss)\n",
    "        \n",
    "        upstream_region_list.append(\n",
    "            [chr_name, up_region_start, up_region_end]\n",
    "        )\n",
    "   \n",
    "    # downstream\n",
    "    for down_region_start in range(tes, tes + extend_length, extend_binsize):\n",
    "        down_region_end = min(down_region_start + extend_binsize, tes + extend_length)\n",
    "        \n",
    "        downstream_region_list.append(\n",
    "            [chr_name, down_region_start, down_region_end]\n",
    "        )\n",
    "    \n",
    "    # query region \n",
    "    step_size = (tes - tss) / 1.0 / split_num\n",
    "    \n",
    "    query_start = tss\n",
    "    query_count = 0\n",
    "    \n",
    "    while query_start < tes:\n",
    "        query_count += 1 \n",
    "        \n",
    "        query_end = min(int(query_start + step_size), tes)\n",
    "        \n",
    "        query_region_list.append(\n",
    "        [chr_name, query_start, query_end]\n",
    "        )\n",
    "        \n",
    "        query_start = query_end\n",
    "        \n",
    "        if query_count > split_num:\n",
    "            break\n",
    "    # get signal value \n",
    "    up_signal_val_list = multi_query_region_signal(\n",
    "        signal_bam_obj=bam_file_obj, \n",
    "        query_region_list=upstream_region_list, \n",
    "        scale_method=\"rpkm\"\n",
    "    )\n",
    "    \n",
    "    query_signal_val_list = multi_query_region_signal(\n",
    "    signal_bam_obj=bam_file_obj, \n",
    "    query_region_list=query_region_list, \n",
    "    scale_method=\"rpkm\"\n",
    "    )\n",
    "    \n",
    "    down_signal_val_list = multi_query_region_signal(\n",
    "    signal_bam_obj=bam_file_obj, \n",
    "    query_region_list=downstream_region_list, \n",
    "    scale_method=\"rpkm\"\n",
    "    )\n",
    "    \n",
    "    # merge signal\n",
    "    if region_list[5] == \"+\":\n",
    "        merge_val_list = up_signal_val_list + query_signal_val_list + down_signal_val_list\n",
    "    \n",
    "    elif region_list[5] ==\"-\":\n",
    "        merge_val_list = down_signal_val_list[::-1] + query_signal_val_list[::-1] + up_signal_val_list[::-1]\n",
    "        \n",
    "    all_info_list.append(region_list + merge_val_list)\n"
   ]
  },
  {
   "cell_type": "code",
   "execution_count": 50,
   "id": "4e9a4296-4977-48be-b508-d6c7579428a5",
   "metadata": {
    "execution": {
     "iopub.execute_input": "2023-06-07T14:13:54.622663Z",
     "iopub.status.busy": "2023-06-07T14:13:54.622335Z",
     "iopub.status.idle": "2023-06-07T14:13:54.626458Z",
     "shell.execute_reply": "2023-06-07T14:13:54.625981Z",
     "shell.execute_reply.started": "2023-06-07T14:13:54.622652Z"
    },
    "tags": []
   },
   "outputs": [],
   "source": [
    "# sort signal \n",
    "all_info_list_sort = sorted(all_info_list, key=lambda x: sum(x[6:]) / (len(x) - 6), reverse=True)\n",
    "\n",
    "signal_out_file = open(\"./signal_H3K4me3.ScaleRegion.csv\", \"wt\")\n",
    "\n",
    "# output header\n",
    "header_list = [\"chrom\", \"tss\", \"tes\", \"gene_id\", \"exon_num\", \"strand\"]\n",
    "\n",
    "value_header_list = [\n",
    "    f\"col{i}\" for i in range(1, len(all_info_list_sort[0]) - 6 + 1)\n",
    "]\n",
    "\n",
    "out_header_list = header_list + value_header_list\n",
    "out_header_str = \",\".join(out_header_list)\n",
    "signal_out_file.write(out_header_str + \"\\n\")\n",
    "\n",
    "# output value \n",
    "for signal_info in all_info_list_sort:\n",
    "    out_str = \",\".join(map(str, signal_info))\n",
    "    signal_out_file.write(out_str + \"\\n\")\n",
    "    \n",
    "signal_out_file.close()"
   ]
  },
  {
   "cell_type": "code",
   "execution_count": null,
   "id": "2f7a70cc-316c-404f-abb2-76bb074be90b",
   "metadata": {},
   "outputs": [],
   "source": []
  }
 ],
 "metadata": {
  "kernelspec": {
   "display_name": "Python 3 (ipykernel)",
   "language": "python",
   "name": "python3"
  },
  "language_info": {
   "codemirror_mode": {
    "name": "ipython",
    "version": 3
   },
   "file_extension": ".py",
   "mimetype": "text/x-python",
   "name": "python",
   "nbconvert_exporter": "python",
   "pygments_lexer": "ipython3",
   "version": "3.10.8"
  }
 },
 "nbformat": 4,
 "nbformat_minor": 5
}
