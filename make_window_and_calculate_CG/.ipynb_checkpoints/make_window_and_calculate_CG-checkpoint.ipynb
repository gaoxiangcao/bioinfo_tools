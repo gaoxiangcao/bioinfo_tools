{
 "cells": [
  {
   "cell_type": "code",
   "execution_count": 2,
   "id": "8202830e-86b1-40da-92c8-8ef15ac6b158",
   "metadata": {
    "execution": {
     "iopub.execute_input": "2023-03-27T02:42:03.134657Z",
     "iopub.status.busy": "2023-03-27T02:42:03.134282Z",
     "iopub.status.idle": "2023-03-27T02:42:03.138285Z",
     "shell.execute_reply": "2023-03-27T02:42:03.137771Z",
     "shell.execute_reply.started": "2023-03-27T02:42:03.134645Z"
    },
    "tags": []
   },
   "outputs": [],
   "source": [
    "# step1 load ref length\n",
    "# step2 make windows\n",
    "\n",
    "ref_bin_list = []\n",
    "\n",
    "window_size = 1000000\n",
    "\n",
    "with open(\"./hg38_only_chromosome.fa.fai\") as ref_fai:\n",
    "    for ref_info in ref_fai:\n",
    "        ref_info_list = ref_info.strip().split('\\t')\n",
    "        ref_length = int(ref_info_list[1])\n",
    "\n",
    "        for start_idx in range(0, ref_length, window_size):\n",
    "            window_start = start_idx\n",
    "            window_end = start_idx + window_size\n",
    "\n",
    "            # fix\n",
    "            if window_end > ref_length:\n",
    "                window_end = ref_length - 1\n",
    "\n",
    "            ref_bin_list.append([ref_info_list[0], window_start, window_end])"
   ]
  },
  {
   "cell_type": "code",
   "execution_count": 3,
   "id": "7c8a732f-eb97-4d4f-9f8c-07519796c5eb",
   "metadata": {
    "execution": {
     "iopub.execute_input": "2023-03-27T02:42:07.258545Z",
     "iopub.status.busy": "2023-03-27T02:42:07.258160Z",
     "iopub.status.idle": "2023-03-27T02:42:30.638344Z",
     "shell.execute_reply": "2023-03-27T02:42:30.637585Z",
     "shell.execute_reply.started": "2023-03-27T02:42:07.258531Z"
    },
    "tags": []
   },
   "outputs": [
    {
     "name": "stdout",
     "output_type": "stream",
     "text": [
      "chr1\n",
      "chr2\n",
      "chr3\n",
      "chr4\n",
      "chr5\n",
      "chr6\n",
      "chr7\n",
      "chr8\n",
      "chr9\n",
      "chr10\n",
      "chr11\n",
      "chr12\n",
      "chr13\n",
      "chr14\n",
      "chr15\n",
      "chr16\n",
      "chr17\n",
      "chr18\n",
      "chr19\n",
      "chr20\n",
      "chr21\n",
      "chr22\n",
      "chrX\n",
      "chrY\n",
      "chrM\n"
     ]
    }
   ],
   "source": [
    "# step3 load ref sequence\n",
    "from Bio import SeqIO\n",
    "\n",
    "ref_fa_file = SeqIO.parse(handle='./hg38_only_chromsome.fa', format='fasta')\n",
    "\n",
    "ref_dict = {}\n",
    "\n",
    "for ref in ref_fa_file:\n",
    "    print(ref.id)\n",
    "    ref_dict[ref.id] = str(ref.seq).upper()"
   ]
  },
  {
   "cell_type": "code",
   "execution_count": 4,
   "id": "a0afd495-f0bf-4bb5-8fea-3c573e5a7e34",
   "metadata": {
    "execution": {
     "iopub.execute_input": "2023-03-27T02:42:40.941649Z",
     "iopub.status.busy": "2023-03-27T02:42:40.941104Z",
     "iopub.status.idle": "2023-03-27T02:42:51.752739Z",
     "shell.execute_reply": "2023-03-27T02:42:51.752203Z",
     "shell.execute_reply.started": "2023-03-27T02:42:40.941631Z"
    },
    "tags": []
   },
   "outputs": [],
   "source": [
    "# step4 calculate GC ratio\n",
    "out_file = open('./hg_38_GC_ratio_1M.bed', 'w')\n",
    "\n",
    "for window in ref_bin_list:\n",
    "\n",
    "    chr_name, window_start, window_end = window\n",
    "    window_seq = ref_dict[chr_name][window_start:window_end]\n",
    "\n",
    "    window_G_count = window_seq.count('G')\n",
    "    window_C_count = window_seq.count('C')\n",
    "    window_GC_ratio = round((window_G_count + window_C_count) / 1.0 /\n",
    "                            (window_end - window_start), 5)\n",
    "\n",
    "    out_list = [\n",
    "        chr_name,\n",
    "        window_start,\n",
    "        window_end,\n",
    "        window_G_count,\n",
    "        window_C_count,\n",
    "        window_GC_ratio\n",
    "    ]\n",
    "\n",
    "    out_str = '\\t'.join(map(str, out_list))\n",
    "    out_file.write(out_str + '\\n')\n",
    "out_file.close()"
   ]
  },
  {
   "cell_type": "code",
   "execution_count": 6,
   "id": "b450f000-e40f-49ea-af4c-c643795a4533",
   "metadata": {
    "execution": {
     "iopub.execute_input": "2023-03-27T02:44:40.450208Z",
     "iopub.status.busy": "2023-03-27T02:44:40.449715Z",
     "iopub.status.idle": "2023-03-27T02:44:41.143243Z",
     "shell.execute_reply": "2023-03-27T02:44:41.142556Z",
     "shell.execute_reply.started": "2023-03-27T02:44:40.450190Z"
    },
    "tags": []
   },
   "outputs": [
    {
     "name": "stdout",
     "output_type": "stream",
     "text": [
      "150630720\n"
     ]
    }
   ],
   "source": [
    "# step5 calculate N count\n",
    "out_file = open('./hg_38_GC_ratio_1M.bed', 'w')\n",
    "total_N_count = 0\n",
    "\n",
    "for chr_name in ref_dict:\n",
    "    N_count = ref_dict[chr_name].count('N')\n",
    "    total_N_count = total_N_count + N_count\n",
    "\n",
    "print(total_N_count)"
   ]
  },
  {
   "cell_type": "code",
   "execution_count": 7,
   "id": "82c71fb4-cb54-4b9a-a146-aad816a7ea84",
   "metadata": {
    "execution": {
     "iopub.execute_input": "2023-03-27T02:45:14.874320Z",
     "iopub.status.busy": "2023-03-27T02:45:14.873871Z",
     "iopub.status.idle": "2023-03-27T02:45:14.880342Z",
     "shell.execute_reply": "2023-03-27T02:45:14.879851Z",
     "shell.execute_reply.started": "2023-03-27T02:45:14.874298Z"
    },
    "tags": []
   },
   "outputs": [],
   "source": [
    "# import Bio\n",
    "# load CTCF\n",
    "in_bed_file = open('./CTCF_rep1.sort.bed', 'r')\n",
    "out_fa_file = open('./CTCF_rep1.sort.bed.fa', 'w')\n",
    "\n",
    "for line in in_bed_file:\n",
    "    line_list = line.strip().split('\\t')\n",
    "\n",
    "    chr_name = line_list[0]\n",
    "    region_start = int(line_list[1])\n",
    "    region_end = int(line_list[2])\n",
    "\n",
    "    ref_seq = ref_dict[chr_name][region_start:region_end]\n",
    "    out_file_header = '>%s:%s-%s' % (chr_name, region_start, region_end)\n",
    "    out_fa_file.write(out_file_header + '\\n')\n",
    "    out_fa_file.write(ref_seq + '\\n')\n",
    "\n",
    "in_bed_file.close()\n",
    "out_fa_file.close()"
   ]
  }
 ],
 "metadata": {
  "kernelspec": {
   "display_name": "Python 3 (ipykernel)",
   "language": "python",
   "name": "python3"
  },
  "language_info": {
   "codemirror_mode": {
    "name": "ipython",
    "version": 3
   },
   "file_extension": ".py",
   "mimetype": "text/x-python",
   "name": "python",
   "nbconvert_exporter": "python",
   "pygments_lexer": "ipython3",
   "version": "3.9.9"
  }
 },
 "nbformat": 4,
 "nbformat_minor": 5
}
