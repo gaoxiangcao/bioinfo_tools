{
 "cells": [
  {
   "cell_type": "markdown",
   "id": "0a19b1a2-8e36-465a-b3ba-08e6ac3973b8",
   "metadata": {},
   "source": [
    "# Project-2 bed intersect(multiple regions)\n",
    "By CAO Gaoxiang\n",
    "\n",
    "2023-03-19"
   ]
  },
  {
   "cell_type": "code",
   "execution_count": 1,
   "id": "e33d8016-9579-4c2d-a3d9-f677c15d02ef",
   "metadata": {
    "execution": {
     "iopub.execute_input": "2023-03-21T11:35:00.098474Z",
     "iopub.status.busy": "2023-03-21T11:35:00.098036Z",
     "iopub.status.idle": "2023-03-21T11:35:00.105782Z",
     "shell.execute_reply": "2023-03-21T11:35:00.105171Z",
     "shell.execute_reply.started": "2023-03-21T11:35:00.098456Z"
    },
    "tags": []
   },
   "outputs": [
    {
     "data": {
      "text/plain": [
       "{'chr1': 0,\n",
       " 'chr2': 1,\n",
       " 'chr3': 2,\n",
       " 'chr4': 3,\n",
       " 'chr5': 4,\n",
       " 'chr6': 5,\n",
       " 'chr7': 6,\n",
       " 'chr8': 7,\n",
       " 'chr9': 8,\n",
       " 'chr10': 9,\n",
       " 'chr11': 10,\n",
       " 'chr12': 11,\n",
       " 'chr13': 12,\n",
       " 'chr14': 13,\n",
       " 'chr15': 14,\n",
       " 'chr16': 15,\n",
       " 'chr17': 16,\n",
       " 'chr18': 17,\n",
       " 'chr19': 18,\n",
       " 'chr20': 19,\n",
       " 'chr21': 20,\n",
       " 'chr22': 21,\n",
       " 'chrX': 22,\n",
       " 'chrY': 23,\n",
       " 'chrM': 24}"
      ]
     },
     "execution_count": 1,
     "metadata": {},
     "output_type": "execute_result"
    }
   ],
   "source": [
    "# step1 load reference order\n",
    "\n",
    "ref_order_dict = {}\n",
    "\n",
    "ref_fai = open(\"./hg38_only_chromosome.fa.fai\", \"r\")\n",
    "\n",
    "index = 0\n",
    "for line in ref_fai:\n",
    "    line_list = line.strip().split(\"\\t\")\n",
    "    ref_order_dict[line_list[0]] = index\n",
    "    index += 1\n",
    "\n",
    "ref_fai.close()\n",
    "\n",
    "ref_order_dict"
   ]
  },
  {
   "cell_type": "code",
   "execution_count": 2,
   "id": "ea3124f1-c14f-47ae-b570-97b1b77ec29f",
   "metadata": {
    "execution": {
     "iopub.execute_input": "2023-03-21T11:35:03.026503Z",
     "iopub.status.busy": "2023-03-21T11:35:03.025961Z",
     "iopub.status.idle": "2023-03-21T11:35:03.030262Z",
     "shell.execute_reply": "2023-03-21T11:35:03.029455Z",
     "shell.execute_reply.started": "2023-03-21T11:35:03.026484Z"
    },
    "tags": []
   },
   "outputs": [],
   "source": [
    "def cmp_region(in_line_a, in_line_b, ref_order_dict):\n",
    "    \"\"\"\n",
    "    INPUT:\n",
    "    <in_line_a> <in_line_b>\n",
    "     str, BED like format, tab seperated\n",
    "\n",
    "     <ref_order_dic>\n",
    "      dict, key is chr name, value is order index\n",
    "\n",
    "    RETURN:\n",
    "    int,\n",
    "        -1, in_line_a is upstream of in_line_b\n",
    "        0, in_line_a has overlap with in_line_b\n",
    "        1, in_line_a is downstream of in_line_b\n",
    "    \"\"\"\n",
    "\n",
    "    line_a_list = in_line_a.strip().split('\\t')\n",
    "    line_b_list = in_line_b.strip().split('\\t')\n",
    "\n",
    "    order_a = ref_order_dict.get(line_a_list[0])\n",
    "    order_b = ref_order_dict.get(line_b_list[0])\n",
    "\n",
    "    if order_a < order_b:\n",
    "        return -1\n",
    "\n",
    "    if order_a > order_b:\n",
    "        return 1\n",
    "\n",
    "    start_a = int(line_a_list[1])\n",
    "    end_a = int(line_a_list[2])\n",
    "\n",
    "    start_b = int(line_b_list[1])\n",
    "    end_b = int(line_b_list[2])\n",
    "\n",
    "    if end_a < start_b:\n",
    "        return -1\n",
    "    elif end_b < start_a:\n",
    "        return 1\n",
    "    else:\n",
    "        return 0"
   ]
  },
  {
   "cell_type": "code",
   "execution_count": 3,
   "id": "3754f80c-5e4b-4859-ab6d-d8af6974c9d9",
   "metadata": {
    "execution": {
     "iopub.execute_input": "2023-03-21T11:35:05.355153Z",
     "iopub.status.busy": "2023-03-21T11:35:05.354607Z",
     "iopub.status.idle": "2023-03-21T11:35:05.374027Z",
     "shell.execute_reply": "2023-03-21T11:35:05.373437Z",
     "shell.execute_reply.started": "2023-03-21T11:35:05.355135Z"
    },
    "tags": []
   },
   "outputs": [
    {
     "data": {
      "text/plain": [
       "\u001b[0;31mSignature:\u001b[0m \u001b[0mcmp_region\u001b[0m\u001b[0;34m(\u001b[0m\u001b[0min_line_a\u001b[0m\u001b[0;34m,\u001b[0m \u001b[0min_line_b\u001b[0m\u001b[0;34m,\u001b[0m \u001b[0mref_order_dict\u001b[0m\u001b[0;34m)\u001b[0m\u001b[0;34m\u001b[0m\u001b[0;34m\u001b[0m\u001b[0m\n",
       "\u001b[0;31mDocstring:\u001b[0m\n",
       "INPUT:\n",
       "<in_line_a> <in_line_b>\n",
       " str, BED like format, tab seperated\n",
       "\n",
       " <ref_order_dic>\n",
       "  dict, key is chr name, value is order index\n",
       "\n",
       "RETURN:\n",
       "int,\n",
       "    -1, in_line_a is upstream of in_line_b\n",
       "    0, in_line_a has overlap with in_line_b\n",
       "    1, in_line_a is downstream of in_line_b\n",
       "\u001b[0;31mFile:\u001b[0m      /tmp/ipykernel_2876/2620893324.py\n",
       "\u001b[0;31mType:\u001b[0m      function"
      ]
     },
     "metadata": {},
     "output_type": "display_data"
    }
   ],
   "source": [
    "?cmp_region"
   ]
  },
  {
   "cell_type": "code",
   "execution_count": 4,
   "id": "8c68ffb2-de80-4bfc-83ef-2b75849f4f8c",
   "metadata": {
    "execution": {
     "iopub.execute_input": "2023-03-21T11:35:08.463130Z",
     "iopub.status.busy": "2023-03-21T11:35:08.462579Z",
     "iopub.status.idle": "2023-03-21T11:35:08.529640Z",
     "shell.execute_reply": "2023-03-21T11:35:08.528321Z",
     "shell.execute_reply.started": "2023-03-21T11:35:08.463111Z"
    },
    "tags": []
   },
   "outputs": [
    {
     "name": "stdout",
     "output_type": "stream",
     "text": [
      "738\n"
     ]
    }
   ],
   "source": [
    "# step2 test interect\n",
    "\n",
    "# 2.1 open file\n",
    "bed_a = open(\"./CTCF_rep1.sort.bed\", \"r\")\n",
    "bed_b = open(\"./CTCF_rep2.sort.bed\", \"r\")\n",
    "\n",
    "# 2.2 init\n",
    "line_a = bed_a.readline()\n",
    "line_b = bed_b.readline()\n",
    "\n",
    "overlap_count = 0\n",
    "\n",
    "while line_a and line_b:\n",
    "\n",
    "    cmp_res = cmp_region(line_a, line_b, ref_order_dict)\n",
    "\n",
    "    if cmp_res == -1:\n",
    "        line_a = bed_a.readline()\n",
    "\n",
    "    elif cmp_res == 1:\n",
    "        line_b = bed_b.readline()\n",
    "\n",
    "    else:\n",
    "        overlap_count += 1\n",
    "        line_a = bed_a.readline()\n",
    "        line_b = bed_b.readline()\n",
    "\n",
    "print(overlap_count)"
   ]
  },
  {
   "cell_type": "code",
   "execution_count": 11,
   "id": "80b1b262-7a1f-4cdc-93fa-e6f361b4298d",
   "metadata": {
    "execution": {
     "iopub.execute_input": "2023-03-21T12:05:35.603459Z",
     "iopub.status.busy": "2023-03-21T12:05:35.603003Z",
     "iopub.status.idle": "2023-03-21T12:05:35.610295Z",
     "shell.execute_reply": "2023-03-21T12:05:35.609701Z",
     "shell.execute_reply.started": "2023-03-21T12:05:35.603431Z"
    },
    "tags": []
   },
   "outputs": [
    {
     "name": "stdout",
     "output_type": "stream",
     "text": [
      "chr1\t140\t170\ta1 chr1\t100\t150\tb1\n",
      "--------------------------------------------------------------------------------\n",
      "chr1\t140\t170\ta1 chr1\t120\t180\tb2\n",
      "--------------------------------------------------------------------------------\n",
      "chr1\t140\t170\ta1 chr1\t130\t200\tb3\n",
      "--------------------------------------------------------------------------------\n",
      "chr1\t145\t280\ta2 chr1\t100\t150\tb1\n",
      "--------------------------------------------------------------------------------\n",
      "chr1\t145\t280\ta2 chr1\t120\t180\tb2\n",
      "--------------------------------------------------------------------------------\n",
      "chr1\t145\t280\ta2 chr1\t130\t200\tb3\n",
      "--------------------------------------------------------------------------------\n",
      "chr1\t145\t280\ta2 chr1\t175\t300\tb4\n",
      "--------------------------------------------------------------------------------\n",
      "chr1\t145\t280\ta2 chr1\t260\t400\tb5\n",
      "--------------------------------------------------------------------------------\n",
      "chr1\t290\t350\ta3 chr1\t175\t300\tb4\n",
      "--------------------------------------------------------------------------------\n",
      "chr1\t290\t350\ta3 chr1\t260\t400\tb5\n",
      "--------------------------------------------------------------------------------\n"
     ]
    }
   ],
   "source": [
    "# multiple region comparison\n",
    "bed_a = open(\"./test_multi_region_a.sort.bed\", \"r\")\n",
    "bed_b = open(\"./test_multi_region_b.sort.bed\", \"r\")\n",
    "\n",
    "line_a = bed_a.readline()\n",
    "line_b = bed_b.readline()\n",
    "\n",
    "temp_list = []\n",
    "new_line_a_state = True\n",
    "\n",
    "while line_a and line_b:\n",
    "\n",
    "    if len(temp_list) > 0 and new_line_a_state:\n",
    "        for temp_line_b in temp_list:\n",
    "            temp_cmp_res = cmp_region(line_a, temp_line_b, ref_order_dict)\n",
    "\n",
    "            if temp_cmp_res == 0:\n",
    "                print(line_a.strip(), temp_line_b.strip())\n",
    "                print('-' * 80)\n",
    "\n",
    "    cmp_res = cmp_region(line_a, line_b, ref_order_dict)\n",
    "\n",
    "    if cmp_res == -1:\n",
    "        line_a = bed_a.readline()\n",
    "        new_line_a_state = True\n",
    "\n",
    "    elif cmp_res == 1:\n",
    "        new_line_a_state = False\n",
    "        line_b = bed_b.readline()\n",
    "\n",
    "    else:\n",
    "        new_line_a_state = False\n",
    "        print(line_a.strip(), line_b.strip())\n",
    "        print('-' * 80)\n",
    "\n",
    "        temp_list.append(line_b)\n",
    "        line_b = bed_b.readline()\n",
    "\n",
    "# test temp_list if empty\n",
    "file_a_end_state = False\n",
    "\n",
    "if line_a == '':\n",
    "    file_a_end_state = True\n",
    "\n",
    "while not file_a_end_state:\n",
    "    line_a = bed_a.readline()\n",
    "    new_line_a_state = True\n",
    "    \n",
    "    if line_a == '':\n",
    "        break\n",
    "    if len(temp_list) > 0 and new_line_a_state:\n",
    "        for temp_line_b in temp_list:\n",
    "            temp_cmp_res = cmp_region(line_a, temp_line_b, ref_order_dict)\n",
    "\n",
    "            if temp_cmp_res == 0:\n",
    "                print(line_a.strip(), temp_line_b.strip())\n",
    "                print('-' * 80) "
   ]
  },
  {
   "cell_type": "code",
   "execution_count": null,
   "id": "4ee423d2-b5be-4ac7-beff-5dc6b7a750b2",
   "metadata": {},
   "outputs": [],
   "source": [
    "\"\"\"\n",
    "chr1    140     170     a1      chr1    100     150     b1\n",
    "chr1    140     170     a1      chr1    120     180     b2\n",
    "chr1    140     170     a1      chr1    130     200     b3\n",
    "chr1    145     280     a2      chr1    100     150     b1\n",
    "chr1    145     280     a2      chr1    120     180     b2\n",
    "chr1    145     280     a2      chr1    130     200     b3\n",
    "chr1    145     280     a2      chr1    175     300     b4\n",
    "chr1    145     280     a2      chr1    260     400     b5\n",
    "chr1    290     350     a3      chr1    175     300     b4\n",
    "chr1    290     350     a3      chr1    260     400     b5\n",
    "\"\"\""
   ]
  }
 ],
 "metadata": {
  "kernelspec": {
   "display_name": "Python 3 (ipykernel)",
   "language": "python",
   "name": "python3"
  },
  "language_info": {
   "codemirror_mode": {
    "name": "ipython",
    "version": 3
   },
   "file_extension": ".py",
   "mimetype": "text/x-python",
   "name": "python",
   "nbconvert_exporter": "python",
   "pygments_lexer": "ipython3",
   "version": "3.9.9"
  }
 },
 "nbformat": 4,
 "nbformat_minor": 5
}
